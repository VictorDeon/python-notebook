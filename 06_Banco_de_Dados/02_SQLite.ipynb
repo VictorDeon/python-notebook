{
 "cells": [
  {
   "cell_type": "markdown",
   "metadata": {},
   "source": [
    "## SQLite\n",
    "***"
   ]
  },
  {
   "cell_type": "markdown",
   "metadata": {},
   "source": [
    "SQLite é o banco de dados open source mais simples, usando bastente no ambiente de desenvolvimento e teste, mas não é aconselhado para ambientes de produção.\n",
    "\n",
    "O SQLite é uma biblioteca C que fornece um banco de dados leve baseado em disco que não requer um processo de servidor separado e permite acessar o banco de dados usando uma variante não padrão da linguagem de consulta SQL. Alguns aplicativos podem usar o SQLite para armazenamento interno de dados. Também é possível prototipar um aplicativo usando o SQLite e depois portar o código para um banco de dados maior, como o PostgreSQL ou o Oracle.\n",
    "\n",
    "Instalação:\n",
    "\n",
    "```\n",
    "sudo apt-get install sqlite3\n",
    "```\n",
    "\n",
    "Para executar um comando no sqlite:\n",
    "\n",
    "```\n",
    "sqlite3 <banco-de-dados>.db 'comando'\n",
    "```\n",
    "\n",
    "Comandos mais comuns:\n",
    "\n",
    "```\n",
    ".tables - Lista de tabelas\n",
    ".schema tabela - Visualiza o código SQL que criou as tabelas\n",
    ".exit - Sai do banco de dados\n",
    ".header on - Mostra o nome das colunas ao executar o SELECT\n",
    ".output arquivo.txt - Escreve o resultados em um arquivo externo\n",
    ".mode column - Visualização mais agradavel das colunas\n",
    "PRAGMA table_info(tabela) - Retorna os campos da tabela\n",
    "```\n",
    "\n",
    "Backup e Restauração:\n",
    "\n",
    "```\n",
    "sqlite3 banco.db .dump > script.sql - Exporta os comandos SQL do banco de dados\n",
    "sqlite3 banco.db < script.sql - Importa os comandos SQL no banco de dados\n",
    "```\n",
    "\n",
    "Verificar versão do SQLite:\n",
    "\n",
    "```\n",
    "SELECT SQLITE_VERSION()\n",
    "```\n",
    "\n",
    "Renomear tabela:\n",
    "\n",
    "```\n",
    "ALTER TABLE clientes RENAME TO funcionarios;\n",
    "```\n",
    "\n",
    "Erros:\n",
    "\n",
    "```\n",
    "Maioria dos erros (conexão, schema, ...): sqlite3.Error\n",
    "Inserir registros (commit): sqlite3.IntegrityError\n",
    "```"
   ]
  },
  {
   "cell_type": "markdown",
   "metadata": {},
   "source": [
    "***\n",
    "### Conexão\n",
    "***"
   ]
  },
  {
   "cell_type": "code",
   "execution_count": 1,
   "metadata": {},
   "outputs": [],
   "source": [
    "import sqlite3"
   ]
  },
  {
   "cell_type": "code",
   "execution_count": 2,
   "metadata": {},
   "outputs": [],
   "source": [
    "# Connection é o objeto que representa o banco de dados\n",
    "# Se quisermos usar na memória é só passar ':memory:'\n",
    "conexao = sqlite3.connect('./sqlite.db')"
   ]
  },
  {
   "cell_type": "code",
   "execution_count": 3,
   "metadata": {},
   "outputs": [],
   "source": [
    "# Vamos criar um cursor, ou seja, um iterador que permite navegar e manipular os registros do DB.\n",
    "cursor = conexao.cursor()"
   ]
  },
  {
   "cell_type": "markdown",
   "metadata": {},
   "source": [
    "***\n",
    "### Criando uma tabela\n",
    "***"
   ]
  },
  {
   "cell_type": "code",
   "execution_count": 4,
   "metadata": {},
   "outputs": [
    {
     "data": {
      "text/plain": [
       "<sqlite3.Cursor at 0x7f7a000b6c00>"
      ]
     },
     "execution_count": 4,
     "metadata": {},
     "output_type": "execute_result"
    }
   ],
   "source": [
    "# Criar uma tabela\n",
    "cursor.execute(\"\"\"\n",
    "CREATE TABLE IF NOT EXISTS clientes (\n",
    "    id INTEGER NOT NULL PRIMARY KEY AUTOINCREMENT,\n",
    "    nome TEXT NOT NULL,\n",
    "    cpf VARCHAR(11) NOT NULL,\n",
    "    email TEXT NOT NULL,\n",
    "    cidade_id INTEGER,\n",
    "    criado_em DATE NOT NULL,\n",
    "    FOREIGN KEY (cidade_id) REFERENCES cidades(id)\n",
    ");\n",
    "\"\"\")"
   ]
  },
  {
   "cell_type": "code",
   "execution_count": 5,
   "metadata": {},
   "outputs": [
    {
     "data": {
      "text/plain": [
       "<sqlite3.Cursor at 0x7f7a000b6c00>"
      ]
     },
     "execution_count": 5,
     "metadata": {},
     "output_type": "execute_result"
    }
   ],
   "source": [
    "cursor.execute(\"\"\"\n",
    "CREATE TABLE IF NOT EXISTS cidades (\n",
    "    id INTEGER PRIMARY KEY AUTOINCREMENT,\n",
    "    cidade TEXT,\n",
    "    uf VARCHAR(2)\n",
    ");\n",
    "\"\"\")"
   ]
  },
  {
   "cell_type": "markdown",
   "metadata": {},
   "source": [
    "***\n",
    "### Inserindo registros\n",
    "***"
   ]
  },
  {
   "cell_type": "code",
   "execution_count": 6,
   "metadata": {},
   "outputs": [],
   "source": [
    "cidades = [('Campinas','SP'),\n",
    "           ('Sao Paulo','SP'),\n",
    "           ('Rio de Janeiro','RJ')]"
   ]
  },
  {
   "cell_type": "code",
   "execution_count": 7,
   "metadata": {},
   "outputs": [
    {
     "data": {
      "text/plain": [
       "<sqlite3.Cursor at 0x7f7a000b6c00>"
      ]
     },
     "execution_count": 7,
     "metadata": {},
     "output_type": "execute_result"
    }
   ],
   "source": [
    "cursor.executemany(\"\"\"\n",
    "INSERT INTO cidades (cidade, uf) VALUES (?,?)\n",
    "\"\"\", cidades)"
   ]
  },
  {
   "cell_type": "code",
   "execution_count": 8,
   "metadata": {},
   "outputs": [],
   "source": [
    "clientes = [('Regis', '01119239423', 'regis@gmail.com', 1, '2014-06-08'),\n",
    "            ('Aloisio', '02320322932', 'aloisio@email.com', 2, '2014-06-09'),\n",
    "            ('Bruna', '11239428344', 'bruna@email.com', 2, '2014-06-09'),\n",
    "            ('Matheus', '01293844323', 'matheus@email.com', 3, '2014-06-08')]"
   ]
  },
  {
   "cell_type": "code",
   "execution_count": 9,
   "metadata": {},
   "outputs": [
    {
     "data": {
      "text/plain": [
       "<sqlite3.Cursor at 0x7f7a000b6c00>"
      ]
     },
     "execution_count": 9,
     "metadata": {},
     "output_type": "execute_result"
    }
   ],
   "source": [
    "cursor.executemany(\"\"\"\n",
    "INSERT INTO clientes (nome, cpf, email, cidade_id, criado_em) VALUES (?,?,?,?,?)\n",
    "\"\"\", clientes)"
   ]
  },
  {
   "cell_type": "code",
   "execution_count": 10,
   "metadata": {},
   "outputs": [],
   "source": [
    "# Salvando os dados no BD.\n",
    "conexao.commit()"
   ]
  },
  {
   "cell_type": "markdown",
   "metadata": {},
   "source": [
    "***\n",
    "### Lendo os dados\n",
    "***"
   ]
  },
  {
   "cell_type": "code",
   "execution_count": 11,
   "metadata": {},
   "outputs": [
    {
     "data": {
      "text/plain": [
       "<sqlite3.Cursor at 0x7f7a000b6c00>"
      ]
     },
     "execution_count": 11,
     "metadata": {},
     "output_type": "execute_result"
    }
   ],
   "source": [
    "# Registros de clientes\n",
    "cursor.execute(\"\"\"\n",
    "SELECT * FROM clientes;\n",
    "\"\"\")"
   ]
  },
  {
   "cell_type": "code",
   "execution_count": 12,
   "metadata": {},
   "outputs": [
    {
     "name": "stdout",
     "output_type": "stream",
     "text": [
      "(1, 'Regis', '01119239423', 'regis@gmail.com', 1, '2014-06-08')\n",
      "(2, 'Aloisio', '02320322932', 'aloisio@email.com', 2, '2014-06-09')\n",
      "(3, 'Bruna', '11239428344', 'bruna@email.com', 2, '2014-06-09')\n",
      "(4, 'Matheus', '01293844323', 'matheus@email.com', 3, '2014-06-08')\n"
     ]
    }
   ],
   "source": [
    "for registro in cursor.fetchall():\n",
    "    print(registro)"
   ]
  },
  {
   "cell_type": "code",
   "execution_count": 13,
   "metadata": {},
   "outputs": [
    {
     "data": {
      "text/plain": [
       "<sqlite3.Cursor at 0x7f7a000b6c00>"
      ]
     },
     "execution_count": 13,
     "metadata": {},
     "output_type": "execute_result"
    }
   ],
   "source": [
    "# Registros de cidades\n",
    "cursor.execute(\"\"\"\n",
    "SELECT * FROM cidades;\n",
    "\"\"\")"
   ]
  },
  {
   "cell_type": "code",
   "execution_count": 14,
   "metadata": {},
   "outputs": [
    {
     "name": "stdout",
     "output_type": "stream",
     "text": [
      "(1, 'Campinas', 'SP')\n",
      "(2, 'Sao Paulo', 'SP')\n",
      "(3, 'Rio de Janeiro', 'RJ')\n"
     ]
    }
   ],
   "source": [
    "for registro in cursor.fetchall():\n",
    "    print(registro)"
   ]
  },
  {
   "cell_type": "code",
   "execution_count": 15,
   "metadata": {},
   "outputs": [
    {
     "data": {
      "text/plain": [
       "<sqlite3.Cursor at 0x7f7a000b6c00>"
      ]
     },
     "execution_count": 15,
     "metadata": {},
     "output_type": "execute_result"
    }
   ],
   "source": [
    "# Registros de clientes e cidades\n",
    "cursor.execute(\"\"\"\n",
    "SELECT * FROM clientes INNER JOIN cidades ON clientes.cidade_id = cidades.id;\n",
    "\"\"\")"
   ]
  },
  {
   "cell_type": "code",
   "execution_count": 16,
   "metadata": {},
   "outputs": [
    {
     "name": "stdout",
     "output_type": "stream",
     "text": [
      "(1, 'Regis', '01119239423', 'regis@gmail.com', 1, '2014-06-08', 1, 'Campinas', 'SP')\n",
      "(2, 'Aloisio', '02320322932', 'aloisio@email.com', 2, '2014-06-09', 2, 'Sao Paulo', 'SP')\n",
      "(3, 'Bruna', '11239428344', 'bruna@email.com', 2, '2014-06-09', 2, 'Sao Paulo', 'SP')\n",
      "(4, 'Matheus', '01293844323', 'matheus@email.com', 3, '2014-06-08', 3, 'Rio de Janeiro', 'RJ')\n"
     ]
    }
   ],
   "source": [
    "for registro in cursor.fetchall():\n",
    "    print(registro)"
   ]
  },
  {
   "cell_type": "markdown",
   "metadata": {},
   "source": [
    "***\n",
    "### Alterando os dados\n",
    "***"
   ]
  },
  {
   "cell_type": "code",
   "execution_count": 17,
   "metadata": {},
   "outputs": [],
   "source": [
    "id_cliente = 1\n",
    "novo_email = 'regis_novo@gmail.com'\n",
    "novo_criado_em = '2014-06-11'"
   ]
  },
  {
   "cell_type": "code",
   "execution_count": 18,
   "metadata": {},
   "outputs": [
    {
     "data": {
      "text/plain": [
       "<sqlite3.Cursor at 0x7f7a000b6c00>"
      ]
     },
     "execution_count": 18,
     "metadata": {},
     "output_type": "execute_result"
    }
   ],
   "source": [
    "cursor.execute(\"\"\"\n",
    "UPDATE clientes\n",
    "SET email = ?, criado_em = ?\n",
    "WHERE id = ?\n",
    "\"\"\", (novo_email, novo_criado_em, id_cliente))"
   ]
  },
  {
   "cell_type": "code",
   "execution_count": 19,
   "metadata": {},
   "outputs": [],
   "source": [
    "conexao.commit()"
   ]
  },
  {
   "cell_type": "code",
   "execution_count": 20,
   "metadata": {},
   "outputs": [
    {
     "data": {
      "text/plain": [
       "<sqlite3.Cursor at 0x7f7a000b6c00>"
      ]
     },
     "execution_count": 20,
     "metadata": {},
     "output_type": "execute_result"
    }
   ],
   "source": [
    "cursor.execute(\"\"\"\n",
    "SELECT * FROM clientes;\n",
    "\"\"\")"
   ]
  },
  {
   "cell_type": "code",
   "execution_count": 21,
   "metadata": {},
   "outputs": [
    {
     "name": "stdout",
     "output_type": "stream",
     "text": [
      "(1, 'Regis', '01119239423', 'regis_novo@gmail.com', 1, '2014-06-11')\n",
      "(2, 'Aloisio', '02320322932', 'aloisio@email.com', 2, '2014-06-09')\n",
      "(3, 'Bruna', '11239428344', 'bruna@email.com', 2, '2014-06-09')\n",
      "(4, 'Matheus', '01293844323', 'matheus@email.com', 3, '2014-06-08')\n"
     ]
    }
   ],
   "source": [
    "for registro in cursor.fetchall():\n",
    "    print(registro)"
   ]
  },
  {
   "cell_type": "markdown",
   "metadata": {},
   "source": [
    "***\n",
    "### Deletando um registro\n",
    "***"
   ]
  },
  {
   "cell_type": "code",
   "execution_count": 22,
   "metadata": {},
   "outputs": [],
   "source": [
    "id_cliente = 4"
   ]
  },
  {
   "cell_type": "code",
   "execution_count": 23,
   "metadata": {},
   "outputs": [
    {
     "data": {
      "text/plain": [
       "<sqlite3.Cursor at 0x7f7a000b6c00>"
      ]
     },
     "execution_count": 23,
     "metadata": {},
     "output_type": "execute_result"
    }
   ],
   "source": [
    "cursor.execute(\"\"\"\n",
    "DELETE FROM clientes\n",
    "WHERE id = ?\n",
    "\"\"\", (id_cliente,))"
   ]
  },
  {
   "cell_type": "code",
   "execution_count": 24,
   "metadata": {},
   "outputs": [],
   "source": [
    "conexao.commit()"
   ]
  },
  {
   "cell_type": "code",
   "execution_count": 25,
   "metadata": {},
   "outputs": [
    {
     "data": {
      "text/plain": [
       "<sqlite3.Cursor at 0x7f7a000b6c00>"
      ]
     },
     "execution_count": 25,
     "metadata": {},
     "output_type": "execute_result"
    }
   ],
   "source": [
    "cursor.execute(\"\"\"\n",
    "SELECT * FROM clientes;\n",
    "\"\"\")"
   ]
  },
  {
   "cell_type": "code",
   "execution_count": 26,
   "metadata": {},
   "outputs": [
    {
     "name": "stdout",
     "output_type": "stream",
     "text": [
      "(1, 'Regis', '01119239423', 'regis_novo@gmail.com', 1, '2014-06-11')\n",
      "(2, 'Aloisio', '02320322932', 'aloisio@email.com', 2, '2014-06-09')\n",
      "(3, 'Bruna', '11239428344', 'bruna@email.com', 2, '2014-06-09')\n"
     ]
    }
   ],
   "source": [
    "for registro in cursor.fetchall():\n",
    "    print(registro)"
   ]
  },
  {
   "cell_type": "markdown",
   "metadata": {},
   "source": [
    "***\n",
    "### Adicionar uma nova coluna\n",
    "***"
   ]
  },
  {
   "cell_type": "code",
   "execution_count": 27,
   "metadata": {},
   "outputs": [
    {
     "data": {
      "text/plain": [
       "<sqlite3.Cursor at 0x7f7a000b6c00>"
      ]
     },
     "execution_count": 27,
     "metadata": {},
     "output_type": "execute_result"
    }
   ],
   "source": [
    "cursor.execute(\"\"\"\n",
    "ALTER TABLE clientes\n",
    "ADD COLUMN bloqueado BOOLEAN;\n",
    "\"\"\")"
   ]
  },
  {
   "cell_type": "code",
   "execution_count": 28,
   "metadata": {},
   "outputs": [],
   "source": [
    "conexao.commit()"
   ]
  },
  {
   "cell_type": "markdown",
   "metadata": {},
   "source": [
    "***\n",
    "### Lendo informações do banco de dados\n",
    "***"
   ]
  },
  {
   "cell_type": "code",
   "execution_count": 29,
   "metadata": {},
   "outputs": [],
   "source": [
    "tabela = 'clientes'"
   ]
  },
  {
   "cell_type": "code",
   "execution_count": 30,
   "metadata": {},
   "outputs": [
    {
     "name": "stdout",
     "output_type": "stream",
     "text": [
      "Colunas: ['id', 'nome', 'cpf', 'email', 'cidade_id', 'criado_em', 'bloqueado']\n"
     ]
    }
   ],
   "source": [
    "# Obtendo informações da tabela\n",
    "cursor.execute('PRAGMA table_info({})'.format(tabela))\n",
    "colunas = [tupla[1] for tupla in cursor.fetchall()]\n",
    "print('Colunas:', colunas)"
   ]
  },
  {
   "cell_type": "code",
   "execution_count": 31,
   "metadata": {},
   "outputs": [
    {
     "name": "stdout",
     "output_type": "stream",
     "text": [
      "Tabelas:\n",
      "cidades\n",
      "clientes\n",
      "sqlite_sequence\n"
     ]
    }
   ],
   "source": [
    "# Listando as tabelas do BD\n",
    "cursor.execute(\"\"\"\n",
    "SELECT name FROM sqlite_master WHERE type='table' ORDER BY name\n",
    "\"\"\")\n",
    "print('Tabelas:')\n",
    "for tabela in cursor.fetchall():\n",
    "    print(\"%s\" % (tabela))"
   ]
  },
  {
   "cell_type": "code",
   "execution_count": 32,
   "metadata": {},
   "outputs": [
    {
     "name": "stdout",
     "output_type": "stream",
     "text": [
      "Schema:\n",
      "CREATE TABLE clientes (\n",
      "    id INTEGER NOT NULL PRIMARY KEY AUTOINCREMENT,\n",
      "    nome TEXT NOT NULL,\n",
      "    cpf VARCHAR(11) NOT NULL,\n",
      "    email TEXT NOT NULL,\n",
      "    cidade_id INTEGER,\n",
      "    criado_em DATE NOT NULL, bloqueado BOOLEAN,\n",
      "    FOREIGN KEY (cidade_id) REFERENCES cidades(id)\n",
      ")\n"
     ]
    }
   ],
   "source": [
    "# Obtendo o schema da tabela\n",
    "cursor.execute(\"\"\"\n",
    "SELECT sql FROM sqlite_master WHERE type='table' AND name='clientes'\n",
    "\"\"\")\n",
    "print(\"Schema:\")\n",
    "for schema in cursor.fetchall():\n",
    "    print(\"%s\" % (schema))"
   ]
  },
  {
   "cell_type": "markdown",
   "metadata": {},
   "source": [
    "***\n",
    "### Fazendo backup do banco de dados (exportando)\n",
    "***"
   ]
  },
  {
   "cell_type": "code",
   "execution_count": 33,
   "metadata": {},
   "outputs": [],
   "source": [
    "import io"
   ]
  },
  {
   "cell_type": "code",
   "execution_count": 34,
   "metadata": {},
   "outputs": [],
   "source": [
    "with io.open('clientes_dump.sql', 'w') as file:\n",
    "    for linha in conexao.iterdump():\n",
    "        file.write('%s\\n' % linha)"
   ]
  },
  {
   "cell_type": "markdown",
   "metadata": {},
   "source": [
    "***\n",
    "### Deletando tabela\n",
    "***"
   ]
  },
  {
   "cell_type": "code",
   "execution_count": 35,
   "metadata": {},
   "outputs": [
    {
     "data": {
      "text/plain": [
       "<sqlite3.Cursor at 0x7f7a000b6c00>"
      ]
     },
     "execution_count": 35,
     "metadata": {},
     "output_type": "execute_result"
    }
   ],
   "source": [
    "# Deleta todas as instâncias\n",
    "cursor.execute(\"DELETE FROM clientes\")\n",
    "cursor.execute(\"DELETE FROM cidades\")"
   ]
  },
  {
   "cell_type": "code",
   "execution_count": 36,
   "metadata": {},
   "outputs": [],
   "source": [
    "cursor.execute(\"DROP TABLE clientes;\")\n",
    "cursor.execute(\"DROP TABLE cidades;\")\n",
    "conexao.commit()"
   ]
  },
  {
   "cell_type": "markdown",
   "metadata": {},
   "source": [
    "***\n",
    "### Recuperando o banco de dados\n",
    "***"
   ]
  },
  {
   "cell_type": "code",
   "execution_count": 37,
   "metadata": {},
   "outputs": [],
   "source": [
    "file = io.open('clientes_dump.sql', 'r')"
   ]
  },
  {
   "cell_type": "code",
   "execution_count": 38,
   "metadata": {},
   "outputs": [],
   "source": [
    "sql = file.read()"
   ]
  },
  {
   "cell_type": "code",
   "execution_count": 39,
   "metadata": {},
   "outputs": [
    {
     "data": {
      "text/plain": [
       "<sqlite3.Cursor at 0x7f7a000b6c00>"
      ]
     },
     "execution_count": 39,
     "metadata": {},
     "output_type": "execute_result"
    }
   ],
   "source": [
    "cursor.executescript(sql)"
   ]
  },
  {
   "cell_type": "code",
   "execution_count": 40,
   "metadata": {},
   "outputs": [
    {
     "data": {
      "text/plain": [
       "<sqlite3.Cursor at 0x7f7a000b6c00>"
      ]
     },
     "execution_count": 40,
     "metadata": {},
     "output_type": "execute_result"
    }
   ],
   "source": [
    "cursor.execute(\"\"\"\n",
    "SELECT * FROM clientes;\n",
    "\"\"\")"
   ]
  },
  {
   "cell_type": "code",
   "execution_count": 41,
   "metadata": {},
   "outputs": [
    {
     "name": "stdout",
     "output_type": "stream",
     "text": [
      "(1, 'Regis', '01119239423', 'regis_novo@gmail.com', 1, '2014-06-11', None)\n",
      "(2, 'Aloisio', '02320322932', 'aloisio@email.com', 2, '2014-06-09', None)\n",
      "(3, 'Bruna', '11239428344', 'bruna@email.com', 2, '2014-06-09', None)\n"
     ]
    }
   ],
   "source": [
    "for registro in cursor.fetchall():\n",
    "    print(registro)"
   ]
  },
  {
   "cell_type": "code",
   "execution_count": 42,
   "metadata": {},
   "outputs": [],
   "source": [
    "# Fechando a conexão\n",
    "conexao.close()"
   ]
  },
  {
   "cell_type": "code",
   "execution_count": 43,
   "metadata": {},
   "outputs": [],
   "source": [
    "import os\n",
    "os.remove(\"./sqlite.db\")\n",
    "os.remove(\"./clientes_dump.sql\")"
   ]
  }
 ],
 "metadata": {
  "kernelspec": {
   "display_name": "Python 3",
   "language": "python",
   "name": "python3"
  },
  "language_info": {
   "codemirror_mode": {
    "name": "ipython",
    "version": 3
   },
   "file_extension": ".py",
   "mimetype": "text/x-python",
   "name": "python",
   "nbconvert_exporter": "python",
   "pygments_lexer": "ipython3",
   "version": "3.7.6"
  }
 },
 "nbformat": 4,
 "nbformat_minor": 2
}
