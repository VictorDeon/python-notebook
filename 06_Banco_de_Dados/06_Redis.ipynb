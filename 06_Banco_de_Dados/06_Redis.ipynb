{
 "cells": [
  {
   "cell_type": "markdown",
   "id": "12e39485-2480-420b-9e27-3637c257af84",
   "metadata": {},
   "source": [
    "## Redis\n",
    "***"
   ]
  },
  {
   "cell_type": "markdown",
   "id": "ab589ff0-a61d-4670-a8a4-5ad9d7887127",
   "metadata": {},
   "source": [
    "O Redis é um armazenamento de estrutura de dados de chave-valor de código aberto e na memória. O Redis oferece um conjunto de estruturas versáteis de dados na memória que permite a fácil criação de várias aplicações personalizadas."
   ]
  },
  {
   "cell_type": "code",
   "execution_count": 1,
   "id": "83da6fa9-fc5d-4181-81b0-bb1dc2fe4902",
   "metadata": {
    "tags": []
   },
   "outputs": [],
   "source": [
    "from redis import Redis\n",
    "import json"
   ]
  },
  {
   "cell_type": "code",
   "execution_count": 2,
   "id": "355325f5-5ade-416c-8afa-79b4f9ad5961",
   "metadata": {
    "tags": []
   },
   "outputs": [],
   "source": [
    "cache = Redis(host='redis', port=6379, db=0, decode_responses=True)"
   ]
  },
  {
   "cell_type": "code",
   "execution_count": 3,
   "id": "e2ad0fef-daac-46ec-9f84-2462bef4d014",
   "metadata": {
    "tags": []
   },
   "outputs": [],
   "source": [
    "value = {\"foo\": \"baar\"}"
   ]
  },
  {
   "cell_type": "code",
   "execution_count": 4,
   "id": "87335747-d75f-4a8e-9dc7-c79be81ba639",
   "metadata": {
    "tags": []
   },
   "outputs": [
    {
     "data": {
      "text/plain": [
       "True"
      ]
     },
     "execution_count": 4,
     "metadata": {},
     "output_type": "execute_result"
    }
   ],
   "source": [
    "cache.setex(\"test\", 100, json.dumps(value, ensure_ascii=False))"
   ]
  },
  {
   "cell_type": "code",
   "execution_count": 5,
   "id": "0413574f-9731-4ee2-9b78-c39d5f3ac84d",
   "metadata": {
    "tags": []
   },
   "outputs": [
    {
     "data": {
      "text/plain": [
       "1"
      ]
     },
     "execution_count": 5,
     "metadata": {},
     "output_type": "execute_result"
    }
   ],
   "source": [
    "cache.exists(\"test\")"
   ]
  },
  {
   "cell_type": "code",
   "execution_count": 6,
   "id": "7000d95a-01e9-4987-8a5c-74d4e8bffeb0",
   "metadata": {
    "tags": []
   },
   "outputs": [
    {
     "data": {
      "text/plain": [
       "{'foo': 'baar'}"
      ]
     },
     "execution_count": 6,
     "metadata": {},
     "output_type": "execute_result"
    }
   ],
   "source": [
    "json.loads(cache.get(\"test\"))"
   ]
  },
  {
   "cell_type": "code",
   "execution_count": 7,
   "id": "df78b8ea-1a5b-42e4-8884-4856d73a7c5e",
   "metadata": {
    "tags": []
   },
   "outputs": [
    {
     "data": {
      "text/plain": [
       "0"
      ]
     },
     "execution_count": 7,
     "metadata": {},
     "output_type": "execute_result"
    }
   ],
   "source": [
    "# Executando após ter expirado\n",
    "cache.exists(\"test\")"
   ]
  }
 ],
 "metadata": {
  "kernelspec": {
   "display_name": "Python 3 (ipykernel)",
   "language": "python",
   "name": "python3"
  },
  "language_info": {
   "codemirror_mode": {
    "name": "ipython",
    "version": 3
   },
   "file_extension": ".py",
   "mimetype": "text/x-python",
   "name": "python",
   "nbconvert_exporter": "python",
   "pygments_lexer": "ipython3",
   "version": "3.10.11"
  }
 },
 "nbformat": 4,
 "nbformat_minor": 5
}
