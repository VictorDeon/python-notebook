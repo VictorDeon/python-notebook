{
 "cells": [
  {
   "cell_type": "markdown",
   "metadata": {},
   "source": [
    "## PostgreSQL\n",
    "***\n",
    "\n",
    "Banco de dados muito usados em produção e teste\n",
    "\n",
    "### Instalação\n",
    "\n",
    "```\n",
    "sudo apt-get update\n",
    "sudo apt-get install postgresql postgresql-contrib pgadmin3\n",
    "psql -V\n",
    "```\n",
    "\n",
    "Instalação da biblioteca do PostgreSQL no python:\n",
    "\n",
    "```\n",
    "sudo apt-get install python3-psycopg2\n",
    "OU\n",
    "pip install psycopg2-binary\n",
    "```\n",
    "\n",
    "### Entrar no postgresql\n",
    "\n",
    "```\n",
    "sudo -i -u postgres\n",
    "psql <nome-do-banco>\n",
    "\\q para sair\n",
    "```\n",
    "\n",
    "ou\n",
    "\n",
    "```\n",
    "sudo -u postgres psql\n",
    "```\n",
    "\n",
    "### Criar um novo usuário\n",
    "\n",
    "Atualmente, temos apenas a função postgres configurada no banco de dados. Podemos criar novas funções/usuários através da linha de comando com o comando createrole. A flag --interactive irá solicitá-lo os valores necessários.\n",
    "\n",
    "```\n",
    "createuser --interactive\n",
    "Enter name of role to add: victorhad\n",
    "Shall the new role be a superuser? (y/n) y\n",
    "```\n",
    "\n",
    "### Criando um banco de dados\n",
    "\n",
    "Por padrão, outra suposição que o sistema de autenticação do Postgres faz é que haverá um banco de dados com o mesmo nome da função que está sendo usada para fazer o login, a que a função tem acesso.\n",
    "\n",
    "Dessa forma, nós criamos um usuário chamado victorhad, essa função irá tentar se conectar ao banco de dados que também é chamado victorhad por padrão. Você pode criar um banco de dados apropriado com o comando createdb.\n",
    "\n",
    "```\n",
    "createdb victorhad\n",
    "dropdb victorhad\n",
    "```\n",
    "\n",
    "### Abrir um prompt postgre com o novo usuário\n",
    "\n",
    "Para conectar-se com autenticação baseada em ident, você precisará de um usuário Linux com o mesmo nome que sua função Postgres e de banco de dados.\n",
    "\n",
    "Se você não tiver um usuário Linux correspondente disponível, você pode criar um com o comando adduser. Você tem que fazer isso a partir de uma conta com privilégios sudo (não conectado como o usuário postgres):\n",
    "\n",
    "```\n",
    "sudo adduser victorhad\n",
    "```\n",
    "\n",
    "Uma vez que você tenha uma conta apropriada disponível, você pode tanto alternar e conectar ao banco de dados digitando:\n",
    "\n",
    "```\n",
    "sudo -i -u sammy\n",
    "psql\n",
    "```\n",
    "\n",
    "OU\n",
    "\n",
    "```\n",
    "sudo -u sammy psql\n",
    "```\n",
    "\n",
    "Uma vez conectado, você pode verificar suas informações de conexão atuais digitando:\n",
    "\n",
    "```\n",
    "\\conninfo\n",
    "```\n",
    "\n",
    "Para garantir direito de acesso ao novo usuário\n",
    "\n",
    "```\n",
    "GRANT ALL PRIVILEGES ON DATABASE mydb TO myuser;\n",
    "```\n",
    "\n",
    "### Modificar a senha do usuário\n",
    "\n",
    "```\n",
    "ALTER USER postgres WITH PASSWORD 'nova_senha';\n",
    "```\n",
    "\n",
    "### Comandos PSQL\n",
    "\n",
    "```\n",
    "\\h - Ajuda de comandos SQL\n",
    "\\? - Ajuda de comandos psql\n",
    "\\q - Sai do psql\n",
    "\\dg - Lista regras (roles ou usuários)\n",
    "\\d <tabela> - Esquema da tabela \n",
    "\\dt - Lista tabelas\n",
    "\\l - Lista databases\n",
    "SET timezone = 'America/Sao_Paulo';\n",
    "```\n",
    "\n",
    "### Backup\n",
    "\n",
    "```\n",
    "sudo -u postgres pg_dump postgres > psql.dump\n",
    "sudo -u postgres dropdb banco\n",
    "sudo -u postgres createdb banco; psql banco < banco.dump\n",
    "```"
   ]
  },
  {
   "cell_type": "markdown",
   "metadata": {},
   "source": [
    "***\n",
    "### Conexão\n",
    "***"
   ]
  },
  {
   "cell_type": "code",
   "execution_count": 1,
   "metadata": {},
   "outputs": [],
   "source": [
    "import psycopg2"
   ]
  },
  {
   "cell_type": "code",
   "execution_count": 2,
   "metadata": {},
   "outputs": [],
   "source": [
    "# Connection é o objeto que representa o banco de dados\n",
    "conexao = psycopg2.connect(\n",
    "    dbname=\"notebook_db\",\n",
    "    user=\"note\",\n",
    "    password=\"note\",\n",
    "    host=\"postgres\",\n",
    "    port=5432\n",
    ")"
   ]
  },
  {
   "cell_type": "code",
   "execution_count": 3,
   "metadata": {},
   "outputs": [],
   "source": [
    "# Vamos criar um cursor, ou seja, um iterador que permite navegar e manipular os registros do DB.\n",
    "cursor = conexao.cursor()"
   ]
  },
  {
   "cell_type": "markdown",
   "metadata": {},
   "source": [
    "***\n",
    "### Criando uma tabela\n",
    "***"
   ]
  },
  {
   "cell_type": "code",
   "execution_count": 4,
   "metadata": {},
   "outputs": [],
   "source": [
    "# Criar uma tabela\n",
    "cursor.execute(\"\"\"\n",
    "CREATE TABLE IF NOT EXISTS cidades (\n",
    "    id SERIAL PRIMARY KEY,\n",
    "    cidade TEXT,\n",
    "    uf VARCHAR(2)\n",
    ");\n",
    "\"\"\")"
   ]
  },
  {
   "cell_type": "code",
   "execution_count": 5,
   "metadata": {},
   "outputs": [],
   "source": [
    "cursor.execute(\"\"\"\n",
    "CREATE TABLE IF NOT EXISTS clientes (\n",
    "    id SERIAL PRIMARY KEY,\n",
    "    nome VARCHAR NOT NULL,\n",
    "    cpf VARCHAR(11) NOT NULL,\n",
    "    email VARCHAR NOT NULL,\n",
    "    cidade_id INT,\n",
    "    criado_em DATE NOT NULL,\n",
    "    FOREIGN KEY (cidade_id) REFERENCES cidades(id)\n",
    ");\n",
    "\"\"\")"
   ]
  },
  {
   "cell_type": "markdown",
   "metadata": {},
   "source": [
    "***\n",
    "### Inserindo registros\n",
    "***"
   ]
  },
  {
   "cell_type": "code",
   "execution_count": 6,
   "metadata": {},
   "outputs": [],
   "source": [
    "cidades = [('Campinas','SP'),\n",
    "           ('Sao Paulo','SP'),\n",
    "           ('Rio de Janeiro','RJ')]"
   ]
  },
  {
   "cell_type": "code",
   "execution_count": 7,
   "metadata": {},
   "outputs": [],
   "source": [
    "cursor.executemany(\"\"\"\n",
    "INSERT INTO cidades (cidade, uf) VALUES (%s, %s)\n",
    "\"\"\", cidades)"
   ]
  },
  {
   "cell_type": "code",
   "execution_count": 8,
   "metadata": {},
   "outputs": [],
   "source": [
    "clientes = [('Regis', '01119239423', 'regis@gmail.com', 1, '2014-06-08'),\n",
    "            ('Aloisio', '02320322932', 'aloisio@email.com', 2, '2014-06-09'),\n",
    "            ('Bruna', '11239428344', 'bruna@email.com', 2, '2014-06-09'),\n",
    "            ('Matheus', '01293844323', 'matheus@email.com', 3, '2014-06-08')]"
   ]
  },
  {
   "cell_type": "code",
   "execution_count": 9,
   "metadata": {},
   "outputs": [],
   "source": [
    "cursor.executemany(\"\"\"\n",
    "INSERT INTO clientes (nome, cpf, email, cidade_id, criado_em) VALUES (%s, %s, %s, %s, %s)\n",
    "\"\"\", clientes)"
   ]
  },
  {
   "cell_type": "code",
   "execution_count": 10,
   "metadata": {},
   "outputs": [],
   "source": [
    "# Salvando os dados no BD.\n",
    "conexao.commit()"
   ]
  },
  {
   "cell_type": "markdown",
   "metadata": {},
   "source": [
    "***\n",
    "### Lendo os dados\n",
    "***"
   ]
  },
  {
   "cell_type": "code",
   "execution_count": 11,
   "metadata": {},
   "outputs": [],
   "source": [
    "# Registros de clientes\n",
    "cursor.execute(\"\"\"\n",
    "SELECT * FROM clientes;\n",
    "\"\"\")"
   ]
  },
  {
   "cell_type": "code",
   "execution_count": 12,
   "metadata": {},
   "outputs": [
    {
     "name": "stdout",
     "output_type": "stream",
     "text": [
      "(1, 'Regis', '01119239423', 'regis@gmail.com', 1, datetime.date(2014, 6, 8))\n",
      "(2, 'Aloisio', '02320322932', 'aloisio@email.com', 2, datetime.date(2014, 6, 9))\n",
      "(3, 'Bruna', '11239428344', 'bruna@email.com', 2, datetime.date(2014, 6, 9))\n",
      "(4, 'Matheus', '01293844323', 'matheus@email.com', 3, datetime.date(2014, 6, 8))\n"
     ]
    }
   ],
   "source": [
    "for registro in cursor.fetchall():\n",
    "    print(registro)"
   ]
  },
  {
   "cell_type": "code",
   "execution_count": 13,
   "metadata": {},
   "outputs": [],
   "source": [
    "# Registros de cidades\n",
    "cursor.execute(\"\"\"\n",
    "SELECT * FROM cidades;\n",
    "\"\"\")"
   ]
  },
  {
   "cell_type": "code",
   "execution_count": 14,
   "metadata": {},
   "outputs": [
    {
     "name": "stdout",
     "output_type": "stream",
     "text": [
      "(1, 'Campinas', 'SP')\n",
      "(2, 'Sao Paulo', 'SP')\n",
      "(3, 'Rio de Janeiro', 'RJ')\n"
     ]
    }
   ],
   "source": [
    "for registro in cursor.fetchall():\n",
    "    print(registro)"
   ]
  },
  {
   "cell_type": "code",
   "execution_count": 15,
   "metadata": {},
   "outputs": [],
   "source": [
    "# Registros de clientes e cidades\n",
    "cursor.execute(\"\"\"\n",
    "SELECT * FROM clientes INNER JOIN cidades ON clientes.cidade_id = cidades.id;\n",
    "\"\"\")"
   ]
  },
  {
   "cell_type": "code",
   "execution_count": 16,
   "metadata": {},
   "outputs": [
    {
     "name": "stdout",
     "output_type": "stream",
     "text": [
      "(1, 'Regis', '01119239423', 'regis@gmail.com', 1, datetime.date(2014, 6, 8), 1, 'Campinas', 'SP')\n",
      "(2, 'Aloisio', '02320322932', 'aloisio@email.com', 2, datetime.date(2014, 6, 9), 2, 'Sao Paulo', 'SP')\n",
      "(3, 'Bruna', '11239428344', 'bruna@email.com', 2, datetime.date(2014, 6, 9), 2, 'Sao Paulo', 'SP')\n",
      "(4, 'Matheus', '01293844323', 'matheus@email.com', 3, datetime.date(2014, 6, 8), 3, 'Rio de Janeiro', 'RJ')\n"
     ]
    }
   ],
   "source": [
    "for registro in cursor.fetchall():\n",
    "    print(registro)"
   ]
  },
  {
   "cell_type": "markdown",
   "metadata": {},
   "source": [
    "***\n",
    "### Alterando os dados\n",
    "***"
   ]
  },
  {
   "cell_type": "code",
   "execution_count": 17,
   "metadata": {},
   "outputs": [],
   "source": [
    "id_cliente = 1\n",
    "novo_email = 'regis_novo@gmail.com'\n",
    "novo_criado_em = '2014-06-11'"
   ]
  },
  {
   "cell_type": "code",
   "execution_count": 18,
   "metadata": {},
   "outputs": [],
   "source": [
    "cursor.execute(\"\"\"\n",
    "UPDATE clientes\n",
    "SET email = %s, criado_em = %s\n",
    "WHERE id = %s\n",
    "\"\"\", (novo_email, novo_criado_em, id_cliente))"
   ]
  },
  {
   "cell_type": "code",
   "execution_count": 19,
   "metadata": {},
   "outputs": [],
   "source": [
    "conexao.commit()"
   ]
  },
  {
   "cell_type": "code",
   "execution_count": 20,
   "metadata": {},
   "outputs": [],
   "source": [
    "cursor.execute(\"\"\"\n",
    "SELECT * FROM clientes;\n",
    "\"\"\")"
   ]
  },
  {
   "cell_type": "code",
   "execution_count": 21,
   "metadata": {},
   "outputs": [
    {
     "name": "stdout",
     "output_type": "stream",
     "text": [
      "(2, 'Aloisio', '02320322932', 'aloisio@email.com', 2, datetime.date(2014, 6, 9))\n",
      "(3, 'Bruna', '11239428344', 'bruna@email.com', 2, datetime.date(2014, 6, 9))\n",
      "(4, 'Matheus', '01293844323', 'matheus@email.com', 3, datetime.date(2014, 6, 8))\n",
      "(1, 'Regis', '01119239423', 'regis_novo@gmail.com', 1, datetime.date(2014, 6, 11))\n"
     ]
    }
   ],
   "source": [
    "for registro in cursor.fetchall():\n",
    "    print(registro)"
   ]
  },
  {
   "cell_type": "markdown",
   "metadata": {},
   "source": [
    "***\n",
    "### Deletando um registro\n",
    "***"
   ]
  },
  {
   "cell_type": "code",
   "execution_count": 22,
   "metadata": {},
   "outputs": [],
   "source": [
    "id_cliente = 4"
   ]
  },
  {
   "cell_type": "code",
   "execution_count": 23,
   "metadata": {},
   "outputs": [],
   "source": [
    "cursor.execute(\"\"\"\n",
    "DELETE FROM clientes\n",
    "WHERE id = %s\n",
    "\"\"\", (id_cliente,))"
   ]
  },
  {
   "cell_type": "code",
   "execution_count": 24,
   "metadata": {},
   "outputs": [],
   "source": [
    "conexao.commit()"
   ]
  },
  {
   "cell_type": "code",
   "execution_count": 25,
   "metadata": {},
   "outputs": [],
   "source": [
    "cursor.execute(\"\"\"\n",
    "SELECT * FROM clientes;\n",
    "\"\"\")"
   ]
  },
  {
   "cell_type": "code",
   "execution_count": 26,
   "metadata": {},
   "outputs": [
    {
     "name": "stdout",
     "output_type": "stream",
     "text": [
      "(2, 'Aloisio', '02320322932', 'aloisio@email.com', 2, datetime.date(2014, 6, 9))\n",
      "(3, 'Bruna', '11239428344', 'bruna@email.com', 2, datetime.date(2014, 6, 9))\n",
      "(1, 'Regis', '01119239423', 'regis_novo@gmail.com', 1, datetime.date(2014, 6, 11))\n"
     ]
    }
   ],
   "source": [
    "for registro in cursor.fetchall():\n",
    "    print(registro)"
   ]
  },
  {
   "cell_type": "code",
   "execution_count": 27,
   "metadata": {},
   "outputs": [],
   "source": [
    "# Deleta todas as instâncias\n",
    "cursor.execute(\"DELETE FROM clientes\")\n",
    "cursor.execute(\"DELETE FROM cidades\")"
   ]
  },
  {
   "cell_type": "code",
   "execution_count": 28,
   "metadata": {},
   "outputs": [],
   "source": [
    "conexao.commit()"
   ]
  },
  {
   "cell_type": "markdown",
   "metadata": {},
   "source": [
    "***\n",
    "### Adicionar uma nova coluna\n",
    "***"
   ]
  },
  {
   "cell_type": "code",
   "execution_count": 29,
   "metadata": {},
   "outputs": [],
   "source": [
    "cursor.execute(\"\"\"\n",
    "ALTER TABLE clientes\n",
    "ADD COLUMN bloqueado BOOLEAN;\n",
    "\"\"\")"
   ]
  },
  {
   "cell_type": "code",
   "execution_count": 30,
   "metadata": {},
   "outputs": [],
   "source": [
    "conexao.commit()"
   ]
  },
  {
   "cell_type": "markdown",
   "metadata": {},
   "source": [
    "***\n",
    "### Fechando conexão\n",
    "***"
   ]
  },
  {
   "cell_type": "code",
   "execution_count": 31,
   "metadata": {},
   "outputs": [],
   "source": [
    "cursor.execute(\"DROP TABLE IF EXISTS clientes\")\n",
    "cursor.execute(\"DROP TABLE IF EXISTS cidades\")\n",
    "conexao.commit()"
   ]
  },
  {
   "cell_type": "code",
   "execution_count": 32,
   "metadata": {},
   "outputs": [],
   "source": [
    "cursor.close()\n",
    "conexao.close()"
   ]
  }
 ],
 "metadata": {
  "kernelspec": {
   "display_name": "Python 3",
   "language": "python",
   "name": "python3"
  },
  "language_info": {
   "codemirror_mode": {
    "name": "ipython",
    "version": 3
   },
   "file_extension": ".py",
   "mimetype": "text/x-python",
   "name": "python",
   "nbconvert_exporter": "python",
   "pygments_lexer": "ipython3",
   "version": "3.7.6"
  }
 },
 "nbformat": 4,
 "nbformat_minor": 2
}
