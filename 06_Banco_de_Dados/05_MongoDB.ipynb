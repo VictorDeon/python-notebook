{
 "cells": [
  {
   "cell_type": "markdown",
   "metadata": {},
   "source": [
    "## MongoDB\n",
    "***\n",
    "\n",
    "É um dos banco de dados NoSQL mais populares\n",
    "\n",
    "O MongoDB armazena dados em documentos semelhantes a JSON, o que torna o banco de dados muito flexível e escalável.\n",
    "\n",
    "Documentação: https://docs.mongodb.com/manual/tutorial/install-mongodb-enterprise-on-ubuntu/\n",
    "\n",
    "### Instalação\n",
    "\n",
    "```\n",
    "sudo apt-key adv --keyserver hkp://keyserver.ubuntu.com:80 --recv 9DA31620334BD75D9DCB49F368818C72E52529D4\n",
    "\n",
    "echo \"deb [ arch=amd64,arm64,ppc64el,s390x ] http://repo.mongodb.com/apt/ubuntu xenial/mongodb-enterprise/4.0 multiverse\" | sudo tee /etc/apt/sources.list.d/mongodb-enterprise.list\n",
    "\n",
    "sudo apt-get update\n",
    "\n",
    "sudo apt-get install -y mongodb-enterprise\n",
    "\n",
    "pip3 install pymongo\n",
    "```\n",
    "\n",
    "Ou rode o docker\n",
    "\n",
    "### Entrar no MongoDB\n",
    "\n",
    "Crie uma pasta para armazenar o mongodb\n",
    "\n",
    "```\n",
    "mkdir mongodb\n",
    "mongod --dbpath mongodb\n",
    "\n",
    "OU\n",
    "\n",
    "<path-to-binary>/mongod --dbpath mongodb\n",
    "```\n",
    "\n",
    "No MongoDB, um banco de dados não é criado até obter conteúdo.\n",
    "\n",
    "Se der algum problema tenta: ```sudo service mongod start```"
   ]
  },
  {
   "cell_type": "markdown",
   "metadata": {},
   "source": [
    "***\n",
    "### Conexão\n",
    "***"
   ]
  },
  {
   "cell_type": "code",
   "execution_count": 1,
   "metadata": {},
   "outputs": [],
   "source": [
    "import pymongo"
   ]
  },
  {
   "cell_type": "code",
   "execution_count": 2,
   "metadata": {},
   "outputs": [],
   "source": [
    "conexao = pymongo.MongoClient(\"mongodb://mongodb:27017/\")"
   ]
  },
  {
   "cell_type": "markdown",
   "metadata": {},
   "source": [
    "***\n",
    "### Criar banco de dados\n",
    "***"
   ]
  },
  {
   "cell_type": "code",
   "execution_count": 3,
   "metadata": {},
   "outputs": [],
   "source": [
    "# No MongoDB, um banco de dados não é criado até obter conteúdo.\n",
    "database = conexao[\"mydb\"]"
   ]
  },
  {
   "cell_type": "code",
   "execution_count": 4,
   "metadata": {},
   "outputs": [
    {
     "name": "stdout",
     "output_type": "stream",
     "text": [
      "Database(MongoClient(host=['mongodb:27017'], document_class=dict, tz_aware=False, connect=True), 'mydb')\n"
     ]
    }
   ],
   "source": [
    "print(database)"
   ]
  },
  {
   "cell_type": "markdown",
   "metadata": {},
   "source": [
    "***\n",
    "### Criando uma coleção\n",
    "***"
   ]
  },
  {
   "cell_type": "code",
   "execution_count": 5,
   "metadata": {},
   "outputs": [
    {
     "name": "stdout",
     "output_type": "stream",
     "text": [
      "Collection(Database(MongoClient(host=['mongodb:27017'], document_class=dict, tz_aware=False, connect=True), 'mydb'), 'cidades')\n"
     ]
    }
   ],
   "source": [
    "cidadesDB = database[\"cidades\"]\n",
    "print(cidadesDB)"
   ]
  },
  {
   "cell_type": "code",
   "execution_count": 6,
   "metadata": {},
   "outputs": [
    {
     "name": "stdout",
     "output_type": "stream",
     "text": [
      "Collection(Database(MongoClient(host=['mongodb:27017'], document_class=dict, tz_aware=False, connect=True), 'mydb'), 'clientes')\n"
     ]
    }
   ],
   "source": [
    "clientesDB = database[\"clientes\"]\n",
    "print(clientesDB)"
   ]
  },
  {
   "cell_type": "markdown",
   "metadata": {},
   "source": [
    "***\n",
    "### Inserindo registros\n",
    "***"
   ]
  },
  {
   "cell_type": "code",
   "execution_count": 7,
   "metadata": {},
   "outputs": [],
   "source": [
    "cidades = [{\"_id\": 1, \"cidade\": \"Campinas\", \"estado\": \"SP\"},\n",
    "           {\"_id\": 2, \"cidade\": \"Sao Paulo\", \"estado\": \"SP\"},\n",
    "           {\"_id\": 3, \"cidade\": \"Rio de Janeiro\", \"estado\": \"RJ\"}]\n",
    "\n",
    "# Se não especificarmos os ID vai vim um aleatório\n",
    "# { \"_id\": 1, \"cidade\": \"Campinas\", \"estado\": \"SP\"},"
   ]
  },
  {
   "cell_type": "code",
   "execution_count": 8,
   "metadata": {},
   "outputs": [],
   "source": [
    "registro = cidadesDB.insert_many(cidades)"
   ]
  },
  {
   "cell_type": "code",
   "execution_count": 9,
   "metadata": {},
   "outputs": [
    {
     "name": "stdout",
     "output_type": "stream",
     "text": [
      "[1, 2, 3]\n"
     ]
    }
   ],
   "source": [
    "print(registro.inserted_ids)"
   ]
  },
  {
   "cell_type": "code",
   "execution_count": 10,
   "metadata": {},
   "outputs": [],
   "source": [
    "clientes = [\n",
    "    {\n",
    "        \"_id\": 1,\n",
    "        \"nome\": \"Regis\",\n",
    "        \"cpf\": \"01119239423\",\n",
    "        \"email\": \"regis@gmail.com\",\n",
    "        \"cidade_id\": 1,\n",
    "        \"data\": \"2014-06-08\"\n",
    "    },\n",
    "    {\n",
    "        \"_id\": 2,\n",
    "        \"nome\": \"Aloisio\",\n",
    "        \"cpf\": \"02320322932\",\n",
    "        \"email\": \"aloisio@email.com\",\n",
    "        \"cidade_id\": 2,\n",
    "        \"data\": \"2014-06-09\"\n",
    "    },\n",
    "    {\n",
    "        \"_id\": 3,\n",
    "        \"nome\": \"Bruna\",\n",
    "        \"cpf\": \"11239428344\",\n",
    "        \"email\": \"bruna@email.com\",\n",
    "        \"cidade_id\": 2,\n",
    "        \"data\": \"2014-06-09\"\n",
    "    },\n",
    "    {\n",
    "        \"_id\": 4,\n",
    "        \"nome\": \"Matheus\",\n",
    "        \"cpf\": \"01293844323\",\n",
    "        \"email\": \"matheus@email.com\",\n",
    "        \"cidade_id\": 8,\n",
    "        \"data\": \"2014-06-08\"\n",
    "    },\n",
    "]"
   ]
  },
  {
   "cell_type": "code",
   "execution_count": 11,
   "metadata": {},
   "outputs": [],
   "source": [
    "registro = clientesDB.insert_many(clientes)"
   ]
  },
  {
   "cell_type": "code",
   "execution_count": 12,
   "metadata": {},
   "outputs": [
    {
     "name": "stdout",
     "output_type": "stream",
     "text": [
      "[1, 2, 3, 4]\n"
     ]
    }
   ],
   "source": [
    "print(registro.inserted_ids)"
   ]
  },
  {
   "cell_type": "markdown",
   "metadata": {},
   "source": [
    "***\n",
    "### Lendo os dados\n",
    "***"
   ]
  },
  {
   "cell_type": "code",
   "execution_count": 13,
   "metadata": {},
   "outputs": [
    {
     "name": "stdout",
     "output_type": "stream",
     "text": [
      "{'_id': 1, 'cidade': 'Campinas', 'estado': 'SP'}\n",
      "{'_id': 1, 'nome': 'Regis', 'cpf': '01119239423', 'email': 'regis@gmail.com', 'cidade_id': 1, 'data': '2014-06-08'}\n"
     ]
    }
   ],
   "source": [
    "# Pega a primeira ocorrencia dos dados\n",
    "print(cidadesDB.find_one())\n",
    "print(clientesDB.find_one())"
   ]
  },
  {
   "cell_type": "code",
   "execution_count": 14,
   "metadata": {},
   "outputs": [
    {
     "name": "stdout",
     "output_type": "stream",
     "text": [
      "{'_id': 1, 'nome': 'Regis', 'cpf': '01119239423', 'email': 'regis@gmail.com', 'cidade_id': 1, 'data': '2014-06-08'}\n",
      "{'_id': 2, 'nome': 'Aloisio', 'cpf': '02320322932', 'email': 'aloisio@email.com', 'cidade_id': 2, 'data': '2014-06-09'}\n",
      "{'_id': 3, 'nome': 'Bruna', 'cpf': '11239428344', 'email': 'bruna@email.com', 'cidade_id': 2, 'data': '2014-06-09'}\n",
      "{'_id': 4, 'nome': 'Matheus', 'cpf': '01293844323', 'email': 'matheus@email.com', 'cidade_id': 8, 'data': '2014-06-08'}\n"
     ]
    }
   ],
   "source": [
    "# Encontra todas as ocorrencias\n",
    "for registro in clientesDB.find():\n",
    "    print(registro)"
   ]
  },
  {
   "cell_type": "code",
   "execution_count": 15,
   "metadata": {},
   "outputs": [
    {
     "name": "stdout",
     "output_type": "stream",
     "text": [
      "{'nome': 'Regis', 'email': 'regis@gmail.com'}\n",
      "{'nome': 'Aloisio', 'email': 'aloisio@email.com'}\n",
      "{'nome': 'Bruna', 'email': 'bruna@email.com'}\n",
      "{'nome': 'Matheus', 'email': 'matheus@email.com'}\n"
     ]
    }
   ],
   "source": [
    "# Retornar apenas alguns registros\n",
    "filtro = clientesDB.find({}, {\"_id\": 0, \"nome\": 1, \"email\": 2})\n",
    "for registro in filtro:\n",
    "    print(registro)"
   ]
  },
  {
   "cell_type": "code",
   "execution_count": 16,
   "metadata": {},
   "outputs": [
    {
     "name": "stdout",
     "output_type": "stream",
     "text": [
      "{'nome': 'Aloisio', 'email': 'aloisio@email.com'}\n"
     ]
    }
   ],
   "source": [
    "# Realiza uma query com filtro\n",
    "query = {\"nome\": \"Aloisio\"}\n",
    "resultado = clientesDB.find(query, {\"_id\": 0, \"nome\": 1, \"email\": 2})\n",
    "for registro in resultado:\n",
    "    print(registro)"
   ]
  },
  {
   "cell_type": "code",
   "execution_count": 17,
   "metadata": {},
   "outputs": [
    {
     "name": "stdout",
     "output_type": "stream",
     "text": [
      "{'nome': 'Matheus', 'email': 'matheus@email.com'}\n",
      "{'nome': 'Regis', 'email': 'regis@gmail.com'}\n"
     ]
    }
   ],
   "source": [
    "# Querys avançadas com regex (Todos os cpfs que termina com 23) ordenado por nome (1=ASC, -1=DES)\n",
    "query = {\"cpf\": {\"$regex\": \"23$\"}}\n",
    "resultado = clientesDB.find(query, {\"_id\": 0, \"nome\": 1, \"email\": 2}).sort(\"nome\", 1).limit(2)\n",
    "for registro in resultado:\n",
    "    print(registro)"
   ]
  },
  {
   "cell_type": "markdown",
   "metadata": {},
   "source": [
    "***\n",
    "### Alterando os dados\n",
    "***"
   ]
  },
  {
   "cell_type": "code",
   "execution_count": 18,
   "metadata": {},
   "outputs": [],
   "source": [
    "id_cliente = 1\n",
    "novo_email = 'regis_novo@gmail.com'"
   ]
  },
  {
   "cell_type": "code",
   "execution_count": 19,
   "metadata": {},
   "outputs": [],
   "source": [
    "obj = {\"_id\": id_cliente}\n",
    "new = {\"$set\": {\"email\": novo_email}}"
   ]
  },
  {
   "cell_type": "code",
   "execution_count": 20,
   "metadata": {},
   "outputs": [
    {
     "data": {
      "text/plain": [
       "<pymongo.results.UpdateResult at 0x7f387879cb40>"
      ]
     },
     "execution_count": 20,
     "metadata": {},
     "output_type": "execute_result"
    }
   ],
   "source": [
    "clientesDB.update_one(obj, new)\n",
    "#clientesDB.update_many(obj_lista, new) - Atualizar varios objetos"
   ]
  },
  {
   "cell_type": "code",
   "execution_count": 21,
   "metadata": {},
   "outputs": [
    {
     "name": "stdout",
     "output_type": "stream",
     "text": [
      "{'nome': 'Regis', 'email': 'regis_novo@gmail.com'}\n"
     ]
    }
   ],
   "source": [
    "for registro in clientesDB.find(obj, {\"_id\": 0, \"nome\": 1, \"email\": 2}):\n",
    "    print(registro)"
   ]
  },
  {
   "cell_type": "markdown",
   "metadata": {},
   "source": [
    "***\n",
    "### Verificando se existe\n",
    "***"
   ]
  },
  {
   "cell_type": "code",
   "execution_count": 22,
   "metadata": {},
   "outputs": [
    {
     "name": "stdout",
     "output_type": "stream",
     "text": [
      "['local', 'mydb', 'admin']\n"
     ]
    }
   ],
   "source": [
    "print(conexao.list_database_names())"
   ]
  },
  {
   "cell_type": "code",
   "execution_count": 23,
   "metadata": {},
   "outputs": [
    {
     "name": "stdout",
     "output_type": "stream",
     "text": [
      "Banco de dados existe.\n"
     ]
    }
   ],
   "source": [
    "dblist = conexao.list_database_names()\n",
    "if \"mydb\" in dblist:\n",
    "  print(\"Banco de dados existe.\")"
   ]
  },
  {
   "cell_type": "code",
   "execution_count": 24,
   "metadata": {},
   "outputs": [
    {
     "name": "stdout",
     "output_type": "stream",
     "text": [
      "['cidades', 'system.indexes', 'clientes']\n"
     ]
    }
   ],
   "source": [
    "print(database.list_collection_names())"
   ]
  },
  {
   "cell_type": "code",
   "execution_count": 25,
   "metadata": {},
   "outputs": [
    {
     "name": "stdout",
     "output_type": "stream",
     "text": [
      "Coleção existe.\n"
     ]
    }
   ],
   "source": [
    "collection = database.list_collection_names()\n",
    "if \"clientes\" in collection:\n",
    "  print(\"Coleção existe.\")"
   ]
  },
  {
   "cell_type": "markdown",
   "metadata": {},
   "source": [
    "***\n",
    "### Deletando um registro\n",
    "***"
   ]
  },
  {
   "cell_type": "code",
   "execution_count": 26,
   "metadata": {},
   "outputs": [],
   "source": [
    "id_cliente = 4"
   ]
  },
  {
   "cell_type": "code",
   "execution_count": 27,
   "metadata": {},
   "outputs": [],
   "source": [
    "obj = {\"_id\": id_cliente}"
   ]
  },
  {
   "cell_type": "code",
   "execution_count": 28,
   "metadata": {},
   "outputs": [
    {
     "data": {
      "text/plain": [
       "<pymongo.results.DeleteResult at 0x7f38787ab050>"
      ]
     },
     "execution_count": 28,
     "metadata": {},
     "output_type": "execute_result"
    }
   ],
   "source": [
    "clientesDB.delete_one(obj)"
   ]
  },
  {
   "cell_type": "code",
   "execution_count": 29,
   "metadata": {},
   "outputs": [
    {
     "name": "stdout",
     "output_type": "stream",
     "text": [
      "{'nome': 'Regis', 'email': 'regis_novo@gmail.com'}\n",
      "{'nome': 'Aloisio', 'email': 'aloisio@email.com'}\n",
      "{'nome': 'Bruna', 'email': 'bruna@email.com'}\n"
     ]
    }
   ],
   "source": [
    "for registro in clientesDB.find({}, {\"_id\": 0, \"nome\": 1, \"email\": 2}):\n",
    "    print(registro)"
   ]
  },
  {
   "cell_type": "code",
   "execution_count": 30,
   "metadata": {},
   "outputs": [
    {
     "data": {
      "text/plain": [
       "<pymongo.results.DeleteResult at 0x7f387879c960>"
      ]
     },
     "execution_count": 30,
     "metadata": {},
     "output_type": "execute_result"
    }
   ],
   "source": [
    "# Deleta todos os objetos\n",
    "clientesDB.delete_many({})\n",
    "cidadesDB.delete_many({})"
   ]
  },
  {
   "cell_type": "code",
   "execution_count": 31,
   "metadata": {},
   "outputs": [],
   "source": [
    "for registro in clientesDB.find({}, {\"_id\": 0, \"nome\": 1, \"email\": 2}):\n",
    "    print(registro)"
   ]
  },
  {
   "cell_type": "markdown",
   "metadata": {},
   "source": [
    "***\n",
    "### Fechando conexão\n",
    "***"
   ]
  },
  {
   "cell_type": "code",
   "execution_count": 32,
   "metadata": {},
   "outputs": [],
   "source": [
    "clientesDB.drop()\n",
    "cidadesDB.drop()"
   ]
  }
 ],
 "metadata": {
  "kernelspec": {
   "display_name": "Python 3",
   "language": "python",
   "name": "python3"
  },
  "language_info": {
   "codemirror_mode": {
    "name": "ipython",
    "version": 3
   },
   "file_extension": ".py",
   "mimetype": "text/x-python",
   "name": "python",
   "nbconvert_exporter": "python",
   "pygments_lexer": "ipython3",
   "version": "3.7.6"
  }
 },
 "nbformat": 4,
 "nbformat_minor": 2
}
