{
 "cells": [
  {
   "cell_type": "markdown",
   "metadata": {},
   "source": [
    "## MySQL\n",
    "***"
   ]
  },
  {
   "cell_type": "markdown",
   "metadata": {},
   "source": [
    "\n",
    "### Instalação\n",
    "\n",
    "Rode o docker do mysql\n",
    "\n",
    "```\n",
    "pip3 install mysql-connector\n",
    "```\n",
    "\n",
    "### Entrar no MySQL\n",
    "\n",
    "```\n",
    "mysql -u <username> -p\n",
    "senha: ****\n",
    "exit\n",
    "```\n",
    "\n",
    "Se precisar colocar o host como localhost use o -h\n",
    "\n",
    "### Backup\n",
    "\n",
    "```\n",
    "mysqldump -u <username> -p <database> > backup.sql\n",
    "```\n"
   ]
  },
  {
   "cell_type": "markdown",
   "metadata": {},
   "source": [
    "***\n",
    "### Conexão\n",
    "***"
   ]
  },
  {
   "cell_type": "code",
   "execution_count": 1,
   "metadata": {},
   "outputs": [],
   "source": [
    "from mysql import connector"
   ]
  },
  {
   "cell_type": "code",
   "execution_count": 2,
   "metadata": {},
   "outputs": [],
   "source": [
    "# Connection é o objeto que representa o banco de dados\n",
    "conexao = connector.connect(\n",
    "    host=\"mysql\",\n",
    "    user=\"root\",\n",
    "    passwd=\"docker\",\n",
    "    database=\"notebook_db\"\n",
    ")"
   ]
  },
  {
   "cell_type": "code",
   "execution_count": 3,
   "metadata": {},
   "outputs": [],
   "source": [
    "# Vamos criar um cursor, ou seja, um iterador que permite navegar e manipular os registros do DB.\n",
    "cursor = conexao.cursor()"
   ]
  },
  {
   "cell_type": "markdown",
   "metadata": {},
   "source": [
    "***\n",
    "### Criar banco de dados\n",
    "***"
   ]
  },
  {
   "cell_type": "code",
   "execution_count": 4,
   "metadata": {},
   "outputs": [],
   "source": [
    "# Cria um database e use ela\n",
    "cursor.execute(\"CREATE DATABASE IF NOT EXISTS mydb\")\n",
    "cursor.execute(\"USE mydb;\")"
   ]
  },
  {
   "cell_type": "code",
   "execution_count": 5,
   "metadata": {},
   "outputs": [],
   "source": [
    "# Mostrar os banco de dados\n",
    "cursor.execute(\"SHOW DATABASES\")"
   ]
  },
  {
   "cell_type": "code",
   "execution_count": 6,
   "metadata": {},
   "outputs": [
    {
     "name": "stdout",
     "output_type": "stream",
     "text": [
      "('information_schema',)\n",
      "('mydb',)\n",
      "('mysql',)\n",
      "('notebook_db',)\n",
      "('performance_schema',)\n",
      "('sys',)\n"
     ]
    }
   ],
   "source": [
    "for database in cursor:\n",
    "    print(database)"
   ]
  },
  {
   "cell_type": "markdown",
   "metadata": {},
   "source": [
    "***\n",
    "### Criando uma tabela\n",
    "***"
   ]
  },
  {
   "cell_type": "code",
   "execution_count": 7,
   "metadata": {},
   "outputs": [],
   "source": [
    "# Criar uma tabela\n",
    "cursor.execute(\"\"\"\n",
    "CREATE TABLE IF NOT EXISTS cidades (\n",
    "    id INT AUTO_INCREMENT PRIMARY KEY,\n",
    "    cidade VARCHAR(255),\n",
    "    uf VARCHAR(2)\n",
    ");\n",
    "\"\"\")"
   ]
  },
  {
   "cell_type": "code",
   "execution_count": 8,
   "metadata": {},
   "outputs": [],
   "source": [
    "cursor.execute(\"\"\"\n",
    "CREATE TABLE IF NOT EXISTS clientes (\n",
    "    id INT AUTO_INCREMENT PRIMARY KEY,\n",
    "    nome VARCHAR(255) NOT NULL,\n",
    "    cpf VARCHAR(11) NOT NULL,\n",
    "    email VARCHAR(100) NOT NULL,\n",
    "    cidade_id INT,\n",
    "    criado_em DATE NOT NULL,\n",
    "    FOREIGN KEY (cidade_id) REFERENCES cidades(id)\n",
    ");\n",
    "\"\"\")"
   ]
  },
  {
   "cell_type": "code",
   "execution_count": 9,
   "metadata": {},
   "outputs": [],
   "source": [
    "# Mostrar tabelas\n",
    "cursor.execute(\"\"\"SHOW TABLES\"\"\")"
   ]
  },
  {
   "cell_type": "code",
   "execution_count": 10,
   "metadata": {},
   "outputs": [
    {
     "name": "stdout",
     "output_type": "stream",
     "text": [
      "('cidades',)\n",
      "('clientes',)\n"
     ]
    }
   ],
   "source": [
    "for table in cursor:\n",
    "    print(table)"
   ]
  },
  {
   "cell_type": "markdown",
   "metadata": {},
   "source": [
    "***\n",
    "### Inserindo registros\n",
    "***"
   ]
  },
  {
   "cell_type": "code",
   "execution_count": 11,
   "metadata": {},
   "outputs": [],
   "source": [
    "cidades = [('Campinas','SP'),\n",
    "           ('Sao Paulo','SP'),\n",
    "           ('Rio de Janeiro','RJ')]"
   ]
  },
  {
   "cell_type": "code",
   "execution_count": 12,
   "metadata": {},
   "outputs": [],
   "source": [
    "cursor.executemany(\"\"\"\n",
    "INSERT INTO cidades (cidade, uf) VALUES (%s, %s)\n",
    "\"\"\", cidades)"
   ]
  },
  {
   "cell_type": "code",
   "execution_count": 13,
   "metadata": {},
   "outputs": [],
   "source": [
    "clientes = [('Regis', '01119239423', 'regis@gmail.com', 1, '2014-06-08'),\n",
    "            ('Aloisio', '02320322932', 'aloisio@email.com', 2, '2014-06-09'),\n",
    "            ('Bruna', '11239428344', 'bruna@email.com', 2, '2014-06-09'),\n",
    "            ('Matheus', '01293844323', 'matheus@email.com', 3, '2014-06-08')]"
   ]
  },
  {
   "cell_type": "code",
   "execution_count": 14,
   "metadata": {},
   "outputs": [],
   "source": [
    "cursor.executemany(\"\"\"\n",
    "INSERT INTO clientes (nome, cpf, email, cidade_id, criado_em) VALUES (%s, %s, %s, %s, %s)\n",
    "\"\"\", clientes)"
   ]
  },
  {
   "cell_type": "code",
   "execution_count": 15,
   "metadata": {},
   "outputs": [],
   "source": [
    "# Salvando os dados no BD.\n",
    "conexao.commit()"
   ]
  },
  {
   "cell_type": "code",
   "execution_count": 16,
   "metadata": {},
   "outputs": [
    {
     "name": "stdout",
     "output_type": "stream",
     "text": [
      "4 dados inseridos.\n",
      "ID: 1\n"
     ]
    }
   ],
   "source": [
    "# Verifica quantos inserções foram feitas\n",
    "print(cursor.rowcount, \"dados inseridos.\")\n",
    "# Pega o ID do ultimo elemento inseridp\n",
    "print(\"ID:\", cursor.lastrowid)"
   ]
  },
  {
   "cell_type": "markdown",
   "metadata": {},
   "source": [
    "***\n",
    "### Lendo os dados\n",
    "***"
   ]
  },
  {
   "cell_type": "code",
   "execution_count": 17,
   "metadata": {},
   "outputs": [],
   "source": [
    "# Registros de clientes\n",
    "cursor.execute(\"\"\"\n",
    "SELECT * FROM clientes;\n",
    "\"\"\")"
   ]
  },
  {
   "cell_type": "code",
   "execution_count": 18,
   "metadata": {},
   "outputs": [
    {
     "name": "stdout",
     "output_type": "stream",
     "text": [
      "(1, 'Regis', '01119239423', 'regis@gmail.com', 1, datetime.date(2014, 6, 8))\n",
      "(2, 'Aloisio', '02320322932', 'aloisio@email.com', 2, datetime.date(2014, 6, 9))\n",
      "(3, 'Bruna', '11239428344', 'bruna@email.com', 2, datetime.date(2014, 6, 9))\n",
      "(4, 'Matheus', '01293844323', 'matheus@email.com', 3, datetime.date(2014, 6, 8))\n"
     ]
    }
   ],
   "source": [
    "for registro in cursor.fetchall():\n",
    "    print(registro)"
   ]
  },
  {
   "cell_type": "code",
   "execution_count": 19,
   "metadata": {},
   "outputs": [],
   "source": [
    "# Registros de cidades\n",
    "cursor.execute(\"\"\"\n",
    "SELECT * FROM cidades;\n",
    "\"\"\")"
   ]
  },
  {
   "cell_type": "code",
   "execution_count": 20,
   "metadata": {},
   "outputs": [
    {
     "name": "stdout",
     "output_type": "stream",
     "text": [
      "(1, 'Campinas', 'SP')\n",
      "(2, 'Sao Paulo', 'SP')\n",
      "(3, 'Rio de Janeiro', 'RJ')\n"
     ]
    }
   ],
   "source": [
    "for registro in cursor.fetchall():\n",
    "    print(registro)"
   ]
  },
  {
   "cell_type": "code",
   "execution_count": 21,
   "metadata": {},
   "outputs": [],
   "source": [
    "# Registros de clientes e cidades\n",
    "cursor.execute(\"\"\"\n",
    "SELECT * FROM clientes INNER JOIN cidades ON clientes.cidade_id = cidades.id;\n",
    "\"\"\")"
   ]
  },
  {
   "cell_type": "code",
   "execution_count": 22,
   "metadata": {},
   "outputs": [
    {
     "name": "stdout",
     "output_type": "stream",
     "text": [
      "(1, 'Regis', '01119239423', 'regis@gmail.com', 1, datetime.date(2014, 6, 8), 1, 'Campinas', 'SP')\n",
      "(2, 'Aloisio', '02320322932', 'aloisio@email.com', 2, datetime.date(2014, 6, 9), 2, 'Sao Paulo', 'SP')\n",
      "(3, 'Bruna', '11239428344', 'bruna@email.com', 2, datetime.date(2014, 6, 9), 2, 'Sao Paulo', 'SP')\n",
      "(4, 'Matheus', '01293844323', 'matheus@email.com', 3, datetime.date(2014, 6, 8), 3, 'Rio de Janeiro', 'RJ')\n"
     ]
    }
   ],
   "source": [
    "for registro in cursor.fetchall():\n",
    "    print(registro)"
   ]
  },
  {
   "cell_type": "markdown",
   "metadata": {},
   "source": [
    "***\n",
    "### Alterando os dados\n",
    "***"
   ]
  },
  {
   "cell_type": "code",
   "execution_count": 23,
   "metadata": {},
   "outputs": [],
   "source": [
    "id_cliente = 1\n",
    "novo_email = 'regis_novo@gmail.com'\n",
    "novo_criado_em = '2014-06-11'"
   ]
  },
  {
   "cell_type": "code",
   "execution_count": 24,
   "metadata": {},
   "outputs": [],
   "source": [
    "cursor.execute(\"\"\"\n",
    "UPDATE clientes\n",
    "SET email = %s, criado_em = %s\n",
    "WHERE id = %s\n",
    "\"\"\", (novo_email, novo_criado_em, id_cliente))"
   ]
  },
  {
   "cell_type": "code",
   "execution_count": 25,
   "metadata": {},
   "outputs": [],
   "source": [
    "conexao.commit()"
   ]
  },
  {
   "cell_type": "code",
   "execution_count": 26,
   "metadata": {},
   "outputs": [],
   "source": [
    "cursor.execute(\"\"\"\n",
    "SELECT * FROM clientes;\n",
    "\"\"\")"
   ]
  },
  {
   "cell_type": "code",
   "execution_count": 27,
   "metadata": {},
   "outputs": [
    {
     "name": "stdout",
     "output_type": "stream",
     "text": [
      "(1, 'Regis', '01119239423', 'regis_novo@gmail.com', 1, datetime.date(2014, 6, 11))\n",
      "(2, 'Aloisio', '02320322932', 'aloisio@email.com', 2, datetime.date(2014, 6, 9))\n",
      "(3, 'Bruna', '11239428344', 'bruna@email.com', 2, datetime.date(2014, 6, 9))\n",
      "(4, 'Matheus', '01293844323', 'matheus@email.com', 3, datetime.date(2014, 6, 8))\n"
     ]
    }
   ],
   "source": [
    "for registro in cursor.fetchall():\n",
    "    print(registro)"
   ]
  },
  {
   "cell_type": "markdown",
   "metadata": {},
   "source": [
    "***\n",
    "### Deletando um registro\n",
    "***"
   ]
  },
  {
   "cell_type": "code",
   "execution_count": 28,
   "metadata": {},
   "outputs": [],
   "source": [
    "id_cliente = 4"
   ]
  },
  {
   "cell_type": "code",
   "execution_count": 29,
   "metadata": {},
   "outputs": [],
   "source": [
    "cursor.execute(\"\"\"\n",
    "DELETE FROM clientes\n",
    "WHERE id = %s\n",
    "\"\"\", (id_cliente,))"
   ]
  },
  {
   "cell_type": "code",
   "execution_count": 30,
   "metadata": {},
   "outputs": [],
   "source": [
    "conexao.commit()"
   ]
  },
  {
   "cell_type": "code",
   "execution_count": 31,
   "metadata": {},
   "outputs": [],
   "source": [
    "cursor.execute(\"\"\"\n",
    "SELECT * FROM clientes;\n",
    "\"\"\")"
   ]
  },
  {
   "cell_type": "code",
   "execution_count": 32,
   "metadata": {},
   "outputs": [
    {
     "name": "stdout",
     "output_type": "stream",
     "text": [
      "(1, 'Regis', '01119239423', 'regis_novo@gmail.com', 1, datetime.date(2014, 6, 11))\n",
      "(2, 'Aloisio', '02320322932', 'aloisio@email.com', 2, datetime.date(2014, 6, 9))\n",
      "(3, 'Bruna', '11239428344', 'bruna@email.com', 2, datetime.date(2014, 6, 9))\n"
     ]
    }
   ],
   "source": [
    "for registro in cursor.fetchall():\n",
    "    print(registro)"
   ]
  },
  {
   "cell_type": "code",
   "execution_count": 33,
   "metadata": {},
   "outputs": [],
   "source": [
    "# Deleta todas as instâncias\n",
    "cursor.execute(\"DELETE FROM clientes\")\n",
    "cursor.execute(\"DELETE FROM cidades\")"
   ]
  },
  {
   "cell_type": "code",
   "execution_count": 34,
   "metadata": {},
   "outputs": [],
   "source": [
    "conexao.commit()"
   ]
  },
  {
   "cell_type": "markdown",
   "metadata": {},
   "source": [
    "***\n",
    "### Adicionar uma nova coluna\n",
    "***"
   ]
  },
  {
   "cell_type": "code",
   "execution_count": 35,
   "metadata": {},
   "outputs": [],
   "source": [
    "cursor.execute(\"\"\"\n",
    "ALTER TABLE clientes\n",
    "ADD COLUMN bloqueado BOOLEAN;\n",
    "\"\"\")"
   ]
  },
  {
   "cell_type": "code",
   "execution_count": 36,
   "metadata": {},
   "outputs": [],
   "source": [
    "conexao.commit()"
   ]
  },
  {
   "cell_type": "markdown",
   "metadata": {},
   "source": [
    "***\n",
    "### Fechando conexão\n",
    "***"
   ]
  },
  {
   "cell_type": "code",
   "execution_count": 37,
   "metadata": {},
   "outputs": [],
   "source": [
    "cursor.execute(\"DROP TABLE IF EXISTS clientes\")\n",
    "cursor.execute(\"DROP TABLE IF EXISTS cidades\")\n",
    "cursor.execute(\"DROP DATABASE IF EXISTS mydb\")\n",
    "conexao.commit()"
   ]
  },
  {
   "cell_type": "code",
   "execution_count": 38,
   "metadata": {},
   "outputs": [],
   "source": [
    "cursor.close()\n",
    "conexao.close()"
   ]
  }
 ],
 "metadata": {
  "kernelspec": {
   "display_name": "Python 3",
   "language": "python",
   "name": "python3"
  },
  "language_info": {
   "codemirror_mode": {
    "name": "ipython",
    "version": 3
   },
   "file_extension": ".py",
   "mimetype": "text/x-python",
   "name": "python",
   "nbconvert_exporter": "python",
   "pygments_lexer": "ipython3",
   "version": "3.7.6"
  }
 },
 "nbformat": 4,
 "nbformat_minor": 2
}
