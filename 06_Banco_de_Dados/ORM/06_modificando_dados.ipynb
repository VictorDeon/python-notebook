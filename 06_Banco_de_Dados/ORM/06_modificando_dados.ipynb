{
 "cells": [
  {
   "cell_type": "markdown",
   "id": "3ac886ee-4bfe-4cb3-af14-f5ab367da3e5",
   "metadata": {},
   "source": [
    "## Modificando dados usando SQLAlchemy\n",
    "***"
   ]
  }
 ],
 "metadata": {
  "kernelspec": {
   "display_name": "Python 3 (ipykernel)",
   "language": "python",
   "name": "python3"
  },
  "language_info": {
   "codemirror_mode": {
    "name": "ipython",
    "version": 3
   },
   "file_extension": ".py",
   "mimetype": "text/x-python",
   "name": "python",
   "nbconvert_exporter": "python",
   "pygments_lexer": "ipython3",
   "version": "3.11.6"
  }
 },
 "nbformat": 4,
 "nbformat_minor": 5
}
