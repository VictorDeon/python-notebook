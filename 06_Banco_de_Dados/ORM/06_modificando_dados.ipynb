{
 "cells": [
  {
   "cell_type": "markdown",
   "id": "3ac886ee-4bfe-4cb3-af14-f5ab367da3e5",
   "metadata": {},
   "source": [
    "## Modificando dados usando SQLAlchemy\n",
    "***\n",
    "\n",
    "Vamos fazer atualizações, inserções e deleções usando o SQLALchemy"
   ]
  },
  {
   "cell_type": "code",
   "execution_count": 1,
   "id": "22cbb0f1-65e3-468d-9e37-af1978481343",
   "metadata": {
    "tags": []
   },
   "outputs": [],
   "source": [
    "from sqlalchemy import create_engine, URL\n",
    "from sqlalchemy.orm import sessionmaker\n",
    "url = URL.create(\n",
    "    drivername=\"postgresql+psycopg2\",  # driver name = postgresql + the library we are using (psycopg2)\n",
    "    username='notebook',\n",
    "    password='notebook',\n",
    "    host='postgres',\n",
    "    database='notebook',\n",
    "    port=5432\n",
    ")\n",
    "engine = create_engine(url, pool_size=10, max_overflow=20, pool_recycle=3600)\n",
    "Session = sessionmaker(bind=engine)"
   ]
  },
  {
   "cell_type": "code",
   "execution_count": 2,
   "id": "8c116152-d3cd-41de-8020-26e93f1f079b",
   "metadata": {
    "tags": []
   },
   "outputs": [],
   "source": [
    "from sqlalchemy import INTEGER\n",
    "from sqlalchemy.orm import DeclarativeBase\n",
    "\n",
    "\n",
    "class Base(DeclarativeBase):\n",
    "    pass"
   ]
  },
  {
   "cell_type": "code",
   "execution_count": 3,
   "id": "0d6375fb-ef28-4174-b410-059e52357993",
   "metadata": {
    "tags": []
   },
   "outputs": [],
   "source": [
    "import datetime\n",
    "from typing import Optional\n",
    "from sqlalchemy.dialects.postgresql import TIMESTAMP\n",
    "from sqlalchemy.sql.functions import func\n",
    "from sqlalchemy.orm import Mapped, mapped_column, relationship\n",
    "from sqlalchemy import ForeignKey, BIGINT, VARCHAR, String, DECIMAL\n",
    "\n",
    "class TimestampMixin:\n",
    "    created_at: Mapped[datetime] = mapped_column(TIMESTAMP, server_default=func.now())\n",
    "    updated_at: Mapped[datetime] = mapped_column(TIMESTAMP, server_default=func.now(), onupdate=func.now())\n",
    "\n",
    "\n",
    "class User(Base, TimestampMixin):\n",
    "    \"\"\"\n",
    "    Classe de usuário no banco de dados\n",
    "    \"\"\"\n",
    "\n",
    "    __tablename__ = \"users\"\n",
    "\n",
    "    telegram_id: Mapped[int] = mapped_column(BIGINT, primary_key=True)\n",
    "    full_name: Mapped[str] = mapped_column(VARCHAR(255))\n",
    "    username: Mapped[Optional[str]] = mapped_column(VARCHAR(255), nullable=True)\n",
    "    language_code: Mapped[str] = mapped_column(VARCHAR(255))\n",
    "    created_at: Mapped[datetime] = mapped_column(TIMESTAMP, server_default=func.now())\n",
    "    referrer_id: Mapped[Optional[int]] = mapped_column(BIGINT, ForeignKey('users.telegram_id', ondelete='SET NULL'))\n",
    "    orders: Mapped[list['Order']] = relationship(back_populates='user')\n",
    "    \n",
    "class Order(Base, TimestampMixin):\n",
    "    \"\"\"\n",
    "    Tabela de pedidos\n",
    "    \"\"\"\n",
    "\n",
    "    __tablename__ = \"orders\"\n",
    "\n",
    "    order_id: Mapped[int] = mapped_column(INTEGER, primary_key=True)\n",
    "    user_id: Mapped[int] = mapped_column(BIGINT, ForeignKey(\"users.telegram_id\", ondelete=\"CASCADE\"))\n",
    "    products: Mapped[list['OrderProducts']] = relationship()\n",
    "    user: Mapped['User'] = relationship(back_populates='orders')\n",
    "    \n",
    "class Product(Base, TimestampMixin):\n",
    "    \"\"\"\n",
    "    Tabela de produtos\n",
    "    \"\"\"\n",
    "    \n",
    "    __tablename__ = \"products\"\n",
    "\n",
    "    product_id: Mapped[int] = mapped_column(INTEGER, primary_key=True)\n",
    "    title: Mapped[str] = mapped_column(String(255))\n",
    "    description: Mapped[str]\n",
    "    price: Mapped[float] = mapped_column(DECIMAL(precision=16, scale=4))\n",
    "\n",
    "class OrderProducts(Base):\n",
    "    \"\"\"\n",
    "    Cria a tabela estrangeira do relacionamento entre pedido e produtos\n",
    "    \"\"\"\n",
    "    \n",
    "    __tablename__ = \"order-products\"\n",
    "\n",
    "    order_id: Mapped[int] = mapped_column(INTEGER, ForeignKey(\"orders.order_id\", ondelete=\"CASCADE\"), primary_key=True)\n",
    "    product_id: Mapped[int] = mapped_column(INTEGER, ForeignKey(\"products.product_id\", ondelete=\"RESTRICT\"), primary_key=True)\n",
    "    quantity: Mapped[int]\n",
    "    product: Mapped['Product'] = relationship()\n",
    "    \n",
    "# Você pode deletar todas as tabelas com esse comando\n",
    "Base.metadata.drop_all(engine)\n",
    "\n",
    "# E recria-las com esse comando\n",
    "Base.metadata.create_all(engine)"
   ]
  },
  {
   "cell_type": "code",
   "execution_count": 4,
   "id": "74b02be2-ecc2-4cd1-9843-65090b292f18",
   "metadata": {
    "tags": []
   },
   "outputs": [],
   "source": [
    "from faker import Faker\n",
    "fake = Faker()"
   ]
  },
  {
   "cell_type": "markdown",
   "id": "6faf28cb-990b-4f69-b57e-96963a5096c6",
   "metadata": {},
   "source": [
    "***\n",
    "### Adicionar um usuário\n",
    "***"
   ]
  },
  {
   "cell_type": "code",
   "execution_count": 5,
   "id": "d5386b47-a965-405c-bf08-4b9896e89afc",
   "metadata": {
    "tags": []
   },
   "outputs": [
    {
     "name": "stdout",
     "output_type": "stream",
     "text": [
      "Rebecca Miller\n",
      "Jacob Powers\n",
      "Stephanie Gonzalez\n",
      "Caitlin Good\n",
      "Brittany Harris\n"
     ]
    }
   ],
   "source": [
    "from sqlalchemy import insert\n",
    "\n",
    "with Session() as session:\n",
    "    for _ in range(5):\n",
    "        stmt = insert(User).values(\n",
    "            telegram_id=fake.pyint(),\n",
    "            full_name=fake.name(),\n",
    "            username=fake.user_name(),\n",
    "            language_code=fake.language_code(),\n",
    "            referrer_id=None,\n",
    "        ).returning(User)\n",
    "\n",
    "        result = session.execute(stmt)\n",
    "        session.commit()\n",
    "        data = result.scalars().first()\n",
    "        print(data.full_name)"
   ]
  },
  {
   "cell_type": "markdown",
   "id": "c3ff7fcc-5ae2-4448-aa79-bc29fec5a0c9",
   "metadata": {},
   "source": [
    "***\n",
    "### Atualizando um usuário\n",
    "***"
   ]
  },
  {
   "cell_type": "code",
   "execution_count": 6,
   "id": "401d4bfe-6d92-49d0-ba7c-b72b001132ed",
   "metadata": {
    "tags": []
   },
   "outputs": [
    {
     "name": "stdout",
     "output_type": "stream",
     "text": [
      "Fulano de Tal 2914\n"
     ]
    }
   ],
   "source": [
    "from sqlalchemy import update\n",
    "\n",
    "with Session() as session:\n",
    "    stmt = (\n",
    "        update(User)\n",
    "        .where(User.telegram_id == 3366)\n",
    "        .values(referrer_id=2914, full_name=\"Fulano de Tal\")\n",
    "    ).returning(User)\n",
    "    result = session.execute(stmt)\n",
    "    session.commit()\n",
    "    data = result.scalars().first()\n",
    "    print(data.full_name, data.referrer_id)"
   ]
  },
  {
   "cell_type": "markdown",
   "id": "b6079e1c-0a8a-42fd-b1b2-6b531766ef90",
   "metadata": {},
   "source": [
    "***\n",
    "### Deletando um usuário\n",
    "***"
   ]
  },
  {
   "cell_type": "code",
   "execution_count": 7,
   "id": "d040f2e8-25cc-4e19-b528-e89f28d7012b",
   "metadata": {
    "tags": []
   },
   "outputs": [
    {
     "name": "stdout",
     "output_type": "stream",
     "text": [
      "872\n"
     ]
    }
   ],
   "source": [
    "from sqlalchemy import delete\n",
    "\n",
    "with Session() as session:\n",
    "    stmt = delete(User).where(User.telegram_id == 872).returning(User.telegram_id)\n",
    "    result = session.execute(stmt)\n",
    "    session.commit()\n",
    "    data = result.scalar()\n",
    "    print(data)"
   ]
  },
  {
   "cell_type": "markdown",
   "id": "8ad2a18f-13f1-499a-87bd-41f951cb576e",
   "metadata": {},
   "source": [
    "***\n",
    "### Inserção em lote\n",
    "***"
   ]
  },
  {
   "cell_type": "code",
   "execution_count": 8,
   "id": "532c5df3-5727-4231-a78f-0ee84ade4ce8",
   "metadata": {
    "tags": []
   },
   "outputs": [
    {
     "name": "stdout",
     "output_type": "stream",
     "text": [
      "1\n"
     ]
    }
   ],
   "source": [
    "from sqlalchemy import insert\n",
    "\n",
    "with Session() as session:\n",
    "    new_order = insert(Order).values(user_id=3366).returning(Order.order_id)\n",
    "    result = session.execute(new_order)\n",
    "    session.commit()\n",
    "    order_id = result.scalar()\n",
    "    print(order_id)"
   ]
  },
  {
   "cell_type": "code",
   "execution_count": 9,
   "id": "6f1e607a-8b59-42f2-99c4-e913b30dce8a",
   "metadata": {
    "tags": []
   },
   "outputs": [
    {
     "name": "stdout",
     "output_type": "stream",
     "text": [
      "[{'product_id': 1, 'quantity': 2197}, {'product_id': 2, 'quantity': 8792}, {'product_id': 3, 'quantity': 5045}, {'product_id': 4, 'quantity': 2785}, {'product_id': 5, 'quantity': 2069}, {'product_id': 6, 'quantity': 8777}, {'product_id': 7, 'quantity': 3088}, {'product_id': 8, 'quantity': 8842}, {'product_id': 9, 'quantity': 8243}, {'product_id': 10, 'quantity': 7965}]\n"
     ]
    }
   ],
   "source": [
    "from sqlalchemy import insert, bindparam\n",
    "\n",
    "with Session() as session:\n",
    "    products = [\n",
    "        dict(\n",
    "            title=fake.word(),\n",
    "            description=fake.sentence(),\n",
    "            price=fake.pyfloat(left_digits=3, right_digits=2, positive=True)\n",
    "        ) for _ in range(10)\n",
    "    ]\n",
    "    stmt = insert(Product).values(\n",
    "        title=bindparam('title'),  # Use bindparam for batch insertion\n",
    "        description=bindparam('description'),\n",
    "        price=bindparam('price')\n",
    "    ).returning(Product)\n",
    "    result = session.execute(stmt, products)\n",
    "    session.commit()\n",
    "    data = result.scalars().all()\n",
    "    products = [\n",
    "        dict(\n",
    "            product_id=product.product_id,  # Use existing product IDs\n",
    "            quantity=fake.pyint()  # Generate random quantities using Faker\n",
    "        ) for product in data\n",
    "    ]\n",
    "    print(products)"
   ]
  },
  {
   "cell_type": "code",
   "execution_count": 10,
   "id": "a73204b0-fc9d-4f45-acbc-818d640c778e",
   "metadata": {
    "tags": []
   },
   "outputs": [],
   "source": [
    "from sqlalchemy import insert\n",
    "\n",
    "with Session() as session:\n",
    "    stmt = insert(OrderProducts).values(\n",
    "        order_id=order_id,  # Set the order_id\n",
    "        product_id=bindparam('product_id'),  # Use bindparam for batch insertion\n",
    "        quantity=bindparam('quantity')\n",
    "    )\n",
    "    session.execute(stmt, products)\n",
    "    session.commit()"
   ]
  },
  {
   "cell_type": "code",
   "execution_count": 14,
   "id": "69e0a884-e136-460f-91d5-6744b243dd22",
   "metadata": {
    "tags": []
   },
   "outputs": [
    {
     "name": "stdout",
     "output_type": "stream",
     "text": [
      "Order ID 1\n",
      "Produto: safe\n",
      "Produto: debate\n",
      "Produto: chance\n",
      "Produto: learn\n",
      "Produto: soon\n",
      "Produto: challenge\n",
      "Produto: statement\n",
      "Produto: support\n",
      "Produto: relate\n",
      "Produto: identify\n"
     ]
    }
   ],
   "source": [
    "from sqlalchemy import select\n",
    "\n",
    "with Session() as session:\n",
    "    stmt = select(Order).where(Order.order_id == order_id)\n",
    "    result = session.execute(stmt)\n",
    "    order_info = result.scalars().first()\n",
    "    print(f\"Order ID {order_info.order_id}\")\n",
    "    for order_product in order_info.products:\n",
    "        print(\"Produto:\", order_product.product.title)"
   ]
  }
 ],
 "metadata": {
  "kernelspec": {
   "display_name": "Python 3 (ipykernel)",
   "language": "python",
   "name": "python3"
  },
  "language_info": {
   "codemirror_mode": {
    "name": "ipython",
    "version": 3
   },
   "file_extension": ".py",
   "mimetype": "text/x-python",
   "name": "python",
   "nbconvert_exporter": "python",
   "pygments_lexer": "ipython3",
   "version": "3.11.6"
  }
 },
 "nbformat": 4,
 "nbformat_minor": 5
}
