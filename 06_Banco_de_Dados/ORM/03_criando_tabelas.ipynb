{
 "cells": [
  {
   "cell_type": "markdown",
   "id": "c7a0b7e2-a852-4230-aeff-094255cdae9b",
   "metadata": {},
   "source": [
    "## Criando tabelas\n",
    "***\n",
    "\n",
    "Então já sabe como criar tabelas em SQL, agora pode utilizar o SQLAlchemy para as criar. Se não estiver familiarizado com a programação orientada a objectos (OOP) nesta altura, terá de a aprender primeiro, uma vez que iremos utilizar o Mapeamento Objeto-Relacional (ORM) para criar tabelas.\n",
    "\n",
    "O SQLAlchemy é um poderoso Mapeador Objeto-Relacional (ORM) para Python, que permite que você interaja com seu banco de dados usando objetos e classes Python em vez de escrever consultas SQL brutas. O ORM fornece uma camada de abstração de alto nível sobre o SQL, facilitando o trabalho com bancos de dados de uma maneira mais pythonica, enquanto ainda aproveita todo o poder do SQL.\n",
    "\n",
    "Basicamente, você terá acesso às tabelas da sua base de dados como se fossem objectos Python, e às colunas das tabelas como se fossem atributos desses objectos.\n",
    "\n",
    "A ideia central por detrás do ORM é mapear as tabelas da base de dados para classes Python, e as linhas das tabelas para instâncias de classes (objetos). Desta forma, será possível efetuar operações na base de dados utilizando conceitos de programação orientada a objetos, como a herança, as associações e o encapsulamento."
   ]
  },
  {
   "cell_type": "code",
   "execution_count": 1,
   "id": "ddefed17-06f6-4499-8e56-acca8871a719",
   "metadata": {
    "tags": []
   },
   "outputs": [],
   "source": [
    "from sqlalchemy import create_engine, URL\n",
    "from sqlalchemy.orm import sessionmaker\n",
    "url = URL.create(\n",
    "    drivername=\"postgresql+psycopg2\",  # driver name = postgresql + the library we are using (psycopg2)\n",
    "    username='notebook',\n",
    "    password='notebook',\n",
    "    host='postgres',\n",
    "    database='notebook',\n",
    "    port=5432\n",
    ")\n",
    "engine = create_engine(url, pool_size=10, max_overflow=20, pool_recycle=3600)\n",
    "Session = sessionmaker(bind=engine)"
   ]
  },
  {
   "cell_type": "markdown",
   "id": "ccdadf21-f11d-416d-bce2-15c76d1c6fc6",
   "metadata": {},
   "source": [
    "Para mapear nossas classes Python para tabelas de banco de dados, usaremos o sistema Declarativo do SQLAlchemy.\n",
    "\n",
    "Para começar a criar tabelas, é necessário herdar uma classe base específica do SQLAlchemy, para que o SQLAlchemy saiba como mapear os resultados das suas consultas para objectos Python.\n",
    "\n",
    "Essa classe é chamada de base declarativa e é criada assim:\n",
    "\n",
    "```py\n",
    "from sqlalchemy.orm import DeclarativeBase\n",
    "\n",
    "class Base(DeclarativeBase):\n",
    "    pass\n",
    "```\n",
    "\n",
    "Agora podes começar a criar tabelas como classes Python.\n",
    "\n",
    "Lembra-se de como criámos a tabela de utilizadores em SQL?\n",
    "\n",
    "```sql\n",
    "CREATE TABLE users IF NOT EXISTS (\n",
    "    telegram_id   BIGINT PRIMARY KEY,\n",
    "    full_name     VARCHAR(255) NOT NULL,\n",
    "    username      VARCHAR(255),\n",
    "    language_code VARCHAR(255) NOT NULL,\n",
    "    created_at    TIMESTAMP DEFAULT NOW(),\n",
    "    referrer_id   BIGINT,\n",
    "    FOREIGN KEY (referrer_id)\n",
    "        REFERENCES users (telegram_id)\n",
    "        ON DELETE SET NULL\n",
    ");\n",
    "```\n",
    "\n",
    "Vamos seguir o seguinte passo a passo:\n",
    "\n",
    "1. Para **criar uma tabela** no SQLAlchemy, é necessário criar uma classe que herda da base declarativa.\n",
    "\n",
    "2. Para **criar colunas** na tabela, é necessário criar novos atributos e atribuir-lhes a classe `Column`. Desde a versão 2.0, é possível utilizar a função `mapped_column` para criar colunas e as anotações de tipo mapeado para definir os tipos de colunas.\n",
    "\n",
    "3. Para utilizar **tipos de dados SQL**, tem de importar objectos específicos do módulo `sqlalchemy`. Estes objectos têm normalmente os mesmos nomes. Exemplos: `BIGINT`, `VARCHAR`, `TIMESTAMP`.\n",
    "\n",
    "4. Para criar uma **chave primária**, é necessário passar o argumento `primary_key` para a coluna.\n",
    "\n",
    "5. Para criar uma **restrição não nula**, é necessário passar o argumento `nullable` para a coluna.\n",
    "\n",
    "6. Para criar um **valor default**, é necessário passar o argumento `server_default` à coluna.\n",
    "\n",
    "7. Para criar uma **chave estrangeira**, é necessário passar o argumento `ForeignKey` para a coluna e preencher os seus argumentos.\n",
    "\n",
    "8. Para utilizar expressões SQL do SQLAlchemy, pode utilizar o módulo `sqlalchemy.sql.expression`. Por exemplo, pode utilizar `null()` ou `false()` para criar um valor padrão NULL ou FALSE para uma coluna.\n",
    "\n",
    "9. Para utilizar **funções do SQL** no SQLAlchemy, pode utilizar o módulo `sqlalchemy.func`. Por exemplo, pode utilizar `func.now()` para criar um valor NOW() por defeito para uma coluna.\n",
    "\n",
    "10. Para **dar um nome a uma tabela**, é necessário especificar sempre o atributo `__tablename__`."
   ]
  },
  {
   "cell_type": "code",
   "execution_count": 2,
   "id": "f0ed49b8-1e47-41d8-93f3-7e3cd601c5e8",
   "metadata": {
    "tags": []
   },
   "outputs": [],
   "source": [
    "from sqlalchemy import INTEGER\n",
    "from sqlalchemy.orm import DeclarativeBase\n",
    "\n",
    "\n",
    "class Base(DeclarativeBase):\n",
    "    pass"
   ]
  },
  {
   "cell_type": "markdown",
   "id": "c1f5056a-7edc-4482-843a-4f8584aaf638",
   "metadata": {},
   "source": [
    "Depois disso, declaramos as colunas que compõem cada tabela.\n",
    "\n",
    "Estas colunas são declaradas utilizando uma anotação de tipagem especial chamada `Mapped`. O tipo de dados Python associado a cada anotação Mapped determina o tipo de dados SQL correspondente, por exemplo, `int` para `INTEGER` ou `str` para `VARCHAR`. A **nulidade** é baseada na utilização ou não do modificador de tipo `Optional[]`, mas também pode ser especificada explicitamente utilizando o `parâmetro nullable`.\n",
    "\n",
    "A diretiva `mapped_column()` é aplicada a atributos baseados em colunas, permitindo que o SQLAlchemy manipule propriedades de coluna, como valores padrão, restrições de chave primária e restrições de chave estrangeira. Toda classe mapeada pelo ORM deve ter pelo menos uma coluna declarada como chave primária. No nosso exemplo, `User.telegram_id` é marcado como a chave primária definindo `primary_key=True`."
   ]
  },
  {
   "cell_type": "code",
   "execution_count": 3,
   "id": "1421c6c6-0149-433e-8139-f2a9ecf5cd62",
   "metadata": {
    "tags": []
   },
   "outputs": [],
   "source": [
    "import datetime\n",
    "from typing import Optional\n",
    "from sqlalchemy.dialects.postgresql import TIMESTAMP\n",
    "from sqlalchemy.sql.functions import func\n",
    "from sqlalchemy.orm import Mapped, mapped_column\n",
    "from sqlalchemy import ForeignKey, BIGINT, VARCHAR, String\n",
    "\n",
    "class TimestampMixin:\n",
    "    created_at: Mapped[datetime] = mapped_column(TIMESTAMP, server_default=func.now())\n",
    "    updated_at: Mapped[datetime] = mapped_column(TIMESTAMP, server_default=func.now(), onupdate=func.now())\n",
    "\n",
    "\n",
    "class User(Base, TimestampMixin):\n",
    "    \"\"\"\n",
    "    Classe de usuário no banco de dados\n",
    "    \"\"\"\n",
    "\n",
    "    __tablename__ = \"users\"\n",
    "\n",
    "    telegram_id: Mapped[int] = mapped_column(BIGINT, primary_key=True)\n",
    "    full_name: Mapped[str] = mapped_column(VARCHAR(255))\n",
    "    username: Mapped[Optional[str]] = mapped_column(VARCHAR(255), nullable=True)\n",
    "    language_code: Mapped[str] = mapped_column(VARCHAR(255))\n",
    "    created_at: Mapped[datetime] = mapped_column(TIMESTAMP, server_default=func.now())\n",
    "    referrer_id: Mapped[Optional[int]] = mapped_column(BIGINT, ForeignKey('users.telegram_id', ondelete='SET NULL'))"
   ]
  },
  {
   "cell_type": "markdown",
   "id": "cd5d0580-dd74-42d4-b701-3ecabcd49247",
   "metadata": {},
   "source": [
    "Vamos criar as outras tabelas"
   ]
  },
  {
   "cell_type": "code",
   "execution_count": 4,
   "id": "42050a21-3411-447d-bf5d-0d2a7a9adf76",
   "metadata": {
    "tags": []
   },
   "outputs": [],
   "source": [
    "class Orders(Base, TimestampMixin):\n",
    "    \"\"\"\n",
    "    Tabela de pedidos\n",
    "    \"\"\"\n",
    "\n",
    "    __tablename__ = \"orders\"\n",
    "\n",
    "    order_id: Mapped[int] = mapped_column(INTEGER, primary_key=True)\n",
    "    user_id: Mapped[int] = mapped_column(BIGINT, ForeignKey(\"users.telegram_id\", ondelete=\"CASCADE\"))"
   ]
  },
  {
   "cell_type": "markdown",
   "id": "7154f167-ecf7-45d1-b585-ad38c2c49c83",
   "metadata": {},
   "source": [
    "```sql\n",
    "CREATE TABLE orders (\n",
    "    order_id   SERIAL PRIMARY KEY,\n",
    "    user_id    BIGINT NOT NULL,\n",
    "    created_at TIMESTAMP DEFAULT NOW(),\n",
    "    FOREIGN KEY (user_id)\n",
    "        REFERENCES users (telegram_id)\n",
    "        ON DELETE CASCADE\n",
    ");\n",
    "```"
   ]
  },
  {
   "cell_type": "code",
   "execution_count": 5,
   "id": "7d74eaf8-b297-4484-92f2-d6c6c0f04fe2",
   "metadata": {
    "tags": []
   },
   "outputs": [],
   "source": [
    "class Products(Base, TimestampMixin):\n",
    "    \"\"\"\n",
    "    Tabela de produtos\n",
    "    \"\"\"\n",
    "    \n",
    "    __tablename__ = \"products\"\n",
    "\n",
    "    product_id: Mapped[int] = mapped_column(INTEGER, primary_key=True)\n",
    "    title: Mapped[str] = mapped_column(String(255))\n",
    "    description: Mapped[str]"
   ]
  },
  {
   "cell_type": "markdown",
   "id": "a3a3f9cc-e508-47a2-8edb-204e78e77cb3",
   "metadata": {},
   "source": [
    "```sql\n",
    "CREATE TABLE products (\n",
    "    product_id  SERIAL PRIMARY KEY,\n",
    "    title       VARCHAR(255) NOT NULL,\n",
    "    description TEXT,\n",
    "    created_at  TIMESTAMP DEFAULT NOW()\n",
    ");\n",
    "```"
   ]
  },
  {
   "cell_type": "code",
   "execution_count": 6,
   "id": "03fb4400-b4e4-4609-83ec-e2291bc49046",
   "metadata": {
    "tags": []
   },
   "outputs": [],
   "source": [
    "class OrderProducts(Base):\n",
    "    \"\"\"\n",
    "    Cria a tabela estrangeira do relacionamento entre pedido e produtos\n",
    "    \"\"\"\n",
    "    \n",
    "    __tablename__ = \"order-products\"\n",
    "\n",
    "    order_id: Mapped[int] = mapped_column(INTEGER, ForeignKey(\"orders.order_id\", ondelete=\"CASCADE\"), primary_key=True)\n",
    "    product_id: Mapped[int] = mapped_column(INTEGER, ForeignKey(\"products.product_id\", ondelete=\"RESTRICT\"), primary_key=True)\n",
    "    quantity: Mapped[int]"
   ]
  },
  {
   "cell_type": "markdown",
   "id": "1b4b8c9e-d6ad-42f9-836f-3015d45f4835",
   "metadata": {},
   "source": [
    "```sql\n",
    "CREATE TABLE order_products (\n",
    "    order_id   INTEGER NOT NULL,\n",
    "    product_id INTEGER NOT NULL,\n",
    "    quantity   INTEGER NOT NULL,\n",
    "    FOREIGN KEY (order_id)\n",
    "        REFERENCES orders (order_id)\n",
    "        ON DELETE CASCADE,\n",
    "    FOREIGN KEY (product_id)\n",
    "        REFERENCES products (product_id)\n",
    "        ON DELETE RESTRICT\n",
    ");\n",
    "```"
   ]
  },
  {
   "cell_type": "markdown",
   "id": "372e207d-8f9a-47e2-86e7-56ac5ccf5a2b",
   "metadata": {},
   "source": [
    "Acabámos de definir as tabelas, mas ainda não as criámos na base de dados.\n",
    "\n",
    "Embora NÃO SEJA RECOMENDADO, uma vez que gostariamos de acompanhar as alterações na base de dados, e acompanhar as alterações com o SQLAlchemy resume-se a escrevê-las como instruções SQL, o que não é conveniente, gostaria de lhe mostrar como criar as suas tabelas apenas com o SQLAlchemy. Mais tarde utilizaremos o [Alembic](https://alembic.sqlalchemy.org/en/latest/) para criar as tabelas por meio de migrações."
   ]
  },
  {
   "cell_type": "code",
   "execution_count": 7,
   "id": "38106ad4-c28d-488c-86da-1ac98bbdec0c",
   "metadata": {
    "tags": []
   },
   "outputs": [],
   "source": [
    "# Você pode deletar todas as tabelas com esse comando\n",
    "Base.metadata.drop_all(engine)\n",
    "\n",
    "# E recria-las com esse comando\n",
    "Base.metadata.create_all(engine)"
   ]
  }
 ],
 "metadata": {
  "kernelspec": {
   "display_name": "Python 3 (ipykernel)",
   "language": "python",
   "name": "python3"
  },
  "language_info": {
   "codemirror_mode": {
    "name": "ipython",
    "version": 3
   },
   "file_extension": ".py",
   "mimetype": "text/x-python",
   "name": "python",
   "nbconvert_exporter": "python",
   "pygments_lexer": "ipython3",
   "version": "3.11.6"
  }
 },
 "nbformat": 4,
 "nbformat_minor": 5
}
