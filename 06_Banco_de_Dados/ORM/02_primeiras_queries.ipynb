{
 "cells": [
  {
   "cell_type": "markdown",
   "id": "f85c05f2-4352-41fb-baab-4fd411abc805",
   "metadata": {},
   "source": [
    "## Primeiras Queries\n",
    "***\n",
    "\n",
    "Agora pode efetuar algumas outras consultas à base de dados.\n",
    "\n",
    "Podemos obter resultados de dados por diferentes métodos. Dependendo do método utilizado para obter os dados, o resultado pode ser diferente.\n",
    "\n",
    "* **execute()**: Este é um método que está presente nos objetos de conexão (Connection) e engine (Engine) que é utilizado para executar uma instrução SQL. O resultado é um objeto `ResultProxy`, que é um iterável python e representa o `cursor` da base de dados, fornecendo uma forma de obter as linhas (rows) do resultado.\n",
    "\n",
    "* **fetchall()**: Este é um método do objeto `ResultProxy`, que busca a próxima linha do conjunto de resultados e a retorna como uma tupla ou um objeto `RowProxy`. Se não houver mais linhas, ele retorna None.\n",
    "\n",
    "* **first()**: Este é outro método do objeto `ResultProxy`, vai buscar a primeira coluna da primeira linha do conjunto de resultados e devolve-a como um valor escalar python. Se não existirem linhas, devolve None.\n",
    "\n",
    "* **scalar()**: Este é outro método no objeto `ResultProxy`. Vai buscar a primeira coluna da primeira linha do conjunto de resultados e devolve um valor escalar python. Se não existirem linhas, devolve None.\n",
    "\n",
    "Então, no contexto de consultas SQL brutas, o “resultado” é tipicamente um objeto `ResultProxy` que fornece vários métodos para obter linhas do conjunto de resultados. As linhas podem ser buscadas todas de uma vez com `fetchall()`, uma de cada vez com `fetchone()`, ou você pode buscar um único valor com `scalar()`."
   ]
  },
  {
   "cell_type": "code",
   "execution_count": 1,
   "id": "0e226085-ff80-47d2-a7fb-1d3809e1864f",
   "metadata": {
    "tags": []
   },
   "outputs": [],
   "source": [
    "from sqlalchemy import create_engine, URL\n",
    "from sqlalchemy.orm import sessionmaker\n",
    "url = URL.create(\n",
    "    drivername=\"postgresql+psycopg2\",  # driver name = postgresql + the library we are using (psycopg2)\n",
    "    username='notebook',\n",
    "    password='notebook',\n",
    "    host='postgres',\n",
    "    database='notebook',\n",
    "    port=5432\n",
    ")\n",
    "engine = create_engine(url, pool_size=10, max_overflow=20, pool_recycle=3600)\n",
    "Session = sessionmaker(bind=engine)"
   ]
  },
  {
   "cell_type": "code",
   "execution_count": 2,
   "id": "de4c0703-d343-4d06-8146-f2e2c31d15cf",
   "metadata": {
    "tags": []
   },
   "outputs": [],
   "source": [
    "from sqlalchemy import text"
   ]
  },
  {
   "cell_type": "code",
   "execution_count": 3,
   "id": "d0b5e8bd-0eef-45b6-a947-d2b593cc01c0",
   "metadata": {
    "tags": []
   },
   "outputs": [
    {
     "name": "stdout",
     "output_type": "stream",
     "text": [
      "Resultado execute(): <sqlalchemy.engine.cursor.CursorResult object at 0x7fecc7a22c10>\n",
      "Resultado fetchall(): [(1, 'John Doe', 'johndoe', 'en', datetime.datetime(2024, 7, 25, 0, 26, 20, 871365), None), (2, 'Jane Doe', 'janedoe', 'en', datetime.datetime(2024, 7, 25, 0, 26, 20, 871365), 1)]\n",
      "Resultado fetchone(): (1, 'John Doe', 'johndoe', 'en', datetime.datetime(2024, 7, 25, 0, 26, 20, 871365), None)\n",
      "Resultado first(): (1, 'John Doe', 'johndoe', 'en', datetime.datetime(2024, 7, 25, 0, 26, 20, 871365), None)\n",
      "Resultado username scalar(): johndoe\n",
      "Resultado username scalar_one_or_none(): None\n"
     ]
    }
   ],
   "source": [
    "with Session() as session:\n",
    "    # execute result\n",
    "    result = session.execute(text(\"SELECT * FROM users\"))\n",
    "    print(f\"Resultado execute(): {result}\")\n",
    "\n",
    "    # fetchall result\n",
    "    result = session.execute(text(\"SELECT * FROM users\")).fetchall()\n",
    "    print(f\"Resultado fetchall(): {result}\")\n",
    "\n",
    "    # fetchone result\n",
    "    result = session.execute(text(\"SELECT * FROM users\")).fetchone()\n",
    "    print(f\"Resultado fetchone(): {result}\")\n",
    "\n",
    "    # first result\n",
    "    result = session.execute(text(\"SELECT * FROM users\")).first()\n",
    "    print(f\"Resultado first(): {result}\")\n",
    "\n",
    "    # scalar result\n",
    "    result = session.execute(text(\"SELECT username FROM users WHERE telegram_id = :telegram_id\"), {\"telegram_id\": 1}).scalar()\n",
    "    print(f\"Resultado username scalar(): {result}\")\n",
    "\n",
    "    # scalar one or none result\n",
    "    result = session.execute(text(\"SELECT username FROM users WHERE telegram_id = :telegram_id\"), {\"telegram_id\": 12345}).scalar_one_or_none()\n",
    "    print(f\"Resultado username scalar_one_or_none(): {result}\")"
   ]
  }
 ],
 "metadata": {
  "kernelspec": {
   "display_name": "Python 3 (ipykernel)",
   "language": "python",
   "name": "python3"
  },
  "language_info": {
   "codemirror_mode": {
    "name": "ipython",
    "version": 3
   },
   "file_extension": ".py",
   "mimetype": "text/x-python",
   "name": "python",
   "nbconvert_exporter": "python",
   "pygments_lexer": "ipython3",
   "version": "3.11.6"
  }
 },
 "nbformat": 4,
 "nbformat_minor": 5
}
