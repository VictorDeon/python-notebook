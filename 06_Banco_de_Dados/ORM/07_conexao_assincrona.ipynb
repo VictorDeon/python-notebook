{
 "cells": [
  {
   "cell_type": "markdown",
   "id": "6603e373-59b7-4540-9641-1b94dcd60e14",
   "metadata": {},
   "source": [
    "## SQLAlchemy assincrono\n",
    "***\n",
    "\n",
    "Do sincrono para o assincrono o que mais muda são as conexões, o resto é só colocar async e await nos locais corretos e tudo é basicamente a mesma coisa."
   ]
  },
  {
   "cell_type": "code",
   "execution_count": 1,
   "id": "b9b9bb0b-1657-43e4-8e3a-b5563c3bd934",
   "metadata": {
    "tags": []
   },
   "outputs": [],
   "source": [
    "from sqlalchemy.ext.asyncio import create_async_engine, async_sessionmaker, AsyncSession\n",
    "from sqlalchemy import URL\n",
    "\n",
    "url = URL.create(\n",
    "    drivername=\"postgresql+asyncpg\",\n",
    "    username='notebook',\n",
    "    password='notebook',\n",
    "    host='postgres',\n",
    "    database='notebook',\n",
    "    port=5432\n",
    ")\n",
    "engine = create_async_engine(url, pool_size=10, max_overflow=20, pool_recycle=3600)\n",
    "Session = async_sessionmaker(bind=engine)"
   ]
  },
  {
   "cell_type": "code",
   "execution_count": 2,
   "id": "7aa2425a-0973-4440-99f5-a8036bf11d83",
   "metadata": {
    "tags": []
   },
   "outputs": [],
   "source": [
    "from sqlalchemy import INTEGER\n",
    "from sqlalchemy.orm import DeclarativeBase\n",
    "\n",
    "\n",
    "class Base(DeclarativeBase):\n",
    "    pass"
   ]
  },
  {
   "cell_type": "code",
   "execution_count": 3,
   "id": "1860c556-9ae9-4d05-9dbb-79f037e837c4",
   "metadata": {
    "tags": []
   },
   "outputs": [],
   "source": [
    "import datetime\n",
    "from typing import Optional\n",
    "from sqlalchemy.dialects.postgresql import TIMESTAMP\n",
    "from sqlalchemy.sql.functions import func\n",
    "from sqlalchemy.orm import Mapped, mapped_column, relationship\n",
    "from sqlalchemy import ForeignKey, BIGINT, VARCHAR, String, DECIMAL\n",
    "\n",
    "class TimestampMixin:\n",
    "    created_at: Mapped[datetime] = mapped_column(TIMESTAMP, server_default=func.now())\n",
    "    updated_at: Mapped[datetime] = mapped_column(TIMESTAMP, server_default=func.now(), onupdate=func.now())\n",
    "\n",
    "\n",
    "class User(Base, TimestampMixin):\n",
    "    \"\"\"\n",
    "    Classe de usuário no banco de dados\n",
    "    \"\"\"\n",
    "\n",
    "    __tablename__ = \"users\"\n",
    "\n",
    "    telegram_id: Mapped[int] = mapped_column(BIGINT, primary_key=True)\n",
    "    full_name: Mapped[str] = mapped_column(VARCHAR(255))\n",
    "    username: Mapped[Optional[str]] = mapped_column(VARCHAR(255), nullable=True)\n",
    "    language_code: Mapped[str] = mapped_column(VARCHAR(255))\n",
    "    created_at: Mapped[datetime] = mapped_column(TIMESTAMP, server_default=func.now())\n",
    "    referrer_id: Mapped[Optional[int]] = mapped_column(BIGINT, ForeignKey('users.telegram_id', ondelete='SET NULL'))\n",
    "    orders: Mapped[list['Order']] = relationship(back_populates='user')\n",
    "    \n",
    "class Order(Base, TimestampMixin):\n",
    "    \"\"\"\n",
    "    Tabela de pedidos\n",
    "    \"\"\"\n",
    "\n",
    "    __tablename__ = \"orders\"\n",
    "\n",
    "    order_id: Mapped[int] = mapped_column(INTEGER, primary_key=True)\n",
    "    user_id: Mapped[int] = mapped_column(BIGINT, ForeignKey(\"users.telegram_id\", ondelete=\"CASCADE\"))\n",
    "    products: Mapped[list['OrderProducts']] = relationship()\n",
    "    user: Mapped['User'] = relationship(back_populates='orders')\n",
    "    \n",
    "class Product(Base, TimestampMixin):\n",
    "    \"\"\"\n",
    "    Tabela de produtos\n",
    "    \"\"\"\n",
    "    \n",
    "    __tablename__ = \"products\"\n",
    "\n",
    "    product_id: Mapped[int] = mapped_column(INTEGER, primary_key=True)\n",
    "    title: Mapped[str] = mapped_column(String(255))\n",
    "    description: Mapped[str]\n",
    "    price: Mapped[float] = mapped_column(DECIMAL(precision=16, scale=4))\n",
    "\n",
    "class OrderProducts(Base):\n",
    "    \"\"\"\n",
    "    Cria a tabela estrangeira do relacionamento entre pedido e produtos\n",
    "    \"\"\"\n",
    "    \n",
    "    __tablename__ = \"order-products\"\n",
    "\n",
    "    order_id: Mapped[int] = mapped_column(INTEGER, ForeignKey(\"orders.order_id\", ondelete=\"CASCADE\"), primary_key=True)\n",
    "    product_id: Mapped[int] = mapped_column(INTEGER, ForeignKey(\"products.product_id\", ondelete=\"RESTRICT\"), primary_key=True)\n",
    "    quantity: Mapped[int]\n",
    "    product: Mapped['Product'] = relationship()\n",
    "    \n",
    "# Você pode deletar todas as tabelas com esse comando\n",
    "async with engine.begin() as conn:\n",
    "    await conn.run_sync(Base.metadata.drop_all)\n",
    "\n",
    "# E recria-las com esse comando\n",
    "async with engine.begin() as conn:\n",
    "    await conn.run_sync(Base.metadata.create_all)\n",
    "    \n",
    "await engine.dispose()"
   ]
  },
  {
   "cell_type": "code",
   "execution_count": 4,
   "id": "10757ffb-5ff9-4abd-8968-5d12db4a63db",
   "metadata": {
    "tags": []
   },
   "outputs": [],
   "source": [
    "from faker import Faker\n",
    "fake = Faker()"
   ]
  },
  {
   "cell_type": "markdown",
   "id": "37a7decc-f305-4865-b658-278720cf4754",
   "metadata": {},
   "source": [
    "***\n",
    "### Realizando um CRUD básico\n",
    "***"
   ]
  },
  {
   "cell_type": "code",
   "execution_count": 5,
   "id": "bc46377c-b653-4708-8608-61c2c99a08a8",
   "metadata": {
    "tags": []
   },
   "outputs": [],
   "source": [
    "from sqlalchemy import insert, select, delete\n",
    "\n",
    "\n",
    "class Repo:\n",
    "    \"\"\"\n",
    "    Repositorio\n",
    "    \"\"\"\n",
    "\n",
    "    def __init__(self, session: AsyncSession):\n",
    "        \"\"\"\n",
    "        Construtor\n",
    "        \"\"\"\n",
    "\n",
    "        self.session = session\n",
    "        \n",
    "    async def add_user(\n",
    "        self,\n",
    "        telegram_id: int,\n",
    "        full_name: str,\n",
    "        language_code: str,\n",
    "        username: str = None,\n",
    "        referrer_id: int = None):\n",
    "        \"\"\"\n",
    "        Adicionando usuários\n",
    "        \"\"\"\n",
    "\n",
    "        stmt = insert(User).values(\n",
    "            telegram_id=telegram_id,\n",
    "            full_name=full_name,\n",
    "            username=username,\n",
    "            language_code=language_code,\n",
    "            referrer_id=referrer_id,\n",
    "        ).returning(User)\n",
    "        result = await self.session.execute(stmt)\n",
    "        await self.session.commit()\n",
    "        return result.scalars().first()\n",
    "\n",
    "    async def get_all_users(self):\n",
    "        \"\"\"\n",
    "        Listando usuários\n",
    "        \"\"\"\n",
    "\n",
    "        stmt = select(User)\n",
    "        result = await self.session.execute(stmt)\n",
    "        return result.scalars().all()\n",
    "\n",
    "    async def cleanup_users(self):\n",
    "        \"\"\"\n",
    "        Deletando usuários.\n",
    "        \"\"\"\n",
    "\n",
    "        stmt = delete(User)\n",
    "        await self.session.execute(stmt)\n",
    "        await self.session.commit()"
   ]
  },
  {
   "cell_type": "code",
   "execution_count": 6,
   "id": "29c5a4bb-df8a-441d-a23e-8a5c609c6dcd",
   "metadata": {
    "tags": []
   },
   "outputs": [
    {
     "name": "stdout",
     "output_type": "stream",
     "text": [
      "Phillip Stafford\n",
      "Tiffany Jones\n",
      "Whitney Miller\n",
      "Antonio Wells\n",
      "Stephanie Jones\n",
      "Ronald Wilson\n",
      "James Baker\n",
      "Alexis Carter\n",
      "John Butler\n",
      "Stephen Vaughn\n"
     ]
    }
   ],
   "source": [
    "from faker import Faker\n",
    "\n",
    "fake = Faker()\n",
    "\n",
    "async with Session() as session:\n",
    "    repo = Repo(session)\n",
    "    \n",
    "    await repo.cleanup_users()\n",
    "    \n",
    "    for _ in range(10):\n",
    "        await repo.add_user(\n",
    "            telegram_id=fake.pyint(),\n",
    "            full_name=fake.name(),\n",
    "            language_code=fake.language_code(),\n",
    "            username=fake.user_name(),\n",
    "        )\n",
    "        \n",
    "    for user in await repo.get_all_users():\n",
    "        print(user.full_name)\n"
   ]
  }
 ],
 "metadata": {
  "kernelspec": {
   "display_name": "Python 3 (ipykernel)",
   "language": "python",
   "name": "python3"
  },
  "language_info": {
   "codemirror_mode": {
    "name": "ipython",
    "version": 3
   },
   "file_extension": ".py",
   "mimetype": "text/x-python",
   "name": "python",
   "nbconvert_exporter": "python",
   "pygments_lexer": "ipython3",
   "version": "3.11.6"
  }
 },
 "nbformat": 4,
 "nbformat_minor": 5
}
