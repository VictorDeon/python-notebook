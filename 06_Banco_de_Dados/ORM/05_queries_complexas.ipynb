{
 "cells": [
  {
   "cell_type": "markdown",
   "id": "d6b455c5-91f9-4700-84b3-8047d09ef750",
   "metadata": {},
   "source": [
    "## Queries mais complexas com SQL Alchemy\n",
    "***\n",
    "\n",
    "Vamos primeiro realizar a conexão"
   ]
  },
  {
   "cell_type": "code",
   "execution_count": 1,
   "id": "30f56d6d-cec7-42ac-8690-3d9eac1e60ff",
   "metadata": {
    "tags": []
   },
   "outputs": [],
   "source": [
    "from sqlalchemy import create_engine, URL\n",
    "from sqlalchemy.orm import sessionmaker\n",
    "url = URL.create(\n",
    "    drivername=\"postgresql+psycopg2\",  # driver name = postgresql + the library we are using (psycopg2)\n",
    "    username='notebook',\n",
    "    password='notebook',\n",
    "    host='postgres',\n",
    "    database='notebook',\n",
    "    port=5432\n",
    ")\n",
    "engine = create_engine(url, pool_size=10, max_overflow=20, pool_recycle=3600)\n",
    "Session = sessionmaker(bind=engine)"
   ]
  },
  {
   "cell_type": "code",
   "execution_count": 2,
   "id": "800d95f0-8b03-462b-8745-f04e00ae132f",
   "metadata": {
    "tags": []
   },
   "outputs": [],
   "source": [
    "from sqlalchemy import INTEGER\n",
    "from sqlalchemy.orm import DeclarativeBase\n",
    "\n",
    "\n",
    "class Base(DeclarativeBase):\n",
    "    pass"
   ]
  },
  {
   "cell_type": "markdown",
   "id": "4f814114-0fae-4931-8744-b41b308fdeea",
   "metadata": {},
   "source": [
    "***\n",
    "### Estabelecendo relacionamentos em tabelas\n",
    "***\n",
    "\n",
    "Definir relações no SQLAlchemy ORM é um processo ligeiramente fácil de configurar atributos nas suas classes de mapeamento e estratégias de carregamento nas suas consultas.\n",
    "\n",
    "Recomendamos que você visite a documentação do SQLAlchemy. Em particular, verifique esta página para aprender sobre diferentes tipos de padrões de relacionamento, como um-para-um, muitos-para-um, um-para-muitos, muitos-para-muitos.\n",
    "\n",
    "Como este é um ambiente Jupyter Notebook, vamos redefinir nossas classes de mapeamento, mas no mundo real você pode simplesmente adicionar atributos e pronto. Vamos prosseguir."
   ]
  },
  {
   "cell_type": "code",
   "execution_count": 3,
   "id": "8f1b428c-97b6-4a88-8e68-c325313404a4",
   "metadata": {
    "tags": []
   },
   "outputs": [],
   "source": [
    "import datetime\n",
    "from typing import Optional\n",
    "from sqlalchemy.dialects.postgresql import TIMESTAMP\n",
    "from sqlalchemy.sql.functions import func\n",
    "from sqlalchemy.orm import Mapped, mapped_column, relationship\n",
    "from sqlalchemy import ForeignKey, BIGINT, VARCHAR, String, DECIMAL\n",
    "\n",
    "class TimestampMixin:\n",
    "    created_at: Mapped[datetime] = mapped_column(TIMESTAMP, server_default=func.now())\n",
    "    updated_at: Mapped[datetime] = mapped_column(TIMESTAMP, server_default=func.now(), onupdate=func.now())\n",
    "\n",
    "\n",
    "class User(Base, TimestampMixin):\n",
    "    \"\"\"\n",
    "    Classe de usuário no banco de dados\n",
    "    \"\"\"\n",
    "\n",
    "    __tablename__ = \"users\"\n",
    "\n",
    "    telegram_id: Mapped[int] = mapped_column(BIGINT, primary_key=True)\n",
    "    full_name: Mapped[str] = mapped_column(VARCHAR(255))\n",
    "    username: Mapped[Optional[str]] = mapped_column(VARCHAR(255), nullable=True)\n",
    "    language_code: Mapped[str] = mapped_column(VARCHAR(255))\n",
    "    created_at: Mapped[datetime] = mapped_column(TIMESTAMP, server_default=func.now())\n",
    "    referrer_id: Mapped[Optional[int]] = mapped_column(BIGINT, ForeignKey('users.telegram_id', ondelete='SET NULL'))\n",
    "    orders: Mapped[list['Order']] = relationship(back_populates='user')\n",
    "    \n",
    "class Order(Base, TimestampMixin):\n",
    "    \"\"\"\n",
    "    Tabela de pedidos\n",
    "    \"\"\"\n",
    "\n",
    "    __tablename__ = \"orders\"\n",
    "\n",
    "    order_id: Mapped[int] = mapped_column(INTEGER, primary_key=True)\n",
    "    user_id: Mapped[int] = mapped_column(BIGINT, ForeignKey(\"users.telegram_id\", ondelete=\"CASCADE\"))\n",
    "    products: Mapped[list['OrderProducts']] = relationship()\n",
    "    user: Mapped['User'] = relationship(back_populates='orders')\n",
    "    \n",
    "class Product(Base, TimestampMixin):\n",
    "    \"\"\"\n",
    "    Tabela de produtos\n",
    "    \"\"\"\n",
    "    \n",
    "    __tablename__ = \"products\"\n",
    "\n",
    "    product_id: Mapped[int] = mapped_column(INTEGER, primary_key=True)\n",
    "    title: Mapped[str] = mapped_column(String(255))\n",
    "    description: Mapped[str]\n",
    "    price: Mapped[float] = mapped_column(DECIMAL(precision=16, scale=4))\n",
    "\n",
    "class OrderProducts(Base):\n",
    "    \"\"\"\n",
    "    Cria a tabela estrangeira do relacionamento entre pedido e produtos\n",
    "    \"\"\"\n",
    "    \n",
    "    __tablename__ = \"order-products\"\n",
    "\n",
    "    order_id: Mapped[int] = mapped_column(INTEGER, ForeignKey(\"orders.order_id\", ondelete=\"CASCADE\"), primary_key=True)\n",
    "    product_id: Mapped[int] = mapped_column(INTEGER, ForeignKey(\"products.product_id\", ondelete=\"RESTRICT\"), primary_key=True)\n",
    "    quantity: Mapped[int]\n",
    "    product: Mapped['Product'] = relationship()\n",
    "    \n",
    "# Você pode deletar todas as tabelas com esse comando\n",
    "Base.metadata.drop_all(engine)\n",
    "\n",
    "# E recria-las com esse comando\n",
    "Base.metadata.create_all(engine)"
   ]
  },
  {
   "cell_type": "code",
   "execution_count": 4,
   "id": "2141d448-5bef-41a6-a437-b8f228ee94ee",
   "metadata": {
    "tags": []
   },
   "outputs": [],
   "source": [
    "from sqlalchemy.dialects.postgresql import insert\n",
    "from sqlalchemy import select\n",
    "\n",
    "\n",
    "class Repo:\n",
    "    \"\"\"\n",
    "    Repositorio\n",
    "    \"\"\"\n",
    "\n",
    "    def __init__(self, session: Session):\n",
    "        \"\"\"\n",
    "        Construtor.\n",
    "        \"\"\"\n",
    "    \n",
    "        self.session = session\n",
    "\n",
    "    def add_user(\n",
    "        self,\n",
    "        telegram_id: int,\n",
    "        full_name: str,\n",
    "        language_code: str,\n",
    "        username: str = None,\n",
    "        referrer_id: int = None,\n",
    "    ) -> User:\n",
    "        \"\"\"\n",
    "        Adiciona um usuário.\n",
    "        \"\"\"\n",
    "\n",
    "        insert_stmt = insert(\n",
    "            User,\n",
    "        ).values(\n",
    "            telegram_id=telegram_id,\n",
    "            full_name=full_name,\n",
    "            language_code=language_code,\n",
    "            username=username,\n",
    "            referrer_id=referrer_id,\n",
    "        ).on_conflict_do_update(\n",
    "            index_elements=[User.telegram_id],\n",
    "            set_=dict(\n",
    "                username=username,\n",
    "                full_name=full_name,\n",
    "            ),\n",
    "        ).returning(User)\n",
    "        stmt = select(User).from_statement(insert_stmt)\n",
    "        result = self.session.scalars(stmt)\n",
    "        self.session.commit()\n",
    "        return result.first()\n",
    "\n",
    "    def add_order(self, user_id: int) -> Order:\n",
    "        \"\"\"\n",
    "        Adicionar um pedido\n",
    "        \"\"\"\n",
    "\n",
    "        stmt = select(Order).from_statement(\n",
    "            insert(Order).values(user_id=user_id).returning(Order),\n",
    "        )\n",
    "        result = self.session.scalars(stmt)\n",
    "        self.session.commit()\n",
    "        return result.first()\n",
    "\n",
    "    def add_product(self, title: str, description: str, price: int) -> Product:\n",
    "        \"\"\"\n",
    "        Adiciona um produto.\n",
    "        \"\"\"\n",
    "\n",
    "        stmt = select(Product).from_statement(\n",
    "            insert(Product)\n",
    "            .values(title=title, description=description, price=price)\n",
    "            .returning(Product),\n",
    "        )\n",
    "        result = self.session.scalars(stmt)\n",
    "        self.session.commit()\n",
    "        return result.first()\n",
    "\n",
    "    def add_order_product(self, order_id: int, product_id: int, quantity: int):\n",
    "        \"\"\"\n",
    "        Adiciona um produto em um pedido\n",
    "        \"\"\"\n",
    "\n",
    "        stmt = (\n",
    "            insert(OrderProducts)\n",
    "            .values(order_id=order_id, product_id=product_id, quantity=quantity)\n",
    "        )\n",
    "        self.session.execute(stmt)\n",
    "        self.session.commit()"
   ]
  },
  {
   "cell_type": "code",
   "execution_count": 5,
   "id": "fc1e16c4-afd4-4fe8-8f65-f65abf10bb1f",
   "metadata": {
    "tags": []
   },
   "outputs": [],
   "source": [
    "import random\n",
    "from faker import Faker\n",
    "\n",
    "\n",
    "def seed_fake_data(repo: Repo):\n",
    "    \"\"\"\n",
    "    Aqui podemos definir algo como uma chave aleatória.\n",
    "    Se passarmos a mesma semente todas as vezes, obteremos\n",
    "    a mesma sequência de dados aleatórios.\n",
    "    \n",
    "    Vamos predefinir as nossas matrizes de entidades falsas\n",
    "    para as podermos referenciar para criar relações e(ou) para\n",
    "    dar referrer_id a alguns utilizadores e assim por diante.\n",
    "    \"\"\"\n",
    "\n",
    "    Faker.seed(0)\n",
    "    fake = Faker()\n",
    "\n",
    "    users = []\n",
    "    orders = []\n",
    "    products = []\n",
    "\n",
    "    # add users\n",
    "    for _ in range(10):\n",
    "        referrer_id = None if not users else users[-1].telegram_id\n",
    "        user = repo.add_user(\n",
    "            telegram_id=fake.pyint(),\n",
    "            full_name=fake.name(),\n",
    "            language_code=fake.language_code(),\n",
    "            username=fake.user_name(),\n",
    "            referrer_id=referrer_id,\n",
    "        )\n",
    "        users.append(user)\n",
    "\n",
    "    # add orders\n",
    "    for _ in range(10):\n",
    "        order = repo.add_order(\n",
    "            user_id=random.choice(users).telegram_id,\n",
    "        )\n",
    "        orders.append(order)\n",
    "\n",
    "    # add products\n",
    "    for _ in range(10):\n",
    "        product = repo.add_product(\n",
    "            title=fake.word(),\n",
    "            description=fake.sentence(),\n",
    "            price=fake.pyint(),\n",
    "        )\n",
    "        products.append(product)\n",
    "\n",
    "    # add products to orders\n",
    "    for order in orders:\n",
    "        # Here we use `sample` function to get list of 3 unique products\n",
    "        for product in random.sample(products, 3):\n",
    "            repo.add_order_product(\n",
    "                order_id=order.order_id,\n",
    "                product_id=product.product_id,\n",
    "                quantity=fake.pyint(),\n",
    "            )"
   ]
  },
  {
   "cell_type": "code",
   "execution_count": 6,
   "id": "e1d2f86a-2a8a-4606-864a-181a6b3754ea",
   "metadata": {
    "tags": []
   },
   "outputs": [],
   "source": [
    "# Vamos popular nosso banco de dados\n",
    "with Session() as session:\n",
    "    repo = Repo(session)\n",
    "    seed_fake_data(repo)"
   ]
  },
  {
   "cell_type": "markdown",
   "id": "37c917df-9df7-45ce-8e4b-c67bb2e14b24",
   "metadata": {},
   "source": [
    "***\n",
    "### Vamos começar as queries\n",
    "***"
   ]
  },
  {
   "cell_type": "code",
   "execution_count": 7,
   "id": "f8f9c4da-cd60-4994-be79-37bf2ea527d1",
   "metadata": {
    "tags": []
   },
   "outputs": [
    {
     "name": "stdout",
     "output_type": "stream",
     "text": [
      "Samantha Cook\n"
     ]
    }
   ],
   "source": [
    "from sqlalchemy import select\n",
    "\n",
    "# Vamos realizar uma consulta pelo id\n",
    "with Session() as session:\n",
    "    stmt = select(User).where(User.telegram_id == 18)\n",
    "    result = session.execute(stmt)\n",
    "    data = result.scalars().first()\n",
    "    print(data.full_name)"
   ]
  },
  {
   "cell_type": "code",
   "execution_count": 8,
   "id": "bc7c7735-584f-4319-9243-a801800cb163",
   "metadata": {
    "tags": []
   },
   "outputs": [
    {
     "name": "stdout",
     "output_type": "stream",
     "text": [
      "['Jennifer Green', 'Heather Snow', 'Ms. Michele Guzman', 'Heather Stewart', 'Robert Dunn', 'Samantha Cook', 'Brenda Daniels', 'Juan Mann', 'Donna Davis', 'Amanda Zavala']\n"
     ]
    }
   ],
   "source": [
    "from sqlalchemy import select\n",
    "\n",
    "# Vamos pegar todos os usuários\n",
    "with Session() as session:\n",
    "    stmt = select(User)\n",
    "    result = session.execute(stmt)\n",
    "    data = result.scalars().all()\n",
    "    print([user.full_name for user in data])"
   ]
  },
  {
   "cell_type": "code",
   "execution_count": 9,
   "id": "0554a065-c0f4-4148-b320-2ad8a68a47dd",
   "metadata": {
    "tags": []
   },
   "outputs": [
    {
     "name": "stdout",
     "output_type": "stream",
     "text": [
      "['Jennifer Green']\n"
     ]
    }
   ],
   "source": [
    "from sqlalchemy import select, or_\n",
    "\n",
    "# Vamos realizar uma query para buscar todos os usuário um pouco mais avançada\n",
    "with Session() as session:\n",
    "    stmt = select(\n",
    "        User,\n",
    "    ).where(\n",
    "        # A sintaxe das cláusulas OR é apenas explícita, ao contrário da cláusula AND.\n",
    "        # É possível passar cada argumento da instrução OR como argumentos para\n",
    "        # a função `sqlalchemy.or_`, como no exemplo abaixo\n",
    "        or_(\n",
    "            User.language_code == 'ro',\n",
    "            User.language_code == 'uk',\n",
    "        ),\n",
    "        # Cada argumento que você passa para o método `where` do objeto Select\n",
    "        # é considerado como um argumento da instrução AND\n",
    "        User.username.ilike('%ysu%'),\n",
    "    ).order_by(\n",
    "        User.created_at.desc(),\n",
    "    ).limit(\n",
    "        10,\n",
    "    ).having(\n",
    "        User.telegram_id > 0,\n",
    "    ).group_by(\n",
    "        User.telegram_id,\n",
    "    )\n",
    "    result = session.execute(stmt)\n",
    "    data = result.scalars().all()\n",
    "    print([user.full_name for user in data])"
   ]
  },
  {
   "cell_type": "markdown",
   "id": "b6802f15-dadd-41eb-9276-7a3e57d382ed",
   "metadata": {},
   "source": [
    "**!!!IMPORTANTE!!!** Observe a declaração de importação no início desta célula. Os métodos `.returning(...)` e `.on_conflict_do_nothing()` (assim como `.on_conflict_do_update(...)`) não são acessíveis utilizando o construtor básico `sqlalchemy.insert`. Estas são partes do dialeto do PostgreSQL.  O que estamos tentando alcançar? Nós queremos INSERIR o usuário toda vez e SELECIONÁ-LO se nenhum conflito ocorrer (no lado do banco de dados). E, se houver um conflito, fazer UPDATE e só depois um SELECT na linha atualizada."
   ]
  },
  {
   "cell_type": "code",
   "execution_count": 10,
   "id": "8abb7d1e-f72e-4f78-bedf-73d53b69ec14",
   "metadata": {
    "tags": []
   },
   "outputs": [
    {
     "name": "stdout",
     "output_type": "stream",
     "text": [
      "['Jennifer Green']\n"
     ]
    }
   ],
   "source": [
    "from sqlalchemy.dialects.postgresql import insert\n",
    "from sqlalchemy import select, or_\n",
    "\n",
    "# Vamos combinar tudo que vimos em uma única query\n",
    "with Session() as session:\n",
    "    insert_stmt = insert(\n",
    "        User,\n",
    "    ).values(\n",
    "        telegram_id=2,\n",
    "        full_name='Juan Perez',\n",
    "        language_code='es',\n",
    "        username='juanpe',\n",
    "        referrer_id=None,\n",
    "    # Aqui estamos a utilizar um novo método que representa a instrução\n",
    "    # RETURNING em SQL puro (particularmente a sintaxe do PostgreSQL)\n",
    "    ).returning(\n",
    "        User,\n",
    "    # Além disso, outro método que utiliza a instrução bruta do PostgreSQL,\n",
    "    # como ON CONFLICT DO. Nesse caso, estamos utilizando ON CONFLICT DO UPDATE,\n",
    "    # mas ON CONFLICT DO NOTHING também é possível utilizando o método `.on_conflict_do_nothing()`.\n",
    "    ).on_conflict_do_update(\n",
    "        # O argumento `index_elements` refere-se a um conjunto de entidades utilizadas\n",
    "        # para distinguir os registos uns dos outros\n",
    "        index_elements=[User.telegram_id],\n",
    "        # Argumento `set_` (adicionamos sublinhado no final porque `set` é um nome\n",
    "        # reservado em python, não o podemos utilizar como chave) utilizado para definir\n",
    "        # quais as colunas que pretende atualizar em caso de conflito. Quase idêntico ao\n",
    "        # uso do método `.values()`\n",
    "        set_=dict(\n",
    "            username='juanpe',\n",
    "            full_name='Juan Perez',\n",
    "        ),\n",
    "    )\n",
    "    # E aqui estamos a declarar que queremos realizar um SELECT\n",
    "    # na entidade da nossa declaração INSERT.\n",
    "    stmt = select(User).from_statement(insert_stmt)\n",
    "    # Além disso, aqui está outra maneira de executar sua declaração e recuperar dados.\n",
    "    # Você pode usar `session.scalars(stmt)` em vez de `session.execute(stmt).scalars()`\n",
    "    result = session.scalars(stmt).first()\n",
    "    session.commit()\n",
    "    print([user.full_name for user in data])"
   ]
  },
  {
   "cell_type": "markdown",
   "id": "cc41138f-8b5c-4c24-9976-a2d7af4f6277",
   "metadata": {},
   "source": [
    "***\n",
    "### Consultas ORM JOIN (INNER, OUTER)\n",
    "***\n",
    "\n",
    "Vamos criar um método para obter todos os usuário convidados (referrer_id IS NOT NULL)"
   ]
  },
  {
   "cell_type": "code",
   "execution_count": 11,
   "id": "32738903-1de4-4fd7-8224-efea1e3b269a",
   "metadata": {
    "tags": []
   },
   "outputs": [
    {
     "name": "stdout",
     "output_type": "stream",
     "text": [
      "Parent: Jennifer Green, Referral: Heather Snow\n",
      "Parent: Heather Snow, Referral: Ms. Michele Guzman\n",
      "Parent: Ms. Michele Guzman, Referral: Heather Stewart\n",
      "Parent: Heather Stewart, Referral: Robert Dunn\n",
      "Parent: Robert Dunn, Referral: Samantha Cook\n",
      "Parent: Samantha Cook, Referral: Brenda Daniels\n",
      "Parent: Brenda Daniels, Referral: Juan Mann\n",
      "Parent: Juan Mann, Referral: Donna Davis\n",
      "Parent: Donna Davis, Referral: Amanda Zavala\n"
     ]
    }
   ],
   "source": [
    "from sqlalchemy.orm import aliased\n",
    "from sqlalchemy import select\n",
    "\n",
    "with Session() as session:\n",
    "    ParentUser = aliased(User)\n",
    "    ReferralUser = aliased(User)\n",
    "    \n",
    "    stmt = (\n",
    "        select(\n",
    "            ParentUser.full_name.label('parent_name'),\n",
    "            ReferralUser.full_name.label('referral_name'),\n",
    "        ).join(\n",
    "            ReferralUser, ReferralUser.referrer_id == ParentUser.telegram_id,\n",
    "        )\n",
    "    )\n",
    "    result = session.execute(stmt)\n",
    "    data = result.all()\n",
    "    for row in data:\n",
    "        print(f'Parent: {row.parent_name}, Referral: {row.referral_name}')"
   ]
  },
  {
   "cell_type": "markdown",
   "id": "6813ed00-3012-4b96-b19f-5a370e9461a3",
   "metadata": {},
   "source": [
    "***\n",
    "### Consultas Select avançadas com Joins no SQLAlchemy ORM\n",
    "***"
   ]
  },
  {
   "cell_type": "code",
   "execution_count": 12,
   "id": "81bbc424-d9eb-451e-a3ab-9d316b9a2925",
   "metadata": {
    "tags": []
   },
   "outputs": [
    {
     "name": "stdout",
     "output_type": "stream",
     "text": [
      "User: Jennifer Green (6311)\n",
      "User: Heather Snow (4969)\n",
      "User: Ms. Michele Guzman (4104)\n",
      "\tOrder: 2\n",
      "\t\tProduct: sometimes\n",
      "\t\tProduct: benefit\n",
      "\t\tProduct: blood\n",
      "\tOrder: 3\n",
      "\t\tProduct: develop\n",
      "\t\tProduct: play\n",
      "\t\tProduct: blood\n",
      "\tOrder: 9\n",
      "\t\tProduct: play\n",
      "\t\tProduct: go\n",
      "\t\tProduct: develop\n",
      "User: Heather Stewart (7735)\n",
      "\tOrder: 8\n",
      "\t\tProduct: blood\n",
      "\t\tProduct: play\n",
      "\t\tProduct: develop\n",
      "User: Robert Dunn (8541)\n",
      "\tOrder: 5\n",
      "\t\tProduct: available\n",
      "\t\tProduct: particularly\n",
      "\t\tProduct: benefit\n",
      "\tOrder: 6\n",
      "\t\tProduct: result\n",
      "\t\tProduct: go\n",
      "\t\tProduct: sometimes\n",
      "User: Samantha Cook (18)\n",
      "User: Brenda Daniels (3909)\n",
      "\tOrder: 1\n",
      "\t\tProduct: particularly\n",
      "\t\tProduct: develop\n",
      "\t\tProduct: available\n",
      "\tOrder: 4\n",
      "\t\tProduct: develop\n",
      "\t\tProduct: result\n",
      "\t\tProduct: particularly\n",
      "User: Juan Mann (8016)\n",
      "User: Donna Davis (9882)\n",
      "User: Amanda Zavala (3102)\n",
      "\tOrder: 7\n",
      "\t\tProduct: play\n",
      "\t\tProduct: particularly\n",
      "\t\tProduct: blood\n",
      "\tOrder: 10\n",
      "\t\tProduct: sometimes\n",
      "\t\tProduct: benefit\n",
      "\t\tProduct: develop\n",
      "User: Juan Perez (2)\n"
     ]
    }
   ],
   "source": [
    "from sqlalchemy import select\n",
    "\n",
    "with Session() as session:\n",
    "    stmt = select(User)\n",
    "    result = session.execute(stmt)\n",
    "    data = result.scalars().all()\n",
    "    for user in data:\n",
    "        print(f'User: {user.full_name} ({user.telegram_id})')\n",
    "        for order in user.orders:\n",
    "            print(f'\\tOrder: {order.order_id}')\n",
    "            for product_association in order.products:\n",
    "                print(f'\\t\\tProduct: {product_association.product.title}')"
   ]
  },
  {
   "cell_type": "markdown",
   "id": "5a8c55f7-6c6c-42c0-9173-6b2d6bc927a9",
   "metadata": {},
   "source": [
    "A partir do resultado da célula acima, podemos ver que funciona, mas executa muitas instruções, pelo que não foram utilizados JOINs. É uma maneira muito ineficaz.\n",
    "\n",
    "Vamos fazer a declaração real com joins e relacionamentos SQLAlchemy!"
   ]
  },
  {
   "cell_type": "code",
   "execution_count": 13,
   "id": "bae8c2bd-2bbe-40fb-9601-8ecd631a4158",
   "metadata": {
    "tags": []
   },
   "outputs": [
    {
     "name": "stdout",
     "output_type": "stream",
     "text": [
      "Order: 2 - Ms. Michele Guzman\n",
      "Order: 3 - Ms. Michele Guzman\n",
      "Order: 9 - Ms. Michele Guzman\n",
      "=============\n",
      "Order: 2 - Ms. Michele Guzman\n",
      "Order: 3 - Ms. Michele Guzman\n",
      "Order: 9 - Ms. Michele Guzman\n"
     ]
    }
   ],
   "source": [
    "from sqlalchemy import select\n",
    "\n",
    "with Session() as session:\n",
    "    stmt = select(Order, User).join(User.orders).where(User.telegram_id == 4104)\n",
    "    result = session.execute(stmt)\n",
    "    user_orders = result.all()\n",
    "    \n",
    "    for order, user in user_orders:\n",
    "        print(f'Order: {order.order_id} - {user.full_name}')\n",
    "    print('=============')\n",
    "    \n",
    "    for row in user_orders:\n",
    "        print(f'Order: {row.Order.order_id} - {row.User.full_name}')"
   ]
  },
  {
   "cell_type": "code",
   "execution_count": 14,
   "id": "e90d94c2-9315-418f-bdbe-fca5d9ca5c5d",
   "metadata": {
    "tags": []
   },
   "outputs": [
    {
     "name": "stdout",
     "output_type": "stream",
     "text": [
      "Order: 2 - Ms. Michele Guzman\n",
      "Order: 3 - Ms. Michele Guzman\n",
      "Order: 9 - Ms. Michele Guzman\n",
      "=============\n",
      "Order: 2 - Ms. Michele Guzman\n",
      "Order: 3 - Ms. Michele Guzman\n",
      "Order: 9 - Ms. Michele Guzman\n"
     ]
    }
   ],
   "source": [
    "from sqlalchemy import select\n",
    "\n",
    "# Nos dois exemplos seguintes, pode ver como acessar os seus dados quando não especificou apenas tabelas completas\n",
    "with Session() as session:\n",
    "    stmt = select(Order, User.full_name).join(User.orders).where(User.telegram_id == 4104)\n",
    "    result = session.execute(stmt)\n",
    "    user_orders = result.all()\n",
    "    \n",
    "    for order, full_name in user_orders:\n",
    "        print(f'Order: {order.order_id} - {full_name}')\n",
    "    print('=============')\n",
    "\n",
    "    for row in user_orders:\n",
    "        # Como pode ver, se especificarmos uma coluna em vez de uma tabela completa,\n",
    "        # podemos acessa-lo diretamente a partir da linha utilizando o nome da coluna\n",
    "        print(f'Order: {row.Order.order_id} - {row.full_name}')"
   ]
  },
  {
   "cell_type": "markdown",
   "id": "1bc6e073-0021-49c6-88ea-bff9d89199e8",
   "metadata": {},
   "source": [
    "Como se pode ver, temos apenas uma consulta executada e todas as orders do usuário especificado são retornadas.\n",
    "\n",
    "Vamos fazer algo mais avançado!"
   ]
  },
  {
   "cell_type": "code",
   "execution_count": 15,
   "id": "768a4a9c-4d11-448b-ac48-a10688d66df1",
   "metadata": {
    "tags": []
   },
   "outputs": [
    {
     "name": "stdout",
     "output_type": "stream",
     "text": [
      "#1 Product: sometimes (x 5608) Order: 2: Ms. Michele Guzman\n",
      "#7 Product: benefit (x 8674) Order: 2: Ms. Michele Guzman\n",
      "#10 Product: blood (x 4107) Order: 2: Ms. Michele Guzman\n",
      "#8 Product: develop (x 1920) Order: 3: Ms. Michele Guzman\n",
      "#6 Product: play (x 9777) Order: 3: Ms. Michele Guzman\n",
      "#10 Product: blood (x 7246) Order: 3: Ms. Michele Guzman\n",
      "#6 Product: play (x 5503) Order: 9: Ms. Michele Guzman\n",
      "#5 Product: go (x 748) Order: 9: Ms. Michele Guzman\n",
      "#8 Product: develop (x 8918) Order: 9: Ms. Michele Guzman\n"
     ]
    }
   ],
   "source": [
    "from sqlalchemy import select\n",
    "\n",
    "with Session() as session:\n",
    "    stmt = (\n",
    "        select(Product, Order, User.full_name, OrderProducts.quantity)\n",
    "        .join(User.orders)\n",
    "        .join(Order.products)\n",
    "        .join(Product)\n",
    "        .where(User.telegram_id == 4104)\n",
    "    )\n",
    "    result = session.execute(stmt)\n",
    "    user_orders1 = result.all()\n",
    "    \n",
    "    stmt = (\n",
    "        select(Product, Order, User.full_name, OrderProducts.quantity)\n",
    "        .join(OrderProducts)\n",
    "        .join(Order)\n",
    "        .join(User)\n",
    "        .select_from(Product)\n",
    "        .where(User.telegram_id == 4104)\n",
    "    )\n",
    "    result = session.execute(stmt)\n",
    "    user_orders2 = result.all()\n",
    "    \n",
    "    assert user_orders1 == user_orders2\n",
    "    \n",
    "    for product, order, full_name, quantity in user_orders1:\n",
    "        print(f'#{product.product_id} Product: {product.title} (x {quantity}) Order: {order.order_id}: {full_name}')"
   ]
  },
  {
   "cell_type": "markdown",
   "id": "e085180e-14eb-4060-a4eb-2cb5b36aea02",
   "metadata": {},
   "source": [
    "Assim, com apenas uma consulta, podemos acessar dados de várias tabelas de uma forma bastante simples com o SQLAlchemy."
   ]
  },
  {
   "cell_type": "markdown",
   "id": "32a53e99-9f24-4819-a8d4-edcec484edd9",
   "metadata": {},
   "source": [
    "***\n",
    "### Consultas agregadas usando SQLAlchemy\n",
    "***\n",
    "\n",
    "O SQLAlchemy permite-nos utilizar funções SQL de agregação como SUM, COUNT, MIN/MAX/AVG e assim por diante.\n",
    "\n",
    "Todas as funções de agregação SQL estão acessíveis com o módulo `sqlalchemy.func`"
   ]
  },
  {
   "cell_type": "code",
   "execution_count": 16,
   "id": "9c6d58e1-21b4-434e-b716-3675bf8fe413",
   "metadata": {
    "tags": []
   },
   "outputs": [
    {
     "name": "stdout",
     "output_type": "stream",
     "text": [
      "[User: Brenda Daniels] total de pedidos: 2\n",
      "===========\n",
      "Total de pedidos: 3, realizados por Ms. Michele Guzman\n",
      "Total de pedidos: 2, realizados por Amanda Zavala\n",
      "Total de pedidos: 2, realizados por Brenda Daniels\n",
      "Total de pedidos: 2, realizados por Robert Dunn\n",
      "Total de pedidos: 1, realizados por Heather Stewart\n",
      "===========\n",
      "Total de pedidos: 2, realizados por Robert Dunn\n",
      "Total de pedidos: 3, realizados por Ms. Michele Guzman\n",
      "Total de pedidos: 2, realizados por Brenda Daniels\n",
      "Total de pedidos: 2, realizados por Amanda Zavala\n",
      "Total de pedidos: 1, realizados por Heather Stewart\n",
      "===========\n",
      "Total de produtos: 41691, comprados por Robert Dunn\n",
      "Total de produtos: 52501, comprados por Ms. Michele Guzman\n",
      "Total de produtos: 17003, comprados por Brenda Daniels\n",
      "Total de produtos: 26552, comprados por Amanda Zavala\n",
      "Total de produtos: 9001, comprados por Heather Stewart\n",
      "===========\n",
      "Total de produtos: 41691, comprados por Robert Dunn\n",
      "Total de produtos: 52501, comprados por Ms. Michele Guzman\n",
      "Total de produtos: 26552, comprados por Amanda Zavala\n"
     ]
    }
   ],
   "source": [
    "from sqlalchemy import func\n",
    "\n",
    "\n",
    "class Repo:\n",
    "    \"\"\"\n",
    "    Repositorio\n",
    "    \"\"\"\n",
    "\n",
    "    def __init__(self, session: Session):\n",
    "        \"\"\"\n",
    "        Construtor\n",
    "        \"\"\"\n",
    "\n",
    "        self.session = session\n",
    "\n",
    "    def get_user_total_number_of_orders(self, telegram_id: int):\n",
    "        \"\"\"\n",
    "        Pega o número total de pedidos de um usuário.\n",
    "        \"\"\"\n",
    "\n",
    "        stmt = select(func.count(Order.order_id)).where(Order.user_id == telegram_id)\n",
    "        result = self.session.scalar(stmt)\n",
    "        return result\n",
    "\n",
    "    def get_total_number_of_orders_by_user(self):\n",
    "        \"\"\"\n",
    "        Pega o valor total de pedidos agrupados por usuários\n",
    "        \"\"\"\n",
    "\n",
    "        stmt = (\n",
    "            select(func.count(Order.order_id), User.full_name)\n",
    "            .join(User)\n",
    "            .group_by(User.full_name)\n",
    "        )\n",
    "        result = self.session.execute(stmt)\n",
    "        return result.all()\n",
    "\n",
    "    def get_total_number_of_orders_by_user_with_labels(self):\n",
    "        \"\"\"\n",
    "        Pega o valor total de pedidos agrupados por usuários usando labels\n",
    "        \"\"\"\n",
    "\n",
    "        stmt = (\n",
    "            select(func.count(Order.order_id).label('quantity'), User.full_name.label('name'))\n",
    "            .join(User)\n",
    "            .group_by(User.telegram_id)\n",
    "        )\n",
    "        result = self.session.execute(stmt)\n",
    "        return result.all()\n",
    "\n",
    "    def get_count_of_products_by_user(self):\n",
    "        stmt = (\n",
    "            select(func.sum(OrderProducts.quantity).label('quantity'), User.full_name.label('name'))\n",
    "            .join(Order, Order.order_id == OrderProducts.order_id)\n",
    "            .join(User)\n",
    "            .group_by(User.telegram_id)\n",
    "        )\n",
    "        result = self.session.execute(stmt)\n",
    "        return result.all()\n",
    "\n",
    "    def get_count_of_products_greater_than_x_by_user(self, greater_than: int):\n",
    "        \"\"\"\n",
    "        Pega o total de produtos que tem a quantidade maior que X\n",
    "        \"\"\"\n",
    "\n",
    "        stmt = (\n",
    "            select(func.sum(OrderProducts.quantity).label('quantity'), User.full_name.label('name'))\n",
    "            .join(Order, Order.order_id == OrderProducts.order_id)\n",
    "            .join(User)\n",
    "            .group_by(User.telegram_id)\n",
    "            .having(func.sum(OrderProducts.quantity) > greater_than)\n",
    "        )\n",
    "        result = self.session.execute(stmt)\n",
    "        return result.all()\n",
    "\n",
    "\n",
    "with Session() as session:\n",
    "    repo = Repo(session)\n",
    "    user_telegram_id = 3909  # Brenda Daniels\n",
    "\n",
    "    user_total_number_of_orders = repo.get_user_total_number_of_orders(telegram_id=user_telegram_id)\n",
    "    print(f'[User: Brenda Daniels] total de pedidos: {user_total_number_of_orders}')\n",
    "    print('===========')\n",
    "\n",
    "    for orders_count, full_name in repo.get_total_number_of_orders_by_user():\n",
    "        print(f'Total de pedidos: {orders_count}, realizados por {full_name}')\n",
    "    print('===========')\n",
    "\n",
    "    for row in repo.get_total_number_of_orders_by_user_with_labels():\n",
    "        print(f'Total de pedidos: {row.quantity}, realizados por {row.name}')\n",
    "    print('===========')\n",
    "\n",
    "    for products_count, name in repo.get_count_of_products_by_user():\n",
    "        print(f'Total de produtos: {products_count}, comprados por {name}')\n",
    "    print('===========')\n",
    "\n",
    "    for products_count, name in repo.get_count_of_products_greater_than_x_by_user(20_000):\n",
    "        print(f'Total de produtos: {products_count}, comprados por {name}')"
   ]
  },
  {
   "cell_type": "code",
   "execution_count": 2,
   "id": "4976ee1e-4dd8-440b-93f7-4733d388e2e9",
   "metadata": {
    "tags": []
   },
   "outputs": [],
   "source": [
    "# Printar uma query SQL criada pela ORM\n",
    "print(stm.compile(compile_kwargs={\"literal_binds\": True}))"
   ]
  }
 ],
 "metadata": {
  "kernelspec": {
   "display_name": "Python 3 (ipykernel)",
   "language": "python",
   "name": "python3"
  },
  "language_info": {
   "codemirror_mode": {
    "name": "ipython",
    "version": 3
   },
   "file_extension": ".py",
   "mimetype": "text/x-python",
   "name": "python",
   "nbconvert_exporter": "python",
   "pygments_lexer": "ipython3",
   "version": "3.11.6"
  }
 },
 "nbformat": 4,
 "nbformat_minor": 5
}
