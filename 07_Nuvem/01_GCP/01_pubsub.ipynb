{
 "cells": [
  {
   "cell_type": "markdown",
   "id": "10d5c508-2eaa-4ab6-a496-7463729ed401",
   "metadata": {},
   "source": [
    "## Pubsub GCP\n",
    "***"
   ]
  },
  {
   "cell_type": "markdown",
   "id": "066c50bb-e78d-4169-acc6-b516a97b6e91",
   "metadata": {},
   "source": [
    "O Pub/Sub do Google Cloud Platform (GCP) é um serviço de mensagens assíncrono e altamente escalável que permite que aplicativos troquem informações de forma confiável e em tempo real. Pense nele como um carteiro super eficiente que garante que as mensagens enviadas por um aplicativo (o \"**publisher**\") cheguem a todos os aplicativos interessados (os \"**subscribers**\"), mesmo que eles estejam rodando em momentos diferentes ou em grande escala. Ele desacopla os sistemas, tornando-os mais resilientes e flexíveis.\n",
    "\n",
    "1. Se autentique no GCP\n",
    "2. Vai na aba Pubsub\n",
    "3. Clique em Topics\n",
    "4. Clique em Create Topic\n",
    "5. Insira o nome do topic e clica em Create\n",
    "6. Copia a URL no formato: projects/{project_id}/subscriptions/{subscription_id}\n",
    "7. Verifique se sua SA tem permissão para publicar no topico e consumir a subscription criada.\n",
    "8. Execute no terminal o comando: export "
   ]
  },
  {
   "cell_type": "markdown",
   "id": "475a2f36-04ba-49a0-9eed-c6c7ecbb680e",
   "metadata": {},
   "source": [
    "### Consumindo fila pubsub\n",
    "***"
   ]
  },
  {
   "cell_type": "code",
   "execution_count": null,
   "id": "3fc2f4cf-4378-4215-95dd-8a323ca7e688",
   "metadata": {
    "tags": []
   },
   "outputs": [],
   "source": [
    "from google.pubsub_v1 import SubscriberAsyncClient, PullRequest, ReceivedMessage, PubsubMessage\n",
    "from google.api_core.exceptions import GoogleAPIError\n",
    "from google.api_core.retry_async import AsyncRetry\n",
    "from asyncio import Event, Queue\n",
    "import traceback\n",
    "import json\n",
    "import time\n",
    "import asyncio\n",
    "import random\n",
    "import os\n",
    "import signal\n",
    "import logging"
   ]
  },
  {
   "cell_type": "code",
   "execution_count": null,
   "id": "0314440a-8315-46e1-88b5-b02ade877cfe",
   "metadata": {
    "tags": []
   },
   "outputs": [],
   "source": [
    "retry = AsyncRetry()"
   ]
  },
  {
   "cell_type": "code",
   "execution_count": null,
   "id": "2a810635-cafd-410e-953d-a82ed0458b99",
   "metadata": {
    "tags": []
   },
   "outputs": [],
   "source": [
    "PUBSUB_ENABLED = 1\n",
    "MAX_MESSAGES = 30\n",
    "PROCESS_TIME_SLEEP = 0.5\n",
    "MAX_CONCURRENT = 50\n",
    "EVALUATE_MESSAGE_TIMEOUT = 60\n",
    "PROJECT_ID = \"vksoftware\"\n",
    "SUBSCRIPTION_ID = \"notebook-sub\"\n",
    "QUEUE = f\"projects/{PROJECT_ID}/subscriptions/{SUBSCRIPTION_ID}\""
   ]
  },
  {
   "cell_type": "code",
   "execution_count": null,
   "id": "cc3b8be4-9093-4336-bb5e-29e961f0b058",
   "metadata": {
    "tags": []
   },
   "outputs": [],
   "source": [
    "def force_shutdown():\n",
    "    \"\"\"\n",
    "    Força o shutdown do serviço.\n",
    "    \"\"\"\n",
    "\n",
    "    os.kill(os.getpid(), signal.SIGINT)"
   ]
  },
  {
   "cell_type": "code",
   "execution_count": null,
   "id": "22d73977-6c1e-46ae-91d2-134127783694",
   "metadata": {
    "tags": []
   },
   "outputs": [],
   "source": [
    "def shutdown(stop_event: Event, sig: signal.Signals) -> None:\n",
    "    \"\"\"\n",
    "    Setando o evento de parada.\n",
    "    \"\"\"\n",
    "\n",
    "    print(f\"Sinal de sair recebido: {sig.name}\")\n",
    "    stop_event.set()\n",
    "    print(\"Evento de parada setado.\")"
   ]
  },
  {
   "cell_type": "code",
   "execution_count": null,
   "id": "e912f216-e172-4062-9924-5a1b2708dd82",
   "metadata": {
    "tags": []
   },
   "outputs": [],
   "source": [
    "def setup_signal_handler(stop_event: Event) -> None:\n",
    "    \"\"\"\n",
    "    Observador de sinais para parada\n",
    "    do script ou graceful shutdown.\n",
    "    \"\"\"\n",
    "\n",
    "    loop = asyncio.get_running_loop()\n",
    "\n",
    "    # kill -l (mostra todos os comandos de sinais)\n",
    "    # SIGKILL -> Mata o processo forçado e não tem oq fazer (kill -9)\n",
    "    # SIGHUP -> Recebeu um evento de desligamento do processo (desescalonamento de um pod)\n",
    "    # SIGTERM -> Recebeu um evento para terminar o processo (parada de um pod)\n",
    "    # SIGINT -> Recebeu um evento de interrupção (Ctrl+C)\n",
    "    # SIGALRM -> Dispara um alarme e finaliza de forma controlada\n",
    "    # Se ocorrer qualquer um desses sinais execute o evento de parada (shutdown)\n",
    "    for sig in (signal.SIGHUP, signal.SIGTERM, signal.SIGINT, signal.SIGALRM):\n",
    "        loop.add_signal_handler(sig, shutdown, stop_event, sig)"
   ]
  },
  {
   "cell_type": "code",
   "execution_count": null,
   "id": "95fcb6d5-635a-4dee-9572-3f840479570b",
   "metadata": {
    "tags": []
   },
   "outputs": [],
   "source": [
    "async def run_something(payload: dict, trace_id: str) -> bool:\n",
    "    \"\"\"\n",
    "    Roda algo do tipo IO Bound como queries no BD ou requisições http.\n",
    "    \"\"\"\n",
    "    \n",
    "    try:\n",
    "        print(\"Iniciou a execução.\")\n",
    "        await asyncio.sleep(random.choice([1,2,3,4,5]))\n",
    "        print(\"Finalizou a execução.\")\n",
    "    except Exception as e:\n",
    "        return False\n",
    "\n",
    "    return True"
   ]
  },
  {
   "cell_type": "code",
   "execution_count": null,
   "id": "005c84a2-a7e9-46e5-93ee-442f309c1555",
   "metadata": {
    "tags": []
   },
   "outputs": [],
   "source": [
    "async def process_message(received_message: ReceivedMessage, subscription: SubscriberAsyncClient) -> None:\n",
    "    \"\"\"\n",
    "    Realiza o processamento das mensagens\n",
    "    \"\"\"\n",
    "\n",
    "    message: PubsubMessage = received_message.message\n",
    "    payload: dict = json.loads(message.data)\n",
    "\n",
    "    success = await run_something(payload, trace_id)\n",
    "\n",
    "    if success:\n",
    "        await subscription.acknowledge(\n",
    "            subscription=QUEUE,\n",
    "            ack_ids=[received_message.ack_id],\n",
    "            retry=retry\n",
    "        )\n",
    "    else:\n",
    "        await subscription.modify_ack_deadline(\n",
    "            subscription=QUEUE,\n",
    "            ack_ids=[received_message.ack_id],\n",
    "            ack_deadline_seconds=0,\n",
    "            retry=retry\n",
    "        )"
   ]
  },
  {
   "cell_type": "code",
   "execution_count": null,
   "id": "daaea617-ce4b-4956-ac2b-aa8e9f4b4764",
   "metadata": {
    "tags": []
   },
   "outputs": [],
   "source": [
    "async def get_messages_from_pubsub_and_put_in_queue(message_queue: Queue, subscription: SubscriberAsyncClient):\n",
    "    \"\"\"\n",
    "    Pega as mensagens do pubsub e insere dentro da queue\n",
    "    \"\"\"\n",
    "\n",
    "    messages_to_get = MAX_MESSAGES - message_queue.qsize()\n",
    "    print(f\"Pegando {messages_to_get} mensagens do pubsub.\")\n",
    "\n",
    "    if messages_to_get <= 0:\n",
    "        return\n",
    "\n",
    "    try:\n",
    "        print(\"Puxando as mensagens do pubsub.\")\n",
    "        response = await asyncio.wait_for(\n",
    "            subscription.pull(PullRequest(\n",
    "                subscription=QUEUE,\n",
    "                max_messages=messages_to_get,\n",
    "                return_immediately=True\n",
    "            ), retry=retry),\n",
    "            timeout=30)\n",
    "    except asyncio.TimeoutError as error:\n",
    "        print(\"PUBSUB PULL TIMEOUT. Finalizando o serviço de busca de mensagens.\")\n",
    "        force_shutdown()\n",
    "        return\n",
    "    except GoogleAPIError as error:\n",
    "        print('QUEUE BLOKED. Finalizando o serviço de busca de mensagens.')\n",
    "        force_shutdown()\n",
    "        return\n",
    "    except Exception as error:\n",
    "        print('QUEUE DEAD. Finalizando o serviço de busca de mensagens.')\n",
    "        force_shutdown()\n",
    "        return\n",
    "\n",
    "    if len(response.received_messages) == 0:\n",
    "        print(\"PUBSUB EMPTY\")\n",
    "        return\n",
    "\n",
    "    print(f\"Recebido {len(response.received_messages)} mensagens do pubsub.\")\n",
    "    for message in response.received_messages:\n",
    "        print(\"Colocando as mensagens recebidas na fila interna.\")\n",
    "        await message_queue.put(message)"
   ]
  },
  {
   "cell_type": "code",
   "execution_count": null,
   "id": "cfe3584e-f890-481f-9f7e-b05fbfa7031a",
   "metadata": {
    "tags": []
   },
   "outputs": [],
   "source": [
    "async def producer(queue: Queue, stop_event_consumer: Event, stop_event_producer: Event, subscription: SubscriberAsyncClient) -> None:\n",
    "    \"\"\"\n",
    "    Recepção assíncrona de mensagens de uma fila PubSub do GCP.\n",
    "    \"\"\"\n",
    "\n",
    "    while True:\n",
    "        if stop_event_consumer.is_set():\n",
    "            stop_event_producer.set()\n",
    "            print(\"STOP EVENT SET. Finalizando o serviço de busca de mensagens.\")\n",
    "            return\n",
    "\n",
    "        with open('.timestamp.healthcheck', 'w') as f:\n",
    "            f.write(str(time.time()))\n",
    "\n",
    "        print(\"Pegando mensagen do pubsub\")\n",
    "        await get_messages_from_pubsub_and_put_in_queue(queue, subscription)\n",
    "        await asyncio.sleep(1)"
   ]
  },
  {
   "cell_type": "code",
   "execution_count": null,
   "id": "43aec1a9-e766-4342-9700-dac911803ff8",
   "metadata": {
    "tags": []
   },
   "outputs": [],
   "source": [
    "async def consumer(queue: Queue, stop_event_producer: Event, subscription: SubscriberAsyncClient) -> None:\n",
    "    \"\"\"\n",
    "    Consome as mensagens da fila e as processa usando asyncio.create_task\n",
    "    em conjunto com asyncio.wait (que se comporta de forma similar\n",
    "    ao asyncio.as_completed) para limitar o número de mensagens processadas\n",
    "    simultaneamente.\n",
    "    \"\"\"\n",
    "\n",
    "    pending_tasks = set()\n",
    "\n",
    "    while True:\n",
    "        if stop_event_producer.is_set() and queue.empty():\n",
    "            print(f\"STOP EVENT SET. Finalizando o serviço de monitoramento de mensagens com {queue.qsize()} msg na fila.\")\n",
    "            break\n",
    "\n",
    "        try:\n",
    "            received_message: ReceivedMessage = queue.get_nowait()\n",
    "            print(f\"Peguei a mensagem: {received_message.ack_id}\")\n",
    "        except asyncio.QueueEmpty:\n",
    "            print(\"QUEUE EMPTY\")\n",
    "            await asyncio.sleep(1)\n",
    "            continue\n",
    "        except Exception as error:\n",
    "            traceback.print_exc()\n",
    "            print('PROCESSING ERROR. Finalizando o serviço de processamento de mensagens.')\n",
    "            force_shutdown()\n",
    "            break\n",
    "        finally:\n",
    "            qsize = queue.qsize()\n",
    "            len_pending_tasks = len(pending_tasks)\n",
    "            if qsize > 0 or len_pending_tasks > 0:\n",
    "                print(f\"Fila atualmente com {qsize} items e {len_pending_tasks} pendentes\")\n",
    "\n",
    "        # Cria uma task para processar a mensagem\n",
    "        task = asyncio.create_task(process_message(received_message, subscription))\n",
    "        pending_tasks.add(task)\n",
    "\n",
    "        # Ao finalizar, remove a task do conjunto de pendentes\n",
    "        task.add_done_callback(pending_tasks.discard)\n",
    "\n",
    "        # Se atingiu o limite de tasks concorrentes, aguarda a conclusão\n",
    "        # de pelo menos uma\n",
    "        if len(pending_tasks) >= MAX_CONCURRENT:\n",
    "            print(f\"Limite atingido: {len(pending_tasks)} tasks. Aguardando alguma finalizar...\")\n",
    "            # Espera até que ao menos uma task seja concluída\n",
    "            await asyncio.wait(\n",
    "                pending_tasks,\n",
    "                timeout=EVALUATE_MESSAGE_TIMEOUT,\n",
    "                return_when=asyncio.FIRST_COMPLETED\n",
    "            )\n",
    "            # Assim, o conjunto diminui e permite a criação de novas tasks\n",
    "            print(f\"Uma ou mais tasks finalizaram. Pending tasks count agora: {len(pending_tasks)}\")\n",
    "\n",
    "        queue.task_done()\n",
    "        await asyncio.sleep(PROCESS_TIME_SLEEP)"
   ]
  },
  {
   "cell_type": "code",
   "execution_count": null,
   "id": "b7687f18-edb1-430a-a739-2e5ecd61fe1a",
   "metadata": {
    "tags": []
   },
   "outputs": [],
   "source": [
    "async def main(stop_event_consumer: Event, stop_event_producer: Event) -> None:\n",
    "    \"\"\"\n",
    "    Função principal que inicializa a fila e inicia as\n",
    "    tasks do listener e do consumer.\n",
    "    \"\"\"\n",
    "\n",
    "    if PUBSUB_ENABLED:\n",
    "        subscription = SubscriberAsyncClient()\n",
    "\n",
    "        with open('.timestamp.healthcheck', 'w') as f:\n",
    "            f.write(str(time.time()))\n",
    "\n",
    "        message_queue = Queue(maxsize=MAX_MESSAGES + 1)\n",
    "        all_tasks = []\n",
    "        setup_signal_handler(stop_event_consumer)\n",
    "\n",
    "        all_tasks.append(asyncio.create_task(producer(message_queue, stop_event_consumer, stop_event_producer, subscription)))\n",
    "\n",
    "        for _ in range(MAX_MESSAGES):\n",
    "            all_tasks.append(\n",
    "                asyncio.create_task(consumer(message_queue, stop_event_producer, subscription))\n",
    "            )\n",
    "\n",
    "        await asyncio.gather(*all_tasks)"
   ]
  },
  {
   "cell_type": "code",
   "execution_count": null,
   "id": "9930d738-cb6b-4c18-af5a-d9f0d469aca9",
   "metadata": {
    "tags": []
   },
   "outputs": [],
   "source": [
    "stop_event_consumer = asyncio.Event()\n",
    "stop_event_producer = asyncio.Event()\n",
    "current_loop = asyncio.get_event_loop()\n",
    "current_loop.create_task(main(stop_event_consumer, stop_event_producer))"
   ]
  },
  {
   "cell_type": "markdown",
   "id": "54dd8ef9-15bf-4da3-846e-79eea507690b",
   "metadata": {},
   "source": [
    "### Enviando mensagens para a fila\n",
    "***"
   ]
  },
  {
   "cell_type": "code",
   "execution_count": null,
   "id": "233eec42-a2e0-4005-9f10-8af53777bb89",
   "metadata": {},
   "outputs": [],
   "source": [
    "from google.pubsub_v1 import PublisherAsyncClient, PublishRequest, PubsubMessage\n",
    "import json"
   ]
  },
  {
   "cell_type": "code",
   "execution_count": null,
   "id": "30ac8203-9b98-4106-ad0c-392a1e0a5f29",
   "metadata": {},
   "outputs": [],
   "source": [
    "PROJECT_ID = \"vksoftware\"\n",
    "TOPIC_ID = \"notebook\""
   ]
  },
  {
   "cell_type": "code",
   "execution_count": null,
   "id": "3b0ea4a4-5b2e-47d7-b822-2ddc8c6dd1cc",
   "metadata": {},
   "outputs": [],
   "source": [
    "retry = AsyncRetry()"
   ]
  },
  {
   "cell_type": "code",
   "execution_count": null,
   "id": "2469120f-ecaf-4f21-a36b-3d4438cad8e9",
   "metadata": {},
   "outputs": [],
   "source": [
    "publisher = PublisherAsyncClient()"
   ]
  },
  {
   "cell_type": "code",
   "execution_count": null,
   "id": "6159acd0-31a0-415e-ac7a-31568ef0262f",
   "metadata": {},
   "outputs": [],
   "source": [
    "json_payload = json.dumps({\"success\": True}).encode('utf-8')"
   ]
  },
  {
   "cell_type": "code",
   "execution_count": null,
   "id": "094ffa07-342b-450e-aa75-b26c4865e2a3",
   "metadata": {},
   "outputs": [],
   "source": [
    "topic_path = publisher.topic_path(PROJECT_ID, TOPIC_ID)"
   ]
  },
  {
   "cell_type": "code",
   "execution_count": null,
   "id": "49c7c99b-7cdc-420c-8fb8-0e10262e621f",
   "metadata": {},
   "outputs": [],
   "source": [
    "message = PubsubMessage(data=payload)"
   ]
  },
  {
   "cell_type": "code",
   "execution_count": null,
   "id": "e8e4473e-38fd-42c4-80b5-f3abd9d47f29",
   "metadata": {},
   "outputs": [],
   "source": [
    "request = PublishRequest(topic=topic_path, messages=[message])"
   ]
  },
  {
   "cell_type": "code",
   "execution_count": null,
   "id": "72e6afde-5c2e-4af5-9787-8cb96203db34",
   "metadata": {},
   "outputs": [],
   "source": [
    "await publisher.publish(request=request, retry=retry)"
   ]
  }
 ],
 "metadata": {
  "kernelspec": {
   "display_name": "Python 3 (ipykernel)",
   "language": "python",
   "name": "python3"
  },
  "language_info": {
   "codemirror_mode": {
    "name": "ipython",
    "version": 3
   },
   "file_extension": ".py",
   "mimetype": "text/x-python",
   "name": "python",
   "nbconvert_exporter": "python",
   "pygments_lexer": "ipython3",
   "version": "3.11.6"
  }
 },
 "nbformat": 4,
 "nbformat_minor": 5
}
