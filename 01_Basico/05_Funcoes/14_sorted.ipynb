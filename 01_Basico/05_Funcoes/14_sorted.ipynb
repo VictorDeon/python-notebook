{
 "cells": [
  {
   "cell_type": "markdown",
   "id": "e36ab9ca-828c-48d0-b4bb-84ae5c98bb74",
   "metadata": {},
   "source": [
    "## Sorted\n",
    "\n",
    "Podemos utilizar o sorted em qualquer iteravel, diferente do .sort() que só é usado em listas.\n",
    "\n",
    "Como o próprio nome diz, sorted() serve para ordenar um iteravel."
   ]
  },
  {
   "cell_type": "code",
   "execution_count": 1,
   "id": "1cca020a-49cb-4cf0-98e8-b3e7fad1e88f",
   "metadata": {
    "tags": []
   },
   "outputs": [],
   "source": [
    "numbers = [6, 1, 8, 2, 3, 5, 9, 11, 3, 2]"
   ]
  },
  {
   "cell_type": "code",
   "execution_count": 2,
   "id": "a28cd265-75d3-487c-a629-805e5f0caec0",
   "metadata": {
    "tags": []
   },
   "outputs": [
    {
     "name": "stdout",
     "output_type": "stream",
     "text": [
      "[6, 1, 8, 2, 3, 5, 9, 11, 3, 2]\n"
     ]
    }
   ],
   "source": [
    "print(numbers)"
   ]
  },
  {
   "cell_type": "code",
   "execution_count": 3,
   "id": "9a6e692c-b44a-43fa-8f36-1881cefb4b5a",
   "metadata": {
    "tags": []
   },
   "outputs": [
    {
     "name": "stdout",
     "output_type": "stream",
     "text": [
      "[1, 2, 2, 3, 3, 5, 6, 8, 9, 11]\n"
     ]
    }
   ],
   "source": [
    "ordened_list = sorted(numbers)\n",
    "print(ordened_list)"
   ]
  },
  {
   "cell_type": "code",
   "execution_count": 4,
   "id": "b141b207-8122-4dbb-91aa-7cc47ac5726e",
   "metadata": {
    "tags": []
   },
   "outputs": [
    {
     "name": "stdout",
     "output_type": "stream",
     "text": [
      "[6, 1, 8, 2, 3, 5, 9, 11, 3, 2]\n"
     ]
    }
   ],
   "source": [
    "print(numbers)"
   ]
  },
  {
   "cell_type": "code",
   "execution_count": 5,
   "id": "fd825e6c-47bf-495f-8986-e1fd5804bbeb",
   "metadata": {
    "tags": []
   },
   "outputs": [
    {
     "name": "stdout",
     "output_type": "stream",
     "text": [
      "[11, 9, 8, 6, 5, 3, 3, 2, 2, 1]\n"
     ]
    }
   ],
   "source": [
    "print(sorted(numbers, reverse=True))"
   ]
  },
  {
   "cell_type": "code",
   "execution_count": 6,
   "id": "cfcbc103-3050-4cc5-9b14-9b2b7773e2ab",
   "metadata": {
    "tags": []
   },
   "outputs": [],
   "source": [
    "usuarios = [\n",
    "    {\"name\": \"Samuel\", \"age\": 10},\n",
    "    {\"name\": \"Pedro\", \"age\": 33},\n",
    "    {\"name\": \"Maria\", \"age\": 22},\n",
    "    {\"name\": \"Junior\", \"age\": 11},\n",
    "    {\"name\": \"Kaio\", \"age\": 15},\n",
    "]"
   ]
  },
  {
   "cell_type": "code",
   "execution_count": 7,
   "id": "3aa614f5-9b63-4011-accb-aff639ba4f20",
   "metadata": {
    "tags": []
   },
   "outputs": [
    {
     "name": "stdout",
     "output_type": "stream",
     "text": [
      "[{'name': 'Samuel', 'age': 10}, {'name': 'Junior', 'age': 11}, {'name': 'Kaio', 'age': 15}, {'name': 'Maria', 'age': 22}, {'name': 'Pedro', 'age': 33}]\n"
     ]
    }
   ],
   "source": [
    "print(sorted(usuarios, key=lambda obj: obj['age']))"
   ]
  },
  {
   "cell_type": "code",
   "execution_count": 8,
   "id": "a972b160-46b3-4c00-8a54-bb6f3a71dcfd",
   "metadata": {
    "tags": []
   },
   "outputs": [
    {
     "name": "stdout",
     "output_type": "stream",
     "text": [
      "[{'name': 'Pedro', 'age': 33}, {'name': 'Maria', 'age': 22}, {'name': 'Kaio', 'age': 15}, {'name': 'Junior', 'age': 11}, {'name': 'Samuel', 'age': 10}]\n"
     ]
    }
   ],
   "source": [
    "print(sorted(usuarios, key=lambda obj: obj['age'], reverse=True))"
   ]
  }
 ],
 "metadata": {
  "kernelspec": {
   "display_name": "Python 3 (ipykernel)",
   "language": "python",
   "name": "python3"
  },
  "language_info": {
   "codemirror_mode": {
    "name": "ipython",
    "version": 3
   },
   "file_extension": ".py",
   "mimetype": "text/x-python",
   "name": "python",
   "nbconvert_exporter": "python",
   "pygments_lexer": "ipython3",
   "version": "3.11.6"
  }
 },
 "nbformat": 4,
 "nbformat_minor": 5
}
