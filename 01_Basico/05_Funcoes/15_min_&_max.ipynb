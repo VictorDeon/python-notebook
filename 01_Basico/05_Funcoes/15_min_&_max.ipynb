{
 "cells": [
  {
   "cell_type": "markdown",
   "id": "7b0372b6-a9a7-4f12-89e3-eaaf841aaf51",
   "metadata": {},
   "source": [
    "## Min e Max\n",
    "***\n",
    "\n",
    "* **Max** retorna o maior valor em um iterável ou o maior de dois ou mais elementos\n",
    "* **Min** retorna o menor valor em um iterável ou o menor de dois ou mais elementos"
   ]
  },
  {
   "cell_type": "code",
   "execution_count": 1,
   "id": "76b162da-7694-4c95-a979-f08b367faaaa",
   "metadata": {
    "tags": []
   },
   "outputs": [],
   "source": [
    "numbers = [1, 20, 22, 2, 5, 92, 33, 20, 44]"
   ]
  },
  {
   "cell_type": "code",
   "execution_count": 2,
   "id": "b3610dd6-b20a-40c8-aac7-7bcf58eb3050",
   "metadata": {
    "tags": []
   },
   "outputs": [
    {
     "data": {
      "text/plain": [
       "92"
      ]
     },
     "execution_count": 2,
     "metadata": {},
     "output_type": "execute_result"
    }
   ],
   "source": [
    "max(numbers)"
   ]
  },
  {
   "cell_type": "code",
   "execution_count": 3,
   "id": "fa40c2b9-2501-4c58-a34f-cae33517fdaf",
   "metadata": {
    "tags": []
   },
   "outputs": [
    {
     "data": {
      "text/plain": [
       "1"
      ]
     },
     "execution_count": 3,
     "metadata": {},
     "output_type": "execute_result"
    }
   ],
   "source": [
    "min(numbers)"
   ]
  },
  {
   "cell_type": "code",
   "execution_count": 4,
   "id": "26b23866-b272-410e-92e7-a614e25f4e35",
   "metadata": {
    "tags": []
   },
   "outputs": [],
   "source": [
    "usuarios = [\n",
    "    {\"name\": \"Samuel\", \"age\": 10},\n",
    "    {\"name\": \"Pedro\", \"age\": 33},\n",
    "    {\"name\": \"Maria\", \"age\": 22},\n",
    "    {\"name\": \"Junior\", \"age\": 11},\n",
    "    {\"name\": \"Kaio\", \"age\": 15},\n",
    "]"
   ]
  },
  {
   "cell_type": "code",
   "execution_count": 5,
   "id": "e8b5d35d-8bad-4e58-9980-09ca4a4163c0",
   "metadata": {
    "tags": []
   },
   "outputs": [
    {
     "data": {
      "text/plain": [
       "{'name': 'Pedro', 'age': 33}"
      ]
     },
     "execution_count": 5,
     "metadata": {},
     "output_type": "execute_result"
    }
   ],
   "source": [
    "max(usuarios, key=lambda user: user['age'])"
   ]
  },
  {
   "cell_type": "code",
   "execution_count": 6,
   "id": "f73a6db8-f3e6-45d1-b6c3-6e06d5141a38",
   "metadata": {
    "tags": []
   },
   "outputs": [
    {
     "data": {
      "text/plain": [
       "{'name': 'Samuel', 'age': 10}"
      ]
     },
     "execution_count": 6,
     "metadata": {},
     "output_type": "execute_result"
    }
   ],
   "source": [
    "min(usuarios, key=lambda user: user['age'])"
   ]
  }
 ],
 "metadata": {
  "kernelspec": {
   "display_name": "Python 3 (ipykernel)",
   "language": "python",
   "name": "python3"
  },
  "language_info": {
   "codemirror_mode": {
    "name": "ipython",
    "version": 3
   },
   "file_extension": ".py",
   "mimetype": "text/x-python",
   "name": "python",
   "nbconvert_exporter": "python",
   "pygments_lexer": "ipython3",
   "version": "3.11.6"
  }
 },
 "nbformat": 4,
 "nbformat_minor": 5
}
