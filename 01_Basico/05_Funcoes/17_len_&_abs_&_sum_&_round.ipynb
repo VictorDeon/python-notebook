{
 "cells": [
  {
   "cell_type": "markdown",
   "id": "b8d104d1-81a8-4bbb-9543-d8d649393d01",
   "metadata": {},
   "source": [
    "## Len, Abs, Sum e Round\n",
    "***\n",
    "\n",
    "* **Len**: Retorna o tamanho, ou seja, o número de itens de um iterável\n",
    "* **Abs**: Retorna o valor absoluto de um número inteiro ou real. De forma básica, seria o seu valor real sem o sinal.\n",
    "* **Sum**: Recebe como parâmetro um iterável, podendo receber um valor inicial, e retornar a soma total dos elementos, incluindo o valor inicial\n",
    "* **Round**: Retorna um número arredondado para n digito de precisão após a cada decimal. Se a precisão não for informada retorna o inteiro mais próximo da entrada."
   ]
  },
  {
   "cell_type": "code",
   "execution_count": 1,
   "id": "b376fb67-4e37-4d5f-ac3c-6ed38970bbf0",
   "metadata": {
    "tags": []
   },
   "outputs": [
    {
     "name": "stdout",
     "output_type": "stream",
     "text": [
      "5\n"
     ]
    }
   ],
   "source": [
    "print(len([1,2,3,4,5]))"
   ]
  },
  {
   "cell_type": "code",
   "execution_count": 2,
   "id": "86f24250-e2eb-4f85-b277-fe8eb1dc6f64",
   "metadata": {
    "tags": []
   },
   "outputs": [
    {
     "name": "stdout",
     "output_type": "stream",
     "text": [
      "5\n"
     ]
    }
   ],
   "source": [
    "print(abs(-5))"
   ]
  },
  {
   "cell_type": "code",
   "execution_count": 3,
   "id": "db6e435f-9d04-4bd3-ae7e-86f1f9d89e35",
   "metadata": {
    "tags": []
   },
   "outputs": [
    {
     "name": "stdout",
     "output_type": "stream",
     "text": [
      "15\n"
     ]
    }
   ],
   "source": [
    "print(sum([1,2,3,4,5]))"
   ]
  },
  {
   "cell_type": "code",
   "execution_count": 4,
   "id": "be1cfad1-8c97-489a-9367-5fcd7579d731",
   "metadata": {
    "tags": []
   },
   "outputs": [
    {
     "name": "stdout",
     "output_type": "stream",
     "text": [
      "10\n",
      "10\n",
      "11\n"
     ]
    }
   ],
   "source": [
    "print(round(10.4))\n",
    "print(round(10.5))\n",
    "print(round(10.6))"
   ]
  }
 ],
 "metadata": {
  "kernelspec": {
   "display_name": "Python 3 (ipykernel)",
   "language": "python",
   "name": "python3"
  },
  "language_info": {
   "codemirror_mode": {
    "name": "ipython",
    "version": 3
   },
   "file_extension": ".py",
   "mimetype": "text/x-python",
   "name": "python",
   "nbconvert_exporter": "python",
   "pygments_lexer": "ipython3",
   "version": "3.11.6"
  }
 },
 "nbformat": 4,
 "nbformat_minor": 5
}
