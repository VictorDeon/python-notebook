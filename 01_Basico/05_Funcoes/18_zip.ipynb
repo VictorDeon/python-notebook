{
 "cells": [
  {
   "cell_type": "markdown",
   "id": "159c7b32-c1c1-47e9-b6e9-628460115bc1",
   "metadata": {},
   "source": [
    "## Zip\n",
    "***\n",
    "\n",
    "Cria um iterável (zip object) que agrega elemento de cada um dos iteráveis passados como entrada em pares.\n",
    "\n",
    "O zip() utiliza como parâmetro o menor tamanho em iterável. Isso significa que se estiver trabalhando com iteráveis de tamanhos diferentes irá parar quando os elementos do menor iterável acabar."
   ]
  },
  {
   "cell_type": "code",
   "execution_count": 1,
   "id": "ff6f4425-ee22-4cb4-b6f2-8fdec3d4a0ca",
   "metadata": {
    "tags": []
   },
   "outputs": [],
   "source": [
    "l1 = [1, 2, 3]\n",
    "l2 = [4, 5, 6]"
   ]
  },
  {
   "cell_type": "code",
   "execution_count": 2,
   "id": "b5a6939f-9fe1-4866-9aa0-00ff72bd9bcb",
   "metadata": {
    "tags": []
   },
   "outputs": [],
   "source": [
    "zip1 = zip(l1, l2)"
   ]
  },
  {
   "cell_type": "code",
   "execution_count": 3,
   "id": "19754e05-947d-4830-81eb-d49fa195037e",
   "metadata": {
    "tags": []
   },
   "outputs": [
    {
     "name": "stdout",
     "output_type": "stream",
     "text": [
      "<zip object at 0x7fc6be16b0c0>\n"
     ]
    }
   ],
   "source": [
    "print(zip1)"
   ]
  },
  {
   "cell_type": "code",
   "execution_count": 4,
   "id": "cedbcf2b-900f-470d-a67f-528f48075bb1",
   "metadata": {
    "tags": []
   },
   "outputs": [
    {
     "name": "stdout",
     "output_type": "stream",
     "text": [
      "[(1, 4), (2, 5), (3, 6)]\n"
     ]
    }
   ],
   "source": [
    "print(list(zip1))"
   ]
  },
  {
   "cell_type": "code",
   "execution_count": 5,
   "id": "92f6951b-d9db-453d-81bf-69f2f557292e",
   "metadata": {
    "tags": []
   },
   "outputs": [
    {
     "name": "stdout",
     "output_type": "stream",
     "text": [
      "[(1, 4), (2, 5), (3, 6)]\n"
     ]
    }
   ],
   "source": [
    "zip1 = zip(l1, l2)\n",
    "print(list(zip1))"
   ]
  },
  {
   "cell_type": "code",
   "execution_count": 6,
   "id": "b646a61e-03f4-406a-a05b-07cc85530a25",
   "metadata": {
    "tags": []
   },
   "outputs": [
    {
     "name": "stdout",
     "output_type": "stream",
     "text": [
      "((1, 4), (2, 5), (3, 6))\n"
     ]
    }
   ],
   "source": [
    "zip1 = zip(l1, l2)\n",
    "print(tuple(zip1))"
   ]
  },
  {
   "cell_type": "code",
   "execution_count": 7,
   "id": "cf93c8f9-9520-4edc-a233-b05a26444f87",
   "metadata": {
    "tags": []
   },
   "outputs": [
    {
     "name": "stdout",
     "output_type": "stream",
     "text": [
      "{(2, 5), (1, 4), (3, 6)}\n"
     ]
    }
   ],
   "source": [
    "zip1 = zip(l1, l2)\n",
    "print(set(zip1))"
   ]
  },
  {
   "cell_type": "code",
   "execution_count": 8,
   "id": "be2a4c05-cb5e-4114-b38e-23435ff1a28b",
   "metadata": {
    "tags": []
   },
   "outputs": [
    {
     "name": "stdout",
     "output_type": "stream",
     "text": [
      "{1: 4, 2: 5, 3: 6}\n"
     ]
    }
   ],
   "source": [
    "zip1 = zip(l1, l2)\n",
    "print(dict(zip1))"
   ]
  },
  {
   "cell_type": "code",
   "execution_count": 9,
   "id": "a6c6c125-842d-490a-b969-fb53ad595eb5",
   "metadata": {
    "tags": []
   },
   "outputs": [],
   "source": [
    "l3 = ['a', 'b', 'c', 'd', 'e']"
   ]
  },
  {
   "cell_type": "code",
   "execution_count": 10,
   "id": "497e8d72-f54d-46f5-872f-772eac920e06",
   "metadata": {
    "tags": []
   },
   "outputs": [
    {
     "name": "stdout",
     "output_type": "stream",
     "text": [
      "[(1, 4, 'a'), (2, 5, 'b'), (3, 6, 'c')]\n"
     ]
    }
   ],
   "source": [
    "zip1 = zip(l1, l2, l3)\n",
    "print(list(zip1))"
   ]
  },
  {
   "cell_type": "code",
   "execution_count": 11,
   "id": "d7464a77-339b-44bb-a195-231fbc074c27",
   "metadata": {
    "tags": []
   },
   "outputs": [
    {
     "name": "stdout",
     "output_type": "stream",
     "text": [
      "[(0, 1, 2, 4), (1, 2, 3, 5)]\n"
     ]
    }
   ],
   "source": [
    "dados = [(0, 1), (1, 2), (2,3), (4,5)]\n",
    "print(list(zip(*dados)))"
   ]
  },
  {
   "cell_type": "code",
   "execution_count": 12,
   "id": "b086b6c7-824a-492e-923d-9bd3b4386f8e",
   "metadata": {
    "tags": []
   },
   "outputs": [
    {
     "name": "stdout",
     "output_type": "stream",
     "text": [
      "{'maria': 9.8, 'pedro': 9.1, 'carla': 7.8}\n"
     ]
    }
   ],
   "source": [
    "prova1 = [8, 9.1, 7.8]\n",
    "prova2 = [9.8, 8.9, 5.3]\n",
    "alunos = ['maria', 'pedro', 'carla']\n",
    "final = {dado[0]: max(dado[1], dado[2]) for dado in zip(alunos, prova1, prova2)}\n",
    "print(final)"
   ]
  }
 ],
 "metadata": {
  "kernelspec": {
   "display_name": "Python 3 (ipykernel)",
   "language": "python",
   "name": "python3"
  },
  "language_info": {
   "codemirror_mode": {
    "name": "ipython",
    "version": 3
   },
   "file_extension": ".py",
   "mimetype": "text/x-python",
   "name": "python",
   "nbconvert_exporter": "python",
   "pygments_lexer": "ipython3",
   "version": "3.11.6"
  }
 },
 "nbformat": 4,
 "nbformat_minor": 5
}
