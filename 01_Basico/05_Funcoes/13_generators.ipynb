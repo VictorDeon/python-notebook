{
 "cells": [
  {
   "cell_type": "markdown",
   "id": "47e0fe9b-f2ac-46a4-8d53-2c21c27f91f1",
   "metadata": {},
   "source": [
    "## Generators\n",
    "***\n",
    "\n",
    "Temos list comprehension, dictionary comprehension e set comprehension, porém temos mais um chamado **tuple comprehension**, porém é conhecida com o nome de Generators\n",
    "\n",
    "Falando em performace o generator é melhor que o list comprehension pois ocupa menos recurso em memória."
   ]
  },
  {
   "cell_type": "code",
   "execution_count": 1,
   "id": "e9f2a5fc-deda-4a6f-bcfa-328e06b40185",
   "metadata": {
    "tags": []
   },
   "outputs": [],
   "source": [
    "nomes = [\"Carlos\", \"Camila\", \"Carla\", \"Cassiano\", \"Cristina\", \"Vanessa\"]"
   ]
  },
  {
   "cell_type": "code",
   "execution_count": 2,
   "id": "9eb24c5f-ba49-49e5-802e-287f2e1c23da",
   "metadata": {
    "tags": []
   },
   "outputs": [
    {
     "name": "stdout",
     "output_type": "stream",
     "text": [
      "True\n"
     ]
    }
   ],
   "source": [
    "print(any([nome[0] == 'C' for nome in nomes]))"
   ]
  },
  {
   "cell_type": "code",
   "execution_count": 3,
   "id": "5b5b06d0-4f53-4cfd-a047-c79fcaabea1f",
   "metadata": {
    "tags": []
   },
   "outputs": [
    {
     "name": "stdout",
     "output_type": "stream",
     "text": [
      "True\n"
     ]
    }
   ],
   "source": [
    "# Vamos fazer a mesma coisa utilizando generators\n",
    "print(any(nome[0] == 'C' for nome in nomes))"
   ]
  },
  {
   "cell_type": "code",
   "execution_count": 4,
   "id": "f82c130b-73c8-45ef-94a0-82d97f63572b",
   "metadata": {
    "tags": []
   },
   "outputs": [],
   "source": [
    "generator = (nome[0] == 'C' for nome in nomes)"
   ]
  },
  {
   "cell_type": "code",
   "execution_count": 5,
   "id": "a6890df9-fef9-4c52-b196-08c3f584af8c",
   "metadata": {
    "tags": []
   },
   "outputs": [
    {
     "name": "stdout",
     "output_type": "stream",
     "text": [
      "<generator object <genexpr> at 0x7f2b7438e0c0>\n"
     ]
    }
   ],
   "source": [
    "print(generator)"
   ]
  },
  {
   "cell_type": "code",
   "execution_count": 6,
   "id": "0d23c9fe-8fb9-4948-a8f3-2391bd715e47",
   "metadata": {
    "tags": []
   },
   "outputs": [
    {
     "name": "stdout",
     "output_type": "stream",
     "text": [
      "True\n",
      "True\n",
      "True\n",
      "True\n",
      "True\n",
      "False\n"
     ]
    }
   ],
   "source": [
    "for i in generator:\n",
    "    print(i)"
   ]
  },
  {
   "cell_type": "code",
   "execution_count": 7,
   "id": "5471ec0c-07aa-4665-bb8d-5b20d80378c8",
   "metadata": {
    "tags": []
   },
   "outputs": [
    {
     "name": "stdout",
     "output_type": "stream",
     "text": [
      "<class 'list'>\n",
      "<class 'generator'>\n"
     ]
    }
   ],
   "source": [
    "print(type([nome[0] == 'C' for nome in nomes]))\n",
    "print(type((nome[0] == 'C' for nome in nomes)))"
   ]
  },
  {
   "cell_type": "code",
   "execution_count": 8,
   "id": "49a2c370-49a8-47dc-bc37-3e3bb9f0e4e0",
   "metadata": {
    "tags": []
   },
   "outputs": [
    {
     "name": "stdout",
     "output_type": "stream",
     "text": [
      "list comprehension: 8856 bytes na memoria\n",
      "generators: 208 bytes na memoria\n"
     ]
    }
   ],
   "source": [
    "from sys import getsizeof\n",
    "print(\"list comprehension:\", getsizeof([x * 10 for x in range(1000)]), \"bytes na memoria\")\n",
    "print(\"generators:\", getsizeof(x * 10 for x in range(1000)), \"bytes na memoria\")"
   ]
  }
 ],
 "metadata": {
  "kernelspec": {
   "display_name": "Python 3 (ipykernel)",
   "language": "python",
   "name": "python3"
  },
  "language_info": {
   "codemirror_mode": {
    "name": "ipython",
    "version": 3
   },
   "file_extension": ".py",
   "mimetype": "text/x-python",
   "name": "python",
   "nbconvert_exporter": "python",
   "pygments_lexer": "ipython3",
   "version": "3.11.6"
  }
 },
 "nbformat": 4,
 "nbformat_minor": 5
}
