{
 "cells": [
  {
   "cell_type": "markdown",
   "id": "bf11b312-f4e5-411b-a741-22c898cdd9db",
   "metadata": {},
   "source": [
    "## Reversed\n",
    "***\n",
    "\n",
    "A função reversed funciona em qualquer iterável, diferente do método .reverse que funciona só em listas.\n",
    "\n",
    "Sua função é inverter o iterável, porém ele retorna um iterável chamado List Reverse Iterator.\n",
    "\n",
    "Podemos fazer qualquer coisa que é feito em qualquer outro iteravel, como percorre-lo em um loop."
   ]
  },
  {
   "cell_type": "code",
   "execution_count": 1,
   "id": "f9d97e61-ffb2-430a-8154-76c1fd962d14",
   "metadata": {
    "tags": []
   },
   "outputs": [],
   "source": [
    "lista = [1,2,3,4,5]"
   ]
  },
  {
   "cell_type": "code",
   "execution_count": 2,
   "id": "3758299a-934f-4e47-930e-54d6589852d6",
   "metadata": {
    "tags": []
   },
   "outputs": [],
   "source": [
    "result = reversed(lista)"
   ]
  },
  {
   "cell_type": "code",
   "execution_count": 3,
   "id": "fb2bc28e-9b4d-4a1b-9631-dee67e120ec7",
   "metadata": {
    "tags": []
   },
   "outputs": [
    {
     "name": "stdout",
     "output_type": "stream",
     "text": [
      "<list_reverseiterator object at 0x7f30eef21cc0>\n"
     ]
    }
   ],
   "source": [
    "print(result)"
   ]
  },
  {
   "cell_type": "code",
   "execution_count": 4,
   "id": "f0dc5a9d-f893-4cc9-bfbf-c088c2959f70",
   "metadata": {
    "tags": []
   },
   "outputs": [
    {
     "name": "stdout",
     "output_type": "stream",
     "text": [
      "[5, 4, 3, 2, 1]\n"
     ]
    }
   ],
   "source": [
    "print(list(result))"
   ]
  },
  {
   "cell_type": "code",
   "execution_count": 5,
   "id": "55946083-ab8e-428d-a4e4-ae861a3dd5af",
   "metadata": {
    "tags": []
   },
   "outputs": [
    {
     "name": "stdout",
     "output_type": "stream",
     "text": [
      "[5, 4, 3, 2, 1]\n"
     ]
    }
   ],
   "source": [
    "# Podemos fazer a mesma coisa usando slices\n",
    "print(lista[::-1])"
   ]
  },
  {
   "cell_type": "code",
   "execution_count": 6,
   "id": "2a99fecb-4e76-4bfa-a6ed-eb763ccc55b1",
   "metadata": {
    "tags": []
   },
   "outputs": [
    {
     "name": "stdout",
     "output_type": "stream",
     "text": [
      "9,8,7,6,5,4,3,2,1,0,"
     ]
    }
   ],
   "source": [
    "for n in reversed(range(0, 10)):\n",
    "    print(n, end=\",\")"
   ]
  },
  {
   "cell_type": "code",
   "execution_count": 7,
   "id": "c6abdcef-bb95-4149-b24f-0fddf44b9ccb",
   "metadata": {
    "tags": []
   },
   "outputs": [
    {
     "name": "stdout",
     "output_type": "stream",
     "text": [
      "9,8,7,6,5,4,3,2,1,0,"
     ]
    }
   ],
   "source": [
    "for n in range(9, -1, -1):\n",
    "    print(n, end=\",\")"
   ]
  }
 ],
 "metadata": {
  "kernelspec": {
   "display_name": "Python 3 (ipykernel)",
   "language": "python",
   "name": "python3"
  },
  "language_info": {
   "codemirror_mode": {
    "name": "ipython",
    "version": 3
   },
   "file_extension": ".py",
   "mimetype": "text/x-python",
   "name": "python",
   "nbconvert_exporter": "python",
   "pygments_lexer": "ipython3",
   "version": "3.11.6"
  }
 },
 "nbformat": 4,
 "nbformat_minor": 5
}
