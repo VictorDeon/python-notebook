{
 "cells": [
  {
   "cell_type": "markdown",
   "id": "206075c3-b42b-4e10-93ea-846b73a5ca6e",
   "metadata": {},
   "source": [
    "## Filter\n",
    "\n",
    "Server para filtrar dados de uma determinada coleção\n",
    "\n",
    "A função filter recebe dois parâmetros:\n",
    "\n",
    "* O primeiro é uma função\n",
    "* O segundo é um iteravel\n",
    "\n",
    "**OBS**: Assim como o map, ao iterar sobre os itens gerados do filter ele são excluidos da memória."
   ]
  },
  {
   "cell_type": "code",
   "execution_count": 1,
   "id": "f766eed0-c2c7-4058-b3ab-29eb8ddf4cbb",
   "metadata": {
    "tags": []
   },
   "outputs": [],
   "source": [
    "valores = 1, 2, 3, 4, 5, 6"
   ]
  },
  {
   "cell_type": "code",
   "execution_count": 2,
   "id": "b0b8ee90-dd38-46ef-a0bb-60b207d75cb5",
   "metadata": {
    "tags": []
   },
   "outputs": [],
   "source": [
    "media = (sum(valores) / len(valores))"
   ]
  },
  {
   "cell_type": "code",
   "execution_count": 3,
   "id": "615b13ea-d29c-4ea2-94ae-9c0b754c80cb",
   "metadata": {
    "tags": []
   },
   "outputs": [
    {
     "name": "stdout",
     "output_type": "stream",
     "text": [
      "3.5\n"
     ]
    }
   ],
   "source": [
    "print(media)"
   ]
  },
  {
   "cell_type": "code",
   "execution_count": 4,
   "id": "dc50dc8e-ab6b-4140-8794-05a5d6f8b979",
   "metadata": {
    "tags": []
   },
   "outputs": [],
   "source": [
    "# Vamos filtra so os que estão acima da media\n",
    "passaram_de_ano = filter(lambda x: x >= 5, valores)"
   ]
  },
  {
   "cell_type": "code",
   "execution_count": 5,
   "id": "bdc57f89-9927-49a1-b32e-baae34e44163",
   "metadata": {
    "tags": []
   },
   "outputs": [
    {
     "name": "stdout",
     "output_type": "stream",
     "text": [
      "[5, 6]\n"
     ]
    }
   ],
   "source": [
    "print(list(passaram_de_ano))"
   ]
  },
  {
   "cell_type": "code",
   "execution_count": 6,
   "id": "44b8cf0b-7163-46d3-9a7a-09ed42e71c94",
   "metadata": {
    "tags": []
   },
   "outputs": [],
   "source": [
    "paises = [\"\", \"Argentina\", \"Brasil\", \"\", \"Chile\"]"
   ]
  },
  {
   "cell_type": "code",
   "execution_count": 7,
   "id": "532e2d1d-29f8-4e8d-a923-88754ab55890",
   "metadata": {
    "tags": []
   },
   "outputs": [
    {
     "name": "stdout",
     "output_type": "stream",
     "text": [
      "['Argentina', 'Brasil', 'Chile']\n"
     ]
    }
   ],
   "source": [
    "print(list(filter(None, paises)))"
   ]
  }
 ],
 "metadata": {
  "kernelspec": {
   "display_name": "Python 3 (ipykernel)",
   "language": "python",
   "name": "python3"
  },
  "language_info": {
   "codemirror_mode": {
    "name": "ipython",
    "version": 3
   },
   "file_extension": ".py",
   "mimetype": "text/x-python",
   "name": "python",
   "nbconvert_exporter": "python",
   "pygments_lexer": "ipython3",
   "version": "3.11.6"
  }
 },
 "nbformat": 4,
 "nbformat_minor": 5
}
