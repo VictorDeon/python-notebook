{
 "cells": [
  {
   "cell_type": "markdown",
   "id": "22116c87-0d2f-4e79-979a-1b56e4c04dd2",
   "metadata": {},
   "source": [
    "## Reduce\n",
    "\n",
    "Reduz seus dados de acordo com uma função passada.\n",
    "\n",
    "Imagina que você em uma coleção de dados: a1, a2, a3, ... an\n",
    "\n",
    "Você tem uma função que recebe dois parâmetros\n",
    "\n",
    "A função reduce, funciona da seguinte forma:\n",
    "* Passo 1: res1 = f(a1, a2)       Aplica a função nos dois primeiros elementos da coleção e guarda o resultado.\n",
    "* Passo 2: res2 = f(res1, a3)     Aplica a função passando o resultado do passo 1 mais o terceiro elemento e guarda o resultado\n",
    "* Passo 3: res3 = f(res2, a4)     Isso é repetido até o final\n",
    "* Passo N: resN = f(resN-1, aN+1)\n",
    "    \n",
    "Ou seja, em cad apasso ela aplica a função passando como primeiro argumento o resultado da aplicação anterior. No final reduce irá retornar o resultado final.\n",
    "\n",
    "É a mesma coisa que fazer `f(f(f(f(a1, a2), a3), ...), an)`"
   ]
  },
  {
   "cell_type": "code",
   "execution_count": 1,
   "id": "28fdf646-0770-4ea8-ac19-7f19681ad080",
   "metadata": {
    "tags": []
   },
   "outputs": [],
   "source": [
    "from functools import reduce"
   ]
  },
  {
   "cell_type": "code",
   "execution_count": 2,
   "id": "38fda6c2-612d-4a2f-80a1-e9596c2a7f0b",
   "metadata": {
    "tags": []
   },
   "outputs": [],
   "source": [
    "dados = [2, 3, 4, 5, 7, 11, 13, 17, 19, 23, 29]"
   ]
  },
  {
   "cell_type": "code",
   "execution_count": 3,
   "id": "0e5d0d6e-f20e-4e50-9320-696ab5850509",
   "metadata": {
    "tags": []
   },
   "outputs": [],
   "source": [
    "multiplicacao = lambda x, y: x * y"
   ]
  },
  {
   "cell_type": "code",
   "execution_count": 4,
   "id": "cd79adb9-ac2d-4cd8-9c50-4a0b01339a43",
   "metadata": {
    "tags": []
   },
   "outputs": [],
   "source": [
    "final_result = reduce(multiplicacao, dados)"
   ]
  },
  {
   "cell_type": "code",
   "execution_count": 5,
   "id": "f45c073c-d3a8-4d9b-abe0-d3fee0517bea",
   "metadata": {
    "tags": []
   },
   "outputs": [
    {
     "name": "stdout",
     "output_type": "stream",
     "text": [
      "25878772920\n"
     ]
    }
   ],
   "source": [
    "print(final_result)"
   ]
  },
  {
   "cell_type": "code",
   "execution_count": 6,
   "id": "548dc18c-bce6-43cf-a93b-a7b6916c207e",
   "metadata": {
    "tags": []
   },
   "outputs": [
    {
     "name": "stdout",
     "output_type": "stream",
     "text": [
      "25878772920\n"
     ]
    }
   ],
   "source": [
    "res = 1\n",
    "for n in dados:\n",
    "    res = res * n\n",
    "print(res)"
   ]
  }
 ],
 "metadata": {
  "kernelspec": {
   "display_name": "Python 3 (ipykernel)",
   "language": "python",
   "name": "python3"
  },
  "language_info": {
   "codemirror_mode": {
    "name": "ipython",
    "version": 3
   },
   "file_extension": ".py",
   "mimetype": "text/x-python",
   "name": "python",
   "nbconvert_exporter": "python",
   "pygments_lexer": "ipython3",
   "version": "3.11.6"
  }
 },
 "nbformat": 4,
 "nbformat_minor": 5
}
