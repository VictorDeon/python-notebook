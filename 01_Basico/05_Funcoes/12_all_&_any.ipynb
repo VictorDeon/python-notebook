{
 "cells": [
  {
   "cell_type": "markdown",
   "id": "f2b15fe9-60ff-4283-8aa8-0f75d894efbd",
   "metadata": {},
   "source": [
    "## All\n",
    "\n",
    "Retorna True se todos os elementos do iterável são verdadeiros ou ainda se o iterável está vazio. "
   ]
  },
  {
   "cell_type": "code",
   "execution_count": 1,
   "id": "7ae259cc-f8fa-42e8-8fc6-1a23d5c67271",
   "metadata": {
    "tags": []
   },
   "outputs": [
    {
     "name": "stdout",
     "output_type": "stream",
     "text": [
      "False\n"
     ]
    }
   ],
   "source": [
    "print(all([0, 1, 2, 3, 4, 5]))"
   ]
  },
  {
   "cell_type": "code",
   "execution_count": 2,
   "id": "faa3763e-5726-4096-8cf2-6b8b6ad6b453",
   "metadata": {
    "tags": []
   },
   "outputs": [
    {
     "name": "stdout",
     "output_type": "stream",
     "text": [
      "True\n"
     ]
    }
   ],
   "source": [
    "print(all([1, 2, 3, True, 5]))"
   ]
  },
  {
   "cell_type": "code",
   "execution_count": 3,
   "id": "7345620a-537b-4607-baec-1d8c789ff435",
   "metadata": {
    "tags": []
   },
   "outputs": [
    {
     "name": "stdout",
     "output_type": "stream",
     "text": [
      "True\n"
     ]
    }
   ],
   "source": [
    "print(all([]))"
   ]
  },
  {
   "cell_type": "markdown",
   "id": "68626f77-25f2-46ef-b687-d580c26c7db5",
   "metadata": {},
   "source": [
    "## Any\n",
    "\n",
    "Retorna True se qualquer elemento do iteravel for verdadeiro. Se o iteravel estiver vazio, retorna False"
   ]
  },
  {
   "cell_type": "code",
   "execution_count": 4,
   "id": "081b4fbc-c954-4616-b117-de5abf311c4b",
   "metadata": {
    "tags": []
   },
   "outputs": [
    {
     "name": "stdout",
     "output_type": "stream",
     "text": [
      "True\n"
     ]
    }
   ],
   "source": [
    "print(any([0, 1, 2, 3, 4, 5]))"
   ]
  },
  {
   "cell_type": "code",
   "execution_count": 5,
   "id": "90e46250-7b45-4b6a-ab3d-61e009c69503",
   "metadata": {
    "tags": []
   },
   "outputs": [
    {
     "name": "stdout",
     "output_type": "stream",
     "text": [
      "True\n"
     ]
    }
   ],
   "source": [
    "print(any([1, 2, 3, 4, 5]))"
   ]
  },
  {
   "cell_type": "code",
   "execution_count": 6,
   "id": "fbcc3115-2495-476f-8909-e2efb64da4f6",
   "metadata": {
    "tags": []
   },
   "outputs": [
    {
     "name": "stdout",
     "output_type": "stream",
     "text": [
      "False\n"
     ]
    }
   ],
   "source": [
    "print(any([]))"
   ]
  },
  {
   "cell_type": "code",
   "execution_count": 7,
   "id": "ffc04afb-93b6-4a63-859c-d06e2fdc1711",
   "metadata": {
    "tags": []
   },
   "outputs": [
    {
     "name": "stdout",
     "output_type": "stream",
     "text": [
      "False\n"
     ]
    }
   ],
   "source": [
    "print(any([False, False, False, 0, False]))"
   ]
  }
 ],
 "metadata": {
  "kernelspec": {
   "display_name": "Python 3 (ipykernel)",
   "language": "python",
   "name": "python3"
  },
  "language_info": {
   "codemirror_mode": {
    "name": "ipython",
    "version": 3
   },
   "file_extension": ".py",
   "mimetype": "text/x-python",
   "name": "python",
   "nbconvert_exporter": "python",
   "pygments_lexer": "ipython3",
   "version": "3.11.6"
  }
 },
 "nbformat": 4,
 "nbformat_minor": 5
}
