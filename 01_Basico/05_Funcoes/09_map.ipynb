{
 "cells": [
  {
   "cell_type": "markdown",
   "id": "7ee942e3-de3e-4036-a67c-f90ec389a8a7",
   "metadata": {},
   "source": [
    "## Map\n",
    "\n",
    "Com map, fazemos mapeamento de valores para função, ela recebe 2 parâmetros:\n",
    "\n",
    "* O primeiro é a funçao\n",
    "* O segundo é um iteravel\n",
    "\n",
    "Ele percorre cada item do iteravel e executa a função em cada um deles, retornando uma lista com os resultados.\n",
    "\n",
    "**OBS**: Após utilizar a função map() depois da primeira utilização do resultado, ele zera. Por exemplo, se a gente percorrer o resultado do map na segunda vez que for percorre-lo não terá mais nada."
   ]
  },
  {
   "cell_type": "code",
   "execution_count": 1,
   "id": "0a6ce70a-0c93-45bc-b984-821942d92c4e",
   "metadata": {
    "tags": []
   },
   "outputs": [],
   "source": [
    "import math"
   ]
  },
  {
   "cell_type": "code",
   "execution_count": 2,
   "id": "e8228da0-da26-42d5-b5d9-07a5912216bd",
   "metadata": {
    "tags": []
   },
   "outputs": [],
   "source": [
    "def area(r):\n",
    "    \"\"\"\n",
    "    Calcula a area de um circulo com raio r\n",
    "    \"\"\"\n",
    "    \n",
    "    return math.pi * (r**2)"
   ]
  },
  {
   "cell_type": "code",
   "execution_count": 3,
   "id": "11493957-0af6-413c-add5-9efbd6f497b8",
   "metadata": {
    "tags": []
   },
   "outputs": [
    {
     "name": "stdout",
     "output_type": "stream",
     "text": [
      "12.566370614359172\n",
      "88.24733763933729\n"
     ]
    }
   ],
   "source": [
    "print(area(2))\n",
    "print(area(5.3))"
   ]
  },
  {
   "cell_type": "code",
   "execution_count": 4,
   "id": "c7a9efb2-69ee-498d-a32f-f5384878202c",
   "metadata": {
    "tags": []
   },
   "outputs": [],
   "source": [
    "raios = [2, 5, 7.1, 0.3, 10, 44]"
   ]
  },
  {
   "cell_type": "code",
   "execution_count": 5,
   "id": "d6f355e4-5de5-4b0a-8439-c4f5e25affd8",
   "metadata": {
    "tags": []
   },
   "outputs": [
    {
     "name": "stdout",
     "output_type": "stream",
     "text": [
      "[12.566370614359172, 78.53981633974483, 158.36768566746147, 0.2827433388230814, 314.1592653589793, 6082.12337734984]\n"
     ]
    }
   ],
   "source": [
    "# Forma com loop\n",
    "areas = []\n",
    "for raio in raios:\n",
    "    areas.append(area(raio))\n",
    "\n",
    "print(areas)"
   ]
  },
  {
   "cell_type": "code",
   "execution_count": 6,
   "id": "959a5ce7-7443-4f83-8932-502e3ba1caa7",
   "metadata": {
    "tags": []
   },
   "outputs": [
    {
     "name": "stdout",
     "output_type": "stream",
     "text": [
      "[12.566370614359172, 78.53981633974483, 158.36768566746147, 0.2827433388230814, 314.1592653589793, 6082.12337734984]\n"
     ]
    }
   ],
   "source": [
    "areas = list(map(area, raios))\n",
    "print(areas)"
   ]
  },
  {
   "cell_type": "code",
   "execution_count": 7,
   "id": "a6d3e544-2cf7-408c-b4fd-e0d975a466a4",
   "metadata": {
    "tags": []
   },
   "outputs": [
    {
     "name": "stdout",
     "output_type": "stream",
     "text": [
      "12.566370614359172\n",
      "78.53981633974483\n",
      "158.36768566746147\n",
      "0.2827433388230814\n",
      "314.1592653589793\n",
      "6082.12337734984\n"
     ]
    }
   ],
   "source": [
    "areas = map(area, raios)\n",
    "for area in areas:\n",
    "    print(area)\n",
    "    \n",
    "for area in areas:\n",
    "    print(\"Não tenho mais nada dentro de areas.\")\n",
    "    print(area)"
   ]
  }
 ],
 "metadata": {
  "kernelspec": {
   "display_name": "Python 3 (ipykernel)",
   "language": "python",
   "name": "python3"
  },
  "language_info": {
   "codemirror_mode": {
    "name": "ipython",
    "version": 3
   },
   "file_extension": ".py",
   "mimetype": "text/x-python",
   "name": "python",
   "nbconvert_exporter": "python",
   "pygments_lexer": "ipython3",
   "version": "3.11.6"
  }
 },
 "nbformat": 4,
 "nbformat_minor": 5
}
