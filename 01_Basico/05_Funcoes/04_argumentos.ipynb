{
 "cells": [
  {
   "cell_type": "markdown",
   "metadata": {},
   "source": [
    "# Argumentos\n",
    "***"
   ]
  },
  {
   "cell_type": "markdown",
   "metadata": {},
   "source": [
    "No python podemos inserir vários argumentos em uma função sem saber o número de argumentos utilizando o operador * no argumento\n",
    "\n",
    "```py\n",
    "def soma(*args):\n",
    "    # Implementação\n",
    "    \n",
    "soma(1,2,3,4,5,...)\n",
    "```\n",
    "\n",
    "Podemos também passar em forma de dicionario:\n",
    "\n",
    "```py\n",
    "def pessoas(**kwargs):\n",
    "    for key in kwargs:\n",
    "        print(\"%s\" % kwargs[key], end=\", \")\n",
    "    \n",
    "pessoas(p1=\"João\", p2=\"Pedro\", p3=\"Maria\")\n",
    "```\n",
    "\n",
    "\n",
    "Com isso o python vai pegar todos os argumentos passados na função e transformar em uma tupla chamada numeros\n",
    "\n",
    "Porém o *numeros tem que ser o ultimo argumento da função, por exemplo, não pode:\n",
    "\n",
    "```py\n",
    "# Não pode\n",
    "def soma(*numeros, numero):\n",
    "    # Implementação\n",
    "```\n",
    "\n",
    "Podemos deixar valores pré definidos no argumento da função caso o usuário não passe nada\n",
    "\n",
    "```py\n",
    "def media(p1, p2, p3, peso1 = 1, peso2 = 2, peso3 = 3):\n",
    "    # Implementação\n",
    "```\n",
    "\n",
    "Os argumentos definidos também tem que ser no final, não pode ter uma argumento definido no meio dos argumentos não definidos"
   ]
  },
  {
   "cell_type": "markdown",
   "metadata": {},
   "source": [
    "***\n",
    "#### Exemplos\n",
    "***"
   ]
  },
  {
   "cell_type": "code",
   "execution_count": 1,
   "metadata": {
    "tags": []
   },
   "outputs": [],
   "source": [
    "# Função que retorna o maior número da lista de números passados\n",
    "def the_biggest(*numbers):\n",
    "    bigger = numbers[0]\n",
    "    for number in numbers:\n",
    "        if number > bigger:\n",
    "            bigger = number\n",
    "    return bigger"
   ]
  },
  {
   "cell_type": "code",
   "execution_count": 2,
   "metadata": {
    "tags": []
   },
   "outputs": [
    {
     "name": "stdout",
     "output_type": "stream",
     "text": [
      "67\n"
     ]
    }
   ],
   "source": [
    "print(the_biggest(1,2,5,4,7,33,67,4,22,3,4,55,66))"
   ]
  },
  {
   "cell_type": "markdown",
   "metadata": {},
   "source": [
    "***"
   ]
  },
  {
   "cell_type": "code",
   "execution_count": 3,
   "metadata": {
    "tags": []
   },
   "outputs": [
    {
     "name": "stdout",
     "output_type": "stream",
     "text": [
      "João, Pedro, Maria, "
     ]
    }
   ],
   "source": [
    "# Função que recebe um dicionario de dados\n",
    "def pessoas(**kwargs):\n",
    "    for key in kwargs:\n",
    "        print(\"%s\" % kwargs[key], end=\", \")\n",
    "    \n",
    "pessoas(p1=\"João\", p2=\"Pedro\", p3=\"Maria\")"
   ]
  },
  {
   "cell_type": "markdown",
   "metadata": {},
   "source": [
    "***\n",
    "### Argumento somente posicionais ou nomeados\n",
    "***\n",
    "\n",
    "Obriga a pessoa a passar os argumentos da função somente posicionais, um exemplo é os coversores de tipo:\n",
    "\n",
    "```\n",
    "int(\"10\")\n",
    "float(\"24.3\")\n",
    "```\n",
    "\n",
    "Eles não permitem que você passe parâmetros nomeados como abaixo:\n",
    "\n",
    "```\n",
    "int(x=\"10\")\n",
    "float(x=\"24.3\")\n",
    "```\n",
    "\n",
    "Eles te obrigam a passar o argumento posicional.\n",
    "\n",
    "A partir da versão 3.8 podemos criar funções com argumentos somente posicionais, é só passar o `/` nos argumentos, tudo que tiver antes da `/` será somente posicional.\n",
    "\n",
    "Da mesma forma podemos fazer com parâmetros nomeados passando o `*` nos argumentos, tudo que tiver depois do `*` será obrigatoriamente parâmetro nomeado."
   ]
  },
  {
   "cell_type": "code",
   "execution_count": 4,
   "metadata": {
    "tags": []
   },
   "outputs": [],
   "source": [
    "def soma_posicional(x: int, y: int, /, z: int = 10, *, w: int) -> int:\n",
    "    \"\"\"\n",
    "    Recebe dois argumentos posicionais do tipo inteiro e um argumento nomeado e retorna\n",
    "    a soma desses valores.\n",
    "    \"\"\"\n",
    "\n",
    "    return x + y + z + w"
   ]
  },
  {
   "cell_type": "code",
   "execution_count": 5,
   "metadata": {
    "tags": []
   },
   "outputs": [
    {
     "name": "stdout",
     "output_type": "stream",
     "text": [
      "70\n",
      "70\n"
     ]
    }
   ],
   "source": [
    "print(soma_posicional(10, 20, w=30))\n",
    "print(soma_posicional(10, 20, z=30, w=10))"
   ]
  },
  {
   "cell_type": "code",
   "execution_count": 6,
   "metadata": {
    "tags": []
   },
   "outputs": [
    {
     "ename": "TypeError",
     "evalue": "soma_posicional() takes from 2 to 3 positional arguments but 4 were given",
     "output_type": "error",
     "traceback": [
      "\u001b[0;31m---------------------------------------------------------------------------\u001b[0m",
      "\u001b[0;31mTypeError\u001b[0m                                 Traceback (most recent call last)",
      "Cell \u001b[0;32mIn[6], line 1\u001b[0m\n\u001b[0;32m----> 1\u001b[0m \u001b[38;5;28mprint\u001b[39m(\u001b[43msoma_posicional\u001b[49m\u001b[43m(\u001b[49m\u001b[38;5;241;43m10\u001b[39;49m\u001b[43m,\u001b[49m\u001b[43m \u001b[49m\u001b[38;5;241;43m20\u001b[39;49m\u001b[43m,\u001b[49m\u001b[43m \u001b[49m\u001b[38;5;241;43m30\u001b[39;49m\u001b[43m,\u001b[49m\u001b[43m \u001b[49m\u001b[38;5;241;43m40\u001b[39;49m\u001b[43m)\u001b[49m)\n",
      "\u001b[0;31mTypeError\u001b[0m: soma_posicional() takes from 2 to 3 positional arguments but 4 were given"
     ]
    }
   ],
   "source": [
    "print(soma_posicional(10, 20, 30, 40))"
   ]
  },
  {
   "cell_type": "code",
   "execution_count": 7,
   "metadata": {
    "tags": []
   },
   "outputs": [
    {
     "ename": "TypeError",
     "evalue": "soma_posicional() got some positional-only arguments passed as keyword arguments: 'x, y'",
     "output_type": "error",
     "traceback": [
      "\u001b[0;31m---------------------------------------------------------------------------\u001b[0m",
      "\u001b[0;31mTypeError\u001b[0m                                 Traceback (most recent call last)",
      "Cell \u001b[0;32mIn[7], line 1\u001b[0m\n\u001b[0;32m----> 1\u001b[0m \u001b[38;5;28mprint\u001b[39m(\u001b[43msoma_posicional\u001b[49m\u001b[43m(\u001b[49m\u001b[43mx\u001b[49m\u001b[38;5;241;43m=\u001b[39;49m\u001b[38;5;241;43m10\u001b[39;49m\u001b[43m,\u001b[49m\u001b[43m \u001b[49m\u001b[43my\u001b[49m\u001b[38;5;241;43m=\u001b[39;49m\u001b[38;5;241;43m20\u001b[39;49m\u001b[43m,\u001b[49m\u001b[43m \u001b[49m\u001b[43mz\u001b[49m\u001b[38;5;241;43m=\u001b[39;49m\u001b[38;5;241;43m30\u001b[39;49m\u001b[43m,\u001b[49m\u001b[43m \u001b[49m\u001b[43mw\u001b[49m\u001b[38;5;241;43m=\u001b[39;49m\u001b[38;5;241;43m10\u001b[39;49m\u001b[43m)\u001b[49m)\n",
      "\u001b[0;31mTypeError\u001b[0m: soma_posicional() got some positional-only arguments passed as keyword arguments: 'x, y'"
     ]
    }
   ],
   "source": [
    "print(soma_posicional(x=10, y=20, z=30, w=10))"
   ]
  }
 ],
 "metadata": {
  "kernelspec": {
   "display_name": "Python 3 (ipykernel)",
   "language": "python",
   "name": "python3"
  },
  "language_info": {
   "codemirror_mode": {
    "name": "ipython",
    "version": 3
   },
   "file_extension": ".py",
   "mimetype": "text/x-python",
   "name": "python",
   "nbconvert_exporter": "python",
   "pygments_lexer": "ipython3",
   "version": "3.11.6"
  }
 },
 "nbformat": 4,
 "nbformat_minor": 4
}
