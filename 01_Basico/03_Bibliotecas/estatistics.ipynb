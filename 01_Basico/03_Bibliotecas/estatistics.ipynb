{
 "cells": [
  {
   "cell_type": "markdown",
   "id": "a221bce2-a45d-4c8b-a991-23c1a995c137",
   "metadata": {},
   "source": [
    "## Modulo de estatísticas\n",
    "***"
   ]
  },
  {
   "cell_type": "code",
   "execution_count": 1,
   "id": "92fbc663-544e-4e04-92e3-a1507f9a3941",
   "metadata": {
    "tags": []
   },
   "outputs": [],
   "source": [
    "from statistics import *"
   ]
  },
  {
   "cell_type": "code",
   "execution_count": 2,
   "id": "d71c0e09-ee0d-48bb-b89f-320225db04a9",
   "metadata": {
    "tags": []
   },
   "outputs": [
    {
     "name": "stdout",
     "output_type": "stream",
     "text": [
      "25.4191625\n",
      "24.75\n"
     ]
    }
   ],
   "source": [
    "# fmean - Calcula a média de números reais\n",
    "valores_reais = [1.45, 6.789, 3.45, 89.98765]\n",
    "valores_inteiros = [1, 6, 3, 89]\n",
    "print(fmean(valores_reais))\n",
    "print(fmean(valores_inteiros))"
   ]
  },
  {
   "cell_type": "code",
   "execution_count": 3,
   "id": "60468a6d-1bbe-42e8-a9d7-56cf8bc7435a",
   "metadata": {
    "tags": []
   },
   "outputs": [
    {
     "name": "stdout",
     "output_type": "stream",
     "text": [
      "7.435222238889638\n",
      "6.326530818100785\n"
     ]
    }
   ],
   "source": [
    "# geometric_mean - Calcula a média geometrica de números reais\n",
    "valores_reais = [1.45, 6.789, 3.45, 89.98765]\n",
    "valores_inteiros = [1, 6, 3, 89]\n",
    "print(geometric_mean(valores_reais))\n",
    "print(geometric_mean(valores_inteiros))"
   ]
  },
  {
   "cell_type": "code",
   "execution_count": 4,
   "id": "52748d8d-164f-43d6-95b7-f325da56e63d",
   "metadata": {
    "tags": []
   },
   "outputs": [
    {
     "name": "stdout",
     "output_type": "stream",
     "text": [
      "[' ', 'n', 'o']\n",
      "[3]\n",
      "[1, 2, 3]\n"
     ]
    }
   ],
   "source": [
    "# multimode - Retorna os valores mais frequente em uma sequencia.\n",
    "seq1 = 'Ola mundo python'\n",
    "seq2 = [3, 5, 3, 8, 7, 9, 5, 3]\n",
    "seq3 = [1,2,3,1,2,3,4,5,6]\n",
    "print(multimode(seq1))\n",
    "print(multimode(seq2))\n",
    "print(multimode(seq3))"
   ]
  }
 ],
 "metadata": {
  "kernelspec": {
   "display_name": "Python 3 (ipykernel)",
   "language": "python",
   "name": "python3"
  },
  "language_info": {
   "codemirror_mode": {
    "name": "ipython",
    "version": 3
   },
   "file_extension": ".py",
   "mimetype": "text/x-python",
   "name": "python",
   "nbconvert_exporter": "python",
   "pygments_lexer": "ipython3",
   "version": "3.11.6"
  }
 },
 "nbformat": 4,
 "nbformat_minor": 5
}
