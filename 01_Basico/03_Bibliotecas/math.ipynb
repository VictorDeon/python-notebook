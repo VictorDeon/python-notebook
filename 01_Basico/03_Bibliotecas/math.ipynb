{
 "cells": [
  {
   "cell_type": "markdown",
   "metadata": {},
   "source": [
    "# Biblioteca math\n",
    "***"
   ]
  },
  {
   "cell_type": "markdown",
   "metadata": {},
   "source": [
    "#### Outros\n",
    "\n",
    "* **asin(), acos(), atan()**: Retorna o arcoseno, arcosseno e arcotangente de x, retorna em radianos\n",
    "\n",
    "\n",
    "* **sinh(), cosh(), tanh()**: Retorna o seno hiperbolico, cosseno hiperbolico e tangente hiperbolica de x, retorna em radianos\n",
    "\n",
    "\n",
    "* **asinh(), acosh(), atanh()**: Retorna o inverso hiperbolico do seno, inverso hiperbolico do cosseno e inverso hiperbolico da tangente de x, retorna em radianos\n",
    "\n",
    "* **erf()**: Retorna a função de erro em x.\n",
    "\n",
    "\n",
    "* **erfc()**: Retorna a função de erro complementar em x.\n",
    "\n",
    "\n",
    "* **gamma()**: Retorna a função gamma de x\n",
    "\n",
    "\n",
    "* **lgamma()**: Retorna o logaritmo natural do valor absoluto da função Gama em x.\n",
    "\n",
    "\n",
    "* **prod**: Produto de um container numerico = 2 * 3 * 6 * 8\n",
    "\n",
    "\n",
    "* **dist**: Retorna a distância euclidiana entre dois pontos, sendo 3D (X,Y,Z) ou 2D (X,Y)\n",
    "\n",
    "\n",
    "* **hypot**: Retorna a hipotenusa ou norma Euclidiana\n",
    "\n",
    "\n",
    "* **Observação**:\n",
    "  - Uma linguagem modular é uma linguagem que boa parte do código já ta escrito e a gente pode usar ela\n",
    "  - Para pegar uma biblioteca do python é só usar o seguinte comando: ```import math```\n",
    "  - Para acessar um elemento das bibliotecas temos que inserir o nome da biblioteca.metodo: ```math.sin()```\n",
    "  - Para imprimir um único comando: from math import sin, quando é importado desse forma pode chamar o método diretamente\n",
    "  - Também podemos importar da seguinte maneira: ```import math as m```, assim pode-se usar ```m.sin()```\n",
    "  - Outra foram é: ```from math import sin as seno, seno()```\n",
    "  - Para calcular a raiz cubica usa o: ```pow(x, 1/3)```\n",
    "  - Forma mais eficiente de importar, importa todas as funções da biblioteca: ```from math import *```"
   ]
  },
  {
   "cell_type": "markdown",
   "metadata": {},
   "source": [
    "***\n",
    "#### Exemplo\n",
    "***"
   ]
  },
  {
   "cell_type": "code",
   "execution_count": 1,
   "metadata": {
    "tags": []
   },
   "outputs": [],
   "source": [
    "from math import *"
   ]
  },
  {
   "cell_type": "markdown",
   "metadata": {},
   "source": [
    "***"
   ]
  },
  {
   "cell_type": "code",
   "execution_count": 2,
   "metadata": {},
   "outputs": [
    {
     "name": "stdout",
     "output_type": "stream",
     "text": [
      "Maior valor arredondado de 10.4 = 11\n",
      "Maior valor arredondado de -10.8 -10\n"
     ]
    }
   ],
   "source": [
    "# Retorna o menor valor inteiro que seja maior ou igual a x\n",
    "print(\"Maior valor arredondado de 10.4 =\", ceil(10.4))\n",
    "print(\"Maior valor arredondado de -10.8\", ceil(-10.8))"
   ]
  },
  {
   "cell_type": "markdown",
   "metadata": {},
   "source": [
    "***"
   ]
  },
  {
   "cell_type": "code",
   "execution_count": 3,
   "metadata": {},
   "outputs": [
    {
     "name": "stdout",
     "output_type": "stream",
     "text": [
      "Menor valor de 10.2 = 10\n",
      "Menor valor de -10.8 = -11\n"
     ]
    }
   ],
   "source": [
    "# Retorna o maior valor inteiro que seja menor ou igual a x\n",
    "print(\"Menor valor de 10.2 =\", floor(10.2))\n",
    "print(\"Menor valor de -10.8 =\", floor(-10.8))"
   ]
  },
  {
   "cell_type": "markdown",
   "metadata": {},
   "source": [
    "***"
   ]
  },
  {
   "cell_type": "code",
   "execution_count": 4,
   "metadata": {},
   "outputs": [
    {
     "name": "stdout",
     "output_type": "stream",
     "text": [
      "Truncamento de 2.3 = 2\n",
      "Truncamento de 2.8 = 2\n",
      "Truncamento de -2.5 = -2\n",
      "Truncamento de -2.8 = -2\n"
     ]
    }
   ],
   "source": [
    "# Arredonda x em direção a zero, retornando o valor integral mais próximo que não é maior em magnitude que x.\n",
    "print(\"Truncamento de 2.3 =\", trunc(2.3))\n",
    "print(\"Truncamento de 2.8 =\", trunc(2.8))\n",
    "print(\"Truncamento de -2.5 =\", trunc(-2.5))\n",
    "print(\"Truncamento de -2.8 =\", trunc(-2.8))"
   ]
  },
  {
   "cell_type": "markdown",
   "metadata": {},
   "source": [
    "***"
   ]
  },
  {
   "cell_type": "code",
   "execution_count": 5,
   "metadata": {},
   "outputs": [
    {
     "name": "stdout",
     "output_type": "stream",
     "text": [
      "Copia o sinal de -1.0 para 10.0 = -10.0\n",
      "Copia o sinal de -2.0 para -7.4 = -7.4\n",
      "Copia o sinal de 2.0 para -7 = 7.0\n"
     ]
    }
   ],
   "source": [
    "# Retorna um float com a magnitude (valor absoluto) de x, porém com o sinal de y\n",
    "print(\"Copia o sinal de -1.0 para 10.0 =\", copysign(10.0, -1.0))\n",
    "print(\"Copia o sinal de -2.0 para -7.4 =\", copysign(-7.4, -2.0))\n",
    "print(\"Copia o sinal de 2.0 para -7 =\", copysign(-7, 2.0))"
   ]
  },
  {
   "cell_type": "markdown",
   "metadata": {},
   "source": [
    "***"
   ]
  },
  {
   "cell_type": "code",
   "execution_count": 6,
   "metadata": {},
   "outputs": [
    {
     "name": "stdout",
     "output_type": "stream",
     "text": [
      "Modulo de -10 = 10.0\n",
      "Modulo de 10 = 10.0\n"
     ]
    }
   ],
   "source": [
    "# Retorna o valor absoluto de x, |x|\n",
    "print(\"Modulo de -10 =\", fabs(-10))\n",
    "print(\"Modulo de 10 =\", fabs(10))"
   ]
  },
  {
   "cell_type": "markdown",
   "metadata": {},
   "source": [
    "***"
   ]
  },
  {
   "cell_type": "code",
   "execution_count": 7,
   "metadata": {},
   "outputs": [
    {
     "name": "stdout",
     "output_type": "stream",
     "text": [
      "Fatorial de 5 = 120\n",
      "Fatorial de 0 = 1\n"
     ]
    }
   ],
   "source": [
    "# Retorna o x fatorial ou x!, Devolve um erro se x não é inteiro, ou se x é negativo\n",
    "print(\"Fatorial de 5 =\", factorial(5))\n",
    "print(\"Fatorial de 0 =\", factorial(0))"
   ]
  },
  {
   "cell_type": "markdown",
   "metadata": {},
   "source": [
    "***"
   ]
  },
  {
   "cell_type": "code",
   "execution_count": 8,
   "metadata": {},
   "outputs": [
    {
     "name": "stdout",
     "output_type": "stream",
     "text": [
      "Resto da divisão de 10/3 = 1.0\n",
      "Resto da divisão de 10/2 = 0.0\n"
     ]
    }
   ],
   "source": [
    "# Funciona como o operador de modulo do python, porém é melhor para lidar com números reais\n",
    "print(\"Resto da divisão de 10/3 =\", fmod(10,3))\n",
    "print(\"Resto da divisão de 10/2 =\", fmod(10,2))"
   ]
  },
  {
   "cell_type": "markdown",
   "metadata": {},
   "source": [
    "***"
   ]
  },
  {
   "cell_type": "code",
   "execution_count": 9,
   "metadata": {},
   "outputs": [
    {
     "name": "stdout",
     "output_type": "stream",
     "text": [
      "10.3 não é um número? False\n"
     ]
    }
   ],
   "source": [
    "# Verifica se o número passado é um número\n",
    "print(\"10.3 não é um número?\", isnan(10.3))"
   ]
  },
  {
   "cell_type": "markdown",
   "metadata": {},
   "source": [
    "***"
   ]
  },
  {
   "cell_type": "code",
   "execution_count": 10,
   "metadata": {},
   "outputs": [
    {
     "name": "stdout",
     "output_type": "stream",
     "text": [
      "e**2 = 7.38905609893065\n"
     ]
    }
   ],
   "source": [
    "# Retorna e**x, na qual e = 2.718281\n",
    "print(\"e**2 =\", exp(2))"
   ]
  },
  {
   "cell_type": "markdown",
   "metadata": {},
   "source": [
    "***"
   ]
  },
  {
   "cell_type": "code",
   "execution_count": 11,
   "metadata": {},
   "outputs": [
    {
     "name": "stdout",
     "output_type": "stream",
     "text": [
      "log de 5 na base e = 1.6094379124341003\n",
      "log de 5 na base 3 = 1.4649735207179269\n"
     ]
    }
   ],
   "source": [
    "# Com um argumento, devolva o logaritmo natural de x (para a base e), \n",
    "print(\"log de 5 na base e =\", log(5))\n",
    "# Com dois argumentos, devolva o logaritmo de x à base dada, calculada como log(x)/log(base).\n",
    "print(\"log de 5 na base 3 =\", log(5, 3))"
   ]
  },
  {
   "cell_type": "markdown",
   "metadata": {},
   "source": [
    "***"
   ]
  },
  {
   "cell_type": "code",
   "execution_count": 12,
   "metadata": {},
   "outputs": [
    {
     "name": "stdout",
     "output_type": "stream",
     "text": [
      "log de 5 na base 10 = 0.6989700043360189\n"
     ]
    }
   ],
   "source": [
    "# Retorna o logaritmo base-10 de x. Isso geralmente é mais preciso do que log(x, 10).\n",
    "print(\"log de 5 na base 10 =\", log10(5))"
   ]
  },
  {
   "cell_type": "markdown",
   "metadata": {},
   "source": [
    "***"
   ]
  },
  {
   "cell_type": "code",
   "execution_count": 13,
   "metadata": {},
   "outputs": [
    {
     "name": "stdout",
     "output_type": "stream",
     "text": [
      "5 ao cubo = 125.0\n"
     ]
    }
   ],
   "source": [
    "# Retorna x elevado à potência y.\n",
    "print(\"5 ao cubo =\", pow(5, 3))"
   ]
  },
  {
   "cell_type": "markdown",
   "metadata": {},
   "source": [
    "***"
   ]
  },
  {
   "cell_type": "code",
   "execution_count": 14,
   "metadata": {
    "tags": []
   },
   "outputs": [
    {
     "name": "stdout",
     "output_type": "stream",
     "text": [
      "raiz quadrada de 9 = 3.0\n",
      "parte inteira da raiz quadrada de 17 = 4\n"
     ]
    }
   ],
   "source": [
    "# Retorna a raiz quadrada de x.\n",
    "print(\"raiz quadrada de 9 =\", sqrt(9))\n",
    "print(\"parte inteira da raiz quadrada de 17 =\", isqrt(17))"
   ]
  },
  {
   "cell_type": "markdown",
   "metadata": {},
   "source": [
    "***"
   ]
  },
  {
   "cell_type": "code",
   "execution_count": 15,
   "metadata": {},
   "outputs": [
    {
     "name": "stdout",
     "output_type": "stream",
     "text": [
      "Raiz cubica de 64 = 3.9999999999999996\n"
     ]
    }
   ],
   "source": [
    "# Ao inserir a potencia como uma fração estamos usando a raiz do seu denominado\n",
    "print(\"Raiz cubica de 64 =\", pow(64, 1/3))"
   ]
  },
  {
   "cell_type": "markdown",
   "metadata": {},
   "source": [
    "***"
   ]
  },
  {
   "cell_type": "code",
   "execution_count": 16,
   "metadata": {},
   "outputs": [
    {
     "name": "stdout",
     "output_type": "stream",
     "text": [
      "Seno(30) = -0.9880316240928618\n",
      "cosseno(30) = 0.15425144988758405\n",
      "Tangente(30) = -6.405331196646276\n"
     ]
    }
   ],
   "source": [
    "# Retorna o seno, cosseno e tangente de x, retorna em radianos\n",
    "print(\"Seno(30) =\", sin(30))\n",
    "print(\"cosseno(30) =\", cos(30))\n",
    "print(\"Tangente(30) =\", tan(30))"
   ]
  },
  {
   "cell_type": "markdown",
   "metadata": {},
   "source": [
    "***"
   ]
  },
  {
   "cell_type": "code",
   "execution_count": 17,
   "metadata": {},
   "outputs": [
    {
     "name": "stdout",
     "output_type": "stream",
     "text": [
      "Hipotenusa(15, 20) = 25.0\n"
     ]
    }
   ],
   "source": [
    "# Retorna a hipotenusa ou tamanho do vetor da origem até os pontos x e y, sqrt(x*x + y*y).\n",
    "print(\"Hipotenusa(15, 20) =\", hypot(15, 20))"
   ]
  },
  {
   "cell_type": "markdown",
   "metadata": {},
   "source": [
    "***"
   ]
  },
  {
   "cell_type": "code",
   "execution_count": 18,
   "metadata": {},
   "outputs": [
    {
     "name": "stdout",
     "output_type": "stream",
     "text": [
      "Valor de PI = 3.141592653589793\n",
      "Valor de e = 2.718281828459045\n",
      "30 rad = 1718.8733853924696 °C\n",
      "30°C = 0.5235987755982988 rad\n"
     ]
    }
   ],
   "source": [
    "# Constantes e Conversões\n",
    "print(\"Valor de PI =\", pi)\n",
    "print(\"Valor de e =\", e)\n",
    "print(\"30 rad =\", degrees(30), \"°C\")\n",
    "print(\"30°C =\", radians(30), \"rad\")"
   ]
  },
  {
   "cell_type": "code",
   "execution_count": 19,
   "metadata": {
    "tags": []
   },
   "outputs": [
    {
     "name": "stdout",
     "output_type": "stream",
     "text": [
      "288\n",
      "288\n",
      "288\n"
     ]
    }
   ],
   "source": [
    "# prod - Produto (*) de um container numerico = 2 * 3 * 6 * 8\n",
    "x1 = [2, 3, 6, 8]\n",
    "x2 = (2, 3, 6, 8)\n",
    "x3 = {2, 3, 6, 8}\n",
    "\n",
    "print(prod(x1))\n",
    "print(prod(x2))\n",
    "print(prod(x3))"
   ]
  },
  {
   "cell_type": "code",
   "execution_count": 20,
   "metadata": {
    "tags": []
   },
   "outputs": [
    {
     "name": "stdout",
     "output_type": "stream",
     "text": [
      "51.12729212465687\n",
      "43.41658669218482\n"
     ]
    }
   ],
   "source": [
    "# dist - Retorna a distância euclidiana entre dois pontos, sendo 3D (X,Y,Z) ou 2D (X,Y)\n",
    "pontos_3D1 = (12, 50, 40)\n",
    "pontos_3D2 = (6, 7, 13)\n",
    "print(dist(pontos_3D1, pontos_3D2))\n",
    "\n",
    "pontos_2D1 = (12, 50)\n",
    "pontos_2D2 = (6, 7)\n",
    "print(dist(pontos_2D1, pontos_2D2))"
   ]
  },
  {
   "cell_type": "code",
   "execution_count": 21,
   "metadata": {
    "tags": []
   },
   "outputs": [
    {
     "name": "stdout",
     "output_type": "stream",
     "text": [
      "65.14598989960932\n",
      "51.419840528729765\n"
     ]
    }
   ],
   "source": [
    "# hypot - Retorna a hipotenusa ou norma Euclidiana\n",
    "pontos_3D = (12, 50, 40)\n",
    "print(hypot(*pontos_3D))\n",
    "pontos_2D = (12, 50)\n",
    "print(hypot(*pontos_2D))"
   ]
  }
 ],
 "metadata": {
  "kernelspec": {
   "display_name": "Python 3 (ipykernel)",
   "language": "python",
   "name": "python3"
  },
  "language_info": {
   "codemirror_mode": {
    "name": "ipython",
    "version": 3
   },
   "file_extension": ".py",
   "mimetype": "text/x-python",
   "name": "python",
   "nbconvert_exporter": "python",
   "pygments_lexer": "ipython3",
   "version": "3.11.6"
  }
 },
 "nbformat": 4,
 "nbformat_minor": 4
}
