{
 "cells": [
  {
   "cell_type": "markdown",
   "metadata": {},
   "source": [
    "## Sets\n",
    "***\n",
    "\n",
    "São os conjuntos da matemática, ou seja, não permite elementos repetidos\n",
    "\n",
    "Nos SETS você não pode modificar os itens só inserir e deletar"
   ]
  },
  {
   "cell_type": "markdown",
   "metadata": {},
   "source": [
    "***\n",
    "### Criando um set\n",
    "***"
   ]
  },
  {
   "cell_type": "code",
   "execution_count": 1,
   "metadata": {},
   "outputs": [
    {
     "name": "stdout",
     "output_type": "stream",
     "text": [
      "{'melancia', 'banana', 'pera'}\n",
      "{'melancia', 'banana', 'pera'}\n"
     ]
    }
   ],
   "source": [
    "conjuntos = {\"banana\", \"pera\", \"melancia\", \"pera\"}\n",
    "print(conjuntos)\n",
    "conjuntos = set((\"banana\", \"pera\", \"melancia\", \"pera\"))\n",
    "print(conjuntos)"
   ]
  },
  {
   "cell_type": "code",
   "execution_count": 2,
   "metadata": {},
   "outputs": [
    {
     "name": "stdout",
     "output_type": "stream",
     "text": [
      "melancia\n",
      "banana\n",
      "pera\n"
     ]
    }
   ],
   "source": [
    "for elemento in conjuntos:\n",
    "    print(elemento)"
   ]
  },
  {
   "cell_type": "code",
   "execution_count": 3,
   "metadata": {},
   "outputs": [
    {
     "name": "stdout",
     "output_type": "stream",
     "text": [
      "True\n",
      "3\n"
     ]
    }
   ],
   "source": [
    "print(\"banana\" in conjuntos)\n",
    "print(len(conjuntos))"
   ]
  },
  {
   "cell_type": "markdown",
   "metadata": {},
   "source": [
    "***\n",
    "### Adicionar itens\n",
    "***"
   ]
  },
  {
   "cell_type": "code",
   "execution_count": 4,
   "metadata": {},
   "outputs": [
    {
     "name": "stdout",
     "output_type": "stream",
     "text": [
      "{'melancia', 'banana', 'pera', 'laranja'}\n"
     ]
    }
   ],
   "source": [
    "conjuntos.add(\"laranja\")\n",
    "print(conjuntos)"
   ]
  },
  {
   "cell_type": "code",
   "execution_count": 5,
   "metadata": {},
   "outputs": [
    {
     "name": "stdout",
     "output_type": "stream",
     "text": [
      "{'melancia', 'banana', 'pera', 'laranja'}\n"
     ]
    }
   ],
   "source": [
    "# Não se pode adicionar elemento repetido\n",
    "conjuntos.add(\"laranja\")\n",
    "print(conjuntos)"
   ]
  },
  {
   "cell_type": "code",
   "execution_count": 6,
   "metadata": {},
   "outputs": [
    {
     "name": "stdout",
     "output_type": "stream",
     "text": [
      "{'laranja', 'melancia', 'mamao', 'uva', 'banana', 'pera'}\n"
     ]
    }
   ],
   "source": [
    "# Adicionar vários objetos de uma vez\n",
    "conjuntos.update([\"uva\", \"mamao\"])\n",
    "print(conjuntos)"
   ]
  },
  {
   "cell_type": "markdown",
   "metadata": {},
   "source": [
    "***\n",
    "### Remover itens\n",
    "***"
   ]
  },
  {
   "cell_type": "code",
   "execution_count": 7,
   "metadata": {},
   "outputs": [
    {
     "name": "stdout",
     "output_type": "stream",
     "text": [
      "{'laranja', 'melancia', 'mamao', 'banana', 'pera'}\n"
     ]
    }
   ],
   "source": [
    "# Se uva não existe ele gera um erro\n",
    "conjuntos.remove(\"uva\")\n",
    "print(conjuntos)"
   ]
  },
  {
   "cell_type": "code",
   "execution_count": 8,
   "metadata": {},
   "outputs": [
    {
     "name": "stdout",
     "output_type": "stream",
     "text": [
      "{'laranja', 'melancia', 'mamao', 'banana', 'pera'}\n"
     ]
    }
   ],
   "source": [
    "# Se coco não existe ele não gera um erro\n",
    "conjuntos.discard(\"coco\")\n",
    "print(conjuntos)"
   ]
  },
  {
   "cell_type": "code",
   "execution_count": 9,
   "metadata": {},
   "outputs": [
    {
     "name": "stdout",
     "output_type": "stream",
     "text": [
      "{'melancia', 'mamao', 'banana', 'pera'}\n"
     ]
    }
   ],
   "source": [
    "# Remove o ultimo item, como o set não é ordenado não se sabe qual elemento é o ultimo\n",
    "conjuntos.pop()\n",
    "print(conjuntos)"
   ]
  },
  {
   "cell_type": "markdown",
   "metadata": {},
   "source": [
    "***\n",
    "### Copiar e Limpar sets\n",
    "***"
   ]
  },
  {
   "cell_type": "code",
   "execution_count": 10,
   "metadata": {},
   "outputs": [
    {
     "name": "stdout",
     "output_type": "stream",
     "text": [
      "{'melancia', 'mamao', 'banana', 'pera'}\n"
     ]
    }
   ],
   "source": [
    "conjunto_lixo = conjuntos.copy()\n",
    "print(conjunto_lixo)"
   ]
  },
  {
   "cell_type": "code",
   "execution_count": 11,
   "metadata": {},
   "outputs": [
    {
     "name": "stdout",
     "output_type": "stream",
     "text": [
      "set()\n"
     ]
    }
   ],
   "source": [
    "conjunto_lixo.clear()\n",
    "print(conjunto_lixo)"
   ]
  },
  {
   "cell_type": "code",
   "execution_count": 12,
   "metadata": {},
   "outputs": [],
   "source": [
    "del conjunto_lixo"
   ]
  },
  {
   "cell_type": "markdown",
   "metadata": {},
   "source": [
    "***\n",
    "### Diferença (-)\n",
    "***\n",
    "\n",
    "Retorna um conjunto contendo a diferença entre dois ou mais conjuntos, ou seja, os elementos que tem no conjunto1 e não tem no conjunto2"
   ]
  },
  {
   "cell_type": "code",
   "execution_count": 13,
   "metadata": {},
   "outputs": [
    {
     "name": "stdout",
     "output_type": "stream",
     "text": [
      "{'uva', 'pera', 'maça'}\n",
      "{'uva', 'pera', 'maça'}\n"
     ]
    }
   ],
   "source": [
    "conjunto1 = {\"pera\", \"banana\", \"maça\", \"uva\"}\n",
    "conjunto2 = {\"açai\", \"banana\", \"mamao\"}\n",
    "print(conjunto1 - conjunto2)\n",
    "print(conjunto1.difference(conjunto2))"
   ]
  },
  {
   "cell_type": "code",
   "execution_count": 14,
   "metadata": {},
   "outputs": [
    {
     "name": "stdout",
     "output_type": "stream",
     "text": [
      "{'uva', 'pera', 'maça'}\n"
     ]
    }
   ],
   "source": [
    "# Atualiza o conjunto1 com a diferença do conjunto2\n",
    "conjunto1.difference_update(conjunto2)\n",
    "print(conjunto1)"
   ]
  },
  {
   "cell_type": "markdown",
   "metadata": {},
   "source": [
    "***\n",
    "### Intersecção (&)\n",
    "***\n",
    "\n",
    "Retorna um conjunto contendo a intersecção entre dois ou mais conjuntos, ou seja, os elementos que tem no conjunto1 e tem no conjunto2"
   ]
  },
  {
   "cell_type": "code",
   "execution_count": 15,
   "metadata": {},
   "outputs": [
    {
     "name": "stdout",
     "output_type": "stream",
     "text": [
      "{'banana'}\n",
      "{'banana'}\n"
     ]
    }
   ],
   "source": [
    "conjunto1 = {\"pera\", \"banana\", \"maça\", \"uva\"}\n",
    "conjunto2 = {\"açai\", \"banana\", \"mamao\"}\n",
    "print(conjunto1 & conjunto2)\n",
    "print(conjunto1.intersection(conjunto2))"
   ]
  },
  {
   "cell_type": "code",
   "execution_count": 16,
   "metadata": {},
   "outputs": [
    {
     "name": "stdout",
     "output_type": "stream",
     "text": [
      "False\n"
     ]
    }
   ],
   "source": [
    "# Verifica se 2 ou mais conjuntos não tem intersecção\n",
    "print(conjunto1.isdisjoint(conjunto2))"
   ]
  },
  {
   "cell_type": "code",
   "execution_count": 17,
   "metadata": {},
   "outputs": [
    {
     "name": "stdout",
     "output_type": "stream",
     "text": [
      "{'banana'}\n"
     ]
    }
   ],
   "source": [
    "# Atualiza o conjunto1 com a intersecção do conjunto2\n",
    "conjunto1.intersection_update(conjunto2)\n",
    "print(conjunto1)"
   ]
  },
  {
   "cell_type": "markdown",
   "metadata": {},
   "source": [
    "***\n",
    "### Diferença Simétrica (^)\n",
    "***\n",
    "\n",
    "Retorna um conjunto contendo a diferença simétrica entre dois ou mais conjuntos, ou seja, retorna os elementos que são diferentes nos dois conjuntos"
   ]
  },
  {
   "cell_type": "code",
   "execution_count": 18,
   "metadata": {},
   "outputs": [
    {
     "name": "stdout",
     "output_type": "stream",
     "text": [
      "{'mamao', 'uva', 'pera', 'maça', 'açai'}\n",
      "{'mamao', 'uva', 'pera', 'maça', 'açai'}\n"
     ]
    }
   ],
   "source": [
    "conjunto1 = {\"pera\", \"banana\", \"maça\", \"uva\"}\n",
    "conjunto2 = {\"açai\", \"banana\", \"mamao\"}\n",
    "print(conjunto1 ^ conjunto2)\n",
    "print(conjunto1.symmetric_difference(conjunto2))"
   ]
  },
  {
   "cell_type": "code",
   "execution_count": 19,
   "metadata": {},
   "outputs": [
    {
     "name": "stdout",
     "output_type": "stream",
     "text": [
      "{'mamao', 'uva', 'pera', 'maça', 'açai'}\n"
     ]
    }
   ],
   "source": [
    "# Atualiza o conjunto1 com a diferença simétrica do conjunto2\n",
    "conjunto1.symmetric_difference_update(conjunto2)\n",
    "print(conjunto1)"
   ]
  },
  {
   "cell_type": "markdown",
   "metadata": {},
   "source": [
    "***\n",
    "### União (|)\n",
    "***\n",
    "\n",
    "Retorna um conjunto contendo a união entre dois ou mais conjuntos, ou seja, retorna todos os elementos dos dois conjuntos, une os dois conjuntos me 1 só"
   ]
  },
  {
   "cell_type": "code",
   "execution_count": 20,
   "metadata": {},
   "outputs": [
    {
     "name": "stdout",
     "output_type": "stream",
     "text": [
      "{'banana', 'pera', 'maça', 'açai', 'mamao', 'uva'}\n",
      "{'banana', 'pera', 'maça', 'açai', 'mamao', 'uva'}\n"
     ]
    }
   ],
   "source": [
    "conjunto1 = {\"pera\", \"banana\", \"maça\", \"uva\"}\n",
    "conjunto2 = {\"açai\", \"banana\", \"mamao\"}\n",
    "print(conjunto1 | conjunto2)\n",
    "print(conjunto1.union(conjunto2))"
   ]
  },
  {
   "cell_type": "markdown",
   "metadata": {},
   "source": [
    "***\n",
    "### Outros métodos\n",
    "***"
   ]
  },
  {
   "cell_type": "code",
   "execution_count": 21,
   "metadata": {},
   "outputs": [
    {
     "name": "stdout",
     "output_type": "stream",
     "text": [
      "True\n"
     ]
    }
   ],
   "source": [
    "# retorna verdadeiro se todos os itens do conjunto 1 estão presentes no conjunto 2\n",
    "conjunto1 = {\"a\", \"b\", \"c\"}\n",
    "conjunto2 = {\"f\", \"e\", \"d\", \"c\", \"b\", \"a\"}\n",
    "print(conjunto1.issubset(conjunto2))"
   ]
  },
  {
   "cell_type": "code",
   "execution_count": 22,
   "metadata": {},
   "outputs": [
    {
     "name": "stdout",
     "output_type": "stream",
     "text": [
      "True\n"
     ]
    }
   ],
   "source": [
    "# retorna verdadeiro se todos os itens do conjunto 1 estão presentes no conjunto 2\n",
    "conjunto1 = {\"a\", \"b\", \"c\"}\n",
    "conjunto2 = {\"f\", \"e\", \"d\", \"c\", \"b\", \"a\"}\n",
    "print(conjunto2.issuperset(conjunto1))"
   ]
  },
  {
   "cell_type": "markdown",
   "metadata": {},
   "source": [
    "***\n",
    "### Set Comprehensions\n",
    "***"
   ]
  },
  {
   "cell_type": "code",
   "execution_count": 1,
   "metadata": {
    "tags": []
   },
   "outputs": [],
   "source": [
    "conjuntos = {num for num in range(1, 7)}"
   ]
  },
  {
   "cell_type": "code",
   "execution_count": 2,
   "metadata": {
    "tags": []
   },
   "outputs": [
    {
     "name": "stdout",
     "output_type": "stream",
     "text": [
      "{1, 2, 3, 4, 5, 6}\n"
     ]
    }
   ],
   "source": [
    "print(conjuntos)"
   ]
  }
 ],
 "metadata": {
  "kernelspec": {
   "display_name": "Python 3 (ipykernel)",
   "language": "python",
   "name": "python3"
  },
  "language_info": {
   "codemirror_mode": {
    "name": "ipython",
    "version": 3
   },
   "file_extension": ".py",
   "mimetype": "text/x-python",
   "name": "python",
   "nbconvert_exporter": "python",
   "pygments_lexer": "ipython3",
   "version": "3.11.6"
  }
 },
 "nbformat": 4,
 "nbformat_minor": 4
}
