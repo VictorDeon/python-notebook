{
 "cells": [
  {
   "cell_type": "markdown",
   "id": "1d7288d7-afa3-47c7-adac-52009263f150",
   "metadata": {},
   "source": [
    "## Modulo collections - Deque\n",
    "***\n",
    "\n",
    "Podemos dizer que o deque é uma lista de alta performace. Tudo que vc faz em lista vc pode fazer com deque."
   ]
  },
  {
   "cell_type": "code",
   "execution_count": 1,
   "id": "f59577da-681a-455b-85d0-6aed501f4dc2",
   "metadata": {
    "tags": []
   },
   "outputs": [],
   "source": [
    "from collections import deque"
   ]
  },
  {
   "cell_type": "code",
   "execution_count": 2,
   "id": "3c9ad69d-f44d-4070-a1d2-7bf8656ae215",
   "metadata": {
    "tags": []
   },
   "outputs": [],
   "source": [
    "deq = deque([1,2,3,4,5])"
   ]
  },
  {
   "cell_type": "code",
   "execution_count": 3,
   "id": "aed07338-ace6-47ef-8016-82e029705e8c",
   "metadata": {
    "tags": []
   },
   "outputs": [
    {
     "name": "stdout",
     "output_type": "stream",
     "text": [
      "deque([1, 2, 3, 4, 5])\n"
     ]
    }
   ],
   "source": [
    "print(deq)"
   ]
  },
  {
   "cell_type": "code",
   "execution_count": 4,
   "id": "41127cf3-7134-4f00-9413-da266eea67a5",
   "metadata": {
    "tags": []
   },
   "outputs": [],
   "source": [
    "deq.append(6)"
   ]
  },
  {
   "cell_type": "code",
   "execution_count": 5,
   "id": "9e549c9f-adbf-440e-a762-0031c504ddcd",
   "metadata": {
    "tags": []
   },
   "outputs": [
    {
     "name": "stdout",
     "output_type": "stream",
     "text": [
      "deque([1, 2, 3, 4, 5, 6])\n"
     ]
    }
   ],
   "source": [
    "print(deq)"
   ]
  },
  {
   "cell_type": "code",
   "execution_count": 6,
   "id": "6411d952-f343-43c1-b0ca-c29ce8e19496",
   "metadata": {
    "tags": []
   },
   "outputs": [],
   "source": [
    "deq.appendleft(0)"
   ]
  },
  {
   "cell_type": "code",
   "execution_count": 7,
   "id": "16096dcd-87cc-4818-8c4b-e5a6e439d50f",
   "metadata": {
    "tags": []
   },
   "outputs": [
    {
     "name": "stdout",
     "output_type": "stream",
     "text": [
      "deque([0, 1, 2, 3, 4, 5, 6])\n"
     ]
    }
   ],
   "source": [
    "print(deq)"
   ]
  },
  {
   "cell_type": "code",
   "execution_count": 8,
   "id": "30ff91b3-ab66-4511-ac90-70c92c4afe86",
   "metadata": {
    "tags": []
   },
   "outputs": [
    {
     "data": {
      "text/plain": [
       "6"
      ]
     },
     "execution_count": 8,
     "metadata": {},
     "output_type": "execute_result"
    }
   ],
   "source": [
    "deq.pop()"
   ]
  },
  {
   "cell_type": "code",
   "execution_count": 9,
   "id": "455ded52-df43-439f-8d20-35012f394632",
   "metadata": {
    "tags": []
   },
   "outputs": [
    {
     "name": "stdout",
     "output_type": "stream",
     "text": [
      "deque([0, 1, 2, 3, 4, 5])\n"
     ]
    }
   ],
   "source": [
    "print(deq)"
   ]
  },
  {
   "cell_type": "code",
   "execution_count": 10,
   "id": "6533bfe5-d07f-4bff-9b38-7a297aa35d2d",
   "metadata": {
    "tags": []
   },
   "outputs": [
    {
     "data": {
      "text/plain": [
       "0"
      ]
     },
     "execution_count": 10,
     "metadata": {},
     "output_type": "execute_result"
    }
   ],
   "source": [
    "deq.popleft()"
   ]
  },
  {
   "cell_type": "code",
   "execution_count": 11,
   "id": "c57b61f0-63a1-4112-82cc-ce940240f702",
   "metadata": {
    "tags": []
   },
   "outputs": [
    {
     "name": "stdout",
     "output_type": "stream",
     "text": [
      "deque([1, 2, 3, 4, 5])\n"
     ]
    }
   ],
   "source": [
    "print(deq)"
   ]
  }
 ],
 "metadata": {
  "kernelspec": {
   "display_name": "Python 3 (ipykernel)",
   "language": "python",
   "name": "python3"
  },
  "language_info": {
   "codemirror_mode": {
    "name": "ipython",
    "version": 3
   },
   "file_extension": ".py",
   "mimetype": "text/x-python",
   "name": "python",
   "nbconvert_exporter": "python",
   "pygments_lexer": "ipython3",
   "version": "3.11.6"
  }
 },
 "nbformat": 4,
 "nbformat_minor": 5
}
