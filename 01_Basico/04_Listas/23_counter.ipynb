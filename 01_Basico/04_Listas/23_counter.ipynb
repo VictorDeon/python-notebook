{
 "cells": [
  {
   "cell_type": "markdown",
   "id": "8d339da8-470d-4cba-8899-56dc633318d6",
   "metadata": {},
   "source": [
    "## Módulo Collections - Counter\n",
    "***\n",
    "\n",
    "O modulo **collections** é conhecido como modulo com tipo de dado de container de alta performace.\n",
    "\n",
    "Conter recebe um iteravel como parâmetro e cria um objeto do tipo collections Counter que é parecido com um dicionário, conteúdo como chave o elemento da lista passado como parâmetro e como valor a quantidade de ocorrências desse elemento."
   ]
  },
  {
   "cell_type": "code",
   "execution_count": 1,
   "id": "3a926370-804b-406a-853e-a31b187bcc06",
   "metadata": {
    "tags": []
   },
   "outputs": [],
   "source": [
    "from collections import Counter"
   ]
  },
  {
   "cell_type": "code",
   "execution_count": 2,
   "id": "ed3bd985-430b-4c23-8574-f083c00f3109",
   "metadata": {
    "tags": []
   },
   "outputs": [],
   "source": [
    "# Podemos utilizar qualquer iteravel\n",
    "lista = [1, 1, 1, 2, 2, 3, 3, 3, 1, 1, 2, 2, 4, 4, 4, 5, 5, 5, 5, 3, 45, 45, 66, 66, 43, 34]"
   ]
  },
  {
   "cell_type": "code",
   "execution_count": 3,
   "id": "65d816f9-1ca3-4e7f-9e2d-a1868c98f081",
   "metadata": {
    "tags": []
   },
   "outputs": [],
   "source": [
    "result = Counter(lista)"
   ]
  },
  {
   "cell_type": "code",
   "execution_count": 4,
   "id": "34acf744-1203-4a3a-95dd-f1d23b78d0bd",
   "metadata": {
    "tags": []
   },
   "outputs": [
    {
     "name": "stdout",
     "output_type": "stream",
     "text": [
      "<class 'collections.Counter'>\n"
     ]
    }
   ],
   "source": [
    "print(type(result))"
   ]
  },
  {
   "cell_type": "code",
   "execution_count": 5,
   "id": "11c9c87b-4361-4f69-80ee-39a78ddbeb0e",
   "metadata": {
    "tags": []
   },
   "outputs": [
    {
     "name": "stdout",
     "output_type": "stream",
     "text": [
      "Counter({1: 5, 2: 4, 3: 4, 5: 4, 4: 3, 45: 2, 66: 2, 43: 1, 34: 1})\n"
     ]
    }
   ],
   "source": [
    "print(result)"
   ]
  },
  {
   "cell_type": "markdown",
   "id": "6648d144-8cf1-49ab-acac-37737614ba36",
   "metadata": {},
   "source": [
    "Veja que para cada elemento da lista, o Counter criou uma chave e colocou como valor a quantidade de ocorrências."
   ]
  },
  {
   "cell_type": "code",
   "execution_count": 6,
   "id": "39bf8943-9459-4090-9d06-4740ae0e21d6",
   "metadata": {
    "tags": []
   },
   "outputs": [
    {
     "name": "stdout",
     "output_type": "stream",
     "text": [
      "Counter({' ': 2, 'm': 2, 'o': 2, 'O': 1, 'l': 1, 'a': 1, 'u': 1, 'n': 1, 'd': 1, 'j': 1, 'v': 1, 'e': 1})\n"
     ]
    }
   ],
   "source": [
    "print(Counter(\"Ola mundo jovem\"))"
   ]
  },
  {
   "cell_type": "code",
   "execution_count": 7,
   "id": "72d4d407-29c3-44af-80f6-e8440228a7bd",
   "metadata": {
    "tags": []
   },
   "outputs": [
    {
     "name": "stdout",
     "output_type": "stream",
     "text": [
      "[('a', 12), ('to', 7), ('is', 6), ('debootstrap', 5), ('from', 5)]\n"
     ]
    }
   ],
   "source": [
    "result = Counter(\"\"\"\n",
    "debootstrap is a tool which will install a Debian base system into a subdirectory of another, already installed system. It doesn't require an installation CD, just access to a Debian repository. It can also be installed and run from another operating system, so, for instance, you can use debootstrap to install Debian onto an unused partition from a running Gentoo system. It can also be used to create a rootfs for a machine of a different architecture, which is known as \"cross-debootstrapping\". There is also a largely equivalent version written in C: cdebootstrap, which is smaller.\n",
    "There are alternatives to debootstrap with additional features such as merging packages from different repositories.\n",
    "If you are interested in setting up a chroot for building Debian packages, look at sbuild or the other available package build tools.\n",
    "Since DebianTesting and DebianUnstable change rapidly, if you are going to attempt to install DebianTesting or DebianUnstable, it is recommended that you download the latest version of debootstrap from the package page and use that. Normally it would not be wise to install a package from unstable onto stable, but in this case it's safe, since debootstrap is really just a shell script and its dependencies are minimal.\n",
    "\"\"\".split())\n",
    "print(result.most_common(5))"
   ]
  },
  {
   "cell_type": "code",
   "execution_count": 8,
   "id": "8ae536fe-fdd3-4c96-9750-dac4cb172c51",
   "metadata": {
    "tags": []
   },
   "outputs": [
    {
     "name": "stdout",
     "output_type": "stream",
     "text": [
      "Counter({('Alice', 30): 2, ('Bob', 25): 1, ('Charlie', 35): 1, ('Alice', 25): 1})\n"
     ]
    }
   ],
   "source": [
    "data = [\n",
    "    {'nome': 'Alice', 'idade': 30},\n",
    "    {'nome': 'Bob', 'idade': 25},\n",
    "    {'nome': 'Alice', 'idade': 30},\n",
    "    {'nome': 'Charlie', 'idade': 35},\n",
    "    {'nome': 'Alice', 'idade': 25}\n",
    "]\n",
    "nome_idade = [(item['nome'], item['idade']) for item in data]\n",
    "contagem_nome_idade = Counter(nome_idade)\n",
    "print(contagem_nome_idade)"
   ]
  },
  {
   "cell_type": "code",
   "execution_count": null,
   "id": "bb18d67c-6d55-4018-b92f-62929c38a6fd",
   "metadata": {},
   "outputs": [],
   "source": []
  }
 ],
 "metadata": {
  "kernelspec": {
   "display_name": "Python 3 (ipykernel)",
   "language": "python",
   "name": "python3"
  },
  "language_info": {
   "codemirror_mode": {
    "name": "ipython",
    "version": 3
   },
   "file_extension": ".py",
   "mimetype": "text/x-python",
   "name": "python",
   "nbconvert_exporter": "python",
   "pygments_lexer": "ipython3",
   "version": "3.11.6"
  }
 },
 "nbformat": 4,
 "nbformat_minor": 5
}
