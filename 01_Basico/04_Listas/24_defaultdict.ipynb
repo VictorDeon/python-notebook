{
 "cells": [
  {
   "cell_type": "markdown",
   "id": "bc05505a-8dab-418f-a9e7-af5ec9ef8235",
   "metadata": {},
   "source": [
    "## Módulo Collections - Default Dict\n",
    "***\n",
    "\n",
    "Se lembra o que acontece se tentar acessar um dicionário com uma chave que não existe, ele dispara um KeyError.\n",
    "\n",
    "Ao criar um dicionário utilizando o Default Dict, nos informamos um vamor default, podendo utilizar um lambda se for necessário, esse valor será utilizado sempre que não houver um valor definido. Caso tentemos acessar uma chave que não existe, essa chave será criada e o valor default será atribuido."
   ]
  },
  {
   "cell_type": "code",
   "execution_count": 1,
   "id": "8145a8af-8e08-41f3-b66a-96218d0815cb",
   "metadata": {
    "tags": []
   },
   "outputs": [],
   "source": [
    "from collections import defaultdict"
   ]
  },
  {
   "cell_type": "code",
   "execution_count": 2,
   "id": "00dad2da-0e25-432d-8f03-4b417cfebad5",
   "metadata": {
    "tags": []
   },
   "outputs": [],
   "source": [
    "dicionario = defaultdict(lambda: defaultdict(lambda: defaultdict(lambda: {})))"
   ]
  },
  {
   "cell_type": "code",
   "execution_count": 3,
   "id": "2562bac4-b811-48e7-bb6f-a08e7bef53e9",
   "metadata": {
    "tags": []
   },
   "outputs": [
    {
     "name": "stdout",
     "output_type": "stream",
     "text": [
      "defaultdict(<function <lambda> at 0x7f57d9f41c60>, {})\n"
     ]
    }
   ],
   "source": [
    "print(dicionario)"
   ]
  },
  {
   "cell_type": "code",
   "execution_count": 4,
   "id": "c59851ac-3419-4d9e-b26d-dd597f60e88d",
   "metadata": {
    "tags": []
   },
   "outputs": [],
   "source": [
    "dicionario['curso'] = \"Programação\""
   ]
  },
  {
   "cell_type": "code",
   "execution_count": 5,
   "id": "d0151a08-3115-469f-96cb-670f968cd0b9",
   "metadata": {
    "tags": []
   },
   "outputs": [
    {
     "name": "stdout",
     "output_type": "stream",
     "text": [
      "defaultdict(<function <lambda> at 0x7f57d9f41c60>, {'curso': 'Programação'})\n"
     ]
    }
   ],
   "source": [
    "print(dicionario)"
   ]
  },
  {
   "cell_type": "code",
   "execution_count": 6,
   "id": "07c9c57d-d94c-49bf-8680-56135e317abe",
   "metadata": {
    "tags": []
   },
   "outputs": [],
   "source": [
    "dicionario['dict1']['curso'] = \"Programação\""
   ]
  },
  {
   "cell_type": "code",
   "execution_count": 7,
   "id": "0b27536e-13eb-44e0-bf5c-975bc13b175f",
   "metadata": {
    "tags": []
   },
   "outputs": [
    {
     "name": "stdout",
     "output_type": "stream",
     "text": [
      "defaultdict(<function <lambda> at 0x7f57d9f41c60>, {'curso': 'Programação', 'dict1': defaultdict(<function <lambda>.<locals>.<lambda> at 0x7f57d9f41940>, {'curso': 'Programação'})})\n"
     ]
    }
   ],
   "source": [
    "print(dicionario)"
   ]
  },
  {
   "cell_type": "code",
   "execution_count": 8,
   "id": "2c363940-35b7-43fd-8c27-bb05f966f9a2",
   "metadata": {
    "tags": []
   },
   "outputs": [],
   "source": [
    "dicionario['dict1']['dict2']['dict3']['curso'] = \"Programação\""
   ]
  },
  {
   "cell_type": "code",
   "execution_count": 9,
   "id": "ccf86d49-4c55-416e-b259-64565247909f",
   "metadata": {
    "tags": []
   },
   "outputs": [
    {
     "name": "stdout",
     "output_type": "stream",
     "text": [
      "defaultdict(<function <lambda> at 0x7f57d9f41c60>, {'curso': 'Programação', 'dict1': defaultdict(<function <lambda>.<locals>.<lambda> at 0x7f57d9f41940>, {'curso': 'Programação', 'dict2': defaultdict(<function <lambda>.<locals>.<lambda>.<locals>.<lambda> at 0x7f57d9f42160>, {'dict3': {'curso': 'Programação'}})})})\n",
      "Programação\n",
      "defaultdict(<function <lambda>.<locals>.<lambda> at 0x7f57d9f41940>, {'curso': 'Programação', 'dict2': defaultdict(<function <lambda>.<locals>.<lambda>.<locals>.<lambda> at 0x7f57d9f42160>, {'dict3': {'curso': 'Programação'}})})\n",
      "defaultdict(<function <lambda>.<locals>.<lambda>.<locals>.<lambda> at 0x7f57d9f42160>, {'dict3': {'curso': 'Programação'}})\n",
      "{'curso': 'Programação'}\n",
      "Programação\n"
     ]
    }
   ],
   "source": [
    "print(dicionario)\n",
    "print(dicionario['curso'])\n",
    "print(dicionario['dict1'])\n",
    "print(dicionario['dict1']['dict2'])\n",
    "print(dicionario['dict1']['dict2']['dict3'])\n",
    "print(dicionario['dict1']['dict2']['dict3']['curso'])"
   ]
  }
 ],
 "metadata": {
  "kernelspec": {
   "display_name": "Python 3 (ipykernel)",
   "language": "python",
   "name": "python3"
  },
  "language_info": {
   "codemirror_mode": {
    "name": "ipython",
    "version": 3
   },
   "file_extension": ".py",
   "mimetype": "text/x-python",
   "name": "python",
   "nbconvert_exporter": "python",
   "pygments_lexer": "ipython3",
   "version": "3.11.6"
  }
 },
 "nbformat": 4,
 "nbformat_minor": 5
}
