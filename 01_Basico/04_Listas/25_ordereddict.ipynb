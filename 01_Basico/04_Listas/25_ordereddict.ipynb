{
 "cells": [
  {
   "cell_type": "markdown",
   "id": "9c344d16-6a7e-42c8-8ab1-4c95ca93c440",
   "metadata": {},
   "source": [
    "## Modulo Collections - Ordered Dict\n",
    "***\n",
    "\n",
    "Em um dicionário a ordem de inserção dos elementos não é garantida. No ordered dict vc vai ter a garantia que ele vai manter a ordem de inserção no dicionário."
   ]
  },
  {
   "cell_type": "code",
   "execution_count": 1,
   "id": "bc7c59a4-12e9-4f80-bed4-ac2f2ea2d0f9",
   "metadata": {
    "tags": []
   },
   "outputs": [],
   "source": [
    "from collections import OrderedDict"
   ]
  },
  {
   "cell_type": "code",
   "execution_count": 2,
   "id": "a8d5c07b-f9e3-472c-8242-7867fc38a841",
   "metadata": {
    "tags": []
   },
   "outputs": [],
   "source": [
    "dicionario = OrderedDict({\"a\": 1, \"b\": 3, \"d\": 4, \"c\": 5, \"e\": 2})"
   ]
  },
  {
   "cell_type": "code",
   "execution_count": 3,
   "id": "3e4783c6-71a6-4584-96b2-d9fb10f0cdd6",
   "metadata": {
    "tags": []
   },
   "outputs": [
    {
     "name": "stdout",
     "output_type": "stream",
     "text": [
      "chave=a, valor=1\n",
      "chave=b, valor=3\n",
      "chave=d, valor=4\n",
      "chave=c, valor=5\n",
      "chave=e, valor=2\n"
     ]
    }
   ],
   "source": [
    "for chave, valor in dicionario.items():\n",
    "    print(f\"chave={chave}, valor={valor}\")"
   ]
  },
  {
   "cell_type": "code",
   "execution_count": 4,
   "id": "5bd1af03-cd98-434d-ab7e-a3355ddf0a9a",
   "metadata": {
    "tags": []
   },
   "outputs": [],
   "source": [
    "dict1 = {\"a\": 1, \"b\": 2}\n",
    "dict2 = {\"b\": 2, \"a\": 1}"
   ]
  },
  {
   "cell_type": "code",
   "execution_count": 5,
   "id": "13662b6a-b528-4226-90b2-1c6172060ae1",
   "metadata": {
    "tags": []
   },
   "outputs": [
    {
     "name": "stdout",
     "output_type": "stream",
     "text": [
      "True\n"
     ]
    }
   ],
   "source": [
    "# A ordem dos elementos não importa para o dicionário\n",
    "print(dict1 == dict2)"
   ]
  },
  {
   "cell_type": "code",
   "execution_count": 6,
   "id": "5c4ec6e3-56ca-4b14-a148-74db98629774",
   "metadata": {
    "tags": []
   },
   "outputs": [],
   "source": [
    "odict1 = OrderedDict({\"a\": 1, \"b\": 2})\n",
    "odict2 = OrderedDict({\"b\": 2, \"a\": 1})"
   ]
  },
  {
   "cell_type": "code",
   "execution_count": 7,
   "id": "c18d43dc-8f03-4ea8-9e67-e506c6ac14f2",
   "metadata": {
    "tags": []
   },
   "outputs": [
    {
     "name": "stdout",
     "output_type": "stream",
     "text": [
      "False\n"
     ]
    }
   ],
   "source": [
    "# A ordem dos elementos importa para o dicionário ordenado\n",
    "print(odict1 == odict2)"
   ]
  }
 ],
 "metadata": {
  "kernelspec": {
   "display_name": "Python 3 (ipykernel)",
   "language": "python",
   "name": "python3"
  },
  "language_info": {
   "codemirror_mode": {
    "name": "ipython",
    "version": 3
   },
   "file_extension": ".py",
   "mimetype": "text/x-python",
   "name": "python",
   "nbconvert_exporter": "python",
   "pygments_lexer": "ipython3",
   "version": "3.11.6"
  }
 },
 "nbformat": 4,
 "nbformat_minor": 5
}
