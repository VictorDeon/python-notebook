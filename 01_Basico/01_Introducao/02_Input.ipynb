{
 "cells": [
  {
   "cell_type": "markdown",
   "metadata": {},
   "source": [
    "# Inputs\n",
    "***"
   ]
  },
  {
   "cell_type": "markdown",
   "metadata": {},
   "source": [
    "A função **input()** espera que o usuário digite alguma coisa para armazenar em alguma variável\n",
    "\n",
    "A função **input()** sempre retorna uma string, se a gente quer que o usuário digite um número precisamos converter essas string para um tipo inteiro com a função **int()**\n",
    "\n",
    "Para imprimir vários elementos em uma única linha usamos a função **split** para quebrar nos espaços em brancos ou virgula ou qualquer caractere definido na função. Depois só converter de string para o tipo certo da variável"
   ]
  },
  {
   "cell_type": "markdown",
   "metadata": {},
   "source": [
    "***\n",
    "### Exemplo\n",
    "***"
   ]
  },
  {
   "cell_type": "code",
   "execution_count": 2,
   "metadata": {
    "tags": []
   },
   "outputs": [
    {
     "name": "stdin",
     "output_type": "stream",
     "text": [
      "Insira seu nome:  Victor\n"
     ]
    }
   ],
   "source": [
    "# Usuário irá digitar o nome e o nome será armazenado na variável name\n",
    "name = input(\"Insira seu nome: \")"
   ]
  },
  {
   "cell_type": "markdown",
   "metadata": {},
   "source": [
    "***"
   ]
  },
  {
   "cell_type": "code",
   "execution_count": 3,
   "metadata": {
    "tags": []
   },
   "outputs": [
    {
     "name": "stdin",
     "output_type": "stream",
     "text": [
      "Insira sua idade:  18\n"
     ]
    }
   ],
   "source": [
    "# Usuário irá digitar a idade e a idade será armazenado na variável age em forma número inteiro\n",
    "age = int(input(\"Insira sua idade: \"))"
   ]
  },
  {
   "cell_type": "markdown",
   "metadata": {},
   "source": [
    "***"
   ]
  },
  {
   "cell_type": "code",
   "execution_count": 4,
   "metadata": {
    "tags": []
   },
   "outputs": [
    {
     "name": "stdout",
     "output_type": "stream",
     "text": [
      "Victor tem 18 anos e nasceu em 1998\n"
     ]
    }
   ],
   "source": [
    "# Imprime o nome, a idade e o ano de nascimento da pessoa considerando estar em 2016\n",
    "print(name, \"tem\", age, \"anos e nasceu em\", 2016-age)"
   ]
  },
  {
   "cell_type": "markdown",
   "metadata": {},
   "source": [
    "***"
   ]
  },
  {
   "cell_type": "code",
   "execution_count": 6,
   "metadata": {
    "tags": []
   },
   "outputs": [
    {
     "name": "stdin",
     "output_type": "stream",
     "text": [
      " 25 34 22.34\n"
     ]
    },
    {
     "name": "stdout",
     "output_type": "stream",
     "text": [
      "25 34 22.34\n"
     ]
    }
   ],
   "source": [
    "# Imprimir três valores na mesma linha com tipos diferentes\n",
    "A, B, C = input(\"\").split()\n",
    "A, B = [int(A), int(B)]\n",
    "C = float(C)\n",
    "\n",
    "print(\"%d %d %.2f\" % (A, B, C))"
   ]
  }
 ],
 "metadata": {
  "kernelspec": {
   "display_name": "Python 3 (ipykernel)",
   "language": "python",
   "name": "python3"
  },
  "language_info": {
   "codemirror_mode": {
    "name": "ipython",
    "version": 3
   },
   "file_extension": ".py",
   "mimetype": "text/x-python",
   "name": "python",
   "nbconvert_exporter": "python",
   "pygments_lexer": "ipython3",
   "version": "3.10.6"
  }
 },
 "nbformat": 4,
 "nbformat_minor": 4
}
