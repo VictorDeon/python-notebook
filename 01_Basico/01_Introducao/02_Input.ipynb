{
 "cells": [
  {
   "cell_type": "markdown",
   "metadata": {
    "application/vnd.databricks.v1+cell": {
     "cellMetadata": {},
     "inputWidgets": {},
     "nuid": "d97af7f9-21cc-46b5-ac85-927f4ef00ad9",
     "showTitle": false,
     "tableResultSettingsMap": {},
     "title": ""
    }
   },
   "source": [
    "# Inputs\n",
    "***\n",
    "\n",
    "Em Python, a entrada de dados pelo usuário é feita principalmente através da função `input()`. Essa função permite que o programa interaja com o usuário, solicitando informações que podem ser utilizadas em cálculos, tomadas de decisão ou exibição de resultados personalizados. Entender como capturar e manipular esses dados é fundamental para criar programas dinâmicos e interativos."
   ]
  },
  {
   "cell_type": "markdown",
   "metadata": {
    "application/vnd.databricks.v1+cell": {
     "cellMetadata": {},
     "inputWidgets": {},
     "nuid": "55ba102d-bc64-4075-9360-3fcc2d7d0ac4",
     "showTitle": false,
     "tableResultSettingsMap": {},
     "title": ""
    }
   },
   "source": [
    "A função **input()** espera que o usuário digite alguma coisa para armazenar em alguma variável\n",
    "\n",
    "A função **input()** sempre retorna uma string, se a gente quer que o usuário digite um número precisamos converter essas string para um tipo inteiro com a função **int()**\n",
    "\n",
    "Para imprimir vários elementos em uma única linha usamos a função **split** para quebrar nos espaços em brancos ou virgula ou qualquer caractere definido na função. Depois só converter de string para o tipo certo da variável"
   ]
  },
  {
   "cell_type": "markdown",
   "metadata": {
    "application/vnd.databricks.v1+cell": {
     "cellMetadata": {},
     "inputWidgets": {},
     "nuid": "12a5e829-0cc6-4e86-bd6c-5b3e4151cf58",
     "showTitle": false,
     "tableResultSettingsMap": {},
     "title": ""
    }
   },
   "source": [
    "***\n",
    "### Exemplo\n",
    "***"
   ]
  },
  {
   "cell_type": "code",
   "execution_count": 0,
   "metadata": {
    "application/vnd.databricks.v1+cell": {
     "cellMetadata": {
      "byteLimit": 2048000,
      "rowLimit": 10000
     },
     "inputWidgets": {},
     "nuid": "5cbec4db-03a0-4abd-a764-d44a84b75e50",
     "showTitle": false,
     "tableResultSettingsMap": {},
     "title": ""
    },
    "tags": []
   },
   "outputs": [],
   "source": [
    "# Usuário irá digitar o nome e o nome será armazenado na variável name\n",
    "name = input(\"Insira seu nome: \")"
   ]
  },
  {
   "cell_type": "markdown",
   "metadata": {
    "application/vnd.databricks.v1+cell": {
     "cellMetadata": {},
     "inputWidgets": {},
     "nuid": "7c2263ae-312a-49b3-ae0f-42c0d50e270c",
     "showTitle": false,
     "tableResultSettingsMap": {},
     "title": ""
    }
   },
   "source": [
    "***"
   ]
  },
  {
   "cell_type": "code",
   "execution_count": 0,
   "metadata": {
    "application/vnd.databricks.v1+cell": {
     "cellMetadata": {
      "byteLimit": 2048000,
      "rowLimit": 10000
     },
     "inputWidgets": {},
     "nuid": "e8f854c8-90f4-4b32-a605-e73283066e6b",
     "showTitle": false,
     "tableResultSettingsMap": {},
     "title": ""
    },
    "tags": []
   },
   "outputs": [],
   "source": [
    "# Usuário irá digitar a idade e a idade será armazenado na variável age em forma número inteiro\n",
    "age = int(input(\"Insira sua idade: \"))"
   ]
  },
  {
   "cell_type": "markdown",
   "metadata": {
    "application/vnd.databricks.v1+cell": {
     "cellMetadata": {},
     "inputWidgets": {},
     "nuid": "4c454213-f48e-4ec3-bf73-f8712a590b26",
     "showTitle": false,
     "tableResultSettingsMap": {},
     "title": ""
    }
   },
   "source": [
    "***"
   ]
  },
  {
   "cell_type": "code",
   "execution_count": 0,
   "metadata": {
    "application/vnd.databricks.v1+cell": {
     "cellMetadata": {
      "byteLimit": 2048000,
      "rowLimit": 10000
     },
     "inputWidgets": {},
     "nuid": "596e5b13-d5cb-453d-b0a7-fa426f6aa9c0",
     "showTitle": false,
     "tableResultSettingsMap": {},
     "title": ""
    },
    "tags": []
   },
   "outputs": [],
   "source": [
    "# Imprime o nome, a idade e o ano de nascimento da pessoa considerando estar em 2016\n",
    "print(name, \"tem\", age, \"anos e nasceu em\", 2016-age)"
   ]
  },
  {
   "cell_type": "markdown",
   "metadata": {
    "application/vnd.databricks.v1+cell": {
     "cellMetadata": {},
     "inputWidgets": {},
     "nuid": "c9ea567f-4810-44ad-b27c-1610488a63de",
     "showTitle": false,
     "tableResultSettingsMap": {},
     "title": ""
    }
   },
   "source": [
    "***"
   ]
  },
  {
   "cell_type": "code",
   "execution_count": 0,
   "metadata": {
    "application/vnd.databricks.v1+cell": {
     "cellMetadata": {
      "byteLimit": 2048000,
      "rowLimit": 10000
     },
     "inputWidgets": {},
     "nuid": "f70c3c3b-bcbb-4730-9a4a-a05e89fe70cb",
     "showTitle": false,
     "tableResultSettingsMap": {},
     "title": ""
    },
    "tags": []
   },
   "outputs": [],
   "source": [
    "# Imprimir três valores na mesma linha com tipos diferentes\n",
    "A, B, C = input(\"\").split()\n",
    "A, B = [int(A), int(B)]\n",
    "C = float(C)\n",
    "\n",
    "print(\"%d %d %.2f\" % (A, B, C))"
   ]
  }
 ],
 "metadata": {
  "application/vnd.databricks.v1+notebook": {
   "computePreferences": null,
   "dashboards": [],
   "environmentMetadata": null,
   "inputWidgetPreferences": null,
   "language": "python",
   "notebookMetadata": {
    "pythonIndentUnit": 4
   },
   "notebookName": "02_Input",
   "widgets": {}
  },
  "kernelspec": {
   "display_name": "Python 3 (ipykernel)",
   "language": "python",
   "name": "python3"
  },
  "language_info": {
   "name": "python"
  }
 },
 "nbformat": 4,
 "nbformat_minor": 0
}
