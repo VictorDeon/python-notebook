{
 "cells": [
  {
   "cell_type": "markdown",
   "metadata": {},
   "source": [
    "# Print\n",
    "***\n",
    "\n",
    "**%i** e **%d** imprime variáveis inteiras\n",
    "\n",
    "**%f** imprime variáveis reais, ela por padrão arredonda a ultima casa\n",
    "\n",
    "Para limitar o número de algoritmos só inserir o **%.2f** terá 2 casas decimais, **%.1f** terá uma única casa e assim por diante...\n",
    "\n",
    "**%g** imprime variáveis em notação cientifica: 1e+14 = 1x10^14 ele também detecta os algaritmos significativos da impressão, por exemplo, se eu quiser imprimir 0.56 e usar o **%g** ele vai imprimir 0.56 e não 0.560000 como o **%f**, muito usado quando você não sabe o número exato de algaritmos significativos, logo botar **%.10g** ele imprime até 10 algaritmos mas não necessariamente 10."
   ]
  },
  {
   "cell_type": "markdown",
   "metadata": {},
   "source": [
    "#### Essa linha é para inserir caracteres da lingua portuguêsa, como acentuações entre outras se o python tiver na versão 2\n",
    "***"
   ]
  },
  {
   "cell_type": "code",
   "execution_count": 1,
   "metadata": {
    "tags": []
   },
   "outputs": [],
   "source": [
    "# -*- coding: utf-8 -*-"
   ]
  },
  {
   "cell_type": "markdown",
   "metadata": {},
   "source": [
    "***\n",
    "#### Funções de print\n",
    "***"
   ]
  },
  {
   "cell_type": "code",
   "execution_count": 2,
   "metadata": {
    "tags": []
   },
   "outputs": [
    {
     "name": "stdout",
     "output_type": "stream",
     "text": [
      "Olá 'Mundo'!\n"
     ]
    }
   ],
   "source": [
    "# A função print emprime uma mensagem na tela do usuário\n",
    "print(\"Olá 'Mundo'!\")"
   ]
  },
  {
   "cell_type": "markdown",
   "metadata": {},
   "source": [
    "***"
   ]
  },
  {
   "cell_type": "code",
   "execution_count": 3,
   "metadata": {
    "tags": []
   },
   "outputs": [
    {
     "name": "stdout",
     "output_type": "stream",
     "text": [
      "23\n"
     ]
    }
   ],
   "source": [
    "# Também podemos imprimir um número, porém esse número é uma palavra e não um número em si se tiver entre aspas\n",
    "print(\"23\")"
   ]
  },
  {
   "cell_type": "markdown",
   "metadata": {},
   "source": [
    "***"
   ]
  },
  {
   "cell_type": "code",
   "execution_count": 4,
   "metadata": {
    "tags": []
   },
   "outputs": [
    {
     "name": "stdout",
     "output_type": "stream",
     "text": [
      "23\n"
     ]
    }
   ],
   "source": [
    "# Porém se o número tiver fora de aspas ele é um número\n",
    "print(23)"
   ]
  },
  {
   "cell_type": "markdown",
   "metadata": {},
   "source": [
    "***"
   ]
  },
  {
   "cell_type": "code",
   "execution_count": 5,
   "metadata": {
    "tags": []
   },
   "outputs": [
    {
     "name": "stdout",
     "output_type": "stream",
     "text": [
      "Esse é o número 23\n"
     ]
    }
   ],
   "source": [
    "# Se quiser imprimir um número no final da frase temos que passa o número depois da virgula na função print\n",
    "print(\"Esse é o número\", 23)"
   ]
  },
  {
   "cell_type": "markdown",
   "metadata": {},
   "source": [
    "***"
   ]
  },
  {
   "cell_type": "code",
   "execution_count": 6,
   "metadata": {
    "tags": []
   },
   "outputs": [
    {
     "name": "stdout",
     "output_type": "stream",
     "text": [
      "O número 23 é minha idade\n"
     ]
    }
   ],
   "source": [
    "# Se quiser imprimir um número no meio da frase é só quebra a frase com virgulas e inserir o número\n",
    "print(\"O número\", 23, \"é minha idade\")"
   ]
  },
  {
   "cell_type": "markdown",
   "metadata": {},
   "source": [
    "***"
   ]
  },
  {
   "cell_type": "code",
   "execution_count": 7,
   "metadata": {
    "tags": []
   },
   "outputs": [
    {
     "name": "stdout",
     "output_type": "stream",
     "text": [
      "O número\n",
      "23\n"
     ]
    }
   ],
   "source": [
    "# O \\n irá quebrar a linha do print\n",
    "print(\"O número\\n23\")"
   ]
  },
  {
   "cell_type": "markdown",
   "metadata": {},
   "source": [
    "***"
   ]
  },
  {
   "cell_type": "code",
   "execution_count": 8,
   "metadata": {
    "tags": []
   },
   "outputs": [
    {
     "name": "stdout",
     "output_type": "stream",
     "text": [
      "Vamos inserir um número 23 e um outro número 22.45\n"
     ]
    }
   ],
   "source": [
    "# Podemos inserir os parâmetros através de campos chaves %i para inteiro ou %f para float.\n",
    "print(\"Vamos inserir um número %i e um outro número %.2f\" % (23, 22.4456))"
   ]
  },
  {
   "cell_type": "markdown",
   "metadata": {},
   "source": [
    "***"
   ]
  },
  {
   "cell_type": "code",
   "execution_count": 9,
   "metadata": {
    "tags": []
   },
   "outputs": [
    {
     "name": "stdout",
     "output_type": "stream",
     "text": [
      "C:\\some\\name\n"
     ]
    }
   ],
   "source": [
    "# Raw strings é usado para não interpretar caracteres especiais como \\n\n",
    "print(r\"C:\\some\\name\")"
   ]
  },
  {
   "cell_type": "markdown",
   "metadata": {
    "slideshow": {
     "slide_type": "slide"
    }
   },
   "source": [
    "***"
   ]
  },
  {
   "cell_type": "code",
   "execution_count": 10,
   "metadata": {
    "tags": []
   },
   "outputs": [
    {
     "name": "stdout",
     "output_type": "stream",
     "text": [
      "paralelepipedo\n"
     ]
    }
   ],
   "source": [
    "# Concatenação de strings\n",
    "para = 'para'\n",
    "print(para + 2 * 'le' + 'pipedo')"
   ]
  },
  {
   "cell_type": "markdown",
   "metadata": {},
   "source": [
    "***"
   ]
  },
  {
   "cell_type": "code",
   "execution_count": 11,
   "metadata": {
    "tags": []
   },
   "outputs": [
    {
     "name": "stdout",
     "output_type": "stream",
     "text": [
      "Vamos\n",
      "Pular\n",
      "Linhas\n"
     ]
    }
   ],
   "source": [
    "# Se quiser pular uma linha use o \\n, funciona só no print(\\n)\n",
    "print(\"Vamos\\nPular\\nLinhas\")"
   ]
  },
  {
   "cell_type": "markdown",
   "metadata": {},
   "source": [
    "***"
   ]
  },
  {
   "cell_type": "code",
   "execution_count": 12,
   "metadata": {
    "tags": []
   },
   "outputs": [
    {
     "name": "stdout",
     "output_type": "stream",
     "text": [
      "\tTabulação muito doida\n"
     ]
    }
   ],
   "source": [
    "# Se quiser dar uma tab ou tabulação use o \\t, funciona só no print(\\t)\n",
    "print(\"\\tTabulação muito doida\")"
   ]
  },
  {
   "cell_type": "markdown",
   "metadata": {},
   "source": [
    "***"
   ]
  },
  {
   "cell_type": "code",
   "execution_count": 13,
   "metadata": {
    "tags": []
   },
   "outputs": [
    {
     "name": "stdout",
     "output_type": "stream",
     "text": [
      "\\n\n"
     ]
    }
   ],
   "source": [
    "# Para imprimir o \\ temos que passar print('\\\\'), o \\ ele serve para inserir caracteres especias em string\n",
    "print(\"\\\\n\")"
   ]
  },
  {
   "cell_type": "markdown",
   "metadata": {},
   "source": [
    "***"
   ]
  },
  {
   "cell_type": "code",
   "execution_count": 14,
   "metadata": {
    "tags": []
   },
   "outputs": [
    {
     "name": "stdout",
     "output_type": "stream",
     "text": [
      "A soma dos número 1 + 2 = 3\n"
     ]
    }
   ],
   "source": [
    "# Execute uma operação de formatação de seqüência de caracteres.\n",
    "print(\"A soma dos número {0} + {1} = {2}\".format(1, 2, 1+2))"
   ]
  },
  {
   "cell_type": "markdown",
   "metadata": {},
   "source": [
    "***"
   ]
  },
  {
   "cell_type": "code",
   "execution_count": 15,
   "metadata": {
    "tags": []
   },
   "outputs": [
    {
     "name": "stdout",
     "output_type": "stream",
     "text": [
      "Receita: 1 presunto + 1 leite = cafe da manhã\n"
     ]
    }
   ],
   "source": [
    "# Execute uma operação de formatação de seqüência de caracteres.\n",
    "print(\"Receita: {numero} {porco} + {numero} {vaca} = {comida}\"\n",
    "      .format(numero=1, porco=\"presunto\", vaca=\"leite\", comida=\"cafe da manhã\")\n",
    ")"
   ]
  },
  {
   "cell_type": "markdown",
   "metadata": {},
   "source": [
    "***"
   ]
  },
  {
   "cell_type": "code",
   "execution_count": 16,
   "metadata": {
    "tags": []
   },
   "outputs": [
    {
     "name": "stdout",
     "output_type": "stream",
     "text": [
      "spam       =   123.4567\n",
      "      spam = 123.4567  \n"
     ]
    }
   ],
   "source": [
    "# Preenche com linhas em branco o número de caracteres, no caso 10\n",
    "print(\"{0:10} = {1:10}\".format('spam', 123.4567))\n",
    "# Joga o elemento spam 10 caracteres para a direita e o número 10 caracteres a esquerda\n",
    "print(\"{0:>10} = {1:<10}\".format('spam', 123.4567))"
   ]
  },
  {
   "cell_type": "markdown",
   "metadata": {},
   "source": [
    "***"
   ]
  },
  {
   "cell_type": "code",
   "execution_count": 17,
   "metadata": {
    "tags": []
   },
   "outputs": [
    {
     "name": "stdout",
     "output_type": "stream",
     "text": [
      "3.131590e+00, 3.13, 3.13159\n",
      "FF, 377, 11111111\n",
      "0.3333\n"
     ]
    }
   ],
   "source": [
    "# Formatação de casas decimais e de números\n",
    "print(\"{0:e}, {1:.2f}, {2:g}\".format(3.13159, 3.13159, 3.13159))\n",
    "# Formatar em hexadecima, octal e binario\n",
    "print(\"{0:X}, {1:o}, {2:b}\".format(255, 255, 255))\n",
    "# Número na posição 0 vai ter o valor da posição 1 de casas decimais\n",
    "print(\"{0:.{1}f}\".format(1/3.0, 4))"
   ]
  },
  {
   "cell_type": "markdown",
   "metadata": {},
   "source": [
    "***"
   ]
  },
  {
   "cell_type": "code",
   "execution_count": 18,
   "metadata": {
    "tags": []
   },
   "outputs": [
    {
     "name": "stdout",
     "output_type": "stream",
     "text": [
      "Mais 2 presunto\n"
     ]
    }
   ],
   "source": [
    "# Execute uma operação de formatação de seqüência de caracteres em dicionários.\n",
    "print(\"Mais %(qtd)d %(food)s\" % {'qtd': 2, 'food': 'presunto'})"
   ]
  },
  {
   "cell_type": "markdown",
   "metadata": {},
   "source": [
    "***"
   ]
  },
  {
   "cell_type": "code",
   "execution_count": 19,
   "metadata": {
    "tags": []
   },
   "outputs": [
    {
     "name": "stdout",
     "output_type": "stream",
     "text": [
      "33.333333333333336\n"
     ]
    }
   ],
   "source": [
    "# Ao dividir 100/3 da uma dizima periodica e o python acaba dando um limite a ela e \n",
    "# arredondando a ultima casa, isso é um problema\n",
    "print (100/3)"
   ]
  },
  {
   "cell_type": "markdown",
   "metadata": {},
   "source": [
    "***"
   ]
  },
  {
   "cell_type": "code",
   "execution_count": 20,
   "metadata": {
    "tags": []
   },
   "outputs": [
    {
     "name": "stdout",
     "output_type": "stream",
     "text": [
      "100\n"
     ]
    }
   ],
   "source": [
    "# Imprime um número inteiro de forma formatada\n",
    "print (\"%d\" % 100)"
   ]
  },
  {
   "cell_type": "markdown",
   "metadata": {},
   "source": [
    "***"
   ]
  },
  {
   "cell_type": "code",
   "execution_count": 21,
   "metadata": {
    "tags": []
   },
   "outputs": [
    {
     "name": "stdout",
     "output_type": "stream",
     "text": [
      "100\n"
     ]
    }
   ],
   "source": [
    "# Também imprime um número inteiro de forma formatada\n",
    "print (\"%i\" % 100.2)"
   ]
  },
  {
   "cell_type": "markdown",
   "metadata": {},
   "source": [
    "***"
   ]
  },
  {
   "cell_type": "code",
   "execution_count": 22,
   "metadata": {
    "tags": []
   },
   "outputs": [
    {
     "name": "stdout",
     "output_type": "stream",
     "text": [
      "100.200000\n"
     ]
    }
   ],
   "source": [
    "# Imprime um número real de forma formatada, por padrão tem 6 casas decimais\n",
    "print (\"%f\" % 100.2)"
   ]
  },
  {
   "cell_type": "markdown",
   "metadata": {},
   "source": [
    "***"
   ]
  },
  {
   "cell_type": "code",
   "execution_count": 23,
   "metadata": {
    "tags": []
   },
   "outputs": [
    {
     "name": "stdout",
     "output_type": "stream",
     "text": [
      "100.20\n"
     ]
    }
   ],
   "source": [
    "# Imprime um número real de forma formatada com 2 casas decimais\n",
    "print (\"%.2f\" % 100.2)"
   ]
  },
  {
   "cell_type": "markdown",
   "metadata": {},
   "source": [
    "***"
   ]
  },
  {
   "cell_type": "code",
   "execution_count": 24,
   "metadata": {
    "tags": []
   },
   "outputs": [
    {
     "name": "stdout",
     "output_type": "stream",
     "text": [
      "  16.66667\n"
     ]
    }
   ],
   "source": [
    "# Imprime um número real de forma formatada com 5 casas decimais e um espaçamento de \n",
    "# 10 caracteres para a esquerda, começando da ultima casa decimal\n",
    "print (\"%10.5f\" % (100/6))"
   ]
  },
  {
   "cell_type": "markdown",
   "metadata": {},
   "source": [
    "***"
   ]
  },
  {
   "cell_type": "code",
   "execution_count": 25,
   "metadata": {
    "tags": []
   },
   "outputs": [
    {
     "name": "stdout",
     "output_type": "stream",
     "text": [
      "1e+30\n"
     ]
    }
   ],
   "source": [
    "# Imprime número com notação cientifica e detecta algaritmos significativos\n",
    "print (\"%g\" % 1000000000000000000000000000000)"
   ]
  },
  {
   "cell_type": "markdown",
   "metadata": {},
   "source": [
    "***"
   ]
  },
  {
   "cell_type": "code",
   "execution_count": 26,
   "metadata": {
    "tags": []
   },
   "outputs": [
    {
     "name": "stdout",
     "output_type": "stream",
     "text": [
      " 07\n"
     ]
    }
   ],
   "source": [
    "# Da um espaço de 3 caracteres para a impressão e acrescenta zeros a esquerda do número, \n",
    "# no caso até completa 2 caracteres utilizada para alinhar as casas decimais das impressões\n",
    "print (\"%3.2d\" % 7)"
   ]
  },
  {
   "cell_type": "markdown",
   "metadata": {},
   "source": [
    "***"
   ]
  },
  {
   "cell_type": "code",
   "execution_count": 27,
   "metadata": {
    "tags": []
   },
   "outputs": [
    {
     "name": "stdout",
     "output_type": "stream",
     "text": [
      "Ola mundo! 10\n",
      "Resultado: 20.34\n",
      "Resultado: 30.34\n",
      "d.upper()[::-1]='ODNUM ALO'\n",
      "'Ola mundo' mágico\n"
     ]
    }
   ],
   "source": [
    "# Uma nova forma de fazer prints de forma bem legivel é usando o raw f, e podemos executar\n",
    "# expressões no print.\n",
    "a = 10\n",
    "print(f\"Ola mundo! {a}\")\n",
    "\n",
    "b = 20.3403\n",
    "print(f\"Resultado: {b:.2f}\")\n",
    "\n",
    "c = lambda x, y: x + y\n",
    "print(f\"Resultado: {c(a, b):.2f}\")\n",
    "\n",
    "d = \"Ola mundo\"\n",
    "print(f\"{d.upper()[::-1]=}\")\n",
    "print(f\"{d!r} mágico\")"
   ]
  },
  {
   "cell_type": "markdown",
   "metadata": {},
   "source": [
    "***"
   ]
  },
  {
   "cell_type": "code",
   "execution_count": 28,
   "metadata": {
    "tags": []
   },
   "outputs": [
    {
     "name": "stdout",
     "output_type": "stream",
     "text": [
      "Help on built-in function print in module builtins:\n",
      "\n",
      "print(*args, sep=' ', end='\\n', file=None, flush=False)\n",
      "    Prints the values to a stream, or to sys.stdout by default.\n",
      "    \n",
      "    sep\n",
      "      string inserted between values, default a space.\n",
      "    end\n",
      "      string appended after the last value, default a newline.\n",
      "    file\n",
      "      a file-like object (stream); defaults to the current sys.stdout.\n",
      "    flush\n",
      "      whether to forcibly flush the stream.\n",
      "\n"
     ]
    }
   ],
   "source": [
    "# O comando help() mostra a documentação do comando que inserir dentro dele como parâmetro\n",
    "help(print)"
   ]
  }
 ],
 "metadata": {
  "kernelspec": {
   "display_name": "Python 3 (ipykernel)",
   "language": "python",
   "name": "python3"
  },
  "language_info": {
   "codemirror_mode": {
    "name": "ipython",
    "version": 3
   },
   "file_extension": ".py",
   "mimetype": "text/x-python",
   "name": "python",
   "nbconvert_exporter": "python",
   "pygments_lexer": "ipython3",
   "version": "3.11.6"
  }
 },
 "nbformat": 4,
 "nbformat_minor": 4
}
