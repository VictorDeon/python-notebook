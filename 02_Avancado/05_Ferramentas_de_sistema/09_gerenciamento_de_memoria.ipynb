{
 "cells": [
  {
   "cell_type": "markdown",
   "id": "ed1145eb-7253-486e-a71a-b965e890b057",
   "metadata": {},
   "source": [
    "## Gerenciamento de memória\n",
    "***\n",
    "\n",
    "Quando você cria uma variável `x = 10` você ta armazenando o valor 10 em memória e apontando a variável x para esse local na memória onde ta armazenado esse valor.\n",
    "\n",
    "Se você fizer `y = x`, ambos tanto `y` quanto `x` vão apontar para o mesmo local na memória onde ta armazenado a variável 10."
   ]
  },
  {
   "cell_type": "code",
   "execution_count": 1,
   "id": "5c24ed09-6f38-47cd-898c-0af231f41d96",
   "metadata": {
    "tags": []
   },
   "outputs": [
    {
     "name": "stdout",
     "output_type": "stream",
     "text": [
      "94608059940040\n"
     ]
    }
   ],
   "source": [
    "x = 10\n",
    "print(id(x))"
   ]
  },
  {
   "cell_type": "code",
   "execution_count": 2,
   "id": "35e22743-9a7c-40da-89bb-b0ce5b352e4d",
   "metadata": {
    "tags": []
   },
   "outputs": [
    {
     "name": "stdout",
     "output_type": "stream",
     "text": [
      "94608059940040\n"
     ]
    }
   ],
   "source": [
    "y = x\n",
    "print(id(y))"
   ]
  },
  {
   "cell_type": "code",
   "execution_count": 3,
   "id": "a4913b16-c065-4591-b89e-f4019b1b3bbb",
   "metadata": {
    "tags": []
   },
   "outputs": [
    {
     "name": "stdout",
     "output_type": "stream",
     "text": [
      "True\n"
     ]
    }
   ],
   "source": [
    "print(id(x) == id(y))"
   ]
  },
  {
   "cell_type": "markdown",
   "id": "3af13d31-cc05-440a-ad6d-4ea99bfbcb41",
   "metadata": {},
   "source": [
    "No momento que vc fala que `x = x + 1` ou `x += 1` você agora ta tirando o vinculo do valor 10 que tava armazenado na memória e criando um novo espaço em memória com o valor 11."
   ]
  },
  {
   "cell_type": "code",
   "execution_count": 4,
   "id": "e4ba11ae-e18f-4d25-9dd5-c847252ff383",
   "metadata": {
    "tags": []
   },
   "outputs": [
    {
     "name": "stdout",
     "output_type": "stream",
     "text": [
      "94608059940072\n",
      "False\n"
     ]
    }
   ],
   "source": [
    "x += 1\n",
    "print(id(x))\n",
    "print(id(x) == id(y))"
   ]
  },
  {
   "cell_type": "markdown",
   "id": "079009ca-f7f6-4eba-a74d-6f0ddff62ae9",
   "metadata": {},
   "source": [
    "Se eu criar uma nova variável `z = 10`, o python não vai alocar outro espaço de memória ele vai ver que já existe esse valor em memória e vai apontar a variavel `z` nesse local da memória."
   ]
  },
  {
   "cell_type": "code",
   "execution_count": 5,
   "id": "f2173361-cf0a-43e6-a855-c3c2bc2e2e85",
   "metadata": {
    "tags": []
   },
   "outputs": [
    {
     "name": "stdout",
     "output_type": "stream",
     "text": [
      "94608059940040\n",
      "True\n"
     ]
    }
   ],
   "source": [
    "z = 10\n",
    "print(id(z))\n",
    "print(id(z) == id(y))"
   ]
  },
  {
   "cell_type": "markdown",
   "id": "607d40ec-6d70-4ed3-ae5c-dfd344cb1ae6",
   "metadata": {},
   "source": [
    "Ou seja, Python inteligentemente reutiliza valores já alocados para novos valores, economizando espaço em memória. Mas o que acontece com os dados em memória quando não são mais referenciados por nenhum objeto? No momento que um valor em memória fica sem ninguém apontando para ele, o **Garbage Collector** remove ele da memória. O algorítmo utilizado pelo Garbage Collector do python é chamado de **Reference Counting**.\n",
    "\n",
    "Diferentes linguagens de programaçao utilizam diferentes algorítmos para o Garbage Collector.\n",
    "\n",
    "Ou seja:\n",
    "* Métodos e variáveis são criadas na memória stack;\n",
    "* Os objetos e instâncias são criadas na memória heap;\n",
    "* Um novo stack é criado durante a invocação de uma função ou método;\n",
    "* Stacks sçai destruidas sempre que uma função ou método retorna valor;\n",
    "* Garbage Collector é um mecanismo para limpar Dead Objects na memória."
   ]
  },
  {
   "cell_type": "markdown",
   "id": "a2635ec0-266b-4c62-9f06-775fdec11877",
   "metadata": {},
   "source": [
    "***\n",
    "### GIL - Python Global Interpreter Lock\n",
    "***\n",
    "\n",
    "O python global interpreter lock, ou simplismente GIL, é um mutex (ou lock) que permite que apenas uma thread tome conta do interpretador python.\n",
    "\n",
    "Isso significa que somente uma thread pode estar em um estado de execução em qualquer ponto do tempo.\n",
    "\n",
    "O impacto do GIL não é comumente visível para desenvolvedores que executam programas single-thread, mas pode ser uma dor de cabeça para programas que precisam de tempo de resposta em códigos multi-thread.\n",
    "\n",
    "Desde que o GIL permite apenas uma thread a ser executada, mesmo em computadores multi-threads com arquitetura que permite utilizar mais de um CPU ou core, o GIL tem ganhado reputação como recurso 'indecente' do python.\n",
    "\n",
    "O python utiliza o algorítmo reference counting para gerenciamento de memória, isso significa que para cada objeto criado python mantém uma variável de contagem de referência que guarda quantas referências apontam para o objeto. Quando o contador de referência chega a zero, a memória ocupada é liberada."
   ]
  },
  {
   "cell_type": "code",
   "execution_count": 6,
   "id": "3b30589b-0d7a-4429-a248-2e94e4333ee9",
   "metadata": {
    "tags": []
   },
   "outputs": [
    {
     "name": "stdout",
     "output_type": "stream",
     "text": [
      "3\n"
     ]
    }
   ],
   "source": [
    "import sys\n",
    "a = []\n",
    "b = a\n",
    "print(sys.getrefcount(a))  # essa função tb ta referenciando a"
   ]
  },
  {
   "cell_type": "code",
   "execution_count": 7,
   "id": "5d23e0d7-07dd-4fe9-bf82-ac7a77935b76",
   "metadata": {
    "tags": []
   },
   "outputs": [
    {
     "name": "stdout",
     "output_type": "stream",
     "text": [
      "2\n"
     ]
    }
   ],
   "source": [
    "b = None\n",
    "print(sys.getrefcount(a))"
   ]
  },
  {
   "cell_type": "markdown",
   "id": "559add53-6e7c-4123-acf9-5f349f5dd2e9",
   "metadata": {},
   "source": [
    "O problema é que essa forma de gerenciamento de memória utilizando reference counting precisa de proteção para um fenômeno chamado `race conditions`, onde duas threads aumenta ou diminuem seu valor simultaneamente.\n",
    "\n",
    "Se isso acontecer, poderá causar problemas de memória que nunca é liberada, ou ainda pior, liberação incorreta de memória enquanto ainda existe referência para o objeto.\n",
    "\n",
    "E isso causa `crashs` ou outros bugs esquisitos no seu programa.\n",
    "\n",
    "Este reference counting pode ser mantido seguro adicionando 'locks' em toda estrutura de dados que são compartilhadas via threads. Desta forma eles não são modificados de forma inconsistente.\n",
    "\n",
    "O problema é que adicionar 'locks' em cada objeto ou grupo de objetos significa que múltiplos locks irão existir, e isso irá causar um outro problema - `Deadlocks` que é quando um lock não finaliza nunca (deadlocks só podem existir se existe mais de um lock). Outro efeito colateral seria decaimento da performace causada pela repetida aquisição e liberação de locks.\n",
    "\n",
    "O GIL aplica na regra de execução de qualquer código python o single lock previnindo qualquer deadlock, o que por outro lado transforma qualquer código python em single-thread.\n",
    "\n",
    "Vale mencionar que o GIL apesar de ser usado também em outras linguagens de programação como Ruby, não é a única solução.\n",
    "\n",
    "Algumas linguagens evitam o uso do GIL para gerenciamento de memória em thread utilizando abordagens diferentes do reference couting que o python utiliza.\n",
    "\n",
    "Por exemplo, uma das abordagens que outras linguagens utilizam é o compilador JIT - Just in Time, como o Java.\n",
    "\n",
    "Vamos ver como isso impacta no código."
   ]
  },
  {
   "cell_type": "code",
   "execution_count": 8,
   "id": "85865a7d-2430-4395-94da-2607a4bcbdb9",
   "metadata": {
    "tags": []
   },
   "outputs": [],
   "source": [
    "import time\n",
    "contador = 50_000_000"
   ]
  },
  {
   "cell_type": "code",
   "execution_count": 9,
   "id": "880ff1b4-c210-4566-8e3b-49ce951e5c15",
   "metadata": {
    "tags": []
   },
   "outputs": [],
   "source": [
    "def contagem_regressiva(n):\n",
    "    while n > 0:\n",
    "        n -= 1"
   ]
  },
  {
   "cell_type": "code",
   "execution_count": 10,
   "id": "3f5e3d27-13bf-441d-a992-681ef8c48218",
   "metadata": {
    "tags": []
   },
   "outputs": [
    {
     "name": "stdout",
     "output_type": "stream",
     "text": [
      "Tempo em segundos: 4.774857759475708\n"
     ]
    }
   ],
   "source": [
    "# SINGLE THREAD (MAIN)\n",
    "inicio = time.time()\n",
    "contagem_regressiva(contador)\n",
    "fim = time.time()\n",
    "print(f\"Tempo em segundos: {fim - inicio}\")"
   ]
  },
  {
   "cell_type": "code",
   "execution_count": 11,
   "id": "72e51bb6-f7b9-490c-bdd5-d8363441ee3c",
   "metadata": {
    "tags": []
   },
   "outputs": [
    {
     "name": "stdout",
     "output_type": "stream",
     "text": [
      "Tempo em segundos: 4.7575788497924805\n"
     ]
    }
   ],
   "source": [
    "# MULTI-THREADS\n",
    "from threading import Thread\n",
    "t1 = Thread(target=contagem_regressiva, args=(contador//2,))\n",
    "t2 = Thread(target=contagem_regressiva, args=(contador//2,))\n",
    "inicio = time.time()\n",
    "t1.start()\n",
    "t2.start()\n",
    "t1.join()\n",
    "t2.join()\n",
    "fim = time.time()\n",
    "print(f\"Tempo em segundos: {fim - inicio}\")"
   ]
  },
  {
   "cell_type": "markdown",
   "id": "2a5b9eef-e1d1-40f6-a762-63e6f2a686c9",
   "metadata": {},
   "source": [
    "Mesmo utilizando multhread a diferença não é muito grande por causa do GIL, no final das contas vai ser 2 threads rodando como se fosse uma. A utilização do GIL prejudica a real utilização de multi-cores nas máquinas, o que torna os projetos python lentos em alguns casos. Por outro lado, o GIL torna as aplicações single-thread muito performaticas, e a grande maioria das aplicações não precisam utilizar multi-threads.\n",
    "\n",
    "E como lidar com o GIL? Caso você tenha problemas com o GIL, você pode utilizar multi-processing ao invés de multithreading. Utilizando processos ao invés de threads cada processo python ganha seu próprio interpretador python e espaço em memória. Desta forma o GIL não será problema."
   ]
  },
  {
   "cell_type": "code",
   "execution_count": 12,
   "id": "c8e2272a-a631-49df-a614-984d4b8d386e",
   "metadata": {
    "tags": []
   },
   "outputs": [
    {
     "name": "stdout",
     "output_type": "stream",
     "text": [
      "Tempo em segundos: 2.6110236644744873\n"
     ]
    }
   ],
   "source": [
    "# MULTI-PROCESSING FORMA 01\n",
    "from multiprocessing import Pool\n",
    "pool = Pool(processes=2)\n",
    "inicio = time.time()\n",
    "p1 = pool.apply_async(contagem_regressiva, [contador//2])\n",
    "p2 = pool.apply_async(contagem_regressiva, [contador//2])\n",
    "inicio = time.time()\n",
    "pool.close()\n",
    "pool.join()\n",
    "fim = time.time()\n",
    "print(f\"Tempo em segundos: {fim - inicio}\")"
   ]
  },
  {
   "cell_type": "code",
   "execution_count": 13,
   "id": "a31104b2-c744-46cb-9d2a-b8c08c9fbd8e",
   "metadata": {
    "tags": []
   },
   "outputs": [
    {
     "name": "stdout",
     "output_type": "stream",
     "text": [
      "Tempo em segundos: 2.8882246017456055\n"
     ]
    }
   ],
   "source": [
    "# MULTI-PROCESSING FORMA 02\n",
    "from multiprocessing import Process\n",
    "p1 = Process(target=contagem_regressiva, args=(contador//2,))\n",
    "p2 = Process(target=contagem_regressiva, args=(contador//2,))\n",
    "inicio = time.time()\n",
    "p1.start()\n",
    "p2.start()\n",
    "p1.join()\n",
    "p2.join()\n",
    "fim = time.time()\n",
    "print(f\"Tempo em segundos: {fim - inicio}\")"
   ]
  },
  {
   "cell_type": "markdown",
   "id": "5995bd2f-6940-4cc3-925e-0fecb51d1b49",
   "metadata": {},
   "source": [
    "Multi-processing são mais pesados que multi-threading, ou seja, demanda mais recurso da máquina e lembre-se que para cada processo, teremos um ambiente python próprio. Um interpretado que não tem GIL é o **[PyPy](https://pypy.org/)**, que é um uma implementação do python sem o GIL."
   ]
  }
 ],
 "metadata": {
  "kernelspec": {
   "display_name": "Python 3 (ipykernel)",
   "language": "python",
   "name": "python3"
  },
  "language_info": {
   "codemirror_mode": {
    "name": "ipython",
    "version": 3
   },
   "file_extension": ".py",
   "mimetype": "text/x-python",
   "name": "python",
   "nbconvert_exporter": "python",
   "pygments_lexer": "ipython3",
   "version": "3.11.6"
  }
 },
 "nbformat": 4,
 "nbformat_minor": 5
}
