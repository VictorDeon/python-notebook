{
 "cells": [
  {
   "cell_type": "markdown",
   "metadata": {},
   "source": [
    "# Básico do modulo os\n",
    "***"
   ]
  },
  {
   "cell_type": "markdown",
   "metadata": {},
   "source": [
    "**os** vem de Operation System.\n",
    "\n",
    "#### Métodos:\n",
    "\n",
    "* **.getpid()**: ID do processo que está executando, todo programa/processo que você roda tem um ID\n",
    "\n",
    "\n",
    "* **.getcwd()**: Recebe o diretório de trabalho atual\n",
    "\n",
    "\n",
    "* **.mkdir(path, mode=777)**: Cria um diretorio com um modo de permissão\n",
    "\n",
    "\n",
    "* **.remove(path)**: Remove um arquivo\n",
    "\n",
    "\n",
    "* **.removedirs(name)**: Remove diretorio recursivamente, ou podemos usar o **rmdir()** que remove se ele tiver vazio.\n",
    "\n",
    "\n",
    "* **.rename(path)**: Renomeia um arquivo ou diretorio\n",
    "\n",
    "\n",
    "* **.urandom(n)**: Retorna n bytes cryptografados de uma data aleatória\n",
    "\n",
    "\n",
    "* **.chdir(path)**: Muda o diretório de trabalho, podemos usar o caminho relativo, do seu diretorio em diante ou absoluto, caminho completo.\n",
    "\n",
    "\n",
    "* **.listdir(path)**: Lista todos os diretórios/arquivos no diretório atual\n",
    "\n",
    "\n",
    "* **.walk(path)**: Caminha por uma árvore de diretórios, utiliza de geradores\n",
    "\n",
    "\n",
    "* **.chmod(path, numeric_mode)**: Modifica as permissões do path, utilizando o modo númerico de permissões.\n",
    "\n",
    "\n",
    "* **.chown(path, uid, gid)**: Altere o ID do proprietário e do grupo do path fornecido pelo fd(file) para o uid(user_id) numérico e o gid(group_id).\n",
    "\n",
    "\n",
    "* **.chdir(path)**: Altere o diretório de trabalho atual para o path.\n",
    "\n",
    "* **.pardir**: Mostra o caminho para ir ao diretório anterior, ou diretório pai. LINUX = ..\n",
    "\n",
    "#### Paths\n",
    "\n",
    "**os.path**: Lida com a manipulação de diretorios\n",
    "\n",
    "* **.isdir(path)**: Verifica se o caminho passado é um diretorio\n",
    "\n",
    "\n",
    "* **.isfile(path)**: Verifica se o caminho passado é um arquivo\n",
    "\n",
    "\n",
    "* **.exists(path)**: Verifica se o caminho passado existe\n",
    "\n",
    "\n",
    "* **.getsize(path)**: Pega o tamanho em bytes do arquivo ou diretorio\n",
    "\n",
    "\n",
    "* **.split(path)**: Separa o que é caminho de diretorio e o que é arquivo\n",
    "\n",
    "\n",
    "* **.dirname(path)**: Pega o caminho que é um diretorio\n",
    "\n",
    "\n",
    "* **.basename(path)**: Pega o caminho que é um arquivo\n",
    "\n",
    "\n",
    "* **.join(path1, path2)**: Junta dois caminhos\n",
    "\n",
    "\n",
    "* **.splitext(file)**: Separa o arquivo de sua extensão\n",
    "\n",
    "\n",
    "* **.normpath(path)**: Arruma o separado do path passado de acordo com o separador do seu sistema operacional. Por exemplo no linux ele aceita o \\ e o / porém isso é util no windows.\n",
    "\n",
    "\n",
    "* **.abspath(path)**: Pega o caminho absoluto do diretorio ou arquivo inserido como parâmetro\n",
    "\n",
    "#### Constantes:\n",
    "\n",
    "* **.pathsep**: Separador de caminhos usado no path\n",
    "\n",
    "\n",
    "* **.sep**: Separador de diretorios\n",
    "\n",
    "\n",
    "* **.pardir**: Caminho para voltar para o diretório anterior\n",
    "\n",
    "\n",
    "* **.curdir**: Caminho para obter o diretório atual\n",
    "\n",
    "\n",
    "* **.linesep**: Separador de linhas ou em alguns casos o \\n\n",
    "\n",
    "\n",
    "* **.environ**: Dicionário com caminhos e configurações específicas do sistema"
   ]
  },
  {
   "cell_type": "markdown",
   "metadata": {},
   "source": [
    "***\n",
    "### Arquivos e diretorios\n",
    "***"
   ]
  },
  {
   "cell_type": "code",
   "execution_count": 1,
   "metadata": {},
   "outputs": [],
   "source": [
    "# Importar o modulo os e sys\n",
    "import os\n",
    "import sys"
   ]
  },
  {
   "cell_type": "markdown",
   "metadata": {},
   "source": [
    "***"
   ]
  },
  {
   "cell_type": "code",
   "execution_count": 2,
   "metadata": {},
   "outputs": [
    {
     "name": "stdout",
     "output_type": "stream",
     "text": [
      "295 /home/jovyan/02_Avancado/05_Ferramentas_de_sistema\n"
     ]
    }
   ],
   "source": [
    "# Imprimir o processo e o diretório atual\n",
    "print(os.getpid(), os.getcwd())"
   ]
  },
  {
   "cell_type": "markdown",
   "metadata": {},
   "source": [
    "***"
   ]
  },
  {
   "cell_type": "code",
   "execution_count": 3,
   "metadata": {},
   "outputs": [],
   "source": [
    "# Vamos criar um arquivo\n",
    "file = open('arquivo.txt', 'w')\n",
    "file.write('Arquivo para modificações\\n')\n",
    "file.close()"
   ]
  },
  {
   "cell_type": "markdown",
   "metadata": {},
   "source": [
    "***"
   ]
  },
  {
   "cell_type": "code",
   "execution_count": 4,
   "metadata": {},
   "outputs": [],
   "source": [
    "# Renomear o arquivo\n",
    "os.rename('arquivo.txt', 'renomeado.txt')"
   ]
  },
  {
   "cell_type": "markdown",
   "metadata": {},
   "source": [
    "***"
   ]
  },
  {
   "cell_type": "code",
   "execution_count": 5,
   "metadata": {},
   "outputs": [],
   "source": [
    "# Remover o arquivo\n",
    "os.remove('renomeado.txt')"
   ]
  },
  {
   "cell_type": "markdown",
   "metadata": {},
   "source": [
    "***"
   ]
  },
  {
   "cell_type": "code",
   "execution_count": 6,
   "metadata": {},
   "outputs": [
    {
     "name": "stdout",
     "output_type": "stream",
     "text": [
      "b'|}\\x0c \\xab'\n"
     ]
    }
   ],
   "source": [
    "# Gera uma string aleatória e criptografada\n",
    "print(os.urandom(5))"
   ]
  },
  {
   "cell_type": "markdown",
   "metadata": {},
   "source": [
    "***"
   ]
  },
  {
   "cell_type": "code",
   "execution_count": 7,
   "metadata": {},
   "outputs": [],
   "source": [
    "# Criar um diretorio\n",
    "os.mkdir('diretorio')"
   ]
  },
  {
   "cell_type": "markdown",
   "metadata": {},
   "source": [
    "***"
   ]
  },
  {
   "cell_type": "code",
   "execution_count": 8,
   "metadata": {},
   "outputs": [
    {
     "name": "stdout",
     "output_type": "stream",
     "text": [
      "/home/jovyan/02_Avancado/05_Ferramentas_de_sistema\n",
      "/home/jovyan/02_Avancado\n",
      "['07_Internet', '04_Pytest', '02_Armazenamento_de_dados', '01_Topicos_avancados', '05_Ferramentas_de_sistema', '03_Iteracoes', '08_Regex', '06_Execucao_paralela']\n"
     ]
    }
   ],
   "source": [
    "# Modificar o diretorio de trabalho e lista-lo\n",
    "print(os.getcwd())\n",
    "os.chdir('..')\n",
    "print(os.getcwd())\n",
    "print(os.listdir('.'))"
   ]
  },
  {
   "cell_type": "markdown",
   "metadata": {},
   "source": [
    "***"
   ]
  },
  {
   "cell_type": "code",
   "execution_count": 9,
   "metadata": {},
   "outputs": [
    {
     "name": "stdout",
     "output_type": "stream",
     "text": [
      "\n",
      "Diretório: [.]\n",
      "Aperte enter para ver os conteúdos do diretório: \n",
      "\n",
      "Diretório: [./07_Internet]\n",
      "Aperte enter para ver os conteúdos do diretório: \n",
      "--> ./07_Internet/01_sockets.ipynb\n",
      "--> ./07_Internet/05_upload_e_download_de_arquivos_usando_ftplib.ipynb\n",
      "--> ./07_Internet/08_requisicoes_http.ipynb\n",
      "--> ./07_Internet/09_servidor_CGI.ipynb\n",
      "--> ./07_Internet/10_socketio.ipynb\n",
      "--> ./07_Internet/thread_server.py\n",
      "--> ./07_Internet/07_requisicoes_para_newsgroups_com_nntp.ipynb\n",
      "--> ./07_Internet/udp_server.py\n",
      "--> ./07_Internet/04_acessando_paginas_web_com_urllib.ipynb\n",
      "--> ./07_Internet/03_UDP.ipynb\n",
      "--> ./07_Internet/06_emails_com_pop_e_smtp.ipynb\n",
      "--> ./07_Internet/cgi_server.py\n",
      "--> ./07_Internet/02_multiplos_clientes.ipynb\n",
      "\n",
      "Diretório: [./07_Internet/html]\n",
      "Aperte enter para ver os conteúdos do diretório: \n",
      "--> ./07_Internet/html/internet.html\n",
      "--> ./07_Internet/html/cgi.py\n",
      "\n",
      "Diretório: [./07_Internet/.ipynb_checkpoints]\n",
      "Aperte enter para ver os conteúdos do diretório: \n",
      "--> ./07_Internet/.ipynb_checkpoints/08_requisicoes_http-checkpoint.ipynb\n",
      "--> ./07_Internet/.ipynb_checkpoints/04_acessando_paginas_web_com_urllib-checkpoint.ipynb\n",
      "--> ./07_Internet/.ipynb_checkpoints/05_upload_e_download_de_arquivos_usando_ftplib-checkpoint.ipynb\n",
      "--> ./07_Internet/.ipynb_checkpoints/01_sockets-checkpoint.ipynb\n",
      "--> ./07_Internet/.ipynb_checkpoints/03_UDP-checkpoint.ipynb\n",
      "--> ./07_Internet/.ipynb_checkpoints/02_multiplos_clientes-checkpoint.ipynb\n",
      "--> ./07_Internet/.ipynb_checkpoints/10_socketio-checkpoint.ipynb\n",
      "--> ./07_Internet/.ipynb_checkpoints/09_servidor_CGI-checkpoint.ipynb\n",
      "\n",
      "Diretório: [./04_Pytest]\n",
      "Aperte enter para ver os conteúdos do diretório: \n",
      "--> ./04_Pytest/02_doctest.ipynb\n",
      "--> ./04_Pytest/04_logging.ipynb\n",
      "--> ./04_Pytest/03_TDD.ipynb\n",
      "--> ./04_Pytest/01_unittest.ipynb\n",
      "--> ./04_Pytest/06_pytest.ipynb\n",
      "--> ./04_Pytest/05_debugando.ipynb\n",
      "\n",
      "Diretório: [./04_Pytest/.ipynb_checkpoints]\n",
      "Aperte enter para ver os conteúdos do diretório: \n",
      "--> ./04_Pytest/.ipynb_checkpoints/06_pytest-checkpoint.ipynb\n",
      "--> ./04_Pytest/.ipynb_checkpoints/05_debugando-checkpoint.ipynb\n",
      "--> ./04_Pytest/.ipynb_checkpoints/04_logging-checkpoint.ipynb\n",
      "--> ./04_Pytest/.ipynb_checkpoints/02_doctest-checkpoint.ipynb\n",
      "--> ./04_Pytest/.ipynb_checkpoints/03_TDD-checkpoint.ipynb\n",
      "--> ./04_Pytest/.ipynb_checkpoints/01_unittest-checkpoint.ipynb\n",
      "\n",
      "Diretório: [./02_Armazenamento_de_dados]\n",
      "Aperte enter para ver os conteúdos do diretório: \n",
      "--> ./02_Armazenamento_de_dados/03_json.ipynb\n",
      "--> ./02_Armazenamento_de_dados/02_dbm.ipynb\n",
      "--> ./02_Armazenamento_de_dados/05_shelve.ipynb\n",
      "--> ./02_Armazenamento_de_dados/04_pickle.ipynb\n",
      "--> ./02_Armazenamento_de_dados/01_struct.ipynb\n",
      "--> ./02_Armazenamento_de_dados/06_csv.ipynb\n",
      "\n",
      "Diretório: [./02_Armazenamento_de_dados/.ipynb_checkpoints]\n",
      "Aperte enter para ver os conteúdos do diretório: \n",
      "--> ./02_Armazenamento_de_dados/.ipynb_checkpoints/01_struct-checkpoint.ipynb\n",
      "--> ./02_Armazenamento_de_dados/.ipynb_checkpoints/03_json-checkpoint.ipynb\n",
      "--> ./02_Armazenamento_de_dados/.ipynb_checkpoints/05_shelve-checkpoint.ipynb\n",
      "--> ./02_Armazenamento_de_dados/.ipynb_checkpoints/06_csv-checkpoint.ipynb\n",
      "--> ./02_Armazenamento_de_dados/.ipynb_checkpoints/04_pickle-checkpoint.ipynb\n",
      "--> ./02_Armazenamento_de_dados/.ipynb_checkpoints/02_dbm-checkpoint.ipynb\n",
      "\n",
      "Diretório: [./01_Topicos_avancados]\n",
      "Aperte enter para ver os conteúdos do diretório: \n",
      "--> ./01_Topicos_avancados/07_produto_cartesiano.ipynb\n",
      "--> ./01_Topicos_avancados/02_is.ipynb\n",
      "--> ./01_Topicos_avancados/01_del.ipynb\n",
      "--> ./01_Topicos_avancados/06_empacotamento_pypi.ipynb\n",
      "--> ./01_Topicos_avancados/05_injecao_de_dependencia.ipynb\n",
      "--> ./01_Topicos_avancados/03_modules.ipynb\n",
      "--> ./01_Topicos_avancados/08_permutacoes.ipynb\n",
      "--> ./01_Topicos_avancados/04_decorator.ipynb\n",
      "\n",
      "Diretório: [./01_Topicos_avancados/.ipynb_checkpoints]\n",
      "Aperte enter para ver os conteúdos do diretório: \n",
      "--> ./01_Topicos_avancados/.ipynb_checkpoints/01_del-checkpoint.ipynb\n",
      "--> ./01_Topicos_avancados/.ipynb_checkpoints/07_produto_cartesiano-checkpoint.ipynb\n",
      "--> ./01_Topicos_avancados/.ipynb_checkpoints/05_injecao_de_dependencia-checkpoint.ipynb\n",
      "--> ./01_Topicos_avancados/.ipynb_checkpoints/08_permutacoes-checkpoint.ipynb\n",
      "--> ./01_Topicos_avancados/.ipynb_checkpoints/02_is-checkpoint.ipynb\n",
      "--> ./01_Topicos_avancados/.ipynb_checkpoints/03_modules-checkpoint.ipynb\n",
      "--> ./01_Topicos_avancados/.ipynb_checkpoints/04_decorator-checkpoint.ipynb\n",
      "\n",
      "Diretório: [./05_Ferramentas_de_sistema]\n",
      "Aperte enter para ver os conteúdos do diretório: \n",
      "--> ./05_Ferramentas_de_sistema/05_modulo_subprocess.ipynb\n",
      "--> ./05_Ferramentas_de_sistema/07_ssh.ipynb\n",
      "--> ./05_Ferramentas_de_sistema/08_rodando_arquivo_python_no_python.ipynb\n",
      "--> ./05_Ferramentas_de_sistema/fib.py\n",
      "--> ./05_Ferramentas_de_sistema/06_module_argparse.ipynb\n",
      "--> ./05_Ferramentas_de_sistema/03_comandos_shell.ipynb\n",
      "--> ./05_Ferramentas_de_sistema/teste.py\n",
      "--> ./05_Ferramentas_de_sistema/setup.py\n",
      "--> ./05_Ferramentas_de_sistema/02_modulo_os.ipynb\n",
      "--> ./05_Ferramentas_de_sistema/01_modulo_sys.ipynb\n",
      "--> ./05_Ferramentas_de_sistema/04_streams.ipynb\n",
      "\n",
      "Diretório: [./05_Ferramentas_de_sistema/__pycache__]\n",
      "Aperte enter para ver os conteúdos do diretório: \n",
      "--> ./05_Ferramentas_de_sistema/__pycache__/teste.cpython-37.pyc\n",
      "\n",
      "Diretório: [./05_Ferramentas_de_sistema/.ipynb_checkpoints]\n",
      "Aperte enter para ver os conteúdos do diretório: \n",
      "--> ./05_Ferramentas_de_sistema/.ipynb_checkpoints/03_comandos_shell-checkpoint.ipynb\n",
      "--> ./05_Ferramentas_de_sistema/.ipynb_checkpoints/07_ssh-checkpoint.ipynb\n",
      "--> ./05_Ferramentas_de_sistema/.ipynb_checkpoints/02_modulo_os-checkpoint.ipynb\n",
      "--> ./05_Ferramentas_de_sistema/.ipynb_checkpoints/01_modulo_sys-checkpoint.ipynb\n",
      "--> ./05_Ferramentas_de_sistema/.ipynb_checkpoints/08_rodando_arquivo_python_no_python-checkpoint.ipynb\n",
      "--> ./05_Ferramentas_de_sistema/.ipynb_checkpoints/05_modulo_subprocess-checkpoint.ipynb\n",
      "--> ./05_Ferramentas_de_sistema/.ipynb_checkpoints/04_streams-checkpoint.ipynb\n",
      "--> ./05_Ferramentas_de_sistema/.ipynb_checkpoints/06_module_argparse-checkpoint.ipynb\n",
      "\n",
      "Diretório: [./05_Ferramentas_de_sistema/diretorio]\n",
      "Aperte enter para ver os conteúdos do diretório: \n",
      "\n",
      "Diretório: [./03_Iteracoes]\n",
      "Aperte enter para ver os conteúdos do diretório: \n",
      "--> ./03_Iteracoes/06_criando_objetos_iteraveis.ipynb\n",
      "--> ./03_Iteracoes/07_objetos_indexaveis.ipynb\n",
      "--> ./03_Iteracoes/01_introducao.ipynb\n",
      "--> ./03_Iteracoes/04_funcoes_geradoras.ipynb\n",
      "--> ./03_Iteracoes/03_metodos_iteraveis.ipynb\n",
      "--> ./03_Iteracoes/05_expressoes_geradoras.ipynb\n",
      "--> ./03_Iteracoes/arquivo.txt\n",
      "--> ./03_Iteracoes/02_compressao_de_listas.ipynb\n",
      "\n",
      "Diretório: [./03_Iteracoes/.ipynb_checkpoints]\n",
      "Aperte enter para ver os conteúdos do diretório: \n",
      "--> ./03_Iteracoes/.ipynb_checkpoints/07_objetos_indexaveis-checkpoint.ipynb\n",
      "--> ./03_Iteracoes/.ipynb_checkpoints/05_expressoes_geradoras-checkpoint.ipynb\n",
      "--> ./03_Iteracoes/.ipynb_checkpoints/04_funcoes_geradoras-checkpoint.ipynb\n",
      "--> ./03_Iteracoes/.ipynb_checkpoints/03_metodos_iteraveis-checkpoint.ipynb\n",
      "--> ./03_Iteracoes/.ipynb_checkpoints/02_compressao_de_listas-checkpoint.ipynb\n",
      "--> ./03_Iteracoes/.ipynb_checkpoints/06_criando_objetos_iteraveis-checkpoint.ipynb\n",
      "--> ./03_Iteracoes/.ipynb_checkpoints/01_introducao-checkpoint.ipynb\n",
      "\n",
      "Diretório: [./08_Regex]\n",
      "Aperte enter para ver os conteúdos do diretório: \n",
      "--> ./08_Regex/03_match.ipynb\n",
      "--> ./08_Regex/02_search.ipynb\n",
      "--> ./08_Regex/01_introducao.ipynb\n",
      "--> ./08_Regex/04_findall.ipynb\n",
      "--> ./08_Regex/05_finditer.ipynb\n",
      "--> ./08_Regex/07_split.ipynb\n",
      "--> ./08_Regex/arquivo.html\n",
      "--> ./08_Regex/06_sub.ipynb\n",
      "--> ./08_Regex/09_grupos.ipynb\n",
      "--> ./08_Regex/08_flags.ipynb\n",
      "\n",
      "Diretório: [./08_Regex/.ipynb_checkpoints]\n",
      "Aperte enter para ver os conteúdos do diretório: \n",
      "--> ./08_Regex/.ipynb_checkpoints/03_match-checkpoint.ipynb\n",
      "--> ./08_Regex/.ipynb_checkpoints/09_grupos-checkpoint.ipynb\n",
      "--> ./08_Regex/.ipynb_checkpoints/02_search-checkpoint.ipynb\n",
      "--> ./08_Regex/.ipynb_checkpoints/06_sub-checkpoint.ipynb\n",
      "--> ./08_Regex/.ipynb_checkpoints/05_finditer-checkpoint.ipynb\n",
      "--> ./08_Regex/.ipynb_checkpoints/07_split-checkpoint.ipynb\n",
      "--> ./08_Regex/.ipynb_checkpoints/08_flags-checkpoint.ipynb\n",
      "--> ./08_Regex/.ipynb_checkpoints/04_findall-checkpoint.ipynb\n",
      "\n",
      "Diretório: [./06_Execucao_paralela]\n",
      "Aperte enter para ver os conteúdos do diretório: \n",
      "--> ./06_Execucao_paralela/06_programacao_paralela.ipynb\n",
      "--> ./06_Execucao_paralela/02_threads.ipynb\n",
      "--> ./06_Execucao_paralela/01_fork.ipynb\n",
      "--> ./06_Execucao_paralela/03_queue.ipynb\n",
      "--> ./06_Execucao_paralela/son.py\n",
      "--> ./06_Execucao_paralela/05_multiprocessing.ipynb\n",
      "--> ./06_Execucao_paralela/04_comunicacao_interprocessual.ipynb\n",
      "\n",
      "Diretório: [./06_Execucao_paralela/.ipynb_checkpoints]\n",
      "Aperte enter para ver os conteúdos do diretório: \n",
      "--> ./06_Execucao_paralela/.ipynb_checkpoints/01_fork-checkpoint.ipynb\n",
      "--> ./06_Execucao_paralela/.ipynb_checkpoints/02_threads-checkpoint.ipynb\n",
      "--> ./06_Execucao_paralela/.ipynb_checkpoints/05_multiprocessing-checkpoint.ipynb\n",
      "--> ./06_Execucao_paralela/.ipynb_checkpoints/03_queue-checkpoint.ipynb\n",
      "--> ./06_Execucao_paralela/.ipynb_checkpoints/06_programacao_paralela-checkpoint.ipynb\n",
      "--> ./06_Execucao_paralela/.ipynb_checkpoints/04_comunicacao_interprocessual-checkpoint.ipynb\n"
     ]
    }
   ],
   "source": [
    "# Vamos caminhar pelos diretorios e lista-los\n",
    "for (name, subdirectories, files) in os.walk('.'):\n",
    "    print()\n",
    "    print('Diretório: [' + name + ']')\n",
    "    try:\n",
    "        input(\"Aperte enter para ver os conteúdos do diretório: \")\n",
    "    except EOFError:\n",
    "        break\n",
    "    for file_name in files:\n",
    "        print(\"-->\", os.path.join(name, file_name))"
   ]
  },
  {
   "cell_type": "markdown",
   "metadata": {},
   "source": [
    "***"
   ]
  },
  {
   "cell_type": "code",
   "execution_count": 10,
   "metadata": {},
   "outputs": [],
   "source": [
    "# Remover o diretorio recursivamente\n",
    "os.chdir('05_Ferramentas_de_sistema')\n",
    "os.removedirs('diretorio')"
   ]
  },
  {
   "cell_type": "markdown",
   "metadata": {},
   "source": [
    "***\n",
    "### Path\n",
    "***"
   ]
  },
  {
   "cell_type": "code",
   "execution_count": 11,
   "metadata": {},
   "outputs": [
    {
     "name": "stdout",
     "output_type": "stream",
     "text": [
      "False\n",
      "True\n",
      "True\n",
      "25192 MB\n"
     ]
    }
   ],
   "source": [
    "# Caminhos path do sistema - verificação\n",
    "print(os.path.isdir(\"02_modulo_os.ipynb\"))\n",
    "print(os.path.isfile(\"02_modulo_os.ipynb\"))\n",
    "print(os.path.exists(\"02_modulo_os.ipynb\"))\n",
    "print(os.path.getsize(\"02_modulo_os.ipynb\"), \"MB\")"
   ]
  },
  {
   "cell_type": "markdown",
   "metadata": {},
   "source": [
    "***"
   ]
  },
  {
   "cell_type": "code",
   "execution_count": 12,
   "metadata": {},
   "outputs": [
    {
     "name": "stdout",
     "output_type": "stream",
     "text": [
      "('03_Avancado/05_Ferramentas_de_sistema', '02_modulo_os.ipynb')\n",
      "('02_modulo_os', '.ipynb')\n",
      "03_Avancado/05_Ferramentas_de_sistema\n",
      "02_modulo_os.ipynb\n"
     ]
    }
   ],
   "source": [
    "# Separa o que é caminho de diretorio e o que é arquivo\n",
    "print(os.path.split(\"03_Avancado/05_Ferramentas_de_sistema/02_modulo_os.ipynb\"))\n",
    "print(os.path.splitext(\"02_modulo_os.ipynb\"))\n",
    "print(os.path.dirname(\"03_Avancado/05_Ferramentas_de_sistema/02_modulo_os.ipynb\"))\n",
    "print(os.path.basename(\"03_Avancado/05_Ferramentas_de_sistema/02_modulo_os.ipynb\"))"
   ]
  },
  {
   "cell_type": "markdown",
   "metadata": {},
   "source": [
    "***"
   ]
  },
  {
   "cell_type": "code",
   "execution_count": 13,
   "metadata": {},
   "outputs": [
    {
     "name": "stdout",
     "output_type": "stream",
     "text": [
      "03_Avancado/arquivos/arquivo.py\n"
     ]
    }
   ],
   "source": [
    "# Junta dois caminhos\n",
    "print(os.path.join(\"03_Avancado\", \"arquivos\", \"arquivo.py\"))"
   ]
  },
  {
   "cell_type": "markdown",
   "metadata": {},
   "source": [
    "***"
   ]
  },
  {
   "cell_type": "code",
   "execution_count": 14,
   "metadata": {},
   "outputs": [
    {
     "name": "stdout",
     "output_type": "stream",
     "text": [
      "03_Avancado\\05_Ferramentas_de_sistema/02_modulo_os.ipynb\n"
     ]
    }
   ],
   "source": [
    "# Arrumar os divisores de diretorios dos path\n",
    "print(os.path.normpath(\"03_Avancado\\\\05_Ferramentas_de_sistema/02_modulo_os.ipynb\"))"
   ]
  },
  {
   "cell_type": "markdown",
   "metadata": {},
   "source": [
    "***"
   ]
  },
  {
   "cell_type": "code",
   "execution_count": 15,
   "metadata": {},
   "outputs": [
    {
     "name": "stdout",
     "output_type": "stream",
     "text": [
      "/home/jovyan/02_Avancado/05_Ferramentas_de_sistema/02_modulo_os.ipynb\n",
      "/home/jovyan/02_Avancado/05_Ferramentas_de_sistema\n",
      "/home/jovyan/02_Avancado/05_Ferramentas_de_sistema\n",
      "/home/jovyan/02_Avancado\n"
     ]
    }
   ],
   "source": [
    "# Pega o caminho absoluto do diretorio ou arquivo inserido como parâmetro\n",
    "print(os.path.abspath(\"02_modulo_os.ipynb\"))\n",
    "print(os.path.abspath(\"\"))\n",
    "print(os.path.abspath(\".\"))\n",
    "print(os.path.abspath(\"..\"))"
   ]
  },
  {
   "cell_type": "markdown",
   "metadata": {},
   "source": [
    "***\n",
    "### Constantes\n",
    "***"
   ]
  },
  {
   "cell_type": "code",
   "execution_count": 16,
   "metadata": {},
   "outputs": [
    {
     "name": "stdout",
     "output_type": "stream",
     "text": [
      "Separador de caminhos do path :\n",
      "Separador do nome do diretorio /\n",
      "Caminho para voltar para o diretorio anterior ..\n",
      "Caminho para pegar o diretorio atual .\n",
      "Código para separar linhas \n",
      " \n",
      "\n",
      "Caminho: ../img/foto.png\n"
     ]
    }
   ],
   "source": [
    "# Constantes do modulo os\n",
    "print(\"Separador de caminhos do path\", os.pathsep)\n",
    "print(\"Separador do nome do diretorio\", os.sep)\n",
    "print(\"Caminho para voltar para o diretorio anterior\", os.pardir)\n",
    "print(\"Caminho para pegar o diretorio atual\", os.curdir)\n",
    "print(\"Código para separar linhas \\n\", os.linesep)\n",
    "print(\"Caminho: \"+ os.pardir + os.sep + \"img\" + os.sep + \"foto.png\")"
   ]
  },
  {
   "cell_type": "markdown",
   "metadata": {},
   "source": [
    "***"
   ]
  },
  {
   "cell_type": "code",
   "execution_count": 17,
   "metadata": {},
   "outputs": [
    {
     "name": "stdout",
     "output_type": "stream",
     "text": [
      "Usuário: None\n",
      "Linguagem e Codificação: en_US.UTF-8\n",
      "Linguagem: en_US.UTF-8\n",
      "Diretorio atual: /home/jovyan\n",
      "Nome de usuário: None\n",
      "Path: /opt/conda/bin:/usr/local/sbin:/usr/local/bin:/usr/sbin:/usr/bin:/sbin:/bin \n",
      "\n",
      "environ({'LC_ALL': 'en_US.UTF-8', 'LANG': 'en_US.UTF-8', 'HOSTNAME': '3600e25c58b3', 'TEST': 'olamundo!', 'NB_UID': '1000', 'CONDA_DIR': '/opt/conda', 'CONDA_VERSION': '4.8.2', 'PWD': '/home/jovyan', 'HOME': '/home/jovyan', 'MINICONDA_MD5': '87e77f097f6ebb5127c77662dfc3165e', 'DEBIAN_FRONTEND': 'noninteractive', 'NB_USER': 'jovyan', 'SHELL': '/bin/bash', 'SHLVL': '0', 'LANGUAGE': 'en_US.UTF-8', 'NB_GID': '100', 'PATH': '/opt/conda/bin:/usr/local/sbin:/usr/local/bin:/usr/sbin:/usr/bin:/sbin:/bin', 'MINICONDA_VERSION': '4.8.2', 'KERNEL_LAUNCH_TIMEOUT': '40', 'JPY_PARENT_PID': '6', 'TERM': 'xterm-color', 'CLICOLOR': '1', 'PAGER': 'cat', 'GIT_PAGER': 'cat', 'MPLBACKEND': 'module://ipykernel.pylab.backend_inline'})\n"
     ]
    }
   ],
   "source": [
    "# Dicionário com caminhos e configurações específicas do sistema\n",
    "print(\"Usuário:\", os.environ.get('USER'))\n",
    "print(\"Linguagem e Codificação:\", os.environ['LANG'])\n",
    "print(\"Linguagem:\", os.environ['LANGUAGE'])\n",
    "print(\"Diretorio atual:\", os.environ['PWD'])\n",
    "print(\"Nome de usuário:\", os.environ.get('LOGNAME'))\n",
    "print(\"Path:\", os.environ['PATH'], \"\\n\")\n",
    "print(os.environ)"
   ]
  }
 ],
 "metadata": {
  "kernelspec": {
   "display_name": "Python 3 (ipykernel)",
   "language": "python",
   "name": "python3"
  },
  "language_info": {
   "codemirror_mode": {
    "name": "ipython",
    "version": 3
   },
   "file_extension": ".py",
   "mimetype": "text/x-python",
   "name": "python",
   "nbconvert_exporter": "python",
   "pygments_lexer": "ipython3",
   "version": "3.11.6"
  }
 },
 "nbformat": 4,
 "nbformat_minor": 4
}
