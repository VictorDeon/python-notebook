{
 "cells": [
  {
   "cell_type": "markdown",
   "metadata": {},
   "source": [
    "# Entrada ou saída de dados streams\n",
    "***"
   ]
  },
  {
   "cell_type": "markdown",
   "metadata": {},
   "source": [
    "Basicamente vamos falar das entradas e saídas dos dados\n",
    "\n",
    "**stdin**: Standard input ou entrada de dados padrão, o sys.stdin é um objeto capaz de executar algumas ações, uma dessas ações é colocar uma mensagem no seu buffer, onde ta contida as informações do programa, um memória temporaria, buffer é o mediador entre o input e o output, é onde guarda as informações do input para repassar para o output.\n",
    "\n",
    "**stdout**: Standard output ou saída de dados padrão, o sys.stdout é um objeto capaz de executar algumas ações, uma dessas ações é colocar uma mensagem no seu buffer de saída, podendo ser o terminal.\n",
    "\n",
    "**stderr**: Standard error ou erros padrões\n",
    "\n",
    "**Redirecionamento < \\>**: O < redireciona dados da direita para a esquerda e o \\> da esquerda para a direita\n",
    "\n",
    "**Pipes**: Pipes são tubos ou tubulações, caminhos entre a execução de um arquivo e a execução de outro, é a linkagem de arquivos, utiliza na sintaxe do bash o **|**, por exemplo, o output do escreve.py irá para o input do recebe.py, logo o escreve.py é executado e sua saída irá ser mandado por um pipe | para recebe.py como entrada. É basicamente uma linha de montagem que permite passar dados em programas diferentes até com linguagens diferentes.\n",
    "\n",
    "```\n",
    "python3 escreve.py | python3 recebe.py\n",
    "```\n",
    "\n",
    "**io.StringIO**: Cria um buffer de string, uma boa utilização é o debugger com prints jogando no buffer e do buffer para um arquivo\n",
    "\n",
    "**io.BytesIO**: Cria um buffer de bytes, práticamente a mesma coisa do StringIO, porém com bytes ao inves de strings"
   ]
  },
  {
   "cell_type": "markdown",
   "metadata": {},
   "source": [
    "***\n",
    "### Exemplos\n",
    "***"
   ]
  },
  {
   "cell_type": "code",
   "execution_count": 1,
   "metadata": {},
   "outputs": [],
   "source": [
    "import sys"
   ]
  },
  {
   "cell_type": "markdown",
   "metadata": {},
   "source": [
    "***"
   ]
  },
  {
   "cell_type": "code",
   "execution_count": 2,
   "metadata": {},
   "outputs": [
    {
     "name": "stdout",
     "output_type": "stream",
     "text": [
      "Olá eu sou o stdout!\n"
     ]
    }
   ],
   "source": [
    "# Quando eu imprimo uma mensagem na tela, estamos usando a saída padrão stdout\n",
    "print(\"Olá eu sou o stdout!\")"
   ]
  },
  {
   "cell_type": "markdown",
   "metadata": {},
   "source": [
    "***"
   ]
  },
  {
   "cell_type": "code",
   "execution_count": 3,
   "metadata": {},
   "outputs": [
    {
     "name": "stdout",
     "output_type": "stream",
     "text": [
      "Olá eu sou o stdout!\n"
     ]
    }
   ],
   "source": [
    "# O print é equivalente ao sys.stdout.write()\n",
    "sys.stdout.write(\"Olá eu sou o stdout!\" + \"\\n\")"
   ]
  },
  {
   "cell_type": "markdown",
   "metadata": {},
   "source": [
    "***"
   ]
  },
  {
   "cell_type": "code",
   "execution_count": 4,
   "metadata": {},
   "outputs": [
    {
     "name": "stdout",
     "output_type": "stream",
     "text": [
      "Olá eu sou o stdin: oii\n",
      "oii\n"
     ]
    }
   ],
   "source": [
    "# Quando eu insiro algo através do input estamos usando o stdin\n",
    "var = input('Olá eu sou o stdin: ')\n",
    "print(var)"
   ]
  },
  {
   "cell_type": "markdown",
   "metadata": {},
   "source": [
    "***"
   ]
  },
  {
   "cell_type": "code",
   "execution_count": 5,
   "metadata": {},
   "outputs": [],
   "source": [
    "# O input é equivalente ao sys.stdin.readline()[:-1] - ler do começo ao fim até o \\n\n",
    "var = sys.stdin.readline()[:-1]"
   ]
  },
  {
   "cell_type": "markdown",
   "metadata": {},
   "source": [
    "***\n",
    "### Exemplo de redirecionamento\n",
    "***"
   ]
  },
  {
   "cell_type": "code",
   "execution_count": 6,
   "metadata": {},
   "outputs": [
    {
     "name": "stdout",
     "output_type": "stream",
     "text": [
      "\n",
      "Instalando tudo!\n",
      "\n",
      "Inserindo um input no arquivo.txt\n",
      "\n",
      "\n",
      "Instalando tudo!\n",
      "\n"
     ]
    }
   ],
   "source": [
    "import os, sys\n",
    "\n",
    "commands = {\n",
    "    'execute': 'python3 setup.py --install',\n",
    "    'print': 'cat arquivo.txt',\n",
    "    'text-input': \"echo 'Inserindo um input no arquivo.txt' > arquivo.txt\",\n",
    "    'redirects_output': 'python3 setup.py --install > arquivo.txt'\n",
    "}\n",
    "\n",
    "# Utilize o comando os.system(commands['...']) que executa diretamento no terminal\n",
    "# O os.popen é só para printar os resultados aqui\n",
    "print(os.popen(commands['text-input']).read())\n",
    "print(os.popen(commands['execute']).read())\n",
    "print(os.popen(commands['print']).read())\n",
    "print(os.popen(commands['redirects_output']).read())\n",
    "print(os.popen(commands['print']).read())"
   ]
  },
  {
   "cell_type": "markdown",
   "metadata": {},
   "source": [
    "***\n",
    "### Buffers\n",
    "***"
   ]
  },
  {
   "cell_type": "code",
   "execution_count": 7,
   "metadata": {},
   "outputs": [
    {
     "data": {
      "text/plain": [
       "5"
      ]
     },
     "execution_count": 7,
     "metadata": {},
     "output_type": "execute_result"
    }
   ],
   "source": [
    "# Cria um buffer de strings e insere uma string dentro dele\n",
    "from io import StringIO, BytesIO\n",
    "\n",
    "buff = StringIO()\n",
    "buff.write('spam\\n')\n",
    "buff.write('ovos\\n')"
   ]
  },
  {
   "cell_type": "markdown",
   "metadata": {},
   "source": [
    "***"
   ]
  },
  {
   "cell_type": "code",
   "execution_count": 8,
   "metadata": {},
   "outputs": [
    {
     "name": "stdout",
     "output_type": "stream",
     "text": [
      "spam\n",
      "ovos\n",
      "\n"
     ]
    }
   ],
   "source": [
    "# Pega o valor contido no buffer\n",
    "print(buff.getvalue())"
   ]
  },
  {
   "cell_type": "markdown",
   "metadata": {},
   "source": [
    "***"
   ]
  },
  {
   "cell_type": "code",
   "execution_count": 9,
   "metadata": {},
   "outputs": [],
   "source": [
    "# Cria o buffer já com um valor contido dentro dele\n",
    "buff = StringIO('presunto\\nspam\\n')"
   ]
  },
  {
   "cell_type": "markdown",
   "metadata": {},
   "source": [
    "***"
   ]
  },
  {
   "cell_type": "code",
   "execution_count": 10,
   "metadata": {},
   "outputs": [
    {
     "name": "stdout",
     "output_type": "stream",
     "text": [
      "presunto\n",
      "\n",
      "spam\n",
      "\n",
      "\n"
     ]
    }
   ],
   "source": [
    "# Lêr uma linha do buffer de cada vez, se não tiver mais nada ele irá retornar uma string vazia\n",
    "print(buff.readline())\n",
    "print(buff.readline())\n",
    "print(buff.readline())"
   ]
  },
  {
   "cell_type": "markdown",
   "metadata": {},
   "source": [
    "***"
   ]
  },
  {
   "cell_type": "code",
   "execution_count": 11,
   "metadata": {},
   "outputs": [],
   "source": [
    "# Criar o buffer vazio\n",
    "buff = StringIO()"
   ]
  },
  {
   "cell_type": "markdown",
   "metadata": {},
   "source": [
    "***"
   ]
  },
  {
   "cell_type": "code",
   "execution_count": 12,
   "metadata": {},
   "outputs": [],
   "source": [
    "# Armazenamos o stdout em uma variável temporária\n",
    "temp = sys.stdout"
   ]
  },
  {
   "cell_type": "markdown",
   "metadata": {},
   "source": [
    "***"
   ]
  },
  {
   "cell_type": "code",
   "execution_count": 13,
   "metadata": {},
   "outputs": [
    {
     "name": "stdout",
     "output_type": "stream",
     "text": [
      "Estou imprimindo a saida do console.\n"
     ]
    }
   ],
   "source": [
    "# Mandamos o buffer ou o arquivo para o sys.stdout\n",
    "sys.stdout = buff"
   ]
  },
  {
   "cell_type": "markdown",
   "metadata": {},
   "source": [
    "***"
   ]
  },
  {
   "cell_type": "code",
   "execution_count": 14,
   "metadata": {},
   "outputs": [],
   "source": [
    "# Agora toda a saída do print irá para o buffer ou arquivo\n",
    "# Iremos utilizar o print como saída do buffer e não do console\n",
    "print(\"Estou imprimindo a saida do console.\", file=temp)\n",
    "print(\"Isso não irá aparecer, porque a saida ta no buffer\")"
   ]
  },
  {
   "cell_type": "markdown",
   "metadata": {},
   "source": [
    "***"
   ]
  },
  {
   "cell_type": "code",
   "execution_count": 15,
   "metadata": {},
   "outputs": [],
   "source": [
    "# Vamos retomar o sys.stdout para o padrão\n",
    "sys.stdout = temp"
   ]
  },
  {
   "cell_type": "markdown",
   "metadata": {},
   "source": [
    "***"
   ]
  },
  {
   "cell_type": "code",
   "execution_count": 16,
   "metadata": {},
   "outputs": [
    {
     "name": "stdout",
     "output_type": "stream",
     "text": [
      "Isso não irá aparecer, porque a saida ta no buffer\n",
      "\n"
     ]
    }
   ],
   "source": [
    "# Pegamos o valor no buffer\n",
    "print(buff.getvalue())"
   ]
  },
  {
   "cell_type": "code",
   "execution_count": 17,
   "metadata": {},
   "outputs": [],
   "source": [
    "import os\n",
    "os.remove(\"./arquivo.txt\")"
   ]
  }
 ],
 "metadata": {
  "kernelspec": {
   "display_name": "Python 3 (ipykernel)",
   "language": "python",
   "name": "python3"
  },
  "language_info": {
   "codemirror_mode": {
    "name": "ipython",
    "version": 3
   },
   "file_extension": ".py",
   "mimetype": "text/x-python",
   "name": "python",
   "nbconvert_exporter": "python",
   "pygments_lexer": "ipython3",
   "version": "3.11.6"
  }
 },
 "nbformat": 4,
 "nbformat_minor": 4
}
