{
 "cells": [
  {
   "cell_type": "markdown",
   "metadata": {},
   "source": [
    "# Introdução a iterações\n",
    "***"
   ]
  },
  {
   "cell_type": "markdown",
   "metadata": {},
   "source": [
    "**Iteração**: É basicamente percorrer uma sequência repetida de um determinado loop = for loops\n",
    "\n",
    "**Blocos iteradores**: while, for\n",
    "\n",
    "**Criterio para um objeto ser iteravel**: O objeto tem que ser capaz de gerar um objeto iterador, é um objeto que ou ele é uma sequência física (lista) ou ele gera diversos resultados a cada vez que ele é percorrido, por exemplo, o arquivo já é um objeto iterador, já a lista retorna um objeto iterador.\n",
    "\n",
    "**Objeto iterador**: É aquele objeto que retorna vários resultados diferentes ao dar o comando **\\_\\_next\\_\\_()**, para transformar um objeto list em um objeto iterador só usar o método **\\_\\_iter\\_\\_**, com isso ele vira um objeto iterador que pode ser iteravel.\n",
    "\n",
    "**Métodos que o iterador precisa ter**:\n",
    "\n",
    "* **\\_\\_next\\_\\_**: Método especial ou (mágico) que passa para o próxima iteração do objeto\n",
    "\n",
    "\n",
    "* **\\_\\_iter\\_\\_**: Devolve um objeto list iterator, ou seja, ele devolve um objeto iteravel com o método **\\_\\_next\\_\\_**\n",
    "\n",
    "**for loop** Basicamente chama os métodos **next()** para chamar o método **\\_\\_next\\_\\_()** do objeto e o método **iter()** para chamar o método **\\_\\_iter\\_\\_()** do objeto\n",
    "\n",
    "Um loop usando o **iterator** percorre o objeto iterador na mesma velocidade da linguagem C"
   ]
  },
  {
   "cell_type": "markdown",
   "metadata": {},
   "source": [
    "***\n",
    "#### Exemplos\n",
    "***"
   ]
  },
  {
   "cell_type": "code",
   "execution_count": 1,
   "metadata": {},
   "outputs": [],
   "source": [
    "# Abrir o arquivo no modo de leitura (arquivo é um objeto iteravel)\n",
    "iterator_file = open('arquivo.txt', 'r')"
   ]
  },
  {
   "cell_type": "markdown",
   "metadata": {},
   "source": [
    "***"
   ]
  },
  {
   "cell_type": "code",
   "execution_count": 2,
   "metadata": {},
   "outputs": [
    {
     "name": "stdout",
     "output_type": "stream",
     "text": [
      "Olá\n",
      "\n",
      "meu\n",
      "\n",
      "nome\n",
      "\n",
      "é\n",
      "\n",
      "Pedro\n",
      "\n",
      "Fim do arquivo\n"
     ]
    }
   ],
   "source": [
    "# Percorrer as linhas através do método __next__()\n",
    "try:\n",
    "    print(iterator_file.__next__())\n",
    "    print(iterator_file.__next__())\n",
    "    print(iterator_file.__next__())\n",
    "    print(iterator_file.__next__())\n",
    "    print(iterator_file.__next__())\n",
    "    print(iterator_file.__next__())\n",
    "except StopIteration:\n",
    "    print(\"Fim do arquivo\")"
   ]
  },
  {
   "cell_type": "markdown",
   "metadata": {},
   "source": [
    "***"
   ]
  },
  {
   "cell_type": "code",
   "execution_count": 3,
   "metadata": {},
   "outputs": [
    {
     "name": "stdout",
     "output_type": "stream",
     "text": [
      "Reiniciando o arquivo na linha: 0\n"
     ]
    }
   ],
   "source": [
    "# Reiniciar a lista\n",
    "print(\"Reiniciando o arquivo na linha:\", iterator_file.seek(0, 0))"
   ]
  },
  {
   "cell_type": "markdown",
   "metadata": {},
   "source": [
    "***"
   ]
  },
  {
   "cell_type": "code",
   "execution_count": 4,
   "metadata": {},
   "outputs": [
    {
     "name": "stdout",
     "output_type": "stream",
     "text": [
      "['Olá\\n', 'meu\\n', 'nome\\n', 'é\\n', 'Pedro\\n', 'Fim do arquivo']\n"
     ]
    }
   ],
   "source": [
    "# Gerar a lista de strings contendo cada linha do arquivo\n",
    "iterator_list = iterator_file.readlines()\n",
    "iterator_file.close()\n",
    "print(iterator_list)"
   ]
  },
  {
   "cell_type": "markdown",
   "metadata": {},
   "source": [
    "***"
   ]
  },
  {
   "cell_type": "code",
   "execution_count": 5,
   "metadata": {},
   "outputs": [
    {
     "name": "stdout",
     "output_type": "stream",
     "text": [
      "Olá\n",
      "\n",
      "meu\n",
      "\n",
      "nome\n",
      "\n",
      "é\n",
      "\n",
      "Pedro\n",
      "\n"
     ]
    }
   ],
   "source": [
    "# A lista não é um objeto iteravel mas tem um método que retorna um objeto iteravel\n",
    "iteravel_list = iterator_list.__iter__()\n",
    "print(iteravel_list.__next__())\n",
    "print(iteravel_list.__next__())\n",
    "print(iteravel_list.__next__())\n",
    "print(iteravel_list.__next__())\n",
    "print(iteravel_list.__next__())"
   ]
  },
  {
   "cell_type": "markdown",
   "metadata": {},
   "source": [
    "***"
   ]
  },
  {
   "cell_type": "code",
   "execution_count": 6,
   "metadata": {},
   "outputs": [
    {
     "name": "stdout",
     "output_type": "stream",
     "text": [
      "Olá\n",
      "\n",
      "meu\n",
      "\n",
      "nome\n",
      "\n",
      "é\n",
      "\n",
      "Pedro\n",
      "\n"
     ]
    }
   ],
   "source": [
    "# Método iter() do for loop para gerar um objeto iteravel e next() para percorre-lo\n",
    "iteravel_list = iter(iterator_list)\n",
    "print(next(iteravel_list))\n",
    "print(next(iteravel_list))\n",
    "print(next(iteravel_list))\n",
    "print(next(iteravel_list))\n",
    "print(next(iteravel_list))"
   ]
  },
  {
   "cell_type": "markdown",
   "metadata": {},
   "source": [
    "***"
   ]
  },
  {
   "cell_type": "code",
   "execution_count": 7,
   "metadata": {},
   "outputs": [
    {
     "name": "stdout",
     "output_type": "stream",
     "text": [
      "Olá\n",
      "meu\n",
      "nome\n",
      "é\n",
      "Pedro\n",
      "Fim do arquivo"
     ]
    }
   ],
   "source": [
    "# Percorrer um objeto iterador em um for loop (Alto desempenho)\n",
    "iterator_file = open('arquivo.txt', 'r')\n",
    "iteravel_file = iterator_file.readlines()\n",
    "for line in iteravel_file:\n",
    "    print(line, end='')\n",
    "iterator_file.close()"
   ]
  },
  {
   "cell_type": "markdown",
   "metadata": {},
   "source": [
    "***"
   ]
  },
  {
   "cell_type": "code",
   "execution_count": 8,
   "metadata": {},
   "outputs": [
    {
     "name": "stdout",
     "output_type": "stream",
     "text": [
      "12345"
     ]
    }
   ],
   "source": [
    "# Percorrer um objeto iterador em um for loop (Alto desempenho)\n",
    "iterator_file = iter([1, 2, 3, 4, 5])\n",
    "for item in iterator_file:\n",
    "    print(item, end='')"
   ]
  },
  {
   "cell_type": "markdown",
   "metadata": {},
   "source": [
    "***"
   ]
  },
  {
   "cell_type": "code",
   "execution_count": 9,
   "metadata": {},
   "outputs": [
    {
     "name": "stdout",
     "output_type": "stream",
     "text": [
      "12345"
     ]
    }
   ],
   "source": [
    "# Percorrer um objeto iterador em um while loop (Alto desempenho)\n",
    "iterator_file = iter([1, 2, 3, 4, 5])\n",
    "while True:\n",
    "    try:\n",
    "        item = next(iterator_file)\n",
    "        print(item, end='')\n",
    "    except StopIteration:\n",
    "        break"
   ]
  },
  {
   "cell_type": "markdown",
   "metadata": {},
   "source": [
    "***"
   ]
  },
  {
   "cell_type": "code",
   "execution_count": 10,
   "metadata": {},
   "outputs": [
    {
     "name": "stdout",
     "output_type": "stream",
     "text": [
      "12345"
     ]
    }
   ],
   "source": [
    "# percorrer um dicionario\n",
    "dictionary = {'1': 1, '2': 2, '3': 3, '4': 4, '5': 5}\n",
    "iterator_dictionary = iter(dictionary)\n",
    "for key in iterator_dictionary:\n",
    "    print(key, end='')"
   ]
  },
  {
   "cell_type": "markdown",
   "metadata": {},
   "source": [
    "***"
   ]
  },
  {
   "cell_type": "code",
   "execution_count": 11,
   "metadata": {},
   "outputs": [
    {
     "name": "stdout",
     "output_type": "stream",
     "text": [
      "(0, 'a')\n",
      "(1, 'b')\n",
      "(2, 'c')\n"
     ]
    }
   ],
   "source": [
    "# Percorrer um enumerate\n",
    "iterator_enum = enumerate(\"abc\")\n",
    "for item in iterator_enum:\n",
    "    print(item)"
   ]
  }
 ],
 "metadata": {
  "kernelspec": {
   "display_name": "Python 3 (ipykernel)",
   "language": "python",
   "name": "python3"
  },
  "language_info": {
   "codemirror_mode": {
    "name": "ipython",
    "version": 3
   },
   "file_extension": ".py",
   "mimetype": "text/x-python",
   "name": "python",
   "nbconvert_exporter": "python",
   "pygments_lexer": "ipython3",
   "version": "3.11.6"
  }
 },
 "nbformat": 4,
 "nbformat_minor": 4
}
