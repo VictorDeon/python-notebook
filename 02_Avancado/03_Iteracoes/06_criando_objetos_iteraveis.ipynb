{
 "cells": [
  {
   "cell_type": "markdown",
   "metadata": {},
   "source": [
    "# Criando seus próprios objetos iteraveis\n",
    "***"
   ]
  },
  {
   "cell_type": "markdown",
   "metadata": {},
   "source": [
    "O que deve obrigatoriamente ter no seu objeto:\n",
    "\n",
    "* **\\_\\_iter\\_\\_**: Transformar o objeto iterável em um objeto iterador\n",
    "\n",
    "\n",
    "* **\\_\\_next\\_\\_**: Usado para percorrer objetos iteraveis"
   ]
  },
  {
   "cell_type": "markdown",
   "metadata": {},
   "source": [
    "***\n",
    "#### Exemplos\n",
    "***"
   ]
  },
  {
   "cell_type": "code",
   "execution_count": 1,
   "metadata": {},
   "outputs": [],
   "source": [
    "# Exemplo fibonacci\n",
    "class Fibonacci(object):\n",
    "    \n",
    "    def __init__(self, max_number):\n",
    "        self.max_number = max_number\n",
    "        \n",
    "    def __iter__(self):\n",
    "        self.previous = 1\n",
    "        self.next = 1\n",
    "        return self\n",
    "    \n",
    "    def __next__(self):\n",
    "        fibonacci_number = self.previous\n",
    "        if fibonacci_number > self.max_number:\n",
    "            raise StopIteration\n",
    "        self.previous = self.next\n",
    "        self.next = fibonacci_number + self.next\n",
    "        return fibonacci_number"
   ]
  },
  {
   "cell_type": "markdown",
   "metadata": {},
   "source": [
    "***"
   ]
  },
  {
   "cell_type": "code",
   "execution_count": 2,
   "metadata": {},
   "outputs": [
    {
     "name": "stdout",
     "output_type": "stream",
     "text": [
      "1 1 2 3 5 8 13 21 34 55 89 "
     ]
    }
   ],
   "source": [
    "fibonacci = Fibonacci(100)\n",
    "for number in fibonacci:\n",
    "    print(number, end=\" \")"
   ]
  },
  {
   "cell_type": "markdown",
   "metadata": {},
   "source": [
    "***"
   ]
  },
  {
   "cell_type": "code",
   "execution_count": 3,
   "metadata": {},
   "outputs": [],
   "source": [
    "# Criar uma classe que cria um objeto iterador\n",
    "class Range(object):\n",
    "    \"\"\"\n",
    "    This class will create an iteravel object depending on the passed specifications\n",
    "    \"\"\"\n",
    "    \n",
    "    def __init__(self, *specifications):\n",
    "        if len(specifications) == 0:\n",
    "            raise TypeError(\"Range expected 1 arguments, got 0\")\n",
    "        elif len(specifications) == 1:\n",
    "            self.start = 0\n",
    "            self.end = specifications[0]\n",
    "            self.increment = 1\n",
    "        elif len(specifications) == 2:\n",
    "            self.start = specifications[0]\n",
    "            self.end = specifications[1]\n",
    "            self.increment = 1\n",
    "        elif len(specifications) == 3:\n",
    "            self.start = specifications[0]\n",
    "            self.end = specifications[1]\n",
    "            self.increment = specifications[2]\n",
    "        \n",
    "        try:\n",
    "            assert type(self.start) == int\n",
    "            assert type(self.end) == int\n",
    "            assert type(self.increment) == int\n",
    "        except AssertionError:\n",
    "            raise TypeError(\"The Range() arguments must be an integer\")\n",
    "            \n",
    "        try:\n",
    "            assert self.increment != 0\n",
    "        except AssertionError:\n",
    "            raise ValueError(\"Range() argument 3 must not be zero\")\n",
    "            \n",
    "    def __str__(self):\n",
    "        if self.increment == 1:\n",
    "            return \"Range({0}, {1})\".format(self.start, self.end)\n",
    "        else:\n",
    "            return \"Range({0}, {1}, {2})\".format(self.start, self.end, self.increment)\n",
    "        \n",
    "    def __iter__(self):\n",
    "        for number in range(self.start, self.end, self.increment):\n",
    "            yield number\n",
    "    \n",
    "    def __next__(self):\n",
    "        increment = (self.start < self.end and self.increment > 0)\n",
    "        decrement = (self.start < self.end and self.increment < 0)\n",
    "        if increment or decrement:\n",
    "            number = self.start\n",
    "            self.start += self.increment\n",
    "            return number\n",
    "        else:\n",
    "            raise StopIteration"
   ]
  },
  {
   "cell_type": "markdown",
   "metadata": {},
   "source": [
    "***"
   ]
  },
  {
   "cell_type": "code",
   "execution_count": 4,
   "metadata": {},
   "outputs": [
    {
     "name": "stdout",
     "output_type": "stream",
     "text": [
      "Range(0, 10)\n",
      "Range(0, 5)\n",
      "Range(2, 26, 2)\n"
     ]
    }
   ],
   "source": [
    "# Instancia essa classe\n",
    "x = Range(10)\n",
    "y = Range(0, 5)\n",
    "z = Range(2, 26, 2)\n",
    "print(x)\n",
    "print(y)\n",
    "print(z)"
   ]
  },
  {
   "cell_type": "markdown",
   "metadata": {},
   "source": [
    "***"
   ]
  },
  {
   "cell_type": "code",
   "execution_count": 5,
   "metadata": {},
   "outputs": [
    {
     "name": "stdout",
     "output_type": "stream",
     "text": [
      "0 1 2 3 4 5 6 7 8 9 \n",
      "\n",
      "0 1 2 3 4 \n",
      "\n",
      "2 4 6 8 10 12 14 16 18 20 22 24 "
     ]
    }
   ],
   "source": [
    "# Vamos percorrer os objetos iteradores pela primeira vez\n",
    "for i in x:\n",
    "    print(i, end=' ')\n",
    "\n",
    "print(\"\\n\")\n",
    "    \n",
    "for i in y:\n",
    "    print(i, end=' ')\n",
    "    \n",
    "print(\"\\n\")\n",
    "    \n",
    "for i in z:\n",
    "    print(i, end=' ')"
   ]
  },
  {
   "cell_type": "markdown",
   "metadata": {},
   "source": [
    "***"
   ]
  },
  {
   "cell_type": "code",
   "execution_count": 6,
   "metadata": {},
   "outputs": [
    {
     "name": "stdout",
     "output_type": "stream",
     "text": [
      "0 1 2 3 4 5 6 7 8 9 \n",
      "\n",
      "0 1 2 3 4 \n",
      "\n",
      "2 4 6 8 10 12 14 16 18 20 22 24 "
     ]
    }
   ],
   "source": [
    "# Vamos percorrer os objetos iteradores pela segunda vez\n",
    "for i in x:\n",
    "    print(i, end=' ')\n",
    "\n",
    "print(\"\\n\")\n",
    "    \n",
    "for i in y:\n",
    "    print(i, end=' ')\n",
    "    \n",
    "print(\"\\n\")\n",
    "    \n",
    "for i in z:\n",
    "    print(i, end=' ')"
   ]
  },
  {
   "cell_type": "markdown",
   "metadata": {},
   "source": [
    "***"
   ]
  },
  {
   "cell_type": "code",
   "execution_count": 7,
   "metadata": {},
   "outputs": [
    {
     "name": "stdout",
     "output_type": "stream",
     "text": [
      "[0, 1, 2, 3, 4, 5, 6, 7, 8, 9]\n",
      "[0, 1, 2, 3, 4]\n",
      "[2, 4, 6, 8, 10, 12, 14, 16, 18, 20, 22, 24]\n"
     ]
    }
   ],
   "source": [
    "# Vamos criar listas\n",
    "list01 = list(x)\n",
    "list02 = list(y)\n",
    "list03 = list(z)\n",
    "print(list01)\n",
    "print(list02)\n",
    "print(list03)"
   ]
  },
  {
   "cell_type": "markdown",
   "metadata": {},
   "source": [
    "***"
   ]
  },
  {
   "cell_type": "code",
   "execution_count": 8,
   "metadata": {},
   "outputs": [
    {
     "name": "stdout",
     "output_type": "stream",
     "text": [
      "10\n",
      "5\n",
      "12\n"
     ]
    }
   ],
   "source": [
    "# Vamos ver quantos elementos temos nas listas\n",
    "print(len(list01))\n",
    "print(len(list02))\n",
    "print(len(list03))"
   ]
  }
 ],
 "metadata": {
  "kernelspec": {
   "display_name": "Python 3 (ipykernel)",
   "language": "python",
   "name": "python3"
  },
  "language_info": {
   "codemirror_mode": {
    "name": "ipython",
    "version": 3
   },
   "file_extension": ".py",
   "mimetype": "text/x-python",
   "name": "python",
   "nbconvert_exporter": "python",
   "pygments_lexer": "ipython3",
   "version": "3.11.6"
  }
 },
 "nbformat": 4,
 "nbformat_minor": 4
}
