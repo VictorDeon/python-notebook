{
 "cells": [
  {
   "cell_type": "markdown",
   "metadata": {},
   "source": [
    "# Funções geradoras\n",
    "***"
   ]
  },
  {
   "cell_type": "markdown",
   "metadata": {},
   "source": [
    "Geradores são capazes de parar determinada execução de alguma coisa e reter informações do meu programa na memória\n",
    "\n",
    "Geradores tem duas subdivisões: Funções geradoras e Expressões Geradoras\n",
    "\n",
    "**Funções geradoras**: São como funções comuns porém utilizando o statement **yield** e retornam um **objeto gerador**\n",
    "\n",
    "**yield**: Para a execução da função e salvar na memória os estados das variáveis locais dentro dessa função e vai retornar essa expressão\n",
    "\n",
    "**Objeto gerador**: Possui o protocolo de iteração, isto é, ele é um objeto iteravel, logo possui o iterador (ele é o próprio iterador) e pode usar o **next()**, ou seja ele pode ser convertido em lista, dicionarios ou percorrido por um for loop\n",
    "\n",
    "Minha função está executando um determinado bloco de código e derrepende ele se depara com a linha **yield expressao** dentro e o programa vai parar, salvar na memória os estados das variáveis locais dentro dessa função e vai retornar essa expressão, com isso ao re-executar minha função geradora vou poder continuar a partir do ponto que ela parou.\n",
    "\n",
    "**Vantagens**:\n",
    "\n",
    "* Economia de memória\n",
    "* Melhora de processamento\n",
    "* Vantagem de parar entre as execuções do gerador, podendo fazer algum outra operação entre eles\n",
    "\n",
    "**Outras Informações**:\n",
    "* Generators podem ser criados com funções geradoras\n",
    "* Funções geradoras utilizam a palavra reservada **yield**\n",
    "* Generators podem ser criados com Expressões Geradoras.\n",
    "\n",
    "**Diferenças entre funções e generator funcions (funções geradoras)**:\n",
    "\n",
    "|Funções|Generator Functions|\n",
    "|-------|-------------------|\n",
    "|Utilizam return|Utilizam yield|\n",
    "|Retorna uma vez|Podem utilizar yield multiplas vezes|\n",
    "|Quando executada, retorna um valor|Quando executada, retorna um generator|"
   ]
  },
  {
   "cell_type": "markdown",
   "metadata": {},
   "source": [
    "***\n",
    "#### Exemplos\n",
    "***"
   ]
  },
  {
   "cell_type": "code",
   "execution_count": 1,
   "metadata": {
    "tags": []
   },
   "outputs": [],
   "source": [
    "# Criar um função geradora para gerar números quadrados\n",
    "def generates_squares(number):\n",
    "    for i in range(number):\n",
    "        yield i**2"
   ]
  },
  {
   "cell_type": "markdown",
   "metadata": {},
   "source": [
    "***"
   ]
  },
  {
   "cell_type": "code",
   "execution_count": 2,
   "metadata": {
    "tags": []
   },
   "outputs": [
    {
     "name": "stdout",
     "output_type": "stream",
     "text": [
      "0 1 4 9 16 "
     ]
    }
   ],
   "source": [
    "# Vamos percorrer essa função de gerar número quadrados\n",
    "for i in generates_squares(5):\n",
    "    print(i, end=' ')"
   ]
  },
  {
   "cell_type": "markdown",
   "metadata": {},
   "source": [
    "***"
   ]
  },
  {
   "cell_type": "code",
   "execution_count": 3,
   "metadata": {
    "tags": []
   },
   "outputs": [
    {
     "name": "stdout",
     "output_type": "stream",
     "text": [
      "[0, 1, 4, 9, 16]\n"
     ]
    }
   ],
   "source": [
    "# Podemos converter essa função geradora em uma lista\n",
    "generate_list = generates_squares(5)\n",
    "print(list(generate_list))"
   ]
  },
  {
   "cell_type": "markdown",
   "metadata": {},
   "source": [
    "***"
   ]
  },
  {
   "cell_type": "code",
   "execution_count": 4,
   "metadata": {
    "tags": []
   },
   "outputs": [
    {
     "name": "stdout",
     "output_type": "stream",
     "text": [
      "{0: 0, 1: 1, 2: 4, 3: 9, 4: 16}\n"
     ]
    }
   ],
   "source": [
    "# Podemos também converter para um dicionario com o enumerate\n",
    "generate_list = generates_squares(5)\n",
    "print(dict(enumerate(generate_list)))"
   ]
  },
  {
   "cell_type": "markdown",
   "metadata": {},
   "source": [
    "***"
   ]
  },
  {
   "cell_type": "code",
   "execution_count": 5,
   "metadata": {
    "tags": []
   },
   "outputs": [
    {
     "name": "stdout",
     "output_type": "stream",
     "text": [
      "0\n",
      "1\n",
      "4\n",
      "9\n",
      "16\n"
     ]
    }
   ],
   "source": [
    "# Como ele é um objeto iterador podemos usar o next nele\n",
    "generator = generates_squares(5)\n",
    "print(next(generator))\n",
    "print(next(generator))\n",
    "print(next(generator))\n",
    "print(next(generator))\n",
    "print(next(generator))"
   ]
  },
  {
   "cell_type": "markdown",
   "metadata": {},
   "source": [
    "***"
   ]
  },
  {
   "cell_type": "code",
   "execution_count": 6,
   "metadata": {
    "tags": []
   },
   "outputs": [],
   "source": [
    "# Redefinir a função com um critério de parada\n",
    "def generates_squares(number):\n",
    "    for i in range(number):\n",
    "        expression = yield i**2\n",
    "        if expression == 25:\n",
    "            break"
   ]
  },
  {
   "cell_type": "markdown",
   "metadata": {},
   "source": [
    "***"
   ]
  },
  {
   "cell_type": "code",
   "execution_count": 7,
   "metadata": {
    "tags": []
   },
   "outputs": [
    {
     "name": "stdout",
     "output_type": "stream",
     "text": [
      "0\n",
      "1\n"
     ]
    },
    {
     "ename": "StopIteration",
     "evalue": "",
     "output_type": "error",
     "traceback": [
      "\u001b[0;31m---------------------------------------------------------------------------\u001b[0m",
      "\u001b[0;31mStopIteration\u001b[0m                             Traceback (most recent call last)",
      "Cell \u001b[0;32mIn[7], line 6\u001b[0m\n\u001b[1;32m      4\u001b[0m \u001b[38;5;28mprint\u001b[39m(\u001b[38;5;28mnext\u001b[39m(generate))\n\u001b[1;32m      5\u001b[0m \u001b[38;5;28mprint\u001b[39m(\u001b[38;5;28mnext\u001b[39m(generate))\n\u001b[0;32m----> 6\u001b[0m \u001b[38;5;28mprint\u001b[39m(\u001b[43mgenerate\u001b[49m\u001b[38;5;241;43m.\u001b[39;49m\u001b[43msend\u001b[49m\u001b[43m(\u001b[49m\u001b[43mstop\u001b[49m\u001b[43m)\u001b[49m)\n",
      "\u001b[0;31mStopIteration\u001b[0m: "
     ]
    }
   ],
   "source": [
    "# Você pode mandar algo para a expression antes dele continuar o loop\n",
    "generate = generates_squares(5)\n",
    "stop = 25\n",
    "print(next(generate))\n",
    "print(next(generate))\n",
    "print(generate.send(stop))"
   ]
  },
  {
   "cell_type": "markdown",
   "metadata": {},
   "source": [
    "***\n",
    "#### Mesma coisa de outras maneiras\n",
    "***"
   ]
  },
  {
   "cell_type": "code",
   "execution_count": 8,
   "metadata": {
    "tags": []
   },
   "outputs": [
    {
     "name": "stdout",
     "output_type": "stream",
     "text": [
      "0 1 4 9 16 "
     ]
    }
   ],
   "source": [
    "# Mesma coisa usando listas compressas\n",
    "for i in [x**2 for x in range(5)]:\n",
    "    print(i, end=' ')"
   ]
  },
  {
   "cell_type": "markdown",
   "metadata": {},
   "source": [
    "***"
   ]
  },
  {
   "cell_type": "code",
   "execution_count": 9,
   "metadata": {
    "tags": []
   },
   "outputs": [
    {
     "name": "stdout",
     "output_type": "stream",
     "text": [
      "0 1 4 9 16 "
     ]
    }
   ],
   "source": [
    "# Mesma coisa usando maps\n",
    "for i in map(lambda x: x**2, range(5)):\n",
    "    print(i, end=' ')"
   ]
  },
  {
   "cell_type": "markdown",
   "metadata": {},
   "source": [
    "***"
   ]
  },
  {
   "cell_type": "code",
   "execution_count": 10,
   "metadata": {
    "tags": []
   },
   "outputs": [],
   "source": [
    "# Jeito tradicional\n",
    "def generates_squares(number):\n",
    "    squares_list = []\n",
    "    for i in range(number):\n",
    "        expression = i**2\n",
    "        squares_list.append(expression)\n",
    "    return squares_list"
   ]
  },
  {
   "cell_type": "markdown",
   "metadata": {},
   "source": [
    "***"
   ]
  },
  {
   "cell_type": "code",
   "execution_count": 11,
   "metadata": {
    "tags": []
   },
   "outputs": [
    {
     "name": "stdout",
     "output_type": "stream",
     "text": [
      "0 1 4 9 16 "
     ]
    }
   ],
   "source": [
    "for i in generates_squares(5):\n",
    "    print(i, end=' ')"
   ]
  },
  {
   "cell_type": "markdown",
   "metadata": {},
   "source": [
    "***\n",
    "### Exemplo fibonacci\n",
    "***"
   ]
  },
  {
   "cell_type": "code",
   "execution_count": 12,
   "metadata": {
    "tags": []
   },
   "outputs": [],
   "source": [
    "# Cria a função geradora\n",
    "def fibonacci(max_number):\n",
    "    previous_number = 1\n",
    "    next_number = 1\n",
    "    \n",
    "    while previous_number < max_number:\n",
    "        yield previous_number\n",
    "        previous_number, next_number = next_number, previous_number + next_number"
   ]
  },
  {
   "cell_type": "markdown",
   "metadata": {},
   "source": [
    "***"
   ]
  },
  {
   "cell_type": "code",
   "execution_count": 13,
   "metadata": {
    "tags": []
   },
   "outputs": [
    {
     "name": "stdout",
     "output_type": "stream",
     "text": [
      "1 1 2 3 5 8 13 21 34 55 89 "
     ]
    }
   ],
   "source": [
    "# Percorrer o gerador\n",
    "generator = fibonacci(100)\n",
    "for number in generator:\n",
    "    print(number, end=\" \")"
   ]
  },
  {
   "cell_type": "markdown",
   "metadata": {},
   "source": [
    "***\n",
    "### Exemplo Números primos\n",
    "***"
   ]
  },
  {
   "cell_type": "code",
   "execution_count": 14,
   "metadata": {
    "tags": []
   },
   "outputs": [],
   "source": [
    "def is_prime(input_number):\n",
    "    for number in range(3, input_number):\n",
    "        if input_number % number == 0:\n",
    "            return False\n",
    "    return True\n",
    "\n",
    "def get_primes(number):\n",
    "    while True:\n",
    "        if is_prime(number):\n",
    "            yield number\n",
    "        number += 1"
   ]
  },
  {
   "cell_type": "markdown",
   "metadata": {},
   "source": [
    "***"
   ]
  },
  {
   "cell_type": "code",
   "execution_count": 15,
   "metadata": {
    "tags": []
   },
   "outputs": [
    {
     "name": "stdout",
     "output_type": "stream",
     "text": [
      "11\n",
      "13\n",
      "17\n",
      "19\n",
      "23\n"
     ]
    }
   ],
   "source": [
    "generator = get_primes(10)\n",
    "print(next(generator))\n",
    "print(next(generator))\n",
    "print(next(generator))\n",
    "print(next(generator))\n",
    "print(next(generator))"
   ]
  },
  {
   "cell_type": "markdown",
   "metadata": {},
   "source": [
    "***\n",
    "### Teste de Memória\n",
    "***"
   ]
  },
  {
   "cell_type": "code",
   "execution_count": 16,
   "metadata": {
    "tags": []
   },
   "outputs": [],
   "source": [
    "from memory_profiler import memory_usage\n",
    "\n",
    "def medir_memoria(func, *args):\n",
    "    mem_usage = memory_usage((func, args))\n",
    "    return max(mem_usage) - min(mem_usage)"
   ]
  },
  {
   "cell_type": "code",
   "execution_count": 17,
   "metadata": {
    "tags": []
   },
   "outputs": [],
   "source": [
    "# Cria a função normal\n",
    "def fibonacci_normal(length):\n",
    "    values = []\n",
    "    previous_number = 1\n",
    "    next_number = 1\n",
    "    \n",
    "    while len(values) < length:\n",
    "        values.append(next_number)\n",
    "        previous_number, next_number = next_number, previous_number + next_number\n",
    "        \n",
    "    return values"
   ]
  },
  {
   "cell_type": "code",
   "execution_count": 18,
   "metadata": {
    "tags": []
   },
   "outputs": [],
   "source": [
    "def fib_normal():\n",
    "    for n in fibonacci_normal(100000):\n",
    "        pass\n",
    "\n",
    "mem1 = medir_memoria(fib_normal)"
   ]
  },
  {
   "cell_type": "code",
   "execution_count": 19,
   "metadata": {
    "tags": []
   },
   "outputs": [],
   "source": [
    "# Cria a função geradora\n",
    "def fibonacci_generator(length):\n",
    "    previous_number = 1\n",
    "    next_number = 1\n",
    "    counter = 0\n",
    "    \n",
    "    while counter < length:\n",
    "        previous_number, next_number = next_number, previous_number + next_number\n",
    "        yield previous_number\n",
    "        counter += 1"
   ]
  },
  {
   "cell_type": "code",
   "execution_count": 20,
   "metadata": {
    "tags": []
   },
   "outputs": [],
   "source": [
    "def fib_generator():\n",
    "    for n in fibonacci_generator(100000):\n",
    "        pass\n",
    "\n",
    "mem2 = medir_memoria(fib_generator)"
   ]
  },
  {
   "cell_type": "code",
   "execution_count": 21,
   "metadata": {
    "tags": []
   },
   "outputs": [
    {
     "name": "stdout",
     "output_type": "stream",
     "text": [
      "Consumo de memória do metodo1: 347.66015625 MiB\n",
      "Consumo de memória do metodo2: 0.0 MiB\n"
     ]
    }
   ],
   "source": [
    "print(f\"Consumo de memória do metodo1: {mem1} MiB\")\n",
    "print(f\"Consumo de memória do metodo2: {mem2} MiB\")"
   ]
  },
  {
   "cell_type": "markdown",
   "metadata": {},
   "source": [
    "***\n",
    "### Teste de desempenho\n",
    "***"
   ]
  },
  {
   "cell_type": "code",
   "execution_count": 22,
   "metadata": {
    "tags": []
   },
   "outputs": [],
   "source": [
    "from time import time"
   ]
  },
  {
   "cell_type": "code",
   "execution_count": 23,
   "metadata": {
    "tags": []
   },
   "outputs": [
    {
     "name": "stdout",
     "output_type": "stream",
     "text": [
      "Terminou em 0.4190528392791748 segundos\n"
     ]
    }
   ],
   "source": [
    "start_time = time()\n",
    "for n in fibonacci_normal(100000):\n",
    "    pass\n",
    "end_time = time() - start_time\n",
    "print(f\"Terminou em {end_time} segundos\")"
   ]
  },
  {
   "cell_type": "code",
   "execution_count": 24,
   "metadata": {
    "tags": []
   },
   "outputs": [
    {
     "name": "stdout",
     "output_type": "stream",
     "text": [
      "Terminou em 0.14417576789855957 segundos\n"
     ]
    }
   ],
   "source": [
    "start_time = time()\n",
    "for n in fibonacci_generator(100000):\n",
    "    pass\n",
    "end_time = time() - start_time\n",
    "print(f\"Terminou em {end_time} segundos\")"
   ]
  }
 ],
 "metadata": {
  "kernelspec": {
   "display_name": "Python 3 (ipykernel)",
   "language": "python",
   "name": "python3"
  },
  "language_info": {
   "codemirror_mode": {
    "name": "ipython",
    "version": 3
   },
   "file_extension": ".py",
   "mimetype": "text/x-python",
   "name": "python",
   "nbconvert_exporter": "python",
   "pygments_lexer": "ipython3",
   "version": "3.11.6"
  }
 },
 "nbformat": 4,
 "nbformat_minor": 4
}
