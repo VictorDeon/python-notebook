{
 "cells": [
  {
   "cell_type": "markdown",
   "metadata": {},
   "source": [
    "# Expressões geradoras\n",
    "***"
   ]
  },
  {
   "cell_type": "markdown",
   "metadata": {},
   "source": [
    "Expressões geradoras é basicamente igual a compressão de listas, muda a sintaxe e retorna um **objeto gerador** que já é por si só um objeto iteravel e iterador\n",
    "\n",
    "```py\n",
    "compressed_list = [x**2 for x in range(16) if x % 2 == 0]\n",
    "generator_expression = (x**2 for x in range(16) if x % 2 == 0)\n",
    "```\n",
    "\n",
    "A principal diferença é que o que foi jogado na memória nas expressões geradoras foi o objeto gerador e não os inteiros inseridos nas lista nas listas compressadas e ele já é um objeto iterador, logo pode ser usado em for loop diretos\n",
    "\n",
    "Ao percorrer o objeto gerador em um for loop e tentar converter em uma lista ou percorrer denovo ele não faz pois já percorreu todos os elementos dentro do objeto, a solução para isso é converte-la a uma lista antes de rodar o for"
   ]
  },
  {
   "cell_type": "markdown",
   "metadata": {},
   "source": [
    "***\n",
    "#### Exemplos\n",
    "***"
   ]
  },
  {
   "cell_type": "code",
   "execution_count": 1,
   "metadata": {},
   "outputs": [
    {
     "name": "stdout",
     "output_type": "stream",
     "text": [
      "[0, 4, 16, 36, 64, 100, 144, 196]\n"
     ]
    }
   ],
   "source": [
    "# Compressão de lista\n",
    "compressed_list = [x**2 for x in range(16) if x % 2 == 0]\n",
    "print(compressed_list)"
   ]
  },
  {
   "cell_type": "markdown",
   "metadata": {},
   "source": [
    "***"
   ]
  },
  {
   "cell_type": "code",
   "execution_count": 2,
   "metadata": {},
   "outputs": [
    {
     "name": "stdout",
     "output_type": "stream",
     "text": [
      "[0, 4, 16, 36, 64, 100, 144, 196]\n"
     ]
    }
   ],
   "source": [
    "# Expressões geradoras\n",
    "generator_expression = (x**2 for x in range(16) if x % 2 == 0)\n",
    "print(list(generator_expression))"
   ]
  }
 ],
 "metadata": {
  "kernelspec": {
   "display_name": "Python 3 (ipykernel)",
   "language": "python",
   "name": "python3"
  },
  "language_info": {
   "codemirror_mode": {
    "name": "ipython",
    "version": 3
   },
   "file_extension": ".py",
   "mimetype": "text/x-python",
   "name": "python",
   "nbconvert_exporter": "python",
   "pygments_lexer": "ipython3",
   "version": "3.11.6"
  }
 },
 "nbformat": 4,
 "nbformat_minor": 4
}
