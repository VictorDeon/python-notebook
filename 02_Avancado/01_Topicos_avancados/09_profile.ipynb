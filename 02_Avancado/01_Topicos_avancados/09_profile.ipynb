{
 "cells": [
  {
   "cell_type": "markdown",
   "id": "13445d7f-f200-423c-a89f-3272b4b60782",
   "metadata": {},
   "source": [
    "## CProfile\n",
    "\n",
    "Executa e calcula o desempenho e consume de memória com o cprofile.\n",
    " \n",
    "### Linha de comando:\n",
    "***\n",
    "\n",
    "Gerar o cprofile do seu código\n",
    "\n",
    "* `python -m cProfile -o output.stats uvicorn ...`\n",
    "\n",
    "* `python -m pstats output.stats`\n",
    "\n",
    "    - stats N\n",
    "    - sort <params> (filename, tottime, cumtime, ...)\n",
    "    - quit\n",
    "\n",
    "Com o output.stats gere uma imagem com a arvore de chamadas\n",
    "\n",
    "* `pip install gprof2dot`\n",
    "* `gprof2dot -f pstats output.stats | dot -T png -o output.png`\n",
    "\n",
    "Verifique sua aplicação em tempo real\n",
    "\n",
    "* `pip install py-spy`\n",
    "* `py-spy top -- python uvicorn ...`\n",
    "\n",
    "profile com corotines\n",
    "\n",
    "* `pip install pyinstrument`\n",
    "* `pyinstrument uvicorn ...`\n",
    "\n",
    "***\n",
    "### Parâmetros:\n",
    "***\n",
    "\n",
    "* **ncalls**: Números de chamadas do método\n",
    "\n",
    "* **tottime**: Tempo total de execução do método sem as chamadas internas a outros métodos * ncalls\n",
    "* **percall**: Tempo total de execução do método sem as chamadas internas a outros métodos\n",
    "* **cumtime**: Tempo de espera que esse método teve com suas chamadas internas a outros métodos * ncalls\n",
    "* **percall**: Tempo de espera que esse método teve com suas chamadas internas a outros métodos\n",
    "* **filename**: Caminho do método"
   ]
  },
  {
   "cell_type": "code",
   "execution_count": 1,
   "id": "cb9dee17-dab7-445f-baf5-d9c9c8aca848",
   "metadata": {
    "tags": []
   },
   "outputs": [],
   "source": [
    "from memory_profiler import memory_usage\n",
    "\n",
    "def medir_memoria(func, *args):\n",
    "    mem_usage = memory_usage((func, args))\n",
    "    return max(mem_usage) - min(mem_usage)"
   ]
  },
  {
   "cell_type": "code",
   "execution_count": 2,
   "id": "85e474a4-38d5-435e-a38a-0fef05c409b7",
   "metadata": {
    "tags": []
   },
   "outputs": [],
   "source": [
    "def memory_consume():\n",
    "    \"\"\"\n",
    "    Abrindo arquivo\n",
    "    \"\"\"\n",
    "\n",
    "    a = [1] * (10 ** 6)\n",
    "    b = [2] * (2 * 10 ** 7)\n",
    "    del b\n",
    "    return a"
   ]
  },
  {
   "cell_type": "code",
   "execution_count": 3,
   "id": "eedf0c00-7e41-4362-90bd-d0295329c6b7",
   "metadata": {
    "tags": []
   },
   "outputs": [
    {
     "name": "stdout",
     "output_type": "stream",
     "text": [
      "Consumo de memória do metodo: 160.265625 MiB\n"
     ]
    }
   ],
   "source": [
    "mem = medir_memoria(memory_consume)\n",
    "print(f\"Consumo de memória do metodo: {mem} MiB\")"
   ]
  },
  {
   "cell_type": "markdown",
   "id": "315b52ea-7330-49aa-9e23-c1950f33c577",
   "metadata": {},
   "source": [
    "Agora vamos fazer o profile do método executando ele 5 vezes"
   ]
  },
  {
   "cell_type": "code",
   "execution_count": 4,
   "id": "61e0130e-8e07-441f-85d5-4066a8dc68f3",
   "metadata": {
    "tags": []
   },
   "outputs": [
    {
     "name": "stdout",
     "output_type": "stream",
     "text": [
      "         212 function calls (209 primitive calls) in 0.391 seconds\n",
      "\n",
      "   Ordered by: internal time\n",
      "\n",
      "   ncalls  tottime  percall  cumtime  percall filename:lineno(function)\n",
      "        5    0.377    0.075    0.377    0.075 /tmp/ipykernel_7514/3772902165.py:1(memory_consume)\n",
      "        1    0.013    0.013    0.390    0.390 <timeit-src>:2(inner)\n",
      "        9    0.000    0.000    0.000    0.000 {built-in method builtins.compile}\n",
      "        1    0.000    0.000    0.000    0.000 /opt/conda/lib/python3.11/timeit.py:104(__init__)\n",
      "        1    0.000    0.000    0.390    0.390 /opt/conda/lib/python3.11/timeit.py:240(repeat)\n",
      "        7    0.000    0.000    0.000    0.000 /opt/conda/lib/python3.11/site-packages/traitlets/traitlets.py:708(__get__)\n",
      "        7    0.000    0.000    0.000    0.000 /opt/conda/lib/python3.11/codeop.py:117(__call__)\n",
      "        7    0.000    0.000    0.390    0.056 /opt/conda/lib/python3.11/site-packages/IPython/core/interactiveshell.py:3490(run_code)\n",
      "        1    0.000    0.000    0.390    0.390 /opt/conda/lib/python3.11/timeit.py:166(timeit)\n",
      "        2    0.000    0.000    0.000    0.000 /opt/conda/lib/python3.11/statistics.py:203(<genexpr>)\n",
      "        7    0.000    0.000    0.000    0.000 /opt/conda/lib/python3.11/contextlib.py:104(__init__)\n",
      "        1    0.000    0.000    0.000    0.000 /opt/conda/lib/python3.11/statistics.py:154(_sum)\n",
      "        3    0.000    0.000    0.000    0.000 /opt/conda/lib/python3.11/fractions.py:62(__new__)\n",
      "      2/1    0.000    0.000    0.000    0.000 {built-in method _abc._abc_subclasscheck}\n",
      "        1    0.000    0.000    0.390    0.390 /opt/conda/lib/python3.11/timeit.py:186(repeat)\n",
      "        2    0.000    0.000    0.000    0.000 {built-in method time.perf_counter}\n",
      "      8/7    0.000    0.000    0.390    0.056 {built-in method builtins.exec}\n",
      "       14    0.000    0.000    0.000    0.000 /opt/conda/lib/python3.11/site-packages/IPython/core/compilerop.py:180(extra_flags)\n",
      "        1    0.000    0.000    0.000    0.000 /opt/conda/lib/python3.11/statistics.py:414(mean)\n",
      "        7    0.000    0.000    0.000    0.000 /opt/conda/lib/python3.11/contextlib.py:141(__exit__)\n",
      "        7    0.000    0.000    0.000    0.000 /opt/conda/lib/python3.11/contextlib.py:287(helper)\n",
      "       14    0.000    0.000    0.000    0.000 {built-in method builtins.next}\n",
      "        2    0.000    0.000    0.000    0.000 {built-in method builtins.sum}\n",
      "        1    0.000    0.000    0.000    0.000 /opt/conda/lib/python3.11/fractions.py:452(_add)\n",
      "        1    0.000    0.000    0.000    0.000 {method 'format' of 'str' objects}\n",
      "        1    0.000    0.000    0.000    0.000 /opt/conda/lib/python3.11/timeit.py:81(reindent)\n",
      "        7    0.000    0.000    0.000    0.000 /opt/conda/lib/python3.11/contextlib.py:132(__enter__)\n",
      "        1    0.000    0.000    0.000    0.000 {method 'as_integer_ratio' of 'float' objects}\n",
      "        1    0.000    0.000    0.000    0.000 /opt/conda/lib/python3.11/fractions.py:369(reverse)\n",
      "        7    0.000    0.000    0.000    0.000 /opt/conda/lib/python3.11/site-packages/IPython/core/interactiveshell.py:3442(compare)\n",
      "        1    0.000    0.000    0.000    0.000 /opt/conda/lib/python3.11/statistics.py:333(_convert)\n",
      "        4    0.000    0.000    0.000    0.000 {built-in method builtins.round}\n",
      "        7    0.000    0.000    0.000    0.000 /opt/conda/lib/python3.11/site-packages/traitlets/traitlets.py:624(get)\n",
      "       14    0.000    0.000    0.000    0.000 {built-in method builtins.getattr}\n",
      "        7    0.000    0.000    0.000    0.000 /opt/conda/lib/python3.11/site-packages/IPython/core/interactiveshell.py:1231(user_global_ns)\n",
      "        4    0.000    0.000    0.000    0.000 {built-in method builtins.isinstance}\n",
      "        1    0.000    0.000    0.000    0.000 {built-in method _functools.reduce}\n",
      "        1    0.000    0.000    0.000    0.000 /opt/conda/lib/python3.11/fractions.py:500(_div)\n",
      "        1    0.000    0.000    0.000    0.000 /tmp/ipykernel_7514/267495168.py:1(<module>)\n",
      "        1    0.000    0.000    0.000    0.000 <frozen abc>:117(__instancecheck__)\n",
      "        1    0.000    0.000    0.000    0.000 {built-in method _abc._abc_instancecheck}\n",
      "        1    0.000    0.000    0.000    0.000 /opt/conda/lib/python3.11/fractions.py:357(forward)\n",
      "        1    0.000    0.000    0.000    0.000 /opt/conda/lib/python3.11/statistics.py:287(_exact_ratio)\n",
      "        4    0.000    0.000    0.000    0.000 {built-in method math.gcd}\n",
      "      2/1    0.000    0.000    0.000    0.000 <frozen abc>:121(__subclasscheck__)\n",
      "        1    0.000    0.000    0.000    0.000 /opt/conda/lib/python3.11/numbers.py:283(__float__)\n",
      "        1    0.000    0.000    0.000    0.000 <timeit-src>:1(<module>)\n",
      "        7    0.000    0.000    0.000    0.000 /opt/conda/lib/python3.11/typing.py:2256(cast)\n",
      "        1    0.000    0.000    0.000    0.000 /opt/conda/lib/python3.11/statistics.py:256(_coerce)\n",
      "        1    0.000    0.000    0.000    0.000 {built-in method builtins.min}\n",
      "        3    0.000    0.000    0.000    0.000 {built-in method __new__ of type object at 0x55bd1d30e860}\n",
      "        3    0.000    0.000    0.000    0.000 /opt/conda/lib/python3.11/fractions.py:257(numerator)\n",
      "        1    0.000    0.000    0.000    0.000 {method 'replace' of 'str' objects}\n",
      "        1    0.000    0.000    0.000    0.000 {method 'append' of 'list' objects}\n",
      "        3    0.000    0.000    0.000    0.000 /opt/conda/lib/python3.11/fractions.py:261(denominator)\n",
      "        1    0.000    0.000    0.000    0.000 {method 'disable' of '_lsprof.Profiler' objects}\n",
      "        1    0.000    0.000    0.000    0.000 {built-in method gc.isenabled}\n",
      "        1    0.000    0.000    0.000    0.000 {built-in method gc.disable}\n",
      "        1    0.000    0.000    0.000    0.000 {built-in method builtins.globals}\n",
      "        1    0.000    0.000    0.000    0.000 {built-in method builtins.max}\n",
      "        1    0.000    0.000    0.000    0.000 {method 'add' of 'set' objects}\n",
      "        1    0.000    0.000    0.000    0.000 {method 'items' of 'dict' objects}\n",
      "        1    0.000    0.000    0.000    0.000 {built-in method gc.enable}\n",
      "        1    0.000    0.000    0.000    0.000 {built-in method builtins.callable}\n",
      "        1    0.000    0.000    0.000    0.000 {method 'get' of 'dict' objects}\n",
      "        1    0.000    0.000    0.000    0.000 {built-in method builtins.issubclass}\n",
      "\n",
      "\n",
      "{'min': 0.3898, 'max': 0.3898, 'mean': 0.3898, 'total': 0.3898}\n"
     ]
    }
   ],
   "source": [
    "from cProfile import Profile\n",
    "from statistics import mean\n",
    "from pstats import Stats\n",
    "from timeit import repeat\n",
    "\n",
    "profile = Profile()\n",
    "profile.enable()\n",
    "\n",
    "result = repeat(memory_consume, repeat=1, number=5)\n",
    "result_min = min(result)\n",
    "result_max = max(result)\n",
    "result_mean = mean(result)\n",
    "result_total = sum(result)\n",
    "\n",
    "result = dict(\n",
    "    min=round(result_min, 4),\n",
    "    max=round(result_max, 4),\n",
    "    mean=round(result_mean, 4),\n",
    "    total=round(result_total, 4)\n",
    ")\n",
    "\n",
    "profile.disable()\n",
    "stats = Stats(profile).sort_stats(\"tottime\")\n",
    "\n",
    "# Armazena em um arquivo\n",
    "# stats.dump_stats()\n",
    "\n",
    "# Printa na tela\n",
    "stats.print_stats()\n",
    "\n",
    "print(result)"
   ]
  }
 ],
 "metadata": {
  "kernelspec": {
   "display_name": "Python 3 (ipykernel)",
   "language": "python",
   "name": "python3"
  },
  "language_info": {
   "codemirror_mode": {
    "name": "ipython",
    "version": 3
   },
   "file_extension": ".py",
   "mimetype": "text/x-python",
   "name": "python",
   "nbconvert_exporter": "python",
   "pygments_lexer": "ipython3",
   "version": "3.11.6"
  }
 },
 "nbformat": 4,
 "nbformat_minor": 5
}
