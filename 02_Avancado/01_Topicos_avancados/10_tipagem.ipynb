{
 "cells": [
  {
   "cell_type": "markdown",
   "id": "744ef015-3ef0-419f-8da9-ca33a6bf5838",
   "metadata": {},
   "source": [
    "## Tipagem\n",
    "***\n",
    "\n",
    "O python por padrão tem tipagem dinâmica, mas no decorrer das versões foi criado tipagem estática não obrigatória que ajuda bastante no autocomplete dos dados nas IDEs e ajuda tb na documentação do código.\n",
    "\n",
    "Se você der um tab após a `var.` vair ter um autocomplete para vc.\n",
    "\n",
    "Uma ferramenta de analise de tipagem é o **[MyPy](https://mypy.readthedocs.io/en/latest/index.html)**. Ela é parecida com o `flake8`, ou seja, ele aponta como um error se alguma tipagem estiver incorreta, isso é interessante para inserir no CI da aplicação."
   ]
  },
  {
   "cell_type": "code",
   "execution_count": 1,
   "id": "e9ce91cd-6c8b-47f0-b16e-e0c60f0e91bd",
   "metadata": {
    "tags": []
   },
   "outputs": [],
   "source": [
    "# Tipos\n",
    "idade: int = 42\n",
    "success: bool = True\n",
    "valor: float = 125.30\n",
    "nome: str = \"Fulano de Tal\"\n",
    "dicionario1: dict[str, str] = {\"ola\": \"mundo\"}\n",
    "dicionario2: dict[str, int] = {\"valor\": 10}\n",
    "lista1: list[str] = [\"a\", \"b\", \"c\"]\n",
    "lista2: list[int] = [1, 2, 3]\n",
    "lista3: list[dict[str, str]] = [{\"ola\": \"mundo\"}, {\"mundo\": \"ola\"}]\n",
    "tupla1: tuple[str] = (\"a\", \"b\", \"c\")\n",
    "tupla2: tuple[int] = (1, 2, 3)\n",
    "tupla3: tuple[list[dict[str, str]]] = ([{\"ola\": \"mundo\"}, {\"mundo\": \"ola\"}],)"
   ]
  },
  {
   "cell_type": "code",
   "execution_count": 2,
   "id": "24c3424e-66b9-4c25-8b6e-d9adc2663081",
   "metadata": {
    "tags": []
   },
   "outputs": [],
   "source": [
    "def soma(x: int, y: int) -> int:\n",
    "    \"\"\"\n",
    "    Realiza a soma de dois valores inteiros\n",
    "    \"\"\"\n",
    "    \n",
    "    return x + y"
   ]
  },
  {
   "cell_type": "code",
   "execution_count": 3,
   "id": "4f21461f-53e1-4555-aa86-574d9ae171b3",
   "metadata": {
    "tags": []
   },
   "outputs": [
    {
     "name": "stdout",
     "output_type": "stream",
     "text": [
      "30\n",
      "30\n"
     ]
    }
   ],
   "source": [
    "soma_copy: soma = soma\n",
    "print(soma(10, 20))\n",
    "print(soma_copy(10, 20))"
   ]
  },
  {
   "cell_type": "code",
   "execution_count": 4,
   "id": "cc102e1b-c593-4dde-b5e3-0bb9c5643a5e",
   "metadata": {
    "tags": []
   },
   "outputs": [],
   "source": [
    "from typing import Union, Optional\n",
    "\n",
    "\n",
    "class Operacao:\n",
    "    \"\"\"\n",
    "    Realiza operações matemáticas.\n",
    "    \"\"\"\n",
    "\n",
    "    def __init__(self, x: Union[int, float], y: Union[int, float], msg: Optional[str] = None) -> None:\n",
    "        \"\"\"\n",
    "        Construtor.\n",
    "        \"\"\"\n",
    "        \n",
    "        self.x = x\n",
    "        self.y = y\n",
    "        self.msg = msg\n",
    "\n",
    "    def soma(self) -> Union[int, float]:\n",
    "        \"\"\"\n",
    "        Realiza a soma de dois números inteiros ou ponto flutuantes.\n",
    "        \"\"\"\n",
    "        \n",
    "        return self.x + self.y"
   ]
  },
  {
   "cell_type": "code",
   "execution_count": 5,
   "id": "503fd6a1-4710-404a-9558-a672872b26a1",
   "metadata": {
    "tags": []
   },
   "outputs": [
    {
     "name": "stdout",
     "output_type": "stream",
     "text": [
      "30.5\n"
     ]
    }
   ],
   "source": [
    "op: Operacao = Operacao(10, 20.5)\n",
    "print(op.soma())"
   ]
  },
  {
   "cell_type": "code",
   "execution_count": 6,
   "id": "b0f64230-228c-4aae-8e8c-7e908da16c02",
   "metadata": {
    "tags": []
   },
   "outputs": [
    {
     "name": "stdout",
     "output_type": "stream",
     "text": [
      "Operação de soma: 30\n"
     ]
    }
   ],
   "source": [
    "op: Operacao = Operacao(10, 20, \"Operação de soma\")\n",
    "print(f\"{op.msg}: {op.soma()}\")"
   ]
  },
  {
   "cell_type": "code",
   "execution_count": 7,
   "id": "425857e1-2953-46e6-9e3b-88914a3f6d98",
   "metadata": {
    "tags": []
   },
   "outputs": [
    {
     "name": "stdout",
     "output_type": "stream",
     "text": [
      "{'idade': <class 'int'>, 'success': <class 'bool'>, 'valor': <class 'float'>, 'nome': <class 'str'>, 'dicionario1': dict[str, str], 'dicionario2': dict[str, int], 'lista1': list[str], 'lista2': list[int], 'lista3': list[dict[str, str]], 'tupla1': tuple[str], 'tupla2': tuple[int], 'tupla3': tuple[list[dict[str, str]]], 'soma_copy': <function soma at 0x7fcae0679120>, 'op': <class '__main__.Operacao'>}\n"
     ]
    }
   ],
   "source": [
    "print(__annotations__)"
   ]
  },
  {
   "cell_type": "markdown",
   "id": "6f7442bd-41c3-47ff-8d02-a6040c2f3117",
   "metadata": {},
   "source": [
    "A partir da versão 3.8 temos alguns tipos de dados mais precisos:\n",
    "\n",
    "* Literal\n",
    "* Union\n",
    "* Final\n",
    "* TypedDict"
   ]
  },
  {
   "cell_type": "code",
   "execution_count": 8,
   "id": "b11ae243-1595-4b15-b77e-2a78d2d48996",
   "metadata": {
    "tags": []
   },
   "outputs": [],
   "source": [
    "from typing import Literal, Union, Final, TypedDict, Protocol"
   ]
  },
  {
   "cell_type": "code",
   "execution_count": 9,
   "id": "a2253aee-16b9-4d35-b619-ea6d62e2a318",
   "metadata": {
    "tags": []
   },
   "outputs": [],
   "source": [
    "# Literal Type: Indica que o parâmetro ou retorno é forçado a um tipo literal, ou seja, uma string definida\n",
    "def pegar_status(usuario: str) -> Literal['conectado', 'desconectado']:\n",
    "    pass\n",
    "\n",
    "def calcula(operacao: Literal['+', '-'], x: int, y: int) -> None:\n",
    "    pass"
   ]
  },
  {
   "cell_type": "code",
   "execution_count": 10,
   "id": "073b1ed4-7021-4fcf-ada3-d9a5e1b61d61",
   "metadata": {
    "tags": []
   },
   "outputs": [],
   "source": [
    "# Union: Retorna ou uma valor ou outro\n",
    "def soma(x: Union[int, float], y: Union[int, float]) -> Union[int, float]:\n",
    "    \"\"\"\n",
    "    Realiza a soma de dois valores inteiros ou pontos flutuantes\n",
    "    \"\"\"\n",
    "    \n",
    "    return x + y"
   ]
  },
  {
   "cell_type": "code",
   "execution_count": 11,
   "id": "eeffa7ea-734e-4f9f-852c-769cd62f69e1",
   "metadata": {
    "tags": []
   },
   "outputs": [],
   "source": [
    "# Final: Usado para definir constantes\n",
    "LOG_LEVEL: Final[Literal['DEBUG', 'INFO', 'WARNING', 'ERROR']] = 'DEBUG'"
   ]
  },
  {
   "cell_type": "code",
   "execution_count": 12,
   "id": "82419bca-1a51-4f61-9689-88b422bbe71c",
   "metadata": {
    "tags": []
   },
   "outputs": [],
   "source": [
    "# Em python isso não traria nenhum impedimento, mas com o mypy acusaria um error\n",
    "# se herdace da classe Estudante ou sobrescrevesse o método andar da classe Pessoa\n",
    "from typing import final\n",
    "\n",
    "class Pessoa:\n",
    "    \"\"\"\n",
    "    Pode ser herdado\n",
    "    \"\"\"\n",
    "    \n",
    "    @final\n",
    "    def andar(self):\n",
    "        \"\"\"\n",
    "        Ninguém pode sobrescrever esse método.\n",
    "        \"\"\"\n",
    "\n",
    "@final\n",
    "class Estudante(Pessoa):\n",
    "    \"\"\"\n",
    "    Ninguém pode herdar essa classe.\n",
    "    \"\"\""
   ]
  },
  {
   "cell_type": "code",
   "execution_count": 13,
   "id": "a309a529-e589-4bee-8727-799476d4aec0",
   "metadata": {
    "tags": []
   },
   "outputs": [
    {
     "name": "stdout",
     "output_type": "stream",
     "text": [
      "{'versao': '3.8.5', 'atualizacao': 2020}\n"
     ]
    }
   ],
   "source": [
    "# Typed Dict: Transforma uma classe em um dicionario ao instanciar ela\n",
    "class CursoPython(TypedDict):\n",
    "    versao: str\n",
    "    atualizacao: int\n",
    "    \n",
    "curso = CursoPython(versao=\"3.8.5\", atualizacao=2020)\n",
    "print(curso)"
   ]
  },
  {
   "cell_type": "code",
   "execution_count": 14,
   "id": "03f61b44-a66c-4910-bf82-82111fccdf72",
   "metadata": {
    "tags": []
   },
   "outputs": [
    {
     "name": "stdout",
     "output_type": "stream",
     "text": [
      "Pessoa Romildo de 20 anos de idade está falando.\n",
      "Pessoa Pedro Calile de 18 anos de idade está falando.\n",
      "Pessoa Maria de 5 anos de idade está falando.\n",
      "Pessoa Romildo de 20 anos de idade está andando.\n",
      "Pessoa Pedro Calile de 18 anos de idade está andando.\n",
      "Pessoa Maria de 5 anos de idade está andando.\n"
     ]
    }
   ],
   "source": [
    "# Protocol: É como se fosse uma interface de implementação, ou seja,\n",
    "# todo mundo que segue esse protocolo pode ser considerado um deles.\n",
    "# DuckType: Se você anda como um pato, pia como um pato e nada como um pato vc é um pato\n",
    "class PessoaInterface(Protocol):\n",
    "    nome: str\n",
    "    idade: int\n",
    "    \n",
    "    def andar(self):\n",
    "        print(f\"Pessoa {self.nome} de {self.idade} anos de idade está andando.\")\n",
    "\n",
    "\n",
    "def falar(pessoa: PessoaInterface) -> None:\n",
    "    print(f\"Pessoa {pessoa.nome} de {pessoa.idade} anos de idade está falando.\")\n",
    "    \n",
    "\n",
    "class Romildo:\n",
    "    def __init__(self):\n",
    "        self.nome = \"Romildo\"\n",
    "        self.idade = 20\n",
    "        \n",
    "    def andar(self):\n",
    "        print(f\"Pessoa {self.nome} de {self.idade} anos de idade está andando.\")\n",
    "        \n",
    "\n",
    "class Pedro:\n",
    "    def __init__(self):\n",
    "        self.nome = \"Pedro Calile\"\n",
    "        self.idade = 18\n",
    "        \n",
    "    def andar(self):\n",
    "        print(f\"Pessoa {self.nome} de {self.idade} anos de idade está andando.\")\n",
    "        \n",
    "\n",
    "class Maria:\n",
    "    def __init__(self):\n",
    "        self.nome = \"Maria\"\n",
    "        self.idade = 5\n",
    "        \n",
    "    def andar(self):\n",
    "        print(f\"Pessoa {self.nome} de {self.idade} anos de idade está andando.\")\n",
    "        \n",
    "romildo = Romildo()\n",
    "pedro = Pedro()\n",
    "maria = Maria()\n",
    "\n",
    "falar(pessoa=romildo)\n",
    "falar(pessoa=pedro)\n",
    "falar(pessoa=maria)\n",
    "romildo.andar()\n",
    "pedro.andar()\n",
    "maria.andar()"
   ]
  }
 ],
 "metadata": {
  "kernelspec": {
   "display_name": "Python 3 (ipykernel)",
   "language": "python",
   "name": "python3"
  },
  "language_info": {
   "codemirror_mode": {
    "name": "ipython",
    "version": 3
   },
   "file_extension": ".py",
   "mimetype": "text/x-python",
   "name": "python",
   "nbconvert_exporter": "python",
   "pygments_lexer": "ipython3",
   "version": "3.11.6"
  }
 },
 "nbformat": 4,
 "nbformat_minor": 5
}
