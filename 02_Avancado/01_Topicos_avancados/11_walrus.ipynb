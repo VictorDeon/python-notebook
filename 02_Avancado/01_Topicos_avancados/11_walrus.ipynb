{
 "cells": [
  {
   "cell_type": "markdown",
   "id": "a32c6de7-7ec1-475f-93f1-94a667a0704b",
   "metadata": {},
   "source": [
    "## Operador Walrus\n",
    "***\n",
    "\n",
    "Realiza atribuição e retorno de valor em uma mesma expressão\n",
    "\n",
    "A sintaxe é `variavel := expressao`\n",
    "\n",
    "É só uma nova forma de fazer, não tem nenhuma melhoria associada.\n",
    "\n",
    "Inserida na versão 3.8 do python"
   ]
  },
  {
   "cell_type": "code",
   "execution_count": 1,
   "id": "cc8dd837-3214-4b9a-9a33-c6271c617329",
   "metadata": {
    "tags": []
   },
   "outputs": [
    {
     "name": "stdout",
     "output_type": "stream",
     "text": [
      "Fulano de tal\n"
     ]
    }
   ],
   "source": [
    "# Jeito normal\n",
    "nome = \"Fulano de tal\"\n",
    "print(nome)"
   ]
  },
  {
   "cell_type": "code",
   "execution_count": 2,
   "id": "80dde3c7-7a7c-4bc0-86f2-259e073b8cd3",
   "metadata": {
    "tags": []
   },
   "outputs": [
    {
     "name": "stdout",
     "output_type": "stream",
     "text": [
      "Fulano de Tal\n",
      "Fulano de Tal\n"
     ]
    }
   ],
   "source": [
    "# Com walrus\n",
    "print(nome := \"Fulano de Tal\")\n",
    "# É a mesma coisa de fazer print(nome = \"Fulano de Tal\"), porém isso não vai funcionar\n",
    "print(nome)"
   ]
  },
  {
   "cell_type": "code",
   "execution_count": 3,
   "id": "4a853635-cc56-446c-a138-88f691c4b0cf",
   "metadata": {
    "tags": []
   },
   "outputs": [
    {
     "name": "stdin",
     "output_type": "stream",
     "text": [
      "Informe a fruta:  uva\n",
      "Informe a fruta:  manga\n",
      "Informe a fruta:  jaca\n"
     ]
    }
   ],
   "source": [
    "# Jeito normal\n",
    "cesta = []\n",
    "fruta = input('Informe a fruta: ')\n",
    "while fruta != 'jaca':\n",
    "    cesta.append(fruta)\n",
    "    fruta = input('Informe a fruta: ')"
   ]
  },
  {
   "cell_type": "code",
   "execution_count": 4,
   "id": "54ab6560-12eb-4acd-8cc8-34427e9ed462",
   "metadata": {
    "tags": []
   },
   "outputs": [
    {
     "name": "stdin",
     "output_type": "stream",
     "text": [
      "Informe a fruta:  uva\n",
      "Informe a fruta:  manga\n",
      "Informe a fruta:  jaca\n"
     ]
    }
   ],
   "source": [
    "# Com walrus\n",
    "cesta = []\n",
    "while fruta := input('Informe a fruta: ') != 'jaca':\n",
    "    cesta.append(fruta)"
   ]
  }
 ],
 "metadata": {
  "kernelspec": {
   "display_name": "Python 3 (ipykernel)",
   "language": "python",
   "name": "python3"
  },
  "language_info": {
   "codemirror_mode": {
    "name": "ipython",
    "version": 3
   },
   "file_extension": ".py",
   "mimetype": "text/x-python",
   "name": "python",
   "nbconvert_exporter": "python",
   "pygments_lexer": "ipython3",
   "version": "3.11.6"
  }
 },
 "nbformat": 4,
 "nbformat_minor": 5
}
