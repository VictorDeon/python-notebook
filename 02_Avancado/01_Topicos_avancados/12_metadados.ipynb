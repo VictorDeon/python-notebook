{
 "cells": [
  {
   "cell_type": "markdown",
   "id": "48126e46-afa6-4c84-807b-29e11ba2d516",
   "metadata": {},
   "source": [
    "## Metadados do python\n",
    "***\n",
    "\n"
   ]
  },
  {
   "cell_type": "code",
   "execution_count": 1,
   "id": "efa9ad52-1745-4d40-b5e4-7cae2cc3289f",
   "metadata": {
    "tags": []
   },
   "outputs": [],
   "source": [
    "from importlib import metadata"
   ]
  },
  {
   "cell_type": "code",
   "execution_count": 2,
   "id": "310ac523-3b78-462d-b0d0-fd6b0b335bad",
   "metadata": {
    "tags": []
   },
   "outputs": [
    {
     "name": "stdout",
     "output_type": "stream",
     "text": [
      "23.3\n"
     ]
    }
   ],
   "source": [
    "# Verificar a versão de qualquer pacote\n",
    "print(metadata.version('pip'))"
   ]
  },
  {
   "cell_type": "code",
   "execution_count": 3,
   "id": "3a6e2a21-ad0b-45a1-b03e-d0a2e9050475",
   "metadata": {
    "tags": []
   },
   "outputs": [
    {
     "name": "stdout",
     "output_type": "stream",
     "text": [
      "['Metadata-Version', 'Name', 'Version', 'Summary', 'Home-page', 'Author', 'Author-email', 'License', 'Project-URL', 'Project-URL', 'Project-URL', 'Classifier', 'Classifier', 'Classifier', 'Classifier', 'Classifier', 'Classifier', 'Classifier', 'Classifier', 'Classifier', 'Classifier', 'Classifier', 'Classifier', 'Classifier', 'Classifier', 'Classifier', 'Requires-Python', 'License-File', 'License-File', 'Description']\n",
      "The PyPA recommended tool for installing Python packages.\n"
     ]
    }
   ],
   "source": [
    "# Quais são os metadados dentro de um pacote\n",
    "pip_metadata = metadata.metadata('pip')\n",
    "print(list(pip_metadata))\n",
    "print(pip_metadata['Summary'])"
   ]
  },
  {
   "cell_type": "code",
   "execution_count": 4,
   "id": "400d3b51-04f9-4522-a01d-c8b410c57274",
   "metadata": {
    "tags": []
   },
   "outputs": [
    {
     "name": "stdout",
     "output_type": "stream",
     "text": [
      "653\n"
     ]
    }
   ],
   "source": [
    "# Verificar quantos arquivos tem em um pacote\n",
    "print(len(metadata.files('pip')))"
   ]
  },
  {
   "cell_type": "code",
   "execution_count": 5,
   "id": "7c14fb49-4d90-4f5b-beed-868806134a5c",
   "metadata": {
    "tags": []
   },
   "outputs": [
    {
     "name": "stdout",
     "output_type": "stream",
     "text": [
      "['certifi', 'httpcore<0.18.0,>=0.15.0', 'idna', 'sniffio', \"brotli; platform_python_implementation == 'CPython' and extra == 'brotli'\", \"brotlicffi; platform_python_implementation != 'CPython' and extra == 'brotli'\", \"click==8.*; extra == 'cli'\", \"pygments==2.*; extra == 'cli'\", \"rich<14,>=10; extra == 'cli'\", \"h2<5,>=3; extra == 'http2'\", \"socksio==1.*; extra == 'socks'\"]\n"
     ]
    }
   ],
   "source": [
    "# Quais outros pacotes esse pacote requer?\n",
    "print(metadata.requires('httpx'))"
   ]
  }
 ],
 "metadata": {
  "kernelspec": {
   "display_name": "Python 3 (ipykernel)",
   "language": "python",
   "name": "python3"
  },
  "language_info": {
   "codemirror_mode": {
    "name": "ipython",
    "version": 3
   },
   "file_extension": ".py",
   "mimetype": "text/x-python",
   "name": "python",
   "nbconvert_exporter": "python",
   "pygments_lexer": "ipython3",
   "version": "3.11.6"
  }
 },
 "nbformat": 4,
 "nbformat_minor": 5
}
