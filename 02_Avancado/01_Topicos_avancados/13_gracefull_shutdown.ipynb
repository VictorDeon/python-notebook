{
 "cells": [
  {
   "cell_type": "markdown",
   "id": "90e4685e-4cbd-4cc2-91f2-b4e5436542d3",
   "metadata": {},
   "source": [
    "## Gracefull Shutdown\n",
    "***\n",
    "\n",
    "Vamos pegar a situação que você está rodando um script que consome uma fila e realiza um processo longo, temos 10 PODs rodando atualmente nesse sistema, a medida que os PODS vão aumentando e diminuindo precisamos de um mecanismo de reciclagem de PODs inteligente o suficiente para não matar um processo no meio do caminho, esperar ele terminar e depois reciclar seu POD.\n",
    "\n",
    "Para podemos implementar um gracefull shutdown com signals."
   ]
  },
  {
   "cell_type": "code",
   "execution_count": 1,
   "id": "f215d7bc-2b17-4a31-aac2-22a24f4acb0e",
   "metadata": {
    "tags": []
   },
   "outputs": [],
   "source": [
    "import asyncio\n",
    "import signal\n",
    "import random"
   ]
  },
  {
   "cell_type": "code",
   "execution_count": 2,
   "id": "88a57e41-84aa-47f1-bfce-0742f8798e2e",
   "metadata": {
    "tags": []
   },
   "outputs": [],
   "source": [
    "stop_event = asyncio.Event()"
   ]
  },
  {
   "cell_type": "code",
   "execution_count": 3,
   "id": "c5582ce1-f261-4b7a-bba7-4a1eab916c91",
   "metadata": {
    "tags": []
   },
   "outputs": [],
   "source": [
    "def shutdown(sig: signal.Signals) -> None:\n",
    "    \"\"\"\n",
    "    Setando o evento de parada.\n",
    "    \"\"\"\n",
    "\n",
    "    print(f\"Sinal de sair recebido: {sig.name}\")\n",
    "    stop_event.set()\n",
    "    print(\"Evento de parada setado.\")"
   ]
  },
  {
   "cell_type": "code",
   "execution_count": 4,
   "id": "ef6c93a2-0313-433d-a64f-9d747cbb0d97",
   "metadata": {
    "tags": []
   },
   "outputs": [],
   "source": [
    "def setup_signal_handler() -> None:\n",
    "    \"\"\"\n",
    "    Observador de sinais como o Ctrl + C para parada\n",
    "    do script ou graceful shutdown.\n",
    "    \"\"\"\n",
    "\n",
    "    loop = asyncio.get_running_loop()\n",
    "\n",
    "    # kill -l (mostra todos os comandos de sinais)\n",
    "    # SIGKILL -> Mata o processo forçado e não tem oq fazer (kill -9)\n",
    "    # SIGHUP -> Recebeu um evento de desligamento do processo (desescalonamento de um pod)\n",
    "    # SIGTERM -> Recebeu um evento para terminar o processo (parada de um pod)\n",
    "    # SIGINT -> Recebeu um evento de interrupção (Ctrl+C)\n",
    "    # Se ocorrer qualquer um desses sinais execute o evento de parada (shutdown)\n",
    "    for sig in (signal.SIGHUP, signal.SIGTERM, signal.SIGINT):\n",
    "        loop.add_signal_handler(sig, shutdown, sig)"
   ]
  },
  {
   "cell_type": "code",
   "execution_count": 5,
   "id": "080f22ec-f1a1-4199-be5b-cf06e9144b36",
   "metadata": {
    "tags": []
   },
   "outputs": [],
   "source": [
    "async def worker(n) -> None:\n",
    "    \"\"\"\n",
    "    Trabalhador processando algo de forma simulada com o\n",
    "    sleep de 1 a 15 de forma randomica.\n",
    "    \"\"\"\n",
    "\n",
    "    while True:\n",
    "        print(f\"Worker {n}\")\n",
    "        if stop_event.is_set():\n",
    "            print(f\"Worker {n}: Evento de parada setado. Parando.\")\n",
    "            break\n",
    "\n",
    "        await asyncio.sleep(random.randint(1, 15))"
   ]
  },
  {
   "cell_type": "code",
   "execution_count": 6,
   "id": "186177c2-e484-47df-89b0-0f8b7682ccd0",
   "metadata": {
    "tags": []
   },
   "outputs": [],
   "source": [
    "async def main() -> None:\n",
    "    \"\"\"\n",
    "    Tetando o graceful shutdown.\n",
    "    \"\"\"\n",
    "\n",
    "    setup_signal_handler()\n",
    "\n",
    "    # Criando 6 tarefas\n",
    "    tasks = []\n",
    "    for n in range(6):\n",
    "        task = worker(n)\n",
    "        tasks.append(task)\n",
    "\n",
    "    await asyncio.gather(*tasks)"
   ]
  },
  {
   "cell_type": "code",
   "execution_count": 7,
   "id": "8859799f-f669-446c-93e0-10cdfd48c87c",
   "metadata": {
    "tags": []
   },
   "outputs": [
    {
     "name": "stdout",
     "output_type": "stream",
     "text": [
      "Worker 0\n",
      "Worker 1\n",
      "Worker 2\n",
      "Worker 3\n",
      "Worker 4\n",
      "Worker 5\n",
      "Worker 1\n",
      "Worker 1\n",
      "Worker 2\n",
      "Worker 5\n",
      "Worker 4\n",
      "Worker 3\n",
      "Worker 0\n",
      "Worker 5\n",
      "Worker 2\n",
      "Worker 1\n",
      "Worker 5\n",
      "Worker 4\n",
      "Worker 5\n",
      "Sinal de sair recebido: SIGINT\n",
      "Evento de parada setado.\n",
      "Worker 0\n",
      "Worker 0: Evento de parada setado. Parando.\n",
      "Worker 3\n",
      "Worker 3: Evento de parada setado. Parando.\n",
      "Worker 4\n",
      "Worker 4: Evento de parada setado. Parando.\n",
      "Worker 2\n",
      "Worker 2: Evento de parada setado. Parando.\n",
      "Worker 1\n",
      "Worker 1: Evento de parada setado. Parando.\n",
      "Worker 5\n",
      "Worker 5: Evento de parada setado. Parando.\n"
     ]
    }
   ],
   "source": [
    "await main()"
   ]
  }
 ],
 "metadata": {
  "kernelspec": {
   "display_name": "Python 3 (ipykernel)",
   "language": "python",
   "name": "python3"
  },
  "language_info": {
   "codemirror_mode": {
    "name": "ipython",
    "version": 3
   },
   "file_extension": ".py",
   "mimetype": "text/x-python",
   "name": "python",
   "nbconvert_exporter": "python",
   "pygments_lexer": "ipython3",
   "version": "3.11.6"
  }
 },
 "nbformat": 4,
 "nbformat_minor": 5
}
