{
 "cells": [
  {
   "cell_type": "markdown",
   "id": "352efcb3-3dfe-4c1f-a255-1105643f2365",
   "metadata": {},
   "source": [
    "## Corotines com IO-BOUND\n",
    "***"
   ]
  },
  {
   "cell_type": "markdown",
   "id": "0c41a36c-74a9-4efa-b277-3afd7ae3779c",
   "metadata": {},
   "source": [
    "Primeiro vamos resolver o codigo de forma sincrona com requests e também tipagem em python com o pydantic"
   ]
  },
  {
   "cell_type": "code",
   "execution_count": 1,
   "id": "588b8e6b-a892-4d17-8ef3-e9b565a25a24",
   "metadata": {
    "tags": []
   },
   "outputs": [],
   "source": [
    "from datetime import timedelta\n",
    "from pydantic import BaseModel\n",
    "import asyncio\n",
    "import time\n",
    "import requests\n",
    "import httpx"
   ]
  },
  {
   "cell_type": "code",
   "execution_count": 2,
   "id": "e593f4f9-25b5-4d7a-8235-8c864a29b8ae",
   "metadata": {
    "tags": []
   },
   "outputs": [],
   "source": [
    "class Pokemon(BaseModel): # 👈 Defines model to parse pokemon\n",
    "    name: str\n",
    "    types: list[str]"
   ]
  },
  {
   "cell_type": "code",
   "execution_count": 3,
   "id": "f5ea0c48-e2bf-46e6-b4a4-2b3f0ad20eb1",
   "metadata": {
    "tags": []
   },
   "outputs": [],
   "source": [
    "def parse_pokemon(pokemon_data: dict) -> Pokemon: # 👈 CPU-bound operation\n",
    "    print(f\"🔄 Parsing pokemon '{pokemon_data['name']}'\")\n",
    "\n",
    "    poke_types = []\n",
    "    for poke_type in pokemon_data[\"types\"]:\n",
    "        poke_types.append(poke_type[\"type\"][\"name\"])\n",
    "\n",
    "    return Pokemon(name=pokemon_data['name'], types=poke_types)"
   ]
  },
  {
   "cell_type": "code",
   "execution_count": 4,
   "id": "7c6ebd98-f5ce-4676-a531-8b11464d55ea",
   "metadata": {
    "tags": []
   },
   "outputs": [],
   "source": [
    "def get_pokemon(name: str) -> dict | None: # 👈 IO-bound operation\n",
    "    with requests.Session() as session:\n",
    "        print(f\"🔍 Querying for '{name}'\")\n",
    "        resp = session.get(f\"https://pokeapi.co/api/v2/pokemon/{name}\")\n",
    "        print(f\"🙌 Got data for '{name}'\")\n",
    "\n",
    "        try:\n",
    "            resp.raise_for_status()\n",
    "        except Exception as err:\n",
    "            if err.response.status_code == 404:\n",
    "                return None\n",
    "            raise\n",
    "        else:\n",
    "            return resp.json()"
   ]
  },
  {
   "cell_type": "code",
   "execution_count": 5,
   "id": "4dbd611f-4de2-40f5-b526-e174b727d3c7",
   "metadata": {
    "tags": []
   },
   "outputs": [],
   "source": [
    "def get_all(*names: str): # 👈 Sync\n",
    "    started_at = time.time()\n",
    "    \n",
    "    for name in names: # 👈 Iterates over all names\n",
    "        if data := get_pokemon(name): # 👈 Invokes async function\n",
    "            result_time = round(time.time() - started_at, 2)\n",
    "            pokemon = parse_pokemon(data)\n",
    "            print(f\"💁 {pokemon.name} is of type(s) {','.join(pokemon.types)} finish at time {result_time} seconds\")\n",
    "        else:\n",
    "            print(f\"❌ No data found for '{name}'\")\n",
    "\n",
    "    finished_at = time.time()\n",
    "    elapsed_time = finished_at - started_at\n",
    "    print(f\"⏲️ Done in {timedelta(seconds=elapsed_time)}\")"
   ]
  },
  {
   "cell_type": "code",
   "execution_count": 6,
   "id": "b3ca1b78-235c-4ce8-9d9c-73cb9ab06d1b",
   "metadata": {
    "tags": []
   },
   "outputs": [],
   "source": [
    "POKE_NAMES = [\n",
    "    \"blaziken\", \"pikachu\", \"lugia\", \"bad_name\", \"charizard\", \"venossauro\", \"blastoise\", \"butterfree\",\n",
    "    \"beedrill\", \"pidgeot\", \"raticate\", \"fearow\", \"arbok\", \"raichu\", \"sandslash\", \"nidoqueen\", \"nidoking\",\n",
    "    \"clefable\", \"ninetales\", \"wigglytuff\"\n",
    "]"
   ]
  },
  {
   "cell_type": "code",
   "execution_count": 7,
   "id": "251a5356-67e0-4bb3-b6e0-f06affde6ad9",
   "metadata": {
    "tags": []
   },
   "outputs": [
    {
     "name": "stdout",
     "output_type": "stream",
     "text": [
      "🔍 Querying for 'blaziken'\n",
      "🙌 Got data for 'blaziken'\n",
      "🔄 Parsing pokemon 'blaziken'\n",
      "💁 blaziken is of type(s) fire,fighting finish at time 0.08 seconds\n",
      "🔍 Querying for 'pikachu'\n",
      "🙌 Got data for 'pikachu'\n",
      "🔄 Parsing pokemon 'pikachu'\n",
      "💁 pikachu is of type(s) electric finish at time 0.14 seconds\n",
      "🔍 Querying for 'lugia'\n",
      "🙌 Got data for 'lugia'\n",
      "🔄 Parsing pokemon 'lugia'\n",
      "💁 lugia is of type(s) psychic,flying finish at time 0.21 seconds\n",
      "🔍 Querying for 'bad_name'\n",
      "🙌 Got data for 'bad_name'\n",
      "❌ No data found for 'bad_name'\n",
      "🔍 Querying for 'charizard'\n",
      "🙌 Got data for 'charizard'\n",
      "🔄 Parsing pokemon 'charizard'\n",
      "💁 charizard is of type(s) fire,flying finish at time 0.34 seconds\n",
      "🔍 Querying for 'venossauro'\n",
      "🙌 Got data for 'venossauro'\n",
      "❌ No data found for 'venossauro'\n",
      "🔍 Querying for 'blastoise'\n",
      "🙌 Got data for 'blastoise'\n",
      "🔄 Parsing pokemon 'blastoise'\n",
      "💁 blastoise is of type(s) water finish at time 1.53 seconds\n",
      "🔍 Querying for 'butterfree'\n",
      "🙌 Got data for 'butterfree'\n",
      "🔄 Parsing pokemon 'butterfree'\n",
      "💁 butterfree is of type(s) bug,flying finish at time 1.62 seconds\n",
      "🔍 Querying for 'beedrill'\n",
      "🙌 Got data for 'beedrill'\n",
      "🔄 Parsing pokemon 'beedrill'\n",
      "💁 beedrill is of type(s) bug,poison finish at time 1.68 seconds\n",
      "🔍 Querying for 'pidgeot'\n",
      "🙌 Got data for 'pidgeot'\n",
      "🔄 Parsing pokemon 'pidgeot'\n",
      "💁 pidgeot is of type(s) normal,flying finish at time 1.91 seconds\n",
      "🔍 Querying for 'raticate'\n",
      "🙌 Got data for 'raticate'\n",
      "🔄 Parsing pokemon 'raticate'\n",
      "💁 raticate is of type(s) normal finish at time 1.98 seconds\n",
      "🔍 Querying for 'fearow'\n",
      "🙌 Got data for 'fearow'\n",
      "🔄 Parsing pokemon 'fearow'\n",
      "💁 fearow is of type(s) normal,flying finish at time 2.29 seconds\n",
      "🔍 Querying for 'arbok'\n",
      "🙌 Got data for 'arbok'\n",
      "🔄 Parsing pokemon 'arbok'\n",
      "💁 arbok is of type(s) poison finish at time 2.59 seconds\n",
      "🔍 Querying for 'raichu'\n",
      "🙌 Got data for 'raichu'\n",
      "🔄 Parsing pokemon 'raichu'\n",
      "💁 raichu is of type(s) electric finish at time 2.65 seconds\n",
      "🔍 Querying for 'sandslash'\n",
      "🙌 Got data for 'sandslash'\n",
      "🔄 Parsing pokemon 'sandslash'\n",
      "💁 sandslash is of type(s) ground finish at time 2.71 seconds\n",
      "🔍 Querying for 'nidoqueen'\n",
      "🙌 Got data for 'nidoqueen'\n",
      "🔄 Parsing pokemon 'nidoqueen'\n",
      "💁 nidoqueen is of type(s) poison,ground finish at time 2.78 seconds\n",
      "🔍 Querying for 'nidoking'\n",
      "🙌 Got data for 'nidoking'\n",
      "🔄 Parsing pokemon 'nidoking'\n",
      "💁 nidoking is of type(s) poison,ground finish at time 3.31 seconds\n",
      "🔍 Querying for 'clefable'\n",
      "🙌 Got data for 'clefable'\n",
      "🔄 Parsing pokemon 'clefable'\n",
      "💁 clefable is of type(s) fairy finish at time 3.37 seconds\n",
      "🔍 Querying for 'ninetales'\n",
      "🙌 Got data for 'ninetales'\n",
      "🔄 Parsing pokemon 'ninetales'\n",
      "💁 ninetales is of type(s) fire finish at time 3.43 seconds\n",
      "🔍 Querying for 'wigglytuff'\n",
      "🙌 Got data for 'wigglytuff'\n",
      "🔄 Parsing pokemon 'wigglytuff'\n",
      "💁 wigglytuff is of type(s) normal,fairy finish at time 3.49 seconds\n",
      "⏲️ Done in 0:00:03.494859\n"
     ]
    }
   ],
   "source": [
    "get_all(*POKE_NAMES)"
   ]
  },
  {
   "cell_type": "markdown",
   "id": "0853f477-475d-4de4-9839-20229f1b1afc",
   "metadata": {},
   "source": [
    "Vamos utilizar o httpx para fazer requisições assincronas"
   ]
  },
  {
   "cell_type": "code",
   "execution_count": 8,
   "id": "d75a1d99-01b1-4e5c-a4f9-0d8e9068f37c",
   "metadata": {
    "tags": []
   },
   "outputs": [],
   "source": [
    "async def get_pokemon(name: str) -> dict | None: # 👈 IO-bound operation\n",
    "    async with httpx.AsyncClient() as client:\n",
    "        print(f\"🔍 Querying for '{name}'\")\n",
    "        resp = await client.get(f\"https://pokeapi.co/api/v2/pokemon/{name}\")\n",
    "        print(f\"🙌 Got data for '{name}'\")\n",
    "\n",
    "        try:\n",
    "            resp.raise_for_status()\n",
    "        except httpx.HTTPStatusError as err:\n",
    "            if err.response.status_code == 404:\n",
    "                return None\n",
    "            raise\n",
    "        else:\n",
    "            return resp.json()"
   ]
  },
  {
   "cell_type": "code",
   "execution_count": 9,
   "id": "17e0ffbe-2a8d-4d36-869a-44dc41c631a9",
   "metadata": {
    "tags": []
   },
   "outputs": [],
   "source": [
    "async def get_all(*names: str): # 👈 Async\n",
    "    started_at = time.time()\n",
    "    \n",
    "    # 👇 Create tasks, so we start requesting all of them concurrently\n",
    "    tasks = [asyncio.create_task(get_pokemon(name)) for name in names]\n",
    "    \n",
    "    # 👇 Await ALL\n",
    "    results = await asyncio.gather(*tasks)\n",
    "\n",
    "    for result in results:\n",
    "        if result:\n",
    "            result_time = round(time.time() - started_at, 2)\n",
    "            pokemon = parse_pokemon(result)\n",
    "            print(f\"💁 {pokemon.name} is of type(s) {','.join(pokemon.types)} finish at time {result_time} seconds\")\n",
    "        else:\n",
    "            print(f\"❌ No data found for...\")\n",
    "\n",
    "    finished_at = time.time()\n",
    "    elapsed_time = finished_at - started_at\n",
    "    print(f\"⏲️ Done in {timedelta(seconds=elapsed_time)}\")"
   ]
  },
  {
   "cell_type": "code",
   "execution_count": 10,
   "id": "056f5f39-efc2-4c2b-b53d-264bcc4c1351",
   "metadata": {
    "tags": []
   },
   "outputs": [
    {
     "name": "stdout",
     "output_type": "stream",
     "text": [
      "🔍 Querying for 'blaziken'\n",
      "🔍 Querying for 'pikachu'\n",
      "🔍 Querying for 'lugia'\n",
      "🔍 Querying for 'bad_name'\n",
      "🔍 Querying for 'charizard'\n",
      "🔍 Querying for 'venossauro'\n",
      "🔍 Querying for 'blastoise'\n",
      "🔍 Querying for 'butterfree'\n",
      "🔍 Querying for 'beedrill'\n",
      "🔍 Querying for 'pidgeot'\n",
      "🔍 Querying for 'raticate'\n",
      "🔍 Querying for 'fearow'\n",
      "🔍 Querying for 'arbok'\n",
      "🔍 Querying for 'raichu'\n",
      "🔍 Querying for 'sandslash'\n",
      "🔍 Querying for 'nidoqueen'\n",
      "🔍 Querying for 'nidoking'\n",
      "🔍 Querying for 'clefable'\n",
      "🔍 Querying for 'ninetales'\n",
      "🔍 Querying for 'wigglytuff'\n",
      "🙌 Got data for 'raticate'\n",
      "🙌 Got data for 'nidoking'\n",
      "🙌 Got data for 'blastoise'\n",
      "🙌 Got data for 'arbok'\n",
      "🙌 Got data for 'lugia'\n",
      "🙌 Got data for 'blaziken'\n",
      "🙌 Got data for 'bad_name'\n",
      "🙌 Got data for 'pidgeot'\n",
      "🙌 Got data for 'venossauro'\n",
      "🙌 Got data for 'nidoqueen'\n",
      "🙌 Got data for 'ninetales'\n",
      "🙌 Got data for 'charizard'\n",
      "🙌 Got data for 'clefable'\n",
      "🙌 Got data for 'wigglytuff'\n",
      "🙌 Got data for 'butterfree'\n",
      "🙌 Got data for 'raichu'\n",
      "🙌 Got data for 'beedrill'\n",
      "🙌 Got data for 'pikachu'\n",
      "🙌 Got data for 'sandslash'\n",
      "🙌 Got data for 'fearow'\n",
      "🔄 Parsing pokemon 'blaziken'\n",
      "💁 blaziken is of type(s) fire,fighting finish at time 3.6 seconds\n",
      "🔄 Parsing pokemon 'pikachu'\n",
      "💁 pikachu is of type(s) electric finish at time 3.6 seconds\n",
      "🔄 Parsing pokemon 'lugia'\n",
      "💁 lugia is of type(s) psychic,flying finish at time 3.6 seconds\n",
      "❌ No data found for...\n",
      "🔄 Parsing pokemon 'charizard'\n",
      "💁 charizard is of type(s) fire,flying finish at time 3.6 seconds\n",
      "❌ No data found for...\n",
      "🔄 Parsing pokemon 'blastoise'\n",
      "💁 blastoise is of type(s) water finish at time 3.6 seconds\n",
      "🔄 Parsing pokemon 'butterfree'\n",
      "💁 butterfree is of type(s) bug,flying finish at time 3.6 seconds\n",
      "🔄 Parsing pokemon 'beedrill'\n",
      "💁 beedrill is of type(s) bug,poison finish at time 3.6 seconds\n",
      "🔄 Parsing pokemon 'pidgeot'\n",
      "💁 pidgeot is of type(s) normal,flying finish at time 3.6 seconds\n",
      "🔄 Parsing pokemon 'raticate'\n",
      "💁 raticate is of type(s) normal finish at time 3.6 seconds\n",
      "🔄 Parsing pokemon 'fearow'\n",
      "💁 fearow is of type(s) normal,flying finish at time 3.6 seconds\n",
      "🔄 Parsing pokemon 'arbok'\n",
      "💁 arbok is of type(s) poison finish at time 3.6 seconds\n",
      "🔄 Parsing pokemon 'raichu'\n",
      "💁 raichu is of type(s) electric finish at time 3.6 seconds\n",
      "🔄 Parsing pokemon 'sandslash'\n",
      "💁 sandslash is of type(s) ground finish at time 3.6 seconds\n",
      "🔄 Parsing pokemon 'nidoqueen'\n",
      "💁 nidoqueen is of type(s) poison,ground finish at time 3.6 seconds\n",
      "🔄 Parsing pokemon 'nidoking'\n",
      "💁 nidoking is of type(s) poison,ground finish at time 3.6 seconds\n",
      "🔄 Parsing pokemon 'clefable'\n",
      "💁 clefable is of type(s) fairy finish at time 3.6 seconds\n",
      "🔄 Parsing pokemon 'ninetales'\n",
      "💁 ninetales is of type(s) fire finish at time 3.6 seconds\n",
      "🔄 Parsing pokemon 'wigglytuff'\n",
      "💁 wigglytuff is of type(s) normal,fairy finish at time 3.6 seconds\n",
      "⏲️ Done in 0:00:03.603982\n"
     ]
    }
   ],
   "source": [
    "await get_all(*POKE_NAMES)"
   ]
  },
  {
   "cell_type": "markdown",
   "id": "0f473d42-fc48-4ff6-bb78-2266fea39ba6",
   "metadata": {},
   "source": [
    "***\n",
    "### RACE\n",
    "***"
   ]
  },
  {
   "cell_type": "markdown",
   "id": "7311ea9a-5fb9-45a8-ae56-1692cfdc0400",
   "metadata": {},
   "source": [
    "Vamos pegar o cenários que queremos executar o parser assim que a primeira requisição for finalizada, com isso podemos finalizar as outras em seguida ou cancelar as que não foram finalizadas, isso pode ser bem útil quando você dispara vários captchas para quebrar e gostaria de executar o resto do codigo assim que o primeiro captcha finalizar."
   ]
  },
  {
   "cell_type": "code",
   "execution_count": 11,
   "id": "46680a0b-6c3b-44e9-918c-bf4b01ee659a",
   "metadata": {
    "tags": []
   },
   "outputs": [],
   "source": [
    "async def get_all(*names: str):\n",
    "    started_at = time.time()\n",
    "\n",
    "    tasks = [asyncio.create_task(get_pokemon(name)) for name in names]\n",
    "\n",
    "    # 👇 Process the tasks individually as they become available\n",
    "    for corotine in asyncio.as_completed(tasks):\n",
    "        result = await corotine # 👈 You still need to await\n",
    "\n",
    "        if result:\n",
    "            result_time = round(time.time() - started_at, 2)\n",
    "            pokemon = parse_pokemon(result)\n",
    "            print(f\"💁 {pokemon.name} is of type(s) {','.join(pokemon.types)} finish at time {result_time} seconds\")\n",
    "        else:\n",
    "            print(f\"❌ No data found for...\")\n",
    "    \n",
    "    finished_at = time.time()\n",
    "    elapsed_time = finished_at - started_at\n",
    "    print(f\"⏲️ Done in {timedelta(seconds=elapsed_time)}\")"
   ]
  },
  {
   "cell_type": "code",
   "execution_count": 12,
   "id": "0e6d5e0c-a570-4d3d-8562-16ca7c1066d0",
   "metadata": {
    "tags": []
   },
   "outputs": [
    {
     "name": "stdout",
     "output_type": "stream",
     "text": [
      "🔍 Querying for 'blaziken'\n",
      "🔍 Querying for 'pikachu'\n",
      "🔍 Querying for 'lugia'\n",
      "🔍 Querying for 'bad_name'\n",
      "🔍 Querying for 'charizard'\n",
      "🔍 Querying for 'venossauro'\n",
      "🔍 Querying for 'blastoise'\n",
      "🔍 Querying for 'butterfree'\n",
      "🔍 Querying for 'beedrill'\n",
      "🔍 Querying for 'pidgeot'\n",
      "🔍 Querying for 'raticate'\n",
      "🔍 Querying for 'fearow'\n",
      "🔍 Querying for 'arbok'\n",
      "🔍 Querying for 'raichu'\n",
      "🔍 Querying for 'sandslash'\n",
      "🔍 Querying for 'nidoqueen'\n",
      "🔍 Querying for 'nidoking'\n",
      "🔍 Querying for 'clefable'\n",
      "🔍 Querying for 'ninetales'\n",
      "🔍 Querying for 'wigglytuff'\n",
      "🙌 Got data for 'blastoise'\n",
      "🔄 Parsing pokemon 'blastoise'\n",
      "💁 blastoise is of type(s) water finish at time 0.37 seconds\n",
      "🙌 Got data for 'bad_name'\n",
      "❌ No data found for...\n",
      "🙌 Got data for 'pikachu'\n",
      "🙌 Got data for 'butterfree'\n",
      "🔄 Parsing pokemon 'pikachu'\n",
      "💁 pikachu is of type(s) electric finish at time 0.39 seconds\n",
      "🙌 Got data for 'beedrill'\n",
      "🙌 Got data for 'raticate'\n",
      "🔄 Parsing pokemon 'butterfree'\n",
      "💁 butterfree is of type(s) bug,flying finish at time 0.4 seconds\n",
      "🙌 Got data for 'wigglytuff'\n",
      "🙌 Got data for 'charizard'\n",
      "🙌 Got data for 'ninetales'\n",
      "🔄 Parsing pokemon 'beedrill'\n",
      "💁 beedrill is of type(s) bug,poison finish at time 0.41 seconds\n",
      "🔄 Parsing pokemon 'raticate'\n",
      "💁 raticate is of type(s) normal finish at time 0.41 seconds\n",
      "🔄 Parsing pokemon 'wigglytuff'\n",
      "💁 wigglytuff is of type(s) normal,fairy finish at time 0.41 seconds\n",
      "🔄 Parsing pokemon 'charizard'\n",
      "💁 charizard is of type(s) fire,flying finish at time 0.41 seconds\n",
      "🔄 Parsing pokemon 'ninetales'\n",
      "💁 ninetales is of type(s) fire finish at time 0.41 seconds\n",
      "🙌 Got data for 'clefable'\n",
      "🔄 Parsing pokemon 'clefable'\n",
      "💁 clefable is of type(s) fairy finish at time 0.41 seconds\n",
      "🙌 Got data for 'blaziken'\n",
      "🔄 Parsing pokemon 'blaziken'\n",
      "💁 blaziken is of type(s) fire,fighting finish at time 0.57 seconds\n",
      "🙌 Got data for 'lugia'\n",
      "🔄 Parsing pokemon 'lugia'\n",
      "💁 lugia is of type(s) psychic,flying finish at time 0.63 seconds\n",
      "🙌 Got data for 'fearow'\n",
      "🔄 Parsing pokemon 'fearow'\n",
      "💁 fearow is of type(s) normal,flying finish at time 0.65 seconds\n",
      "🙌 Got data for 'venossauro'\n",
      "❌ No data found for...\n",
      "🙌 Got data for 'pidgeot'\n",
      "🔄 Parsing pokemon 'pidgeot'\n",
      "💁 pidgeot is of type(s) normal,flying finish at time 1.26 seconds\n",
      "🙌 Got data for 'sandslash'\n",
      "🔄 Parsing pokemon 'sandslash'\n",
      "💁 sandslash is of type(s) ground finish at time 1.39 seconds\n",
      "🙌 Got data for 'nidoking'\n",
      "🔄 Parsing pokemon 'nidoking'\n",
      "💁 nidoking is of type(s) poison,ground finish at time 1.58 seconds\n",
      "🙌 Got data for 'nidoqueen'\n",
      "🔄 Parsing pokemon 'nidoqueen'\n",
      "💁 nidoqueen is of type(s) poison,ground finish at time 1.81 seconds\n",
      "🙌 Got data for 'raichu'\n",
      "🔄 Parsing pokemon 'raichu'\n",
      "💁 raichu is of type(s) electric finish at time 1.85 seconds\n",
      "🙌 Got data for 'arbok'\n",
      "🔄 Parsing pokemon 'arbok'\n",
      "💁 arbok is of type(s) poison finish at time 2.04 seconds\n",
      "⏲️ Done in 0:00:02.042445\n"
     ]
    }
   ],
   "source": [
    "await get_all(*POKE_NAMES)"
   ]
  }
 ],
 "metadata": {
  "kernelspec": {
   "display_name": "Python 3 (ipykernel)",
   "language": "python",
   "name": "python3"
  },
  "language_info": {
   "codemirror_mode": {
    "name": "ipython",
    "version": 3
   },
   "file_extension": ".py",
   "mimetype": "text/x-python",
   "name": "python",
   "nbconvert_exporter": "python",
   "pygments_lexer": "ipython3",
   "version": "3.11.6"
  }
 },
 "nbformat": 4,
 "nbformat_minor": 5
}
