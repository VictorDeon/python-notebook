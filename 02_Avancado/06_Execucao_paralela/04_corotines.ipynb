{
 "cells": [
  {
   "cell_type": "markdown",
   "id": "5f28675e-f761-4ffb-9116-046aa123dfda",
   "metadata": {},
   "source": [
    "## Corotines\n",
    "***\n",
    "\n",
    "Aqui será falado um pouco sobre os conceitos mais comuns utilizados na programação assíncrona com python e demonstrar alguns exemplos com ênfase no módulo asyncio.\n",
    "\n",
    "No modelo assíncrono tem se a capacidade de atender a múltiplas requisições simultaneamente de forma concorrente ou em paralelo.\n",
    "\n",
    "Mas qual a diferença entre concorrencia e paralelismo? Concorrência é a ideia de que um conjunto de tarefas seja executado de forma simultânea, onde cada tarefa, é executada de modo parcial, havendo repetidas trocas de contextos, até que todas as tarefas sejam finalizadas. Observe que a concorrência é levemente diferente da execução paralela, que é onde as tarefas são executadas exatamente ao mesmo tempo, por meio de múltiplos cores.\n",
    "\n",
    "Até um tempo atrás a estratégia padrão para se atingir concorrência de assíncrona era basicamente por meio da criação de múltiplas threads ou múltiplos processos. Recentemente surgiram as corrotinas, em ingles chama-se corroutines. Com as corrotinas a mudança de contexto acontece basicamente, não por interrupção, mas sim por ocorrência de uma espera. Uma espera de resposta da rede ou uma espera de I/O. Quando isso acontece, o loop de eventos passa o controle de execução para outra corrotina.\n",
    "\n",
    "***\n",
    "### Asyncio\n",
    "***\n",
    "\n",
    "A nova sintaxe do Python utiliza as palavras reservadas **async** e **await**. A primeira indica que uma função deve ser executada de forma assíncrona. A segunda significa que a corrotina será paralisada naquele ponto aguardando um resultado futuro. Em outras palavras, o controle de execução será dado à outra corroutina e só será retomado quando o resultado ficar pronto."
   ]
  },
  {
   "cell_type": "code",
   "execution_count": 1,
   "id": "33911fab-65fa-4e40-8731-3a8326ba7127",
   "metadata": {
    "tags": []
   },
   "outputs": [],
   "source": [
    "import asyncio\n",
    "import random\n",
    "import time\n",
    "\n",
    "def get_time():\n",
    "    return int(round(time.time()))"
   ]
  },
  {
   "cell_type": "code",
   "execution_count": 2,
   "id": "7346b7bc-852e-41bd-979c-ad4f38e88c37",
   "metadata": {
    "tags": []
   },
   "outputs": [],
   "source": [
    "# Neste exemplo não podemos usar a função time.sleep(process_time) porque\n",
    "# a mesma eh bloqueante\n",
    "async def coroutine_task(iteraction):\n",
    "    \"\"\"\n",
    "    Neste exemplo não podemos usar a função time.sleep(process_time) porque\n",
    "    a mesma eh bloqueante\n",
    "    \"\"\"\n",
    "\n",
    "    process_time = random.randint(1,5)\n",
    "    await asyncio.sleep(process_time)\n",
    "    print(f\"Iteração {iteraction}, tempo decorrido: {process_time}\")"
   ]
  },
  {
   "cell_type": "code",
   "execution_count": 3,
   "id": "32a6db06-7387-4a9b-afdf-cf6245318e7a",
   "metadata": {
    "tags": []
   },
   "outputs": [
    {
     "name": "stdout",
     "output_type": "stream",
     "text": [
      "Iteração 1, tempo decorrido: 4\n",
      "4 segundos\n"
     ]
    }
   ],
   "source": [
    "start = get_time()\n",
    "await coroutine_task(1)\n",
    "stop = get_time()\n",
    "print(f\"{stop - start} segundos\")"
   ]
  },
  {
   "cell_type": "code",
   "execution_count": 4,
   "id": "666bd4fe-2294-44ae-92d4-4854b913bafd",
   "metadata": {
    "tags": []
   },
   "outputs": [],
   "source": [
    "async def coroutine_task_01():\n",
    "    \"\"\"\n",
    "    As Task sao agrupadas em uma lista e passadas para o metodo \n",
    "    asyncio.gather, para que sejam executada concorrentemente.\n",
    "    O uso de await infoma ao loop um ponto de bloqueio e que a \n",
    "    corrotina/tarefa podera ser suspensa para que o controle \n",
    "    seja passado para outra corrotina.\n",
    "    Outra observacao a ser feita eh que o asyncio.create_task pode\n",
    "    ser substituido tranquilamente pela funcao \n",
    "    asyncio.ensure_future. O exemplo com asyncio.ensure_future \n",
    "    eh demonstrado na couroutine coroutine_task_02\n",
    "    \"\"\"\n",
    "\n",
    "    # Aqui existe uma iteracao apenas para executar criar Tasks \n",
    "    # chamado a funcao coroutine_task, que eh uma corrotina.\n",
    "    tasks = []\n",
    "    for iteraction in range(10):\n",
    "        tasks.append(asyncio.create_task(coroutine_task(iteraction)))\n",
    "\n",
    "    await asyncio.gather(*tasks)"
   ]
  },
  {
   "cell_type": "code",
   "execution_count": 5,
   "id": "3c5be7df-65fd-4223-b64c-77321b5e63bf",
   "metadata": {
    "tags": []
   },
   "outputs": [
    {
     "name": "stdout",
     "output_type": "stream",
     "text": [
      "Iteração 9, tempo decorrido: 1\n",
      "Iteração 5, tempo decorrido: 2\n",
      "Iteração 0, tempo decorrido: 3\n",
      "Iteração 1, tempo decorrido: 3\n",
      "Iteração 2, tempo decorrido: 3\n",
      "Iteração 4, tempo decorrido: 3\n",
      "Iteração 3, tempo decorrido: 4\n",
      "Iteração 6, tempo decorrido: 4\n",
      "Iteração 7, tempo decorrido: 4\n",
      "Iteração 8, tempo decorrido: 5\n",
      "5 segundos\n"
     ]
    }
   ],
   "source": [
    "start = get_time()\n",
    "await coroutine_task_01()\n",
    "stop = get_time()\n",
    "print(f\"{stop - start} segundos\")"
   ]
  },
  {
   "cell_type": "code",
   "execution_count": 6,
   "id": "f82ada41-1767-4ef3-8239-6a5810ab0776",
   "metadata": {
    "tags": []
   },
   "outputs": [],
   "source": [
    "async def coroutine_task_02():\n",
    "    \"\"\"\n",
    "    A coroutine_task_02 faz exetamente a mesma coisa que a\n",
    "    coroutine_task_01, a unica diferenca eh que neste exemplo\n",
    "    asyncio.gather nao eh utilizado.\n",
    "    O loop ira suspender o controle para as outras corrotinas \n",
    "    que estao fora deste contexto de execucao. Mas, as tarefas\n",
    "    desta coroutina nao irao ser executadas de forma concorrente.\n",
    "    A nao ser que voltemos a usa a funcao asyncio.gather ou\n",
    "    outra funcao que tenha funcionalidade semelhante.\n",
    "    \"\"\"\n",
    "\n",
    "    # tasks = []\n",
    "    for iteraction in range(10):\n",
    "        task = asyncio.ensure_future(coroutine_task(iteraction))\n",
    "        # tasks.append(task)\n",
    "        await task\n",
    "\n",
    "    # await asyncio.gather(*tasks)"
   ]
  },
  {
   "cell_type": "code",
   "execution_count": 7,
   "id": "e33c55db-8149-44eb-9043-779fe8ed9a5f",
   "metadata": {
    "tags": []
   },
   "outputs": [
    {
     "name": "stdout",
     "output_type": "stream",
     "text": [
      "Iteração 0, tempo decorrido: 4\n",
      "Iteração 1, tempo decorrido: 2\n",
      "Iteração 2, tempo decorrido: 1\n",
      "Iteração 3, tempo decorrido: 5\n",
      "Iteração 4, tempo decorrido: 2\n",
      "Iteração 5, tempo decorrido: 2\n",
      "Iteração 6, tempo decorrido: 4\n",
      "Iteração 7, tempo decorrido: 4\n",
      "Iteração 8, tempo decorrido: 4\n",
      "Iteração 9, tempo decorrido: 4\n",
      "33 segundos\n"
     ]
    }
   ],
   "source": [
    "start = get_time()\n",
    "await coroutine_task_02()\n",
    "stop = get_time()\n",
    "print(f\"{stop - start} segundos\")"
   ]
  },
  {
   "cell_type": "markdown",
   "id": "382a5925-cf51-46fc-a5b0-bc53dce9fa26",
   "metadata": {},
   "source": [
    "***\n",
    "### Mas o que são Loops de Eventos?\n",
    "***\n",
    "\n",
    "O loop de eventos (ou event loop) é responsável por gerenciar a concorrência e a execução de todas as tarefas de forma assíncrona. Esse loop de eventos além de organizar a execução de cada uma dessas tarefas, pode ainda adiar sua execução ou mesmo cancelá-la. Tudo isso acontece utilizando uma única thread.\n",
    "\n",
    "O fluxo assíncrono do programa é o desenvolver que vai definir conforme a sua lógica de aplicação. Essas tarefas, são tecnicamente chamadas de corrotinas. Quando estas são executadas, elas retornam awaitable objects, que são objetos de espera.\n",
    "\n",
    "Este objeto de espera pode ser retornado em forma de Task ou de uma corrotina, podemos dizer que estes objetos são análogos à promises em Javascript.\n",
    "\n",
    "***\n",
    "### Objetos de Espera\n",
    "***\n",
    "\n",
    "Tasks, são objetos do tipo Future, estes objetos ficam disponíveis para a aplicação no momento em que são criados, mas o resultado dos mesmos só fica acessível no futuro. Dessa forma, como o código é executado de forma assíncrona, uma Task (ou Future) só recebe o resultado quando a operação é, de fato, concluída. A Task funcionam como uma referência imediata para receber o resultado futuro do código que estamos esperando ser executado.\n",
    "\n",
    "Existem 3 estrategias para inicializar o loop de execucao das couroutines e Tasks. Como o jupyter notebook já está executando na thread, ele vai dar um error do tipo \"This function cannot be called when another asyncio event loop is running in the same thread.\", então não será executado, mas ele faz a mesma coisa que foi feito acima com o **await**."
   ]
  },
  {
   "cell_type": "markdown",
   "id": "74a62225-d2d8-47d1-b30d-95f46f3f8f8e",
   "metadata": {},
   "source": [
    "1 - A funcao `asyncio.run` captura automaticamente o loop de evento e quando todas as tarefas sao executadas a funcao `loop.close()` eh chamada implicitamente. Esta eh a opcao mais recomendada pela documentacao."
   ]
  },
  {
   "cell_type": "code",
   "execution_count": null,
   "id": "a337ca6e-2647-4b3f-b4da-470d0e4cf429",
   "metadata": {
    "tags": []
   },
   "outputs": [],
   "source": [
    "asyncio.run(coroutine_task_01())"
   ]
  },
  {
   "cell_type": "markdown",
   "id": "58a52c1d-f610-4fc7-abd4-2ecd220c3e5c",
   "metadata": {},
   "source": [
    "2 - `run_until_complete` Mantem o loop em execucao ate que todas as tasks sejam executadas. Apos isso o loop e a aplicacao sao encerrados."
   ]
  },
  {
   "cell_type": "code",
   "execution_count": null,
   "id": "08446f0a-5100-4048-bdcc-b783efca6a00",
   "metadata": {
    "tags": []
   },
   "outputs": [],
   "source": [
    "loop = asyncio.get_event_loop()\n",
    "loop.run_until_complete(coroutine_task_01())\n",
    "loop.close()"
   ]
  },
  {
   "cell_type": "markdown",
   "id": "57029942-052e-44e6-a9ef-c584707e519a",
   "metadata": {},
   "source": [
    "3 - Mantem o loop em execucao por tempo indefinido. O loop so sera encerrado com `Control+C` ou se for chamada a funcao `loop.stop()`"
   ]
  },
  {
   "cell_type": "code",
   "execution_count": null,
   "id": "16c78f5f-897d-4a89-a0ac-b1260f37af73",
   "metadata": {},
   "outputs": [],
   "source": [
    "loop = asyncio.get_event_loop()\n",
    "task_function = asyncio.ensure_future(coroutine_task_01())\n",
    "loop.run_forever()"
   ]
  },
  {
   "cell_type": "markdown",
   "id": "2da51790-ca98-4199-a99e-9a820f711ae3",
   "metadata": {},
   "source": [
    "***\n",
    "### Fazendo requisição http de forma assincrona\n",
    "***"
   ]
  },
  {
   "cell_type": "markdown",
   "id": "7a265226-84fa-43a2-932d-ca1e3ddf335d",
   "metadata": {},
   "source": [
    "A programação assíncrona com asyncio exige alguns cuidados por parte do desenvolvedor. O desenvolvedor deve certificar-se de que o código está realmente sendo executado de forma assíncrona, que não há bloqueio na execução das tarefas. Isso quer dizer que, para que seu se torne realmente assíncrono, é necessário a utilização de módulos assíncronos em todas as subcamadas da sua aplicação.\n",
    "\n",
    "Exemplificando, no pequeno trecho de código abaixo, apesar de a função ter sido definida com a clausula async, ela está utilizando o módulo **requests**, que em sua natureza realiza as requisições sempre de forma síncrona, pois, este módulo não foi desenvolvido para funcionar com a nova sintaxe do Python.\n",
    "\n",
    "Outro exemplo bem mais simples, acontece com o modulo time. Ao utilizar a função **time.sleep(x)** dentro de uma função assíncrona irá literalmente causar um bloqueio, fazendo com que as corotines sejam executadas uma após o termino da outra. Uma solução para este problema seria usar utilizar função sleep do módulo asyncio — **asyncio.sleep**"
   ]
  },
  {
   "cell_type": "markdown",
   "id": "508fadab-d01d-4939-a452-0c32cf2b75bb",
   "metadata": {},
   "source": [
    "***\n",
    "### Vamos brincar agora com o modulo asyncio gather\n",
    "***"
   ]
  },
  {
   "cell_type": "markdown",
   "id": "94b0b608-bfcb-4fe7-b536-6d17c648ff75",
   "metadata": {},
   "source": [
    "Essa função `asyncio.gather(...)` permite que o chamador agrupe várias chamadas assincronas para ser executadas de modo concorrente. Ele aceita Corotinas, Futures e Tasks como argumento e retorna um Future.\n",
    "\n",
    "Ele permite que um grupo de tasks seja executado como uma única task, ou seja:\n",
    "\n",
    "* Executa e espera que todos as tasks sejam feitas por um único await expression\n",
    "* Obter resultados de todos as tasks agrupadas para serem recuperados posteriormente por meio do método `result()`.\n",
    "* O grupo de tasks a serem cancelados por meio do método `cancel()`.\n",
    "* Verificando se todos as tasks no grupo foram concluídos por meio do método `done()`.\n",
    "* Executar funções de retorno somente quando todas as tarefas do grupo estiverem concluídas.\n",
    "\n",
    "O retorno dele é uma Future que se colocado um await nela vai retorna a lista de retornos de todos os argumentos passados a ela.\n",
    "\n",
    "Em caso de exceções ou cancelamento temos que colocar o `async.gather` entre chaves `try except`, no caso do cancelamento ele dispara uma exceção chamada `CancelledError`."
   ]
  },
  {
   "cell_type": "code",
   "execution_count": 12,
   "id": "0dd34ed1-0597-4d19-9a77-8ddea4e1ea88",
   "metadata": {
    "tags": []
   },
   "outputs": [],
   "source": [
    "import asyncio"
   ]
  },
  {
   "cell_type": "code",
   "execution_count": 13,
   "id": "28d4a1b3-73b7-4101-b944-3644847c5ce5",
   "metadata": {
    "tags": []
   },
   "outputs": [
    {
     "name": "stdout",
     "output_type": "stream",
     "text": [
      "main starting\n",
      "task executing\n",
      "main done 1 second\n"
     ]
    }
   ],
   "source": [
    "# Executando apenas uma corotine\n",
    "async def task_coro():\n",
    "    print('task executing')\n",
    "    await asyncio.sleep(1)\n",
    "\n",
    "async def main():\n",
    "    start = get_time()\n",
    "    print('main starting')\n",
    "    coro = task_coro()\n",
    "    await asyncio.gather(coro)\n",
    "    end = get_time() - start\n",
    "    print(f'main done {end} second')\n",
    "    \n",
    "await main()"
   ]
  },
  {
   "cell_type": "code",
   "execution_count": 14,
   "id": "bc0806d5-dd37-429c-93b3-72d539de52af",
   "metadata": {
    "tags": []
   },
   "outputs": [
    {
     "name": "stdout",
     "output_type": "stream",
     "text": [
      "main starting\n",
      "> task 0 executing\n",
      "> task 1 executing\n",
      "> task 2 executing\n",
      "main done 1 second\n"
     ]
    }
   ],
   "source": [
    "# Executando muitas corotinas\n",
    "async def task_coro(value):\n",
    "    print(f'> task {value} executing')\n",
    "    await asyncio.sleep(1)\n",
    "    \n",
    "async def main():\n",
    "    start = get_time()\n",
    "    print('main starting')\n",
    "    await asyncio.gather(\n",
    "        task_coro(0),\n",
    "        task_coro(1),\n",
    "        task_coro(2)\n",
    "    )\n",
    "    end = get_time() - start\n",
    "    print(f'main done {end} second')\n",
    "    \n",
    "await main()"
   ]
  },
  {
   "cell_type": "code",
   "execution_count": 15,
   "id": "15cace68-aed1-4ab2-940f-3136508a7094",
   "metadata": {
    "tags": []
   },
   "outputs": [
    {
     "name": "stdout",
     "output_type": "stream",
     "text": [
      "main starting\n",
      "> task 0 executing\n",
      "> task 1 executing\n",
      "> task 2 executing\n",
      "> task 3 executing\n",
      "> task 4 executing\n",
      "> task 5 executing\n",
      "> task 6 executing\n",
      "> task 7 executing\n",
      "> task 8 executing\n",
      "> task 9 executing\n",
      "main done 1 second\n"
     ]
    }
   ],
   "source": [
    "# Executando muitas corotinas em uma lista\n",
    "async def main():\n",
    "    start = get_time()\n",
    "    print('main starting')\n",
    "    coros = [task_coro(i) for i in range(10)]\n",
    "    await asyncio.gather(*coros)\n",
    "    end = get_time() - start\n",
    "    print(f'main done {end} second')\n",
    "\n",
    "await main()"
   ]
  },
  {
   "cell_type": "code",
   "execution_count": 16,
   "id": "d46b8730-d006-496c-b240-237bf445e78d",
   "metadata": {
    "tags": []
   },
   "outputs": [
    {
     "name": "stdout",
     "output_type": "stream",
     "text": [
      "main starting\n",
      "> task 0 executing\n",
      "> task 1 executing\n",
      "> task 2 executing\n",
      "> task 3 executing\n",
      "> task 4 executing\n",
      "> task 5 executing\n",
      "> task 6 executing\n",
      "> task 7 executing\n",
      "> task 8 executing\n",
      "> task 9 executing\n",
      "[0, 10, 20, 30, 40, 50, 60, 70, 80, 90]\n",
      "main done 1 second\n"
     ]
    }
   ],
   "source": [
    "# Executando muitas corotinas com retornos\n",
    "async def task_coro(value):\n",
    "    print(f'> task {value} executing')\n",
    "    await asyncio.sleep(1)\n",
    "    return value * 10\n",
    "\n",
    "async def main():\n",
    "    start = get_time()\n",
    "    print('main starting')\n",
    "    tasks = [task_coro(i) for i in range(10)]\n",
    "    values = await asyncio.gather(*tasks)\n",
    "    print(values)\n",
    "    end = get_time() - start\n",
    "    print(f'main done {end} second')\n",
    "    \n",
    "await main()"
   ]
  },
  {
   "cell_type": "code",
   "execution_count": 17,
   "id": "c1e179ed-a81a-4503-86e1-baacef1bf163",
   "metadata": {
    "tags": []
   },
   "outputs": [
    {
     "name": "stdout",
     "output_type": "stream",
     "text": [
      "main starting\n",
      "> task 0 executing\n",
      "> task 1 executing\n",
      "> task 2 executing\n",
      "> task 3 executing\n",
      "> task 4 executing\n",
      "> task 5 executing\n",
      "main done 1 second\n"
     ]
    }
   ],
   "source": [
    "# Executando muitas corotinas aninhadas\n",
    "async def task_coro(value):\n",
    "    print(f'> task {value} executing')\n",
    "    await asyncio.sleep(1)\n",
    "    \n",
    "async def main():\n",
    "    start = get_time()\n",
    "    print('main starting')\n",
    "    group1 = asyncio.gather(task_coro(0), task_coro(1), task_coro(2))\n",
    "    group2 = asyncio.gather(task_coro(3), task_coro(4), task_coro(5))\n",
    "    group3 = asyncio.gather(group1, group2)\n",
    "    await group3\n",
    "    end = get_time() - start\n",
    "    print(f'main done {end} second')\n",
    "    \n",
    "await main()"
   ]
  },
  {
   "cell_type": "code",
   "execution_count": 18,
   "id": "eb356ecb-8884-4c2d-a390-4be4bb169736",
   "metadata": {
    "tags": []
   },
   "outputs": [
    {
     "name": "stdout",
     "output_type": "stream",
     "text": [
      "main starting\n",
      "> task 1 executing\n",
      "> task 3 executing\n",
      "> task 0 executing\n",
      "> task 2 executing\n",
      "> task 4 executing\n",
      "main done 2 second\n"
     ]
    }
   ],
   "source": [
    "# Executando tasks e corotines juntas\n",
    "async def task_coro(value):\n",
    "    print(f'> task {value} executing')\n",
    "    await asyncio.sleep(1)\n",
    "    \n",
    "async def main():\n",
    "    start = get_time()\n",
    "    print('main starting')\n",
    "    awaitables = [\n",
    "        task_coro(0),\n",
    "        asyncio.create_task(task_coro(1)),\n",
    "        task_coro(2),\n",
    "        asyncio.create_task(task_coro(3)),\n",
    "        task_coro(4)\n",
    "    ]\n",
    "    _ = asyncio.gather(*awaitables)\n",
    "    await asyncio.sleep(2)\n",
    "    end = get_time() - start\n",
    "    print(f'main done {end} second')\n",
    "    \n",
    "await main()"
   ]
  },
  {
   "cell_type": "code",
   "execution_count": 19,
   "id": "23b92013-c52e-41f2-b2f2-42c929fabea6",
   "metadata": {
    "tags": []
   },
   "outputs": [
    {
     "name": "stdout",
     "output_type": "stream",
     "text": [
      "main starting\n",
      "> task 0 executing\n",
      "> task 1 executing\n",
      "> task 2 executing\n",
      "> task 3 executing\n",
      "> task 4 executing\n",
      "> task 5 executing\n",
      "> task 6 executing\n",
      "> task 7 executing\n",
      "> task 8 executing\n",
      "> task 9 executing\n",
      "Something bad happened\n",
      "main done 1 second\n"
     ]
    }
   ],
   "source": [
    "# Exemplo de awaitables com exceções\n",
    "async def task_coro(value):\n",
    "    print(f'> task {value} executing')\n",
    "    await asyncio.sleep(1)\n",
    "    if value == 0:\n",
    "        raise Exception('Something bad happened')\n",
    "\n",
    "async def main():\n",
    "    start = get_time()\n",
    "    print('main starting')\n",
    "    coros = [task_coro(i) for i in range(10)]\n",
    "    try:\n",
    "        await asyncio.gather(*coros)\n",
    "    except Exception as e:\n",
    "        print(e)\n",
    "    end = get_time() - start\n",
    "    print(f'main done {end} second')\n",
    "    \n",
    "await main()"
   ]
  },
  {
   "cell_type": "code",
   "execution_count": 20,
   "id": "69344352-c77b-4d2c-84df-f663663476ce",
   "metadata": {
    "tags": []
   },
   "outputs": [
    {
     "name": "stdout",
     "output_type": "stream",
     "text": [
      "main starting\n",
      "> task 0 executing\n",
      "> task 1 executing\n",
      "> task 2 executing\n",
      "> task 3 executing\n",
      "> task 4 executing\n",
      "> task 5 executing\n",
      "> task 6 executing\n",
      "> task 7 executing\n",
      "> task 8 executing\n",
      "> task 9 executing\n",
      "[Exception('Something bad happened'), None, None, None, None, None, None, None, None, None]\n",
      "main done 1 second\n"
     ]
    }
   ],
   "source": [
    "# Exemplo de awaitables com exceções não disparadas\n",
    "async def main():\n",
    "    start = get_time()\n",
    "    print('main starting')\n",
    "    coros = [task_coro(i) for i in range(10)]\n",
    "    results = await asyncio.gather(*coros, return_exceptions=True)\n",
    "    print(results)\n",
    "    end = get_time() - start\n",
    "    print(f'main done {end} second')\n",
    "\n",
    "await main()"
   ]
  },
  {
   "cell_type": "code",
   "execution_count": 21,
   "id": "11b01031-f25e-44cb-b749-e44e43d9b5be",
   "metadata": {
    "tags": []
   },
   "outputs": [
    {
     "name": "stdout",
     "output_type": "stream",
     "text": [
      "main starting\n",
      "> task 0 executing\n",
      "> task 1 executing\n",
      "> task 2 executing\n",
      "[CancelledError(''), None, None]\n",
      "main done 2 second\n"
     ]
    }
   ],
   "source": [
    "# Exemplo de awaitables com cancelamento\n",
    "async def task_coro(value, seconds, friend):\n",
    "    print(f'> task {value} executing')\n",
    "    if friend:\n",
    "        friend.cancel()\n",
    "    await asyncio.sleep(seconds)\n",
    "    \n",
    "async def main():\n",
    "    start = get_time()\n",
    "    print('main starting')\n",
    "    task0 = asyncio.create_task(task_coro(0, 5, None))\n",
    "    task1 = asyncio.create_task(task_coro(1, 2, task0))\n",
    "    task2 = asyncio.create_task(task_coro(2, 1, None))\n",
    "    results = await asyncio.gather(task0, task1, task2, return_exceptions=True)\n",
    "    print(results)\n",
    "    end = get_time() - start\n",
    "    print(f'main done {end} second')\n",
    "\n",
    "await main()"
   ]
  },
  {
   "cell_type": "code",
   "execution_count": 22,
   "id": "ea713fc2-2981-42e9-8251-f5a5430ea777",
   "metadata": {
    "tags": []
   },
   "outputs": [
    {
     "name": "stdout",
     "output_type": "stream",
     "text": [
      "main starting\n",
      "> task 0 executing\n"
     ]
    },
    {
     "ename": "CancelledError",
     "evalue": "",
     "output_type": "error",
     "traceback": [
      "\u001b[0;31m---------------------------------------------------------------------------\u001b[0m",
      "\u001b[0;31mCancelledError\u001b[0m                            Traceback (most recent call last)",
      "\u001b[0;31mCancelledError\u001b[0m: ",
      "\nDuring handling of the above exception, another exception occurred:\n",
      "\u001b[0;31mCancelledError\u001b[0m                            Traceback (most recent call last)",
      "Cell \u001b[0;32mIn[22], line 20\u001b[0m\n\u001b[1;32m     17\u001b[0m     \u001b[38;5;28mprint\u001b[39m(\u001b[38;5;124mf\u001b[39m\u001b[38;5;124m'\u001b[39m\u001b[38;5;124mmain done \u001b[39m\u001b[38;5;132;01m{\u001b[39;00mend\u001b[38;5;132;01m}\u001b[39;00m\u001b[38;5;124m second\u001b[39m\u001b[38;5;124m'\u001b[39m)\n\u001b[1;32m     19\u001b[0m group \u001b[38;5;241m=\u001b[39m \u001b[38;5;28;01mNone\u001b[39;00m\n\u001b[0;32m---> 20\u001b[0m \u001b[38;5;28;01mawait\u001b[39;00m main()\n",
      "Cell \u001b[0;32mIn[22], line 15\u001b[0m, in \u001b[0;36mmain\u001b[0;34m()\u001b[0m\n\u001b[1;32m     13\u001b[0m \u001b[38;5;28;01mglobal\u001b[39;00m group\n\u001b[1;32m     14\u001b[0m group \u001b[38;5;241m=\u001b[39m asyncio\u001b[38;5;241m.\u001b[39mgather(\u001b[38;5;241m*\u001b[39mcoros)\n\u001b[0;32m---> 15\u001b[0m \u001b[38;5;28;01mawait\u001b[39;00m group\n\u001b[1;32m     16\u001b[0m end \u001b[38;5;241m=\u001b[39m get_time() \u001b[38;5;241m-\u001b[39m start\n\u001b[1;32m     17\u001b[0m \u001b[38;5;28mprint\u001b[39m(\u001b[38;5;124mf\u001b[39m\u001b[38;5;124m'\u001b[39m\u001b[38;5;124mmain done \u001b[39m\u001b[38;5;132;01m{\u001b[39;00mend\u001b[38;5;132;01m}\u001b[39;00m\u001b[38;5;124m second\u001b[39m\u001b[38;5;124m'\u001b[39m)\n",
      "\u001b[0;31mCancelledError\u001b[0m: "
     ]
    }
   ],
   "source": [
    "# Exemplo de awaitables com cancelamento de todas as tarefas\n",
    "async def task_coro(value):\n",
    "    print(f'> task {value} executing')\n",
    "    if value == 0:\n",
    "        global group\n",
    "        group.cancel()\n",
    "    await asyncio.sleep(5)\n",
    "    \n",
    "async def main():\n",
    "    start = get_time()\n",
    "    print('main starting')\n",
    "    coros = [task_coro(i) for i in range(10)]\n",
    "    global group\n",
    "    group = asyncio.gather(*coros)\n",
    "    await group\n",
    "    end = get_time() - start\n",
    "    print(f'main done {end} second')\n",
    "\n",
    "group = None\n",
    "await main()"
   ]
  }
 ],
 "metadata": {
  "kernelspec": {
   "display_name": "Python 3 (ipykernel)",
   "language": "python",
   "name": "python3"
  },
  "language_info": {
   "codemirror_mode": {
    "name": "ipython",
    "version": 3
   },
   "file_extension": ".py",
   "mimetype": "text/x-python",
   "name": "python",
   "nbconvert_exporter": "python",
   "pygments_lexer": "ipython3",
   "version": "3.11.6"
  }
 },
 "nbformat": 4,
 "nbformat_minor": 5
}
