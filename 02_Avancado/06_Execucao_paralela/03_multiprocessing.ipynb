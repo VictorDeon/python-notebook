{
 "cells": [
  {
   "cell_type": "markdown",
   "metadata": {},
   "source": [
    "# Multiprocessing\n",
    "***"
   ]
  },
  {
   "cell_type": "markdown",
   "metadata": {},
   "source": [
    "Permite realizar processos em paralelo criando efetivamente um processo diferente de threads\n",
    "\n",
    "**Vantagens**:\n",
    "\n",
    "* Funciona em várias plataformas distintas diferente do **os.fork()**\n",
    "\n",
    "\n",
    "* Perde em velocidade para threads porém efetivamente executa os programas em núcleos distintos da CPU\n",
    "\n",
    "**Desvantagens**:\n",
    "\n",
    "* Mudanças em um processo não afetam o outro\n",
    "\n",
    "\n",
    "* Algumas estruturas (como o lambda) não podem ser rodadas em paralelo\n",
    "\n",
    "Ela apresenta estruturas semelhantes aos modulos **threading** e **queue**\n",
    "\n",
    "No Unix, usa um fork para criar um processo filho e invoca o método run de Process para roda-lo.\n",
    "\n",
    "No windows um novo interpretador é criado usando o processo de criação de ferramentas do Windows passando um objeto codificado pelo **pickle** para um novo processo por meio de um pipe e começando  o **python -c** para rodar o programa que roda com uma função especial construida em python que lê e decodifica o objeto e invoca o método run().\n",
    "\n",
    "Modulo popular para execução paralela: **Scipy**\n",
    "\n",
    "Alguns comandos para mexer com processos:\n",
    "\n",
    "```sh\n",
    "# Mostra uma lista com todos os processos que estão sendo executados na maquina\n",
    "ps -e\n",
    "# Mostra uma lista mais detalhada desses processos\n",
    "ps -ef\n",
    "# Lista todos os processos como uma arvore hierarquica\n",
    "pstree\n",
    "# Filtra os processos pelo nome\n",
    "ps -C <nome-do-processo>\n",
    "# Deleta um processo\n",
    "kill <id-do-processo>\n",
    "kill -9 <id-do-processo>\n",
    "```"
   ]
  },
  {
   "cell_type": "code",
   "execution_count": 1,
   "metadata": {
    "tags": []
   },
   "outputs": [],
   "source": [
    "import math\n",
    "from time import time\n",
    "import multiprocessing\n",
    "\n",
    "\n",
    "def computer(start: int, end: int) -> None:\n",
    "    \"\"\"\n",
    "    Realiza o pode computacional.\n",
    "    \"\"\"\n",
    "\n",
    "    print(f\"Iniciando o cálculo {multiprocessing.current_process().name}\\n\")\n",
    "\n",
    "    i = start\n",
    "    factor = 1000 * 1000\n",
    "    while i < end:\n",
    "        i += 1\n",
    "        math.sqrt((i - factor) * (i - factor))\n",
    "        \n",
    "    print(f\"Finalizando o cálculo {multiprocessing.current_process().name}\\n\")\n"
   ]
  },
  {
   "cell_type": "code",
   "execution_count": 2,
   "metadata": {
    "tags": []
   },
   "outputs": [
    {
     "name": "stdout",
     "output_type": "stream",
     "text": [
      "Iniciando o cálculo MainProcess\n",
      "\n",
      "Finalizando o cálculo MainProcess\n",
      "\n",
      "Requisição executada em 22.55 segundos\n"
     ]
    }
   ],
   "source": [
    "start_time = time()\n",
    "computer(1, 50_000_000)\n",
    "end_time = time() - start_time\n",
    "print(f\"Requisição executada em {round(end_time, 2)} segundos\")"
   ]
  },
  {
   "cell_type": "markdown",
   "metadata": {},
   "source": [
    "***\n",
    "### Processo Simples\n",
    "***\n",
    "\n",
    "Testando o uso de processos simples em cpu bound"
   ]
  },
  {
   "cell_type": "code",
   "execution_count": 3,
   "metadata": {
    "tags": []
   },
   "outputs": [
    {
     "name": "stdout",
     "output_type": "stream",
     "text": [
      "Iniciando o cálculo ForkProcess-1\n",
      "\n",
      "Finalizando o cálculo ForkProcess-1\n",
      "\n",
      "Requisição executada em 20.64 segundos\n"
     ]
    }
   ],
   "source": [
    "from concurrent.futures.process import ProcessPoolExecutor\n",
    "\n",
    "start_time = time()\n",
    "with ProcessPoolExecutor() as executor:\n",
    "    executor.submit(computer, start=1, end=50_000_000)\n",
    "\n",
    "end_time = time() - start_time\n",
    "print(f\"Requisição executada em {round(end_time, 2)} segundos\")"
   ]
  },
  {
   "cell_type": "markdown",
   "metadata": {},
   "source": [
    "***\n",
    "### Multiplos Processos\n",
    "***"
   ]
  },
  {
   "cell_type": "code",
   "execution_count": 4,
   "metadata": {
    "tags": []
   },
   "outputs": [
    {
     "name": "stdout",
     "output_type": "stream",
     "text": [
      "Core 1 processando de 0.0 até 6250000.0 usando sub-processos\n",
      "Iniciando o cálculo ForkProcess-9\n",
      "\n",
      "Iniciando o cálculo ForkProcess-10\n",
      "Iniciando o cálculo ForkProcess-11\n",
      "Iniciando o cálculo ForkProcess-13\n",
      "Iniciando o cálculo ForkProcess-12\n",
      "Iniciando o cálculo ForkProcess-14\n",
      "\n",
      "\n",
      "Iniciando o cálculo ForkProcess-15\n",
      "Iniciando o cálculo ForkProcess-16\n",
      "\n",
      "\n",
      "\n",
      "\n",
      "\n",
      "Core 2 processando de 6250000.0 até 12500000.0 usando sub-processos\n",
      "Core 3 processando de 12500000.0 até 18750000.0 usando sub-processos\n",
      "Core 4 processando de 18750000.0 até 25000000.0 usando sub-processos\n",
      "Core 5 processando de 25000000.0 até 31250000.0 usando sub-processos\n",
      "Core 6 processando de 31250000.0 até 37500000.0 usando sub-processos\n",
      "Core 7 processando de 37500000.0 até 43750000.0 usando sub-processos\n",
      "Core 8 processando de 43750000.0 até 50000000.0 usando sub-processos\n",
      "Finalizando o cálculo ForkProcess-11\n",
      "\n",
      "Finalizando o cálculo ForkProcess-13\n",
      "\n",
      "Finalizando o cálculo ForkProcess-12\n",
      "\n",
      "Finalizando o cálculo ForkProcess-9\n",
      "\n",
      "Finalizando o cálculo ForkProcess-14\n",
      "\n",
      "Finalizando o cálculo ForkProcess-16\n",
      "\n",
      "Finalizando o cálculo ForkProcess-15\n",
      "\n",
      "Finalizando o cálculo ForkProcess-10\n",
      "\n",
      "Requisição executada em 4.01 segundos\n"
     ]
    }
   ],
   "source": [
    "import multiprocessing\n",
    "from concurrent.futures.process import ProcessPoolExecutor\n",
    "\n",
    "qtd_cores = multiprocessing.cpu_count()\n",
    "main_proccess = multiprocessing.current_process().name\n",
    "\n",
    "\n",
    "def process_name_into_pool() -> str:\n",
    "    \"\"\"\n",
    "    Mostra o processo que está sendo executado dentro da pool\n",
    "    \"\"\"\n",
    "\n",
    "    name = multiprocessing.current_process().name\n",
    "    print(f\"Iniciando o processo: {name}\")\n",
    "    return name\n",
    "\n",
    "\n",
    "\n",
    "start_time = time()\n",
    "with ProcessPoolExecutor(max_workers=qtd_cores) as executor:\n",
    "    for n in range(1, qtd_cores + 1):\n",
    "        initial = 50_000_000 * (n - 1) / qtd_cores\n",
    "        end = 50_000_000 * n / qtd_cores\n",
    "        print(f\"Core {n} processando de {initial} até {end} usando sub-processos\")\n",
    "        executor.submit(computer, start=initial, end=end)\n",
    "\n",
    "end_time = time() - start_time\n",
    "print(f\"Requisição executada em {round(end_time, 2)} segundos\")"
   ]
  },
  {
   "cell_type": "markdown",
   "metadata": {},
   "source": [
    "***\n",
    "### Shared Memory\n",
    "***"
   ]
  },
  {
   "cell_type": "code",
   "execution_count": 5,
   "metadata": {
    "tags": []
   },
   "outputs": [],
   "source": [
    "from multiprocessing import Process, current_process, Manager, Value, RLock as ProcessLock\n",
    "from multiprocessing.synchronize import RLock\n",
    "from time import time\n",
    "import ctypes\n",
    "import random"
   ]
  },
  {
   "cell_type": "code",
   "execution_count": 6,
   "metadata": {
    "tags": []
   },
   "outputs": [],
   "source": [
    "def modify_data(counter: ctypes.c_int, results: list[bool], objs: dict, lock: RLock) -> None:\n",
    "    \"\"\"\n",
    "    Incrementa o contador, adicionar randomicamente um valor booleano na lista e eleva ao quadrado o contador.\n",
    "    \"\"\"\n",
    "\n",
    "    with lock:\n",
    "        results.append(random.choice([True, False]))\n",
    "        counter.value = counter.value + 1\n",
    "        objs[f\"{counter.value}^2\"] = counter.value ** 2\n",
    "        process_name = current_process().name\n",
    "        print(f\"No processo [{process_name}] obtivemos: {counter.value}) {results[:]} e {objs}\")"
   ]
  },
  {
   "cell_type": "code",
   "execution_count": 7,
   "metadata": {
    "tags": []
   },
   "outputs": [
    {
     "name": "stdout",
     "output_type": "stream",
     "text": [
      "Iniciando o processo MainProcess\n",
      "No processo [Process-18] obtivemos: 1) [True] e {'1^2': 1}\n",
      "No processo [Process-19] obtivemos: 2) [True, False] e {'1^2': 1, '2^2': 4}\n",
      "No processo [Process-20] obtivemos: 3) [True, False, False] e {'1^2': 1, '2^2': 4, '3^2': 9}\n",
      "No processo [Process-21] obtivemos: 4) [True, False, False, True] e {'1^2': 1, '2^2': 4, '3^2': 9, '4^2': 16}\n",
      "No processo [Process-22] obtivemos: 5) [True, False, False, True, False] e {'1^2': 1, '2^2': 4, '3^2': 9, '4^2': 16, '5^2': 25}\n",
      "Requisição executada em 0.21 segundos\n"
     ]
    }
   ],
   "source": [
    "start_time = time()\n",
    "print(f\"Iniciando o processo {current_process().name}\")\n",
    "manager = Manager()\n",
    "lock = ProcessLock()\n",
    "\n",
    "counter = Value(ctypes.c_int, 0)\n",
    "results: list[bool] = manager.list()\n",
    "objs: dict = manager.dict()\n",
    "\n",
    "p1 = Process(target=modify_data, args=(counter, results, objs, lock))\n",
    "p2 = Process(target=modify_data, args=(counter, results, objs, lock))\n",
    "p3 = Process(target=modify_data, args=(counter, results, objs, lock))\n",
    "p4 = Process(target=modify_data, args=(counter, results, objs, lock))\n",
    "p5 = Process(target=modify_data, args=(counter, results, objs, lock))\n",
    "\n",
    "p1.start()\n",
    "p2.start()\n",
    "p3.start()\n",
    "p4.start()\n",
    "p5.start()\n",
    "\n",
    "p1.join()\n",
    "p2.join()\n",
    "p3.join()\n",
    "p4.join()\n",
    "p5.join()\n",
    "\n",
    "end_time = time() - start_time\n",
    "print(f\"Requisição executada em {round(end_time, 2)} segundos\")"
   ]
  },
  {
   "cell_type": "markdown",
   "metadata": {},
   "source": [
    "***\n",
    "### Utilizando Pipes para comunicação unilateral entre processos\n",
    "***"
   ]
  },
  {
   "cell_type": "code",
   "execution_count": 8,
   "metadata": {
    "tags": []
   },
   "outputs": [],
   "source": [
    "from multiprocessing import Pipe, Process, current_process\n",
    "from multiprocessing.connection import Connection\n",
    "from time import time"
   ]
  },
  {
   "cell_type": "code",
   "execution_count": 9,
   "metadata": {
    "tags": []
   },
   "outputs": [],
   "source": [
    "def sender(connection: Connection) -> None:\n",
    "    \"\"\"\n",
    "    Envia msg\n",
    "    \"\"\"\n",
    "\n",
    "    print(f\"Enviando a mensagem pelo processo {current_process().name}.\")\n",
    "    connection.send('Hello')"
   ]
  },
  {
   "cell_type": "code",
   "execution_count": 10,
   "metadata": {
    "tags": []
   },
   "outputs": [],
   "source": [
    "def receiver(connection: Connection) -> None:\n",
    "    \"\"\"\n",
    "    Recebe msg\n",
    "    \"\"\"\n",
    "\n",
    "    msg = connection.recv()\n",
    "    print(f\"Mensagem recebida no processo {current_process().name}: {msg} World\")"
   ]
  },
  {
   "cell_type": "code",
   "execution_count": 11,
   "metadata": {
    "tags": []
   },
   "outputs": [
    {
     "name": "stdout",
     "output_type": "stream",
     "text": [
      "Iniciando o processo MainProcess\n",
      "Enviando a mensagem pelo processo Process-23.\n",
      "Mensagem recebida no processo Process-24: Hello World\n",
      "Requisição executada em 0.04 segundos\n"
     ]
    }
   ],
   "source": [
    "start_time = time()\n",
    "print(f\"Iniciando o processo {current_process().name}\")\n",
    "# Queremos uma conexão enviar e a outra só receber por isso duplex=False\n",
    "# Se quisermos ambas enviar e receber usamos o duplex=True\n",
    "connection_receiver, connection_sender = Pipe(duplex=False)\n",
    "\n",
    "proccess_sender = Process(target=sender, args=(connection_sender,))\n",
    "proccess_receiver = Process(target=receiver, args=(connection_receiver,))\n",
    "\n",
    "proccess_sender.start()\n",
    "proccess_receiver.start()\n",
    "\n",
    "proccess_sender.join()\n",
    "proccess_receiver.join()\n",
    "\n",
    "end_time = time() - start_time\n",
    "print(f\"Requisição executada em {round(end_time, 2)} segundos\")"
   ]
  },
  {
   "cell_type": "markdown",
   "metadata": {},
   "source": [
    "***\n",
    "### Utilizando Queues para comunicação unilateral entre processos\n",
    "***"
   ]
  },
  {
   "cell_type": "code",
   "execution_count": 12,
   "metadata": {
    "tags": []
   },
   "outputs": [],
   "source": [
    "from time import time\n",
    "from multiprocessing import Process, Queue, current_process"
   ]
  },
  {
   "cell_type": "code",
   "execution_count": 13,
   "metadata": {
    "tags": []
   },
   "outputs": [],
   "source": [
    "def sender(queue: Queue) -> None:\n",
    "    \"\"\"\n",
    "    Envia msg\n",
    "    \"\"\"\n",
    "\n",
    "    print(f\"Enviando a mensagem pelo processo {current_process().name}.\")\n",
    "    queue.put('Hello')"
   ]
  },
  {
   "cell_type": "code",
   "execution_count": 14,
   "metadata": {
    "tags": []
   },
   "outputs": [],
   "source": [
    "def receiver(queue: Queue) -> None:\n",
    "    \"\"\"\n",
    "    Recebe msg\n",
    "    \"\"\"\n",
    "\n",
    "    msg = queue.get()\n",
    "    print(f\"Recebendo mensagem no processo {current_process().name}: {msg} World\")"
   ]
  },
  {
   "cell_type": "code",
   "execution_count": 15,
   "metadata": {
    "tags": []
   },
   "outputs": [
    {
     "name": "stdout",
     "output_type": "stream",
     "text": [
      "Iniciando o processo: MainProcess\n",
      "Enviando a mensagem pelo processo Process-25.\n",
      "Recebendo mensagem no processo Process-26: Hello World\n",
      "Requisição executada em 0.04 segundos\n"
     ]
    }
   ],
   "source": [
    "start_time = time()\n",
    "print(f\"Iniciando o processo: {current_process().name}\")\n",
    "queue = Queue()\n",
    "\n",
    "proccess_sender = Process(target=sender, args=(queue,))\n",
    "proccess_receiver = Process(target=receiver, args=(queue,))\n",
    "\n",
    "proccess_sender.start()\n",
    "proccess_receiver.start()\n",
    "\n",
    "proccess_sender.join()\n",
    "proccess_receiver.join()\n",
    "\n",
    "end_time = time() - start_time\n",
    "print(f\"Requisição executada em {round(end_time, 2)} segundos\")"
   ]
  },
  {
   "cell_type": "markdown",
   "metadata": {},
   "source": [
    "***\n",
    "### Comunicação bidirecional com pipe e eventos\n",
    "***"
   ]
  },
  {
   "cell_type": "code",
   "execution_count": 16,
   "metadata": {
    "tags": []
   },
   "outputs": [],
   "source": [
    "from multiprocessing import Process, Pipe, current_process, Event as MultiprocessingEvent\n",
    "from multiprocessing.synchronize import Event\n",
    "from multiprocessing.connection import Connection\n",
    "import time"
   ]
  },
  {
   "cell_type": "code",
   "execution_count": 17,
   "metadata": {
    "tags": []
   },
   "outputs": [],
   "source": [
    "def ping(pipe: Connection, stop_event: Event) -> None:\n",
    "    \"\"\"\n",
    "    Envia e recebe mensagem\n",
    "    \"\"\"\n",
    "\n",
    "    process_name = current_process().name\n",
    "\n",
    "    while not stop_event.is_set():\n",
    "        message: str = pipe.recv()\n",
    "        if message.lower() == 'sair':\n",
    "            pipe.send('sair')\n",
    "            break\n",
    "\n",
    "        pipe.send(message)\n",
    "        print(f\"Processo {process_name} enviou:\", message)"
   ]
  },
  {
   "cell_type": "code",
   "execution_count": 18,
   "metadata": {
    "tags": []
   },
   "outputs": [],
   "source": [
    "def pong(pipe: Connection, stop_event: Event) -> None:\n",
    "    \"\"\"\n",
    "    Envia e recebe mensagem.\n",
    "    \"\"\"\n",
    "\n",
    "    process_name = current_process().name\n",
    "\n",
    "    while not stop_event.is_set():\n",
    "        message: str = pipe.recv()\n",
    "        if message.lower() == 'sair':\n",
    "            pipe.send('sair')\n",
    "            break\n",
    "\n",
    "        pipe.send(message)\n",
    "        print(f\"Processo {process_name} enviou:\", message)"
   ]
  },
  {
   "cell_type": "code",
   "execution_count": 19,
   "metadata": {
    "tags": []
   },
   "outputs": [
    {
     "name": "stdin",
     "output_type": "stream",
     "text": [
      "Digite uma mensagem para enviar ao ping (ou 'sair' para terminar):  Ola pong\n"
     ]
    },
    {
     "name": "stdout",
     "output_type": "stream",
     "text": [
      "Processo ping enviou: Ola pong\n"
     ]
    },
    {
     "name": "stdin",
     "output_type": "stream",
     "text": [
      "Digite uma mensagem para enviar ao pong (ou 'sair' para terminar):  Ola ping\n"
     ]
    },
    {
     "name": "stdout",
     "output_type": "stream",
     "text": [
      "Processo pong enviou: Ola ping\n"
     ]
    },
    {
     "name": "stdin",
     "output_type": "stream",
     "text": [
      "Digite uma mensagem para enviar ao ping (ou 'sair' para terminar):  Como está seu dia pong?\n"
     ]
    },
    {
     "name": "stdout",
     "output_type": "stream",
     "text": [
      "Processo ping enviou: Como está seu dia pong?\n"
     ]
    },
    {
     "name": "stdin",
     "output_type": "stream",
     "text": [
      "Digite uma mensagem para enviar ao pong (ou 'sair' para terminar):  Tudo tranquilo ping, e o seu?\n"
     ]
    },
    {
     "name": "stdout",
     "output_type": "stream",
     "text": [
      "Processo pong enviou: Tudo tranquilo ping, e o seu?\n"
     ]
    },
    {
     "name": "stdin",
     "output_type": "stream",
     "text": [
      "Digite uma mensagem para enviar ao ping (ou 'sair' para terminar):  está ótimo, também\n"
     ]
    },
    {
     "name": "stdout",
     "output_type": "stream",
     "text": [
      "Processo ping enviou: está ótimo, também\n"
     ]
    },
    {
     "name": "stdin",
     "output_type": "stream",
     "text": [
      "Digite uma mensagem para enviar ao pong (ou 'sair' para terminar):  que bom\n"
     ]
    },
    {
     "name": "stdout",
     "output_type": "stream",
     "text": [
      "Processo pong enviou: que bom\n"
     ]
    },
    {
     "name": "stdin",
     "output_type": "stream",
     "text": [
      "Digite uma mensagem para enviar ao ping (ou 'sair' para terminar):  sair\n",
      "Digite uma mensagem para enviar ao pong (ou 'sair' para terminar):  sair\n"
     ]
    },
    {
     "name": "stdout",
     "output_type": "stream",
     "text": [
      "Ping Pong concluido.\n"
     ]
    }
   ],
   "source": [
    "parent_ping, child_ping = Pipe()\n",
    "parent_pong, child_pong = Pipe()\n",
    "stop_event = MultiprocessingEvent()\n",
    "\n",
    "process_ping = Process(name=\"ping\", target=ping, args=(child_ping, stop_event))\n",
    "process_pong = Process(name=\"pong\", target=pong, args=(child_pong, stop_event))\n",
    "\n",
    "process_ping.start()\n",
    "process_pong.start()\n",
    "\n",
    "while not stop_event.is_set():\n",
    "    time.sleep(2)\n",
    "    ping_input = input(f\"Digite uma mensagem para enviar ao {process_ping.name} (ou 'sair' para terminar): \")\n",
    "    if ping_input.lower() == 'sair':\n",
    "        parent_ping.send('sair')\n",
    "        parent_pong.send('sair')\n",
    "        stop_event.set()\n",
    "    else:\n",
    "        parent_ping.send(ping_input)\n",
    "\n",
    "    time.sleep(2)\n",
    "    pong_input = input(f\"Digite uma mensagem para enviar ao {process_pong.name} (ou 'sair' para terminar): \")\n",
    "    if pong_input.lower() == 'sair':\n",
    "        parent_ping.send('sair')\n",
    "        parent_pong.send('sair')\n",
    "        stop_event.set()\n",
    "    else:\n",
    "        parent_pong.send(pong_input)\n",
    "\n",
    "process_ping.join()\n",
    "process_pong.join()\n",
    "\n",
    "print(\"Ping Pong concluido.\")"
   ]
  }
 ],
 "metadata": {
  "kernelspec": {
   "display_name": "Python 3 (ipykernel)",
   "language": "python",
   "name": "python3"
  },
  "language_info": {
   "codemirror_mode": {
    "name": "ipython",
    "version": 3
   },
   "file_extension": ".py",
   "mimetype": "text/x-python",
   "name": "python",
   "nbconvert_exporter": "python",
   "pygments_lexer": "ipython3",
   "version": "3.11.6"
  }
 },
 "nbformat": 4,
 "nbformat_minor": 4
}
