{
 "cells": [
  {
   "cell_type": "markdown",
   "metadata": {},
   "source": [
    "# Fork\n",
    "***"
   ]
  },
  {
   "cell_type": "markdown",
   "metadata": {},
   "source": [
    "Execução paralela é quando dois ou mais programas/processos executam ao mesmo tempo.\n",
    "\n",
    "**Forking**: É uma ferramenta exclusiva de sistemas de bases unix (linux, mac).\n",
    "\n",
    "Forking consiste em criar uma cópia do programa e executar essa cópia em paralelo com a original, por exemplo:\n",
    "\n",
    "```\n",
    "Olá do pai 5522 5523\n",
    "Olá do filho 5523\n",
    "```\n",
    "\n",
    "Basicamente ele roda a função father e gera um newpid, no caso, 5523, e printa o olá do pai, com isso ele reexecuta o while verifica que já foi gerado o newpid e retorna um valor 0, isso faz com que execute a função son() que printa olá do filho, logo em seguida pede o input.\n",
    "\n",
    "**os.exec__**:\n",
    "\n",
    "* **execcv(programa, sequencia_de_comandos_do_terminal)**: O programa cujo nome é passado é executado com os argumentos passados, que pode ser uma lista ou tupla.\n",
    "\n",
    "\n",
    "* **execl(programa, cmdarg1, cmdarg2, ..., cmdargN)**: É passado o nome do programa a ser executado com cada um dos argumentos da linha de comando passados como argumentos independentes da função. programa normalmente é o python3\n",
    "\n",
    "\n",
    "* **execlp ou execvp**: Python irá localizar o diretório do executável usando o sistema de procura de caminhos.\n",
    "\n",
    "\n",
    "* **execle ou execve**: Permite um último argumento que consiste de variáveis de sistema a serem mandadas para o programa.\n",
    "\n",
    "\n",
    "* **execvpe ou execlpe**: Combina as funcionalidades dos dois últimos"
   ]
  },
  {
   "cell_type": "markdown",
   "metadata": {},
   "source": [
    "***\n",
    "### Exemplo 01\n",
    "***"
   ]
  },
  {
   "cell_type": "code",
   "execution_count": 1,
   "metadata": {},
   "outputs": [],
   "source": [
    "import os"
   ]
  },
  {
   "cell_type": "code",
   "execution_count": 2,
   "metadata": {},
   "outputs": [],
   "source": [
    "def filho():\n",
    "    print(\"Este é o processo filho\")\n",
    "    print(f\"ID do processo filho: {os.getpid()}\")"
   ]
  },
  {
   "cell_type": "code",
   "execution_count": 3,
   "metadata": {},
   "outputs": [],
   "source": [
    "def pai():\n",
    "    print(\"Este é o processo pai\")\n",
    "    print(f\"ID do processo pai: {os.getpid()}\")"
   ]
  },
  {
   "cell_type": "code",
   "execution_count": 4,
   "metadata": {},
   "outputs": [
    {
     "name": "stdout",
     "output_type": "stream",
     "text": [
      "Este é o processo pai\n",
      "ID do processo pai: 10952\n",
      "Este é o processo filho\n",
      "ID do processo filho: 18488\n"
     ]
    }
   ],
   "source": [
    "pid = os.fork()\n",
    "if pid == 0:\n",
    "    filho()\n",
    "else:\n",
    "    pai()"
   ]
  },
  {
   "cell_type": "markdown",
   "metadata": {},
   "source": [
    "***\n",
    "### Exemplo 02\n",
    "***"
   ]
  },
  {
   "cell_type": "code",
   "execution_count": 5,
   "metadata": {},
   "outputs": [],
   "source": [
    "# Vamos executar vários programas em paralelo\n",
    "import os, time"
   ]
  },
  {
   "cell_type": "code",
   "execution_count": 6,
   "metadata": {},
   "outputs": [],
   "source": [
    "def counter(count):\n",
    "    for i in range(count):\n",
    "        time.sleep(2)\n",
    "        print('[{0}] => {1}'.format(os.getpid(), i))"
   ]
  },
  {
   "cell_type": "code",
   "execution_count": 7,
   "metadata": {},
   "outputs": [
    {
     "name": "stdout",
     "output_type": "stream",
     "text": [
      "Processo 784 foi criado\n",
      "Processo 785 foi criado\n",
      "Processo 786 foi criado\n",
      "Processo 787 foi criado\n",
      "Processo 788 foi criado\n",
      "Processo principal acabado.\n",
      "[784] => 0\n",
      "[785] => 0\n",
      "[787] => 0\n",
      "[786] => 0\n",
      "[788] => 0\n",
      "[786] => 1\n",
      "[785] => 1\n",
      "[788] => 1\n",
      "[784] => 1\n",
      "[787] => 1\n",
      "[785] => 2\n",
      "[788] => 2\n",
      "[787] => 2\n",
      "[786] => 2\n",
      "[784] => 2\n",
      "[787] => 3\n",
      "[788] => 3\n",
      "[786] => 3\n",
      "[784] => 3\n",
      "[785] => 3\n",
      "[788] => 4\n",
      "[787] => 4\n",
      "[784] => 4\n",
      "[786] => 4\n",
      "[785] => 4\n"
     ]
    }
   ],
   "source": [
    "for i in range(5):\n",
    "    pid = os.fork()\n",
    "    if pid != 0:\n",
    "        print('Processo {0} foi criado'.format(pid))\n",
    "    else:\n",
    "        counter(5)\n",
    "        os._exit(0)\n",
    "    \n",
    "print(\"Processo principal acabado.\")"
   ]
  },
  {
   "cell_type": "markdown",
   "metadata": {},
   "source": [
    "***\n",
    "### Exemplo 03\n",
    "***"
   ]
  },
  {
   "cell_type": "code",
   "execution_count": 8,
   "metadata": {},
   "outputs": [],
   "source": [
    "import os\n",
    "count = 0"
   ]
  },
  {
   "cell_type": "code",
   "execution_count": 9,
   "metadata": {},
   "outputs": [
    {
     "name": "stdout",
     "output_type": "stream",
     "text": [
      "Filho é 839\n",
      "\n",
      "Filho é 840\n",
      "\n",
      "Filho é 841\n",
      "\n",
      "Filho é 842\n",
      "exit\n"
     ]
    }
   ],
   "source": [
    "while True:\n",
    "    count += 1\n",
    "    # copia processo\n",
    "    pid = os.fork()\n",
    "    if pid == 0:\n",
    "        # os.execlp(programa, comando1, comando2, ..., argumento) \n",
    "        os.execlp('python3', 'python3', 'son.py', str(count))\n",
    "        assert False, 'error starting program'\n",
    "    else:\n",
    "        print('Filho é', pid)\n",
    "        if input() == 'exit':\n",
    "            break"
   ]
  }
 ],
 "metadata": {
  "kernelspec": {
   "display_name": "Python 3 (ipykernel)",
   "language": "python",
   "name": "python3"
  },
  "language_info": {
   "codemirror_mode": {
    "name": "ipython",
    "version": 3
   },
   "file_extension": ".py",
   "mimetype": "text/x-python",
   "name": "python",
   "nbconvert_exporter": "python",
   "pygments_lexer": "ipython3",
   "version": "3.11.6"
  }
 },
 "nbformat": 4,
 "nbformat_minor": 4
}
