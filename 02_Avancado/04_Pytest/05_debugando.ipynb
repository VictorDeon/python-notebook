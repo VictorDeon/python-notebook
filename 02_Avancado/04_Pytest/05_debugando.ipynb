{
 "cells": [
  {
   "cell_type": "markdown",
   "metadata": {},
   "source": [
    "# Debugando código com pdb\n",
    "***"
   ]
  },
  {
   "cell_type": "markdown",
   "metadata": {},
   "source": [
    "Debugging é a identificação do erro e corrigi-lo\n",
    "\n",
    "**pdb** é python debbuger que serve para debugar seus códigos\n",
    "\n",
    "**bugs**: são problemas na lógica de programação, não levanta exceção, são os problemas mais dificeis de arruma e é culpa do programador que fez a lógica errada, o a variavel fez algo diferente"
   ]
  },
  {
   "cell_type": "markdown",
   "metadata": {},
   "source": [
    "***\n",
    "#### Comandos pdb\n",
    "***"
   ]
  },
  {
   "cell_type": "markdown",
   "metadata": {},
   "source": [
    "* **help ou ?**: Mostra a lista de comandos disponiveis\n",
    "\n",
    "\n",
    "* **n ou next**: Passa para a proxima linha de execução\n",
    "\n",
    "\n",
    "* **l ou list linha**: Pega a linha na qual a gente está no modo debug e vai imprimir 11 linha para cima e para baixo dessa linha se não passar a linha, se passar a linha ira ver da linha atual até a linha passada\n",
    "\n",
    "\n",
    "* **valor das variaveis**: A qualquer momento do modo debug você pode perguntar o valor de alguma variável só escrevendo o nome da variavel\n",
    "\n",
    "\n",
    "* **s step**: Se a linha que tiver executando tiver uma função e você precise entrar nela use esse comando para entrar dentro da função\n",
    "\n",
    "\n",
    "* **b ou break linha**: Breakpoint é um ponto especial do nosso programa onde ele vai interromper uma determinada execução em uma determinada linha, muito usado para pular loops gigantes no modo debug\n",
    "\n",
    "\n",
    "* **c ou continue**: Ele irá executar o programa da linha atual que ta o debug até o breakpoint estipulado\n",
    "\n",
    "\n",
    "* **r ou return**: Sai da função que está e vai para a função que a chama, por exemplo se você ta na função x que é chamado na main, se der return volta para a main\n",
    "\n",
    "\n",
    "* **quit**: Sai do modo debug"
   ]
  },
  {
   "cell_type": "markdown",
   "metadata": {},
   "source": [
    "***\n",
    "#### Exemplos\n",
    "***"
   ]
  },
  {
   "cell_type": "code",
   "execution_count": 1,
   "metadata": {},
   "outputs": [],
   "source": [
    "# Importa o modulo de pdb debugger\n",
    "import pdb"
   ]
  },
  {
   "cell_type": "markdown",
   "metadata": {},
   "source": [
    "***"
   ]
  },
  {
   "cell_type": "code",
   "execution_count": 2,
   "metadata": {},
   "outputs": [],
   "source": [
    "def binary_generator(number):\n",
    "    \"\"\"\n",
    "    Retorna o número inserido em binario\n",
    "    \"\"\"\n",
    "    \n",
    "    binary = []\n",
    "    \n",
    "    while number >= 1:\n",
    "        rest = int(number % 2)\n",
    "        number /= 2\n",
    "        binary.append(rest)\n",
    "        \n",
    "    binary.reverse()\n",
    "    \n",
    "    return binary"
   ]
  },
  {
   "cell_type": "markdown",
   "metadata": {},
   "source": [
    "***"
   ]
  },
  {
   "cell_type": "code",
   "execution_count": 3,
   "metadata": {},
   "outputs": [],
   "source": [
    "def main():\n",
    "    \"\"\"\n",
    "    O debugger (pdb)\n",
    "    \n",
    "    Mostra o caminho do arquivo\n",
    "    Função que está sendo executada\n",
    "    Comando que está sendo executado\n",
    "    \"\"\"\n",
    "    \n",
    "    # Ponto do programa que vai começar o debug\n",
    "    pdb.set_trace()\n",
    "    \n",
    "    number = int(input(\"Digite um número inteiro: \"))\n",
    "    \n",
    "    binary = binary_generator(number)\n",
    "    \n",
    "    print(binary)"
   ]
  },
  {
   "cell_type": "markdown",
   "metadata": {},
   "source": [
    "***"
   ]
  },
  {
   "cell_type": "code",
   "execution_count": 4,
   "metadata": {},
   "outputs": [
    {
     "name": "stdout",
     "output_type": "stream",
     "text": [
      "[1, 0, 1, 0]\n"
     ]
    }
   ],
   "source": [
    "print(binary_generator(10))"
   ]
  },
  {
   "cell_type": "markdown",
   "metadata": {},
   "source": [
    "***"
   ]
  },
  {
   "cell_type": "code",
   "execution_count": 5,
   "metadata": {},
   "outputs": [
    {
     "name": "stdout",
     "output_type": "stream",
     "text": [
      "> <ipython-input-3-a90656a32710>(13)main()\n",
      "-> number = int(input(\"Digite um número inteiro: \"))\n",
      "(Pdb) next\n",
      "Digite um número inteiro: 10\n",
      "> <ipython-input-3-a90656a32710>(15)main()\n",
      "-> binary = binary_generator(number)\n",
      "(Pdb) number\n",
      "10\n",
      "(Pdb) step\n",
      "--Call--\n",
      "> <ipython-input-2-b40420f3652c>(1)binary_generator()\n",
      "-> def binary_generator(number):\n",
      "(Pdb) next\n",
      "> <ipython-input-2-b40420f3652c>(6)binary_generator()\n",
      "-> binary = []\n",
      "(Pdb) next\n",
      "> <ipython-input-2-b40420f3652c>(8)binary_generator()\n",
      "-> while number >= 1:\n",
      "(Pdb) binary\n",
      "[]\n",
      "(Pdb) number\n",
      "10\n",
      "(Pdb) next\n",
      "> <ipython-input-2-b40420f3652c>(9)binary_generator()\n",
      "-> rest = int(number % 2)\n",
      "(Pdb) next\n",
      "> <ipython-input-2-b40420f3652c>(10)binary_generator()\n",
      "-> number /= 2\n",
      "(Pdb) rest\n",
      "0\n",
      "(Pdb) next\n",
      "> <ipython-input-2-b40420f3652c>(11)binary_generator()\n",
      "-> binary.append(rest)\n",
      "(Pdb) number\n",
      "5.0\n",
      "(Pdb) next\n",
      "> <ipython-input-2-b40420f3652c>(8)binary_generator()\n",
      "-> while number >= 1:\n",
      "(Pdb) binary\n",
      "[0]\n",
      "(Pdb) return\n",
      "--Return--\n",
      "> <ipython-input-2-b40420f3652c>(15)binary_generator()->[1, 0, 1, 0]\n",
      "-> return binary\n",
      "(Pdb) next\n",
      "> <ipython-input-3-a90656a32710>(17)main()\n",
      "-> print(binary)\n",
      "(Pdb) next\n",
      "[1, 0, 1, 0]\n",
      "--Return--\n",
      "> <ipython-input-3-a90656a32710>(17)main()->None\n",
      "-> print(binary)\n",
      "(Pdb) exit\n"
     ]
    },
    {
     "ename": "BdbQuit",
     "evalue": "",
     "output_type": "error",
     "traceback": [
      "\u001b[0;31m---------------------------------------------------------------------------\u001b[0m",
      "\u001b[0;31mBdbQuit\u001b[0m                                   Traceback (most recent call last)",
      "\u001b[0;32m<ipython-input-5-58ca95c5b364>\u001b[0m in \u001b[0;36m<module>\u001b[0;34m()\u001b[0m\n\u001b[0;32m----> 1\u001b[0;31m \u001b[0mmain\u001b[0m\u001b[0;34m(\u001b[0m\u001b[0;34m)\u001b[0m\u001b[0;34m\u001b[0m\u001b[0m\n\u001b[0m",
      "\u001b[0;32m<ipython-input-3-a90656a32710>\u001b[0m in \u001b[0;36mmain\u001b[0;34m()\u001b[0m\n\u001b[1;32m     15\u001b[0m     \u001b[0mbinary\u001b[0m \u001b[0;34m=\u001b[0m \u001b[0mbinary_generator\u001b[0m\u001b[0;34m(\u001b[0m\u001b[0mnumber\u001b[0m\u001b[0;34m)\u001b[0m\u001b[0;34m\u001b[0m\u001b[0m\n\u001b[1;32m     16\u001b[0m \u001b[0;34m\u001b[0m\u001b[0m\n\u001b[0;32m---> 17\u001b[0;31m     \u001b[0mprint\u001b[0m\u001b[0;34m(\u001b[0m\u001b[0mbinary\u001b[0m\u001b[0;34m)\u001b[0m\u001b[0;34m\u001b[0m\u001b[0m\n\u001b[0m",
      "\u001b[0;32m/usr/lib/python3.5/bdb.py\u001b[0m in \u001b[0;36mtrace_dispatch\u001b[0;34m(self, frame, event, arg)\u001b[0m\n\u001b[1;32m     50\u001b[0m             \u001b[0;32mreturn\u001b[0m \u001b[0mself\u001b[0m\u001b[0;34m.\u001b[0m\u001b[0mdispatch_call\u001b[0m\u001b[0;34m(\u001b[0m\u001b[0mframe\u001b[0m\u001b[0;34m,\u001b[0m \u001b[0marg\u001b[0m\u001b[0;34m)\u001b[0m\u001b[0;34m\u001b[0m\u001b[0m\n\u001b[1;32m     51\u001b[0m         \u001b[0;32mif\u001b[0m \u001b[0mevent\u001b[0m \u001b[0;34m==\u001b[0m \u001b[0;34m'return'\u001b[0m\u001b[0;34m:\u001b[0m\u001b[0;34m\u001b[0m\u001b[0m\n\u001b[0;32m---> 52\u001b[0;31m             \u001b[0;32mreturn\u001b[0m \u001b[0mself\u001b[0m\u001b[0;34m.\u001b[0m\u001b[0mdispatch_return\u001b[0m\u001b[0;34m(\u001b[0m\u001b[0mframe\u001b[0m\u001b[0;34m,\u001b[0m \u001b[0marg\u001b[0m\u001b[0;34m)\u001b[0m\u001b[0;34m\u001b[0m\u001b[0m\n\u001b[0m\u001b[1;32m     53\u001b[0m         \u001b[0;32mif\u001b[0m \u001b[0mevent\u001b[0m \u001b[0;34m==\u001b[0m \u001b[0;34m'exception'\u001b[0m\u001b[0;34m:\u001b[0m\u001b[0;34m\u001b[0m\u001b[0m\n\u001b[1;32m     54\u001b[0m             \u001b[0;32mreturn\u001b[0m \u001b[0mself\u001b[0m\u001b[0;34m.\u001b[0m\u001b[0mdispatch_exception\u001b[0m\u001b[0;34m(\u001b[0m\u001b[0mframe\u001b[0m\u001b[0;34m,\u001b[0m \u001b[0marg\u001b[0m\u001b[0;34m)\u001b[0m\u001b[0;34m\u001b[0m\u001b[0m\n",
      "\u001b[0;32m/usr/lib/python3.5/bdb.py\u001b[0m in \u001b[0;36mdispatch_return\u001b[0;34m(self, frame, arg)\u001b[0m\n\u001b[1;32m     94\u001b[0m             \u001b[0;32mfinally\u001b[0m\u001b[0;34m:\u001b[0m\u001b[0;34m\u001b[0m\u001b[0m\n\u001b[1;32m     95\u001b[0m                 \u001b[0mself\u001b[0m\u001b[0;34m.\u001b[0m\u001b[0mframe_returning\u001b[0m \u001b[0;34m=\u001b[0m \u001b[0;32mNone\u001b[0m\u001b[0;34m\u001b[0m\u001b[0m\n\u001b[0;32m---> 96\u001b[0;31m             \u001b[0;32mif\u001b[0m \u001b[0mself\u001b[0m\u001b[0;34m.\u001b[0m\u001b[0mquitting\u001b[0m\u001b[0;34m:\u001b[0m \u001b[0;32mraise\u001b[0m \u001b[0mBdbQuit\u001b[0m\u001b[0;34m\u001b[0m\u001b[0m\n\u001b[0m\u001b[1;32m     97\u001b[0m             \u001b[0;31m# The user issued a 'next' or 'until' command.\u001b[0m\u001b[0;34m\u001b[0m\u001b[0;34m\u001b[0m\u001b[0m\n\u001b[1;32m     98\u001b[0m             \u001b[0;32mif\u001b[0m \u001b[0mself\u001b[0m\u001b[0;34m.\u001b[0m\u001b[0mstopframe\u001b[0m \u001b[0;32mis\u001b[0m \u001b[0mframe\u001b[0m \u001b[0;32mand\u001b[0m \u001b[0mself\u001b[0m\u001b[0;34m.\u001b[0m\u001b[0mstoplineno\u001b[0m \u001b[0;34m!=\u001b[0m \u001b[0;34m-\u001b[0m\u001b[0;36m1\u001b[0m\u001b[0;34m:\u001b[0m\u001b[0;34m\u001b[0m\u001b[0m\n",
      "\u001b[0;31mBdbQuit\u001b[0m: "
     ]
    }
   ],
   "source": [
    "main()"
   ]
  }
 ],
 "metadata": {
  "kernelspec": {
   "display_name": "Python 3 (ipykernel)",
   "language": "python",
   "name": "python3"
  },
  "language_info": {
   "codemirror_mode": {
    "name": "ipython",
    "version": 3
   },
   "file_extension": ".py",
   "mimetype": "text/x-python",
   "name": "python",
   "nbconvert_exporter": "python",
   "pygments_lexer": "ipython3",
   "version": "3.11.6"
  }
 },
 "nbformat": 4,
 "nbformat_minor": 4
}
