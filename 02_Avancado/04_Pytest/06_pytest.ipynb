{
 "cells": [
  {
   "cell_type": "markdown",
   "metadata": {
    "application/vnd.databricks.v1+cell": {
     "cellMetadata": {},
     "inputWidgets": {},
     "nuid": "5c969a8a-95e9-4ea3-902f-66cf58d6f868",
     "showTitle": false,
     "tableResultSettingsMap": {},
     "title": ""
    }
   },
   "source": [
    "# Pytest\n",
    "***"
   ]
  },
  {
   "cell_type": "markdown",
   "metadata": {
    "application/vnd.databricks.v1+cell": {
     "cellMetadata": {},
     "inputWidgets": {},
     "nuid": "13eda702-f794-4a06-bb8c-53a53fbd443b",
     "showTitle": false,
     "tableResultSettingsMap": {},
     "title": ""
    }
   },
   "source": [
    "Ele funciona em várias versões do python, e é multiplataforma, pytest é um framework que facilita a escrita de testes\n",
    "\n",
    "Instalação:\n",
    "\n",
    "```\n",
    "pip3 install pytest\n",
    "pytest --version\n",
    "pytest --upgrade\n",
    "```\n",
    "\n",
    "## Como rodar os testes - pytest\n",
    "\n",
    "* Para rodar os testes execute: ```python3 -m pytest```\n",
    "\n",
    "    - **pytest --maxfail=2**: Para a execução no segundo método que falhar\n",
    "    - **pytest test_mod.py::TestClass::test_method**: Roda um método de teste dentro de uma classe de um arquivo\n",
    "    - **pytest --pyargs directory**: Roda todos os testes dentro de um diretorio\n",
    "    - **pytest --tb=line**: Somente uma linha por falha\n",
    "    - **pytest --resultlog=file**: Cria um arquivo com o resultado do teste\n",
    "    - **pytest -x --pdb**: Executa o debugger na primeira falha\n",
    "    - **pytest.set_trace()**: No código de teste invoca o debbuger com o breakpoint nesse ponto onde foi inserido o código\n",
    "    \n",
    "## Coverage\n",
    "\n",
    "Instalação:\n",
    "\n",
    "```\n",
    "pip3 install pytest-cov\n",
    "```\n",
    "\n",
    "* É a porcentagem de cobertura de código, equivale há: $coverage = (numero\\_de\\_linhas\\_de\\_codigo\\_exercido) / (Numero\\_total\\_de\\_linhas\\_de\\_codigo) * 100\\%$\n",
    "\n",
    "\n",
    "Como rodar o coverage:\n",
    "\n",
    "```\n",
    "pytest --cov=myproject\n",
    "```\n",
    "\n"
   ]
  },
  {
   "cell_type": "markdown",
   "metadata": {
    "application/vnd.databricks.v1+cell": {
     "cellMetadata": {},
     "inputWidgets": {},
     "nuid": "69781887-1b52-443a-8c35-f743ca7d34fe",
     "showTitle": false,
     "tableResultSettingsMap": {},
     "title": ""
    }
   },
   "source": [
    "***\n",
    "### Exemplos\n",
    "***"
   ]
  },
  {
   "cell_type": "code",
   "execution_count": 0,
   "metadata": {
    "application/vnd.databricks.v1+cell": {
     "cellMetadata": {
      "byteLimit": 2048000,
      "rowLimit": 10000
     },
     "inputWidgets": {},
     "nuid": "2d3ac5e0-87b2-41c0-9f2d-0477ffd23c97",
     "showTitle": false,
     "tableResultSettingsMap": {},
     "title": ""
    }
   },
   "outputs": [],
   "source": [
    "import pytest"
   ]
  },
  {
   "cell_type": "code",
   "execution_count": 0,
   "metadata": {
    "application/vnd.databricks.v1+cell": {
     "cellMetadata": {},
     "inputWidgets": {},
     "nuid": "e8ad474d-1e2a-468f-9239-8048cb47ece1",
     "showTitle": false,
     "tableResultSettingsMap": {},
     "title": ""
    }
   },
   "outputs": [],
   "source": [
    "assert 10 == 10"
   ]
  },
  {
   "cell_type": "code",
   "execution_count": 0,
   "metadata": {
    "application/vnd.databricks.v1+cell": {
     "cellMetadata": {},
     "inputWidgets": {},
     "nuid": "43ac2df3-b65d-44f0-8acd-cb9c38bac040",
     "showTitle": false,
     "tableResultSettingsMap": {},
     "title": ""
    }
   },
   "outputs": [],
   "source": [
    "assert 'py' in 'python'"
   ]
  },
  {
   "cell_type": "code",
   "execution_count": 0,
   "metadata": {
    "application/vnd.databricks.v1+cell": {
     "cellMetadata": {},
     "inputWidgets": {},
     "nuid": "2ea13d05-2ca8-4b40-972a-3549cf355759",
     "showTitle": false,
     "tableResultSettingsMap": {},
     "title": ""
    }
   },
   "outputs": [],
   "source": [
    "assert 10 in [1, 2, 10]"
   ]
  },
  {
   "cell_type": "code",
   "execution_count": 0,
   "metadata": {
    "application/vnd.databricks.v1+cell": {
     "cellMetadata": {},
     "inputWidgets": {},
     "nuid": "be629b21-bb4c-428b-a13d-557f08b0161b",
     "showTitle": false,
     "tableResultSettingsMap": {},
     "title": ""
    }
   },
   "outputs": [],
   "source": [
    "assert [1, 2, 3] in [1, 2, 3, 4]"
   ]
  }
 ],
 "metadata": {
  "application/vnd.databricks.v1+notebook": {
   "computePreferences": {
    "hardware": {
     "accelerator": null,
     "gpuPoolId": null,
     "memory": "STANDARD"
    }
   },
   "dashboards": [],
   "environmentMetadata": {
    "base_environment": "",
    "dependencies": [
     "-r /Workspace/Users/victorhad@gmail.com/python-notebook/requirements.txt"
    ],
    "environment_version": "2"
   },
   "inputWidgetPreferences": null,
   "language": "python",
   "notebookMetadata": {
    "pythonIndentUnit": 4
   },
   "notebookName": "06_pytest",
   "widgets": {}
  },
  "kernelspec": {
   "display_name": "Python 3",
   "language": "python",
   "name": "python3"
  },
  "language_info": {
   "name": "python"
  }
 },
 "nbformat": 4,
 "nbformat_minor": 0
}
