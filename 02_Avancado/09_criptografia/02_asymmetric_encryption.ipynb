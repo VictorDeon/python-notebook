{
 "cells": [
  {
   "cell_type": "markdown",
   "id": "9f65382e-f846-4f0e-8bba-b31546f8b8bc",
   "metadata": {},
   "source": [
    "## Criptografia assimétrica\n",
    "***\n",
    "\n",
    "Criptografia é o processo de pegar a mensagem e criptografar seu conteúdo para que somente certas pessoas possa olhar seu conteúdo. Tem 2 tipos de criptografia, simetrica e assimétrica.\n",
    "\n",
    "Vamos começar pela criptografia simétrica, vamos introduzir 2 personagens: **Alice** e **Bob**\n",
    "\n",
    "Alice tem dados sensíveis em um documento que quer compartilhar com Bob. Ela utiliza uma criptografia no documento com uma senha ou uma chave. Com isso ela envia esse documento criptografado para o Bob. Porém Bob não consegue abrir o documento porque ele não sabe a senha ou não tem a chave correta para descriptografar o documento.\n",
    "\n",
    "Ai entra o problema, como Alice envia essa chave para o Bob descriptografar o arquivo de forma segura. Enviar por email é um risco pois podem roubar a senha ou a chave, e usa-la para descriptografar qualquer mensagem que Alice enviar para Bob, esse é exatamente o tipo de problema que a **criptografia assimétrica** resolve.\n",
    "\n",
    "Ela é comparavel a uma caixa de email na rua, ela é exposta a qualquer um que queira enviar um email, ou seja, sua localização é completamente pública, qualquer um com o endereço onde está essa caixa de mensagem pode ir lá e colocar uma carta. Entretando somente uma pessoa tem a chave dessa caixa de email e essa consegue pegar todos as cartas que estão la dentro e ler.\n",
    "\n",
    "Quando se usa criptografia assimétrica, ambos Alice e Bob criam chaves publicas e privadas em seus computadores. Uma forma de gerar essas chaves é usando o algoritmo RSA, elas serão matematicamente linkadas uma a outras, ou seja, tudo que for criptografado com a chave pública só pode ser descriptografado pela chave privada.\n",
    "\n",
    "Se voltarmos a caixa de email, ela seria a chave pública, onde qualquer pessoa pode utiliza-la para enviar mensagem ao proprietário da chave privada linkada a essa chave pública, podemos ter várias chaves públicas para uma única chave privada.\n",
    "\n",
    "Ou seja, para que Alice e Bob possam se comunicar de forma segura, ambos tem que compartilhar um com o outro a suas chaves públicas, Alice terá a chave pública de Bob e Bob terá a chave pública de Alice. Com isso Alice pode enviar novamente seu documento criptografado com a chave pública do Bob e esse ao receber o documento terá sua chave privada para descriptografar a mensagem e ler ela. E vice-versa caso Bob queira enviar um documento sensível para Alice.\n",
    "\n",
    "Pelo fato de somente o Bob ter a chave privada, só ele conseguirá ler a mensagem criptografada pela sua chave pública que ele compartilhou com a Alice.\n",
    "\n",
    "Se um ladrão roubar a chave privada de Alice, ele poderá ler todas as mensagens de Alice, porém não conseguirá ler as mensagens que foram enviado para Bob, pois só Bob tem a chave privada para descriptografa-las.\n",
    "\n",
    "Esse tipo de criptografia é usado em muitos casos da vida real, por exemplo: HTTPS Website (SSL), Bitcoin, SSH e PGP or GPG."
   ]
  },
  {
   "cell_type": "code",
   "execution_count": 1,
   "id": "40240ab5-5178-49d4-ba32-0cbd19326ec5",
   "metadata": {
    "tags": []
   },
   "outputs": [],
   "source": [
    "import rsa"
   ]
  },
  {
   "cell_type": "code",
   "execution_count": 2,
   "id": "f9c4b276-abaa-4b4b-b860-0120a0ea7dfa",
   "metadata": {
    "tags": []
   },
   "outputs": [],
   "source": [
    "# Vamos gerar a chave publica e privada com o algoritmo RSA\n",
    "key_bytes = 1024\n",
    "public_key, private_key = rsa.newkeys(key_bytes)"
   ]
  },
  {
   "cell_type": "code",
   "execution_count": 3,
   "id": "191ad66b-657e-4e60-9bea-1b4212c56122",
   "metadata": {
    "tags": []
   },
   "outputs": [
    {
     "name": "stdout",
     "output_type": "stream",
     "text": [
      "PublicKey(132920179151925608887306363545012070751888450177220264733314856445591956515728027855451653418175727420295976983535915930443169031913246526167796235960039722870417132719924460735315857556402470322257280099289402408277687258171323181672613581161187846633931259428187530727967417088913525525951605576894307594693, 65537)\n"
     ]
    }
   ],
   "source": [
    "print(public_key)"
   ]
  },
  {
   "cell_type": "code",
   "execution_count": 4,
   "id": "c0f7faed-9ba8-49c2-bb1e-d55290b1402e",
   "metadata": {
    "tags": []
   },
   "outputs": [
    {
     "name": "stdout",
     "output_type": "stream",
     "text": [
      "PrivateKey(132920179151925608887306363545012070751888450177220264733314856445591956515728027855451653418175727420295976983535915930443169031913246526167796235960039722870417132719924460735315857556402470322257280099289402408277687258171323181672613581161187846633931259428187530727967417088913525525951605576894307594693, 65537, 102197459561566435848795037195318876865235014052824388050215943687335903335078193930273789829996135449918274932074877821979963140654539866137740235266547079771666685949748984292061911912407182135161928323160704612228125402846457074276096895343060510052381984360680995910348825411926158625791740538146791678753, 54280234686711816650065374596101398963309705716085468323414909870693950202226862841915958241950162158672095865436735582693023978125260587621691591970978974723043321, 2448776795441258545777716828149902785168473617761448986658124884502991702750288990145239946032479543446746110965784518631257834732344480812473133)\n"
     ]
    }
   ],
   "source": [
    "print(private_key)"
   ]
  },
  {
   "cell_type": "code",
   "execution_count": 5,
   "id": "3ab9d6e9-e4a6-4508-b327-0cc7e446983a",
   "metadata": {
    "tags": []
   },
   "outputs": [],
   "source": [
    "# Vamos armazenar a chave pública em um arquivo\n",
    "with open(\"public.pem\", \"wb\") as f:\n",
    "    f.write(public_key.save_pkcs1(\"PEM\"))"
   ]
  },
  {
   "cell_type": "code",
   "execution_count": 6,
   "id": "cd87d749-709f-45ca-9493-0ed98fdb824e",
   "metadata": {
    "tags": []
   },
   "outputs": [],
   "source": [
    "# Vamos armazenar a chave privada em um arquivo\n",
    "with open(\"private.pem\", \"wb\") as f:\n",
    "    f.write(private_key.save_pkcs1(\"PEM\"))"
   ]
  },
  {
   "cell_type": "code",
   "execution_count": 7,
   "id": "6d9192d3-90f5-4874-b373-632e5ece732a",
   "metadata": {
    "tags": []
   },
   "outputs": [],
   "source": [
    "# Vamos ler a chave publica\n",
    "with open(\"public.pem\", \"rb\") as f:\n",
    "    public_key = rsa.PublicKey.load_pkcs1(f.read())"
   ]
  },
  {
   "cell_type": "code",
   "execution_count": 8,
   "id": "2b90191b-d547-438a-b0e4-102bb3d14a91",
   "metadata": {
    "tags": []
   },
   "outputs": [],
   "source": [
    "# Vamos ler a chave privada\n",
    "with open(\"private.pem\", \"rb\") as f:\n",
    "    private_key = rsa.PrivateKey.load_pkcs1(f.read())"
   ]
  },
  {
   "cell_type": "code",
   "execution_count": 9,
   "id": "6c0efe79-07aa-464a-a5de-6e91d92c4cbd",
   "metadata": {
    "tags": []
   },
   "outputs": [
    {
     "name": "stdout",
     "output_type": "stream",
     "text": [
      "PublicKey(132920179151925608887306363545012070751888450177220264733314856445591956515728027855451653418175727420295976983535915930443169031913246526167796235960039722870417132719924460735315857556402470322257280099289402408277687258171323181672613581161187846633931259428187530727967417088913525525951605576894307594693, 65537)\n"
     ]
    }
   ],
   "source": [
    "print(public_key)"
   ]
  },
  {
   "cell_type": "code",
   "execution_count": 10,
   "id": "68cb1162-648d-4a7b-a03c-4b07de01b858",
   "metadata": {
    "tags": []
   },
   "outputs": [
    {
     "name": "stdout",
     "output_type": "stream",
     "text": [
      "PrivateKey(132920179151925608887306363545012070751888450177220264733314856445591956515728027855451653418175727420295976983535915930443169031913246526167796235960039722870417132719924460735315857556402470322257280099289402408277687258171323181672613581161187846633931259428187530727967417088913525525951605576894307594693, 65537, 102197459561566435848795037195318876865235014052824388050215943687335903335078193930273789829996135449918274932074877821979963140654539866137740235266547079771666685949748984292061911912407182135161928323160704612228125402846457074276096895343060510052381984360680995910348825411926158625791740538146791678753, 54280234686711816650065374596101398963309705716085468323414909870693950202226862841915958241950162158672095865436735582693023978125260587621691591970978974723043321, 2448776795441258545777716828149902785168473617761448986658124884502991702750288990145239946032479543446746110965784518631257834732344480812473133)\n"
     ]
    }
   ],
   "source": [
    "print(private_key)"
   ]
  },
  {
   "cell_type": "code",
   "execution_count": 11,
   "id": "8e93ce0f-f721-4aa5-b146-fca88bf11f11",
   "metadata": {
    "tags": []
   },
   "outputs": [
    {
     "name": "stdout",
     "output_type": "stream",
     "text": [
      "b'\\x93\\xb5\\xaav\\x02D\\xd9\\xed\\xb4j\\xb2\\xb0<\\xa4\\xc3\\xa2\\xef\\x84\\x1eo\\xaf\\xdd\\xe1\\xc5\\x07.\\xb1TT\\xf1\\x98U\\x07\\\\\\x91\\x06\\x83\\x84m\\xf100\\xb1:0\\x8c\\x7f\\\\\\x82C\\xb4\\xb1\\xa6\\x96\\x02ToX\\x0c\\xafV\\x90=E\\xf6M\\xdajBd;\\xac\\xce\\xe1\"\\xf2N\\xcb\\'>\\xc7\\xcfF#\\x82\\x90\\x1a\\x0bu\\x0f\\x8a:\\n\\xac\\x13P*\\xfdi\\xfd\\x96\\xffo\\x17\\xee\\xb1M\\x97\\xd1XR(\\x15\\'Q\\x18ny\\xe4).7\\xd7\\xfcH\\x95\\xf5R'\n"
     ]
    }
   ],
   "source": [
    "# Vamos criptografar uma mensagem usando a chave publica\n",
    "message = \"Ola minha senha para acessar tal plataforma é 'abcd1234'\"\n",
    "encrypted_message = rsa.encrypt(message.encode(), public_key)\n",
    "print(encrypted_message)"
   ]
  },
  {
   "cell_type": "code",
   "execution_count": 12,
   "id": "c6e60d58-b76e-4315-bd58-7d578a2e46b2",
   "metadata": {
    "tags": []
   },
   "outputs": [],
   "source": [
    "with open(\"encrypted.message\", \"wb\") as f:\n",
    "    f.write(encrypted_message)"
   ]
  },
  {
   "cell_type": "code",
   "execution_count": 13,
   "id": "7f21b820-4d25-40c8-bcd3-2304b5cb56a8",
   "metadata": {
    "tags": []
   },
   "outputs": [
    {
     "name": "stdout",
     "output_type": "stream",
     "text": [
      "Ola minha senha para acessar tal plataforma é 'abcd1234'\n"
     ]
    }
   ],
   "source": [
    "# Vamos pegar a mensagem criptografada e descriptografa-la.\n",
    "with open(\"encrypted.message\", \"rb\") as f:\n",
    "    encrypted_message = f.read()\n",
    "    \n",
    "decripted_message = rsa.decrypt(encrypted_message, private_key)\n",
    "print(decripted_message.decode())"
   ]
  },
  {
   "cell_type": "markdown",
   "id": "855f1e08-e475-4d41-be2d-51ef855df185",
   "metadata": {},
   "source": [
    "## Vamos verificar uma mensagem\n",
    "***\n",
    "\n",
    "Vamos supor que fulano que me enviar uma mensagem e preciso verificar que essa mensagem é o que eu espero que chegue, nada diferente do que foi enviado, então criamos uma assinatura na mensagem e quando o fulano enviar outra mensagem e essa for diferente da primeira que assinei, vou verificar que essa mensagem não bate com a anterior e vou recusa-la. Agora se a mensagem for identica, então vou aceita-la."
   ]
  },
  {
   "cell_type": "code",
   "execution_count": 14,
   "id": "b58c6cdf-a39b-4662-b5ad-f885fb2381ff",
   "metadata": {
    "tags": []
   },
   "outputs": [],
   "source": [
    "message = \"Ola victor meu número é (61) 99239-4344\""
   ]
  },
  {
   "cell_type": "code",
   "execution_count": 15,
   "id": "3959134f-9270-436d-9779-10b7977484b9",
   "metadata": {
    "tags": []
   },
   "outputs": [],
   "source": [
    "signature = rsa.sign(message.encode(), private_key, \"SHA-256\")"
   ]
  },
  {
   "cell_type": "code",
   "execution_count": 16,
   "id": "1787209b-de13-4473-9774-543a1e93588d",
   "metadata": {
    "tags": []
   },
   "outputs": [],
   "source": [
    "with open(\"signature\", \"wb\") as f:\n",
    "    f.write(signature)"
   ]
  },
  {
   "cell_type": "code",
   "execution_count": 17,
   "id": "addc62f1-f8da-49b5-8540-67b10699373e",
   "metadata": {
    "tags": []
   },
   "outputs": [],
   "source": [
    "with open(\"signature\", \"rb\") as f:\n",
    "    signature = f.read()"
   ]
  },
  {
   "cell_type": "code",
   "execution_count": 18,
   "id": "08089f82-8230-4947-819a-a21fa962bc7a",
   "metadata": {
    "tags": []
   },
   "outputs": [
    {
     "data": {
      "text/plain": [
       "'SHA-256'"
      ]
     },
     "execution_count": 18,
     "metadata": {},
     "output_type": "execute_result"
    }
   ],
   "source": [
    "# Foi verificado\n",
    "rsa.verify(message.encode(), signature, public_key)"
   ]
  },
  {
   "cell_type": "code",
   "execution_count": 19,
   "id": "eeed38e1-13e4-46f1-a0a9-93351ef626a5",
   "metadata": {
    "tags": []
   },
   "outputs": [],
   "source": [
    "wrong_message = \"Ola victor meu número é (61) 99239-4322\""
   ]
  },
  {
   "cell_type": "code",
   "execution_count": 20,
   "id": "731a1ddc-0e10-4941-91d7-7a2c4c203fbe",
   "metadata": {
    "tags": []
   },
   "outputs": [
    {
     "ename": "VerificationError",
     "evalue": "Verification failed",
     "output_type": "error",
     "traceback": [
      "\u001b[0;31m---------------------------------------------------------------------------\u001b[0m",
      "\u001b[0;31mVerificationError\u001b[0m                         Traceback (most recent call last)",
      "Cell \u001b[0;32mIn[20], line 2\u001b[0m\n\u001b[1;32m      1\u001b[0m \u001b[38;5;66;03m# Não foi verificado (mensagem errada ou assinatura errada ou chave publica errada)\u001b[39;00m\n\u001b[0;32m----> 2\u001b[0m \u001b[43mrsa\u001b[49m\u001b[38;5;241;43m.\u001b[39;49m\u001b[43mverify\u001b[49m\u001b[43m(\u001b[49m\u001b[43mwrong_message\u001b[49m\u001b[38;5;241;43m.\u001b[39;49m\u001b[43mencode\u001b[49m\u001b[43m(\u001b[49m\u001b[43m)\u001b[49m\u001b[43m,\u001b[49m\u001b[43m \u001b[49m\u001b[43msignature\u001b[49m\u001b[43m,\u001b[49m\u001b[43m \u001b[49m\u001b[43mpublic_key\u001b[49m\u001b[43m)\u001b[49m\n",
      "File \u001b[0;32m/opt/conda/lib/python3.11/site-packages/rsa/pkcs1.py:375\u001b[0m, in \u001b[0;36mverify\u001b[0;34m(message, signature, pub_key)\u001b[0m\n\u001b[1;32m    373\u001b[0m \u001b[38;5;66;03m# Compare with the signed one\u001b[39;00m\n\u001b[1;32m    374\u001b[0m \u001b[38;5;28;01mif\u001b[39;00m expected \u001b[38;5;241m!=\u001b[39m clearsig:\n\u001b[0;32m--> 375\u001b[0m     \u001b[38;5;28;01mraise\u001b[39;00m VerificationError(\u001b[38;5;124m\"\u001b[39m\u001b[38;5;124mVerification failed\u001b[39m\u001b[38;5;124m\"\u001b[39m)\n\u001b[1;32m    377\u001b[0m \u001b[38;5;28;01mreturn\u001b[39;00m method_name\n",
      "\u001b[0;31mVerificationError\u001b[0m: Verification failed"
     ]
    }
   ],
   "source": [
    "# Não foi verificado (mensagem errada ou assinatura errada ou chave publica errada)\n",
    "rsa.verify(wrong_message.encode(), signature, public_key)"
   ]
  }
 ],
 "metadata": {
  "kernelspec": {
   "display_name": "Python 3 (ipykernel)",
   "language": "python",
   "name": "python3"
  },
  "language_info": {
   "codemirror_mode": {
    "name": "ipython",
    "version": 3
   },
   "file_extension": ".py",
   "mimetype": "text/x-python",
   "name": "python",
   "nbconvert_exporter": "python",
   "pygments_lexer": "ipython3",
   "version": "3.11.6"
  }
 },
 "nbformat": 4,
 "nbformat_minor": 5
}
