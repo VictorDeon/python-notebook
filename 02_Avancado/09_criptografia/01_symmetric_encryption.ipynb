{
 "cells": [
  {
   "cell_type": "markdown",
   "id": "7b3fead4-dc59-41b6-a16c-6c719622c897",
   "metadata": {},
   "source": [
    "## Como criptografar arquivos\n",
    "***\n",
    "\n",
    "## Criptografia assimétrica\n",
    "***\n",
    "\n",
    "Criptografia é o processo de pegar a mensagem e criptografar seu conteúdo para que somente certas pessoas possa olhar seu conteúdo. Tem 2 tipos de criptografia, simetrica e assimétrica.\n",
    "\n",
    "Vamos começar pela criptografia simétrica, vamos introduzir 1 personagem chamada **Alice**\n",
    "\n",
    "Alice tem dados sensíveis em um documento que quer guardar de forma segura. Ela utiliza uma criptografia no documento com uma senha ou uma chave. Somente com essa chave gerada ela pode verificar o que tem dentro desse documento, ou seja, se alguém roubar o documento não conseguirá ler ele."
   ]
  },
  {
   "cell_type": "code",
   "execution_count": 1,
   "id": "f10f3a08-5304-428b-ba3f-fb3e43fd5173",
   "metadata": {
    "tags": []
   },
   "outputs": [],
   "source": [
    "from cryptography.fernet import Fernet"
   ]
  },
  {
   "cell_type": "code",
   "execution_count": 2,
   "id": "6d21426b-882a-42c2-9f62-261215a88a36",
   "metadata": {
    "tags": []
   },
   "outputs": [
    {
     "name": "stdout",
     "output_type": "stream",
     "text": [
      "b'f3__EfCWxTH6N1F_zBRN8PYc-ikUMppgHj54QIroKfk='\n"
     ]
    }
   ],
   "source": [
    "# Chave que sera usada para criptografar e descriptografar um arquivo\n",
    "key = Fernet.generate_key()\n",
    "print(key)"
   ]
  },
  {
   "cell_type": "code",
   "execution_count": 3,
   "id": "634ec2fd-9450-4959-85a0-dc864b27ef7c",
   "metadata": {
    "tags": []
   },
   "outputs": [],
   "source": [
    "with open(\"criptografy.key\", \"wb\") as f:\n",
    "    f.write(key)"
   ]
  },
  {
   "cell_type": "code",
   "execution_count": 4,
   "id": "f5273103-f73a-45a8-b768-9846df22d2a8",
   "metadata": {
    "tags": []
   },
   "outputs": [],
   "source": [
    "with open(\"criptografy.key\", \"rb\") as f:\n",
    "    key = f.read()"
   ]
  },
  {
   "cell_type": "code",
   "execution_count": 5,
   "id": "b4ef73d2-90c3-469b-8c51-836593e39398",
   "metadata": {
    "tags": []
   },
   "outputs": [
    {
     "name": "stdout",
     "output_type": "stream",
     "text": [
      "b'f3__EfCWxTH6N1F_zBRN8PYc-ikUMppgHj54QIroKfk='\n"
     ]
    }
   ],
   "source": [
    "print(key)"
   ]
  },
  {
   "cell_type": "code",
   "execution_count": 6,
   "id": "cc865444-9ab9-4f1a-9cfd-fd1cd9bf0ac3",
   "metadata": {
    "tags": []
   },
   "outputs": [],
   "source": [
    "# Vamos criptografar o arquivo que queremos agora\n",
    "fernet = Fernet(key)"
   ]
  },
  {
   "cell_type": "code",
   "execution_count": 7,
   "id": "d62062a9-b7a4-41aa-bf9b-61c58d5cb0bc",
   "metadata": {
    "tags": []
   },
   "outputs": [],
   "source": [
    "with open(\"sensitive_data.txt\", \"rb\") as original_file:\n",
    "    original = original_file.read()"
   ]
  },
  {
   "cell_type": "code",
   "execution_count": 8,
   "id": "2377da7b-b903-4283-82c3-347783de1df8",
   "metadata": {
    "tags": []
   },
   "outputs": [
    {
     "name": "stdout",
     "output_type": "stream",
     "text": [
      "b'Arquivo com dados sens\\xc3\\xadveis que precisam ser criptografados'\n"
     ]
    }
   ],
   "source": [
    "print(original)"
   ]
  },
  {
   "cell_type": "code",
   "execution_count": 9,
   "id": "6133fc2a-dc47-44e5-9f3d-bd6c2654cf56",
   "metadata": {
    "tags": []
   },
   "outputs": [],
   "source": [
    "encrypted = fernet.encrypt(original)"
   ]
  },
  {
   "cell_type": "code",
   "execution_count": 10,
   "id": "2aab5549-e907-468c-81b6-cf0e015a6460",
   "metadata": {
    "tags": []
   },
   "outputs": [
    {
     "name": "stdout",
     "output_type": "stream",
     "text": [
      "b'gAAAAABmsrwgXS-FIR27HYdcxl4rcQOPv3zOEmFNoYXEmCYNJ8p40mAhTTm9HGLP_IfFkMpV5Q4ff5gL-di-XMYh0sJLxsijhjCJI2AOy71RqEDKJs6XPyLkCbcC5jhKqjvfI5dkF_XFyU0XlXfvimjOL19IHoiC1w=='\n"
     ]
    }
   ],
   "source": [
    "print(encrypted)"
   ]
  },
  {
   "cell_type": "code",
   "execution_count": 11,
   "id": "4edc7a97-e79e-45c7-8358-049cc814cd97",
   "metadata": {
    "tags": []
   },
   "outputs": [],
   "source": [
    "with open(\"sensitive_encrypted_data.txt\", \"wb\") as encrypted_file:\n",
    "    encrypted_file.write(encrypted)"
   ]
  },
  {
   "cell_type": "code",
   "execution_count": 12,
   "id": "7b8d6034-b5b1-4d6e-93e3-ef6c0a45f0e8",
   "metadata": {
    "tags": []
   },
   "outputs": [],
   "source": [
    "# Vamos descriptografar o arquivo criptografado\n",
    "with open(\"sensitive_encrypted_data.txt\", \"rb\") as encrypted_file:\n",
    "    encrypted = encrypted_file.read()"
   ]
  },
  {
   "cell_type": "code",
   "execution_count": 13,
   "id": "bac8280c-cd3d-420b-a782-f3c9738b398f",
   "metadata": {
    "tags": []
   },
   "outputs": [
    {
     "name": "stdout",
     "output_type": "stream",
     "text": [
      "b'gAAAAABmsrwgXS-FIR27HYdcxl4rcQOPv3zOEmFNoYXEmCYNJ8p40mAhTTm9HGLP_IfFkMpV5Q4ff5gL-di-XMYh0sJLxsijhjCJI2AOy71RqEDKJs6XPyLkCbcC5jhKqjvfI5dkF_XFyU0XlXfvimjOL19IHoiC1w=='\n"
     ]
    }
   ],
   "source": [
    "print(encrypted)"
   ]
  },
  {
   "cell_type": "code",
   "execution_count": 14,
   "id": "5564b8a4-4178-4d1f-8417-6cb4650a9b9a",
   "metadata": {
    "tags": []
   },
   "outputs": [],
   "source": [
    "decrepted_content = fernet.decrypt(encrypted)"
   ]
  },
  {
   "cell_type": "code",
   "execution_count": 15,
   "id": "e694f886-9177-4278-a9a0-7a12184cd09d",
   "metadata": {
    "tags": []
   },
   "outputs": [],
   "source": [
    "with open(\"sensitive_data.txt\", \"wb\") as f:\n",
    "    f.write(decrepted_content)"
   ]
  }
 ],
 "metadata": {
  "kernelspec": {
   "display_name": "Python 3 (ipykernel)",
   "language": "python",
   "name": "python3"
  },
  "language_info": {
   "codemirror_mode": {
    "name": "ipython",
    "version": 3
   },
   "file_extension": ".py",
   "mimetype": "text/x-python",
   "name": "python",
   "nbconvert_exporter": "python",
   "pygments_lexer": "ipython3",
   "version": "3.11.6"
  }
 },
 "nbformat": 4,
 "nbformat_minor": 5
}
