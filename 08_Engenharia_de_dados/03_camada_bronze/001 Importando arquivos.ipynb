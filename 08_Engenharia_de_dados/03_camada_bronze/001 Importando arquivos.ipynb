{
 "cells": [
  {
   "cell_type": "markdown",
   "metadata": {
    "application/vnd.databricks.v1+cell": {
     "cellMetadata": {},
     "inputWidgets": {},
     "nuid": "76f74ba6-f9ac-481d-bc38-697d5fe590c0",
     "showTitle": false,
     "tableResultSettingsMap": {},
     "title": ""
    }
   },
   "source": [
    "###Importar arquivos para DBFS Landingzone\n",
    "\n",
    "Para baixar um arquivo do GitHub e salvá-lo no Databricks, você pode seguir os passos abaixo:\n"
   ]
  },
  {
   "cell_type": "code",
   "execution_count": 0,
   "metadata": {
    "application/vnd.databricks.v1+cell": {
     "cellMetadata": {
      "byteLimit": 2048000,
      "implicitDf": true,
      "rowLimit": 10000
     },
     "inputWidgets": {},
     "nuid": "4b7c6843-39de-4aaf-bf60-d883cb7699d5",
     "showTitle": false,
     "tableResultSettingsMap": {},
     "title": ""
    }
   },
   "outputs": [],
   "source": [
    "%sql\n",
    "CREATE DATABASE IF NOT EXISTS store;"
   ]
  },
  {
   "cell_type": "code",
   "execution_count": 0,
   "metadata": {
    "application/vnd.databricks.v1+cell": {
     "cellMetadata": {
      "byteLimit": 2048000,
      "implicitDf": true,
      "rowLimit": 10000
     },
     "inputWidgets": {},
     "nuid": "652c7cea-c2c4-4f6d-978a-add3fb3cf4c4",
     "showTitle": false,
     "tableResultSettingsMap": {},
     "title": ""
    }
   },
   "outputs": [],
   "source": [
    "%sql\n",
    "CREATE VOLUME IF NOT EXISTS workspace.store.landingzone;"
   ]
  },
  {
   "cell_type": "code",
   "execution_count": 0,
   "metadata": {
    "application/vnd.databricks.v1+cell": {
     "cellMetadata": {
      "byteLimit": 2048000,
      "rowLimit": 10000
     },
     "inputWidgets": {},
     "nuid": "91f04f85-1f1f-4204-b1f6-9180ed13cb6d",
     "showTitle": false,
     "tableResultSettingsMap": {},
     "title": ""
    }
   },
   "outputs": [],
   "source": [
    "# Como estamos no modo free edition não temos permissão de fazer isso, logo teremos que enviar os arquivos para o catalog manualmente.\n",
    "# Caminho de destino no DBFS\n",
    "dbfs_path = '/Volumes/workspace/store/landingzone/vendas/processar'\n",
    "\n",
    "# Mover o arquivo para o DBFS\n",
    "# dbutils.fs.cp(f'file:assets/dados_2011.csv', f'{dbfs_path}/dados_2011.csv')\n",
    "# dbutils.fs.cp(f'file:assets/dados_2012.csv', f'{dbfs_path}/dados_2012.csv')\n",
    "# dbutils.fs.cp(f'file:assets/dados_2013.csv', f'{dbfs_path}/dados_2013.csv')\n",
    "\n",
    "# print(f\"Arquivo baixado e salvo em: {dbfs_path}\")"
   ]
  },
  {
   "cell_type": "markdown",
   "metadata": {
    "application/vnd.databricks.v1+cell": {
     "cellMetadata": {},
     "inputWidgets": {},
     "nuid": "cf3fc368-a113-40be-8cc6-e924808a77fe",
     "showTitle": false,
     "tableResultSettingsMap": {},
     "title": ""
    }
   },
   "source": [
    "##Evidência do Arquivo criado"
   ]
  },
  {
   "cell_type": "code",
   "execution_count": 0,
   "metadata": {
    "application/vnd.databricks.v1+cell": {
     "cellMetadata": {
      "byteLimit": 2048000,
      "rowLimit": 10000
     },
     "inputWidgets": {},
     "nuid": "f5054c26-dbc4-4a1e-8d69-51321f1594ea",
     "showTitle": false,
     "tableResultSettingsMap": {},
     "title": ""
    }
   },
   "outputs": [],
   "source": [
    "display(dbutils.fs.ls(dbfs_path))\n"
   ]
  },
  {
   "cell_type": "code",
   "execution_count": 0,
   "metadata": {
    "application/vnd.databricks.v1+cell": {
     "cellMetadata": {
      "byteLimit": 2048000,
      "implicitDf": true,
      "rowLimit": 10000
     },
     "inputWidgets": {},
     "nuid": "cb3cf048-d42e-42b7-8ceb-1d2b018445f8",
     "showTitle": false,
     "tableResultSettingsMap": {},
     "title": ""
    }
   },
   "outputs": [],
   "source": [
    "%sql\n",
    "CREATE VOLUME IF NOT EXISTS workspace.store.bronze;\n",
    "CREATE VOLUME IF NOT EXISTS workspace.store.silver;\n",
    "CREATE VOLUME IF NOT EXISTS workspace.store.gold;"
   ]
  },
  {
   "cell_type": "code",
   "execution_count": 0,
   "metadata": {
    "application/vnd.databricks.v1+cell": {
     "cellMetadata": {
      "byteLimit": 2048000,
      "rowLimit": 10000
     },
     "inputWidgets": {},
     "nuid": "f122c3df-aeec-4292-89fe-55762901d544",
     "showTitle": false,
     "tableResultSettingsMap": {},
     "title": ""
    }
   },
   "outputs": [],
   "source": [
    "# Vamos criar as pastas dentro do nosso Catalog\n",
    "dbutils.fs.mkdirs('/Volumes/workspace/store/landingzone/vendas/processado')\n",
    "dbutils.fs.mkdirs('/Volumes/workspace/store/bronze/vendas')\n",
    "dbutils.fs.mkdirs('/Volumes/workspace/store/silver/vendas')\n",
    "dbutils.fs.mkdirs('/Volumes/workspace/store/gold/vendas')"
   ]
  }
 ],
 "metadata": {
  "application/vnd.databricks.v1+notebook": {
   "computePreferences": null,
   "dashboards": [],
   "environmentMetadata": null,
   "inputWidgetPreferences": null,
   "language": "python",
   "notebookMetadata": {
    "mostRecentlyExecutedCommandWithImplicitDF": {
     "commandId": 5232872374287419,
     "dataframes": [
      "_sqldf"
     ]
    },
    "pythonIndentUnit": 4
   },
   "notebookName": "001 Importando arquivos",
   "widgets": {}
  },
  "language_info": {
   "name": "python"
  }
 },
 "nbformat": 4,
 "nbformat_minor": 0
}
