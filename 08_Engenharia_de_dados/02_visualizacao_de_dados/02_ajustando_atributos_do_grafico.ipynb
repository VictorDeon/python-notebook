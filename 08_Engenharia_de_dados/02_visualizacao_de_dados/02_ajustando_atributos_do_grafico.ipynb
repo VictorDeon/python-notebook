{
 "cells": [
  {
   "cell_type": "markdown",
   "metadata": {
    "application/vnd.databricks.v1+cell": {
     "cellMetadata": {},
     "inputWidgets": {},
     "nuid": "386860e6-0226-4ee3-8082-073435cdbaf1",
     "showTitle": false,
     "tableResultSettingsMap": {},
     "title": ""
    }
   },
   "source": [
    "## Ajustando atributos do gráfico\n",
    "\n",
    "O Matplotlib é uma biblioteca poderosa para criação de gráficos em Python, permitindo personalizar praticamente todos os aspectos visuais dos gráficos. A seguir, apresentamos um resumo dos principais atributos que podem ser ajustados em um gráfico Matplotlib:\n",
    "\n",
    "### Principais atributos personalizáveis no Matplotlib\n",
    "\n",
    "- **Título e rótulos**\n",
    "  - `title`: Título do gráfico\n",
    "  - `xlabel`, `ylabel`: Rótulos dos eixos X e Y\n",
    "\n",
    "- **Eixos**\n",
    "  - `xlim`, `ylim`: Limites dos eixos\n",
    "  - `xticks`, `yticks`: Posições e rótulos dos ticks\n",
    "  - `scale`: Escala dos eixos (linear, log, etc.)\n",
    "\n",
    "- **Linhas e marcadores**\n",
    "  - `color`: Cor da linha\n",
    "  - `linestyle`: Estilo da linha (sólida, tracejada, etc.)\n",
    "  - `linewidth`: Espessura da linha\n",
    "  - `marker`: Tipo de marcador (círculo, quadrado, etc.)\n",
    "  - `markersize`: Tamanho do marcador\n",
    "\n",
    "- **Cores e estilos**\n",
    "  - `cmap`: Mapa de cores para gráficos de dispersão e imagens\n",
    "  - `alpha`: Transparência dos elementos\n",
    "\n",
    "- **Legenda**\n",
    "  - `legend`: Exibição e localização da legenda\n",
    "  - `label`: Nome do elemento na legenda\n",
    "\n",
    "- **Grade**\n",
    "  - `grid`: Exibição e estilo da grade\n",
    "\n",
    "- **Figura**\n",
    "  - `figsize`: Tamanho da figura\n",
    "  - `dpi`: Resolução da figura\n",
    "\n",
    "- **Outros**\n",
    "  - `annotate`: Anotações no gráfico\n",
    "  - `text`: Inserção de textos personalizados\n",
    "  - `subplot`: Organização de múltiplos gráficos em uma figura\n",
    "\n",
    "Esses atributos podem ser combinados para criar visualizações altamente personalizadas e informativas."
   ]
  },
  {
   "cell_type": "code",
   "execution_count": 0,
   "metadata": {
    "application/vnd.databricks.v1+cell": {
     "cellMetadata": {
      "byteLimit": 2048000,
      "rowLimit": 10000
     },
     "inputWidgets": {},
     "nuid": "e5e17228-516f-4186-aac3-f5480088ce29",
     "showTitle": false,
     "tableResultSettingsMap": {},
     "title": ""
    }
   },
   "outputs": [],
   "source": [
    "import matplotlib.pyplot as plt"
   ]
  },
  {
   "cell_type": "code",
   "execution_count": 0,
   "metadata": {
    "application/vnd.databricks.v1+cell": {
     "cellMetadata": {
      "byteLimit": 2048000,
      "rowLimit": 10000
     },
     "inputWidgets": {},
     "nuid": "32558be7-33eb-43db-8c5b-a2b0209ef1cf",
     "showTitle": false,
     "tableResultSettingsMap": {},
     "title": ""
    }
   },
   "outputs": [],
   "source": [
    "figure, axe = plt.subplots()"
   ]
  },
  {
   "cell_type": "code",
   "execution_count": 0,
   "metadata": {
    "application/vnd.databricks.v1+cell": {
     "cellMetadata": {
      "byteLimit": 2048000,
      "rowLimit": 10000
     },
     "inputWidgets": {},
     "nuid": "daf3454f-e51f-42f1-9558-1efc77894c29",
     "showTitle": false,
     "tableResultSettingsMap": {},
     "title": ""
    }
   },
   "outputs": [],
   "source": [
    "x = [1, 2, 3, 4]\n",
    "y = [1, 4, 2, 3]\n",
    "axe.plot(x, y, label=\"Legenda\", color=\"blue\", marker=\"o\")\n",
    "display(figure)"
   ]
  },
  {
   "cell_type": "code",
   "execution_count": 0,
   "metadata": {
    "application/vnd.databricks.v1+cell": {
     "cellMetadata": {
      "byteLimit": 2048000,
      "rowLimit": 10000
     },
     "inputWidgets": {},
     "nuid": "b0228c5f-7d39-4a95-a297-98bc2d90e24d",
     "showTitle": false,
     "tableResultSettingsMap": {},
     "title": ""
    }
   },
   "outputs": [],
   "source": [
    "axe.set_title(\"Título do Gráfico\")\n",
    "display(figure)"
   ]
  },
  {
   "cell_type": "code",
   "execution_count": 0,
   "metadata": {
    "application/vnd.databricks.v1+cell": {
     "cellMetadata": {
      "byteLimit": 2048000,
      "rowLimit": 10000
     },
     "inputWidgets": {},
     "nuid": "2df953a7-0774-4c02-9a54-5af04c282065",
     "showTitle": false,
     "tableResultSettingsMap": {},
     "title": ""
    }
   },
   "outputs": [],
   "source": [
    "axe.set_ylabel(\"Label Y\")\n",
    "axe.set_xlabel(\"Label X\")\n",
    "display(figure)"
   ]
  },
  {
   "cell_type": "code",
   "execution_count": 0,
   "metadata": {
    "application/vnd.databricks.v1+cell": {
     "cellMetadata": {
      "byteLimit": 2048000,
      "rowLimit": 10000
     },
     "inputWidgets": {},
     "nuid": "79f48ed1-b141-4afe-9947-29beae082147",
     "showTitle": false,
     "tableResultSettingsMap": {},
     "title": ""
    }
   },
   "outputs": [],
   "source": [
    "axe.legend([\"Legenda\"])\n",
    "display(figure)"
   ]
  },
  {
   "cell_type": "code",
   "execution_count": 0,
   "metadata": {
    "application/vnd.databricks.v1+cell": {
     "cellMetadata": {
      "byteLimit": 2048000,
      "rowLimit": 10000
     },
     "inputWidgets": {},
     "nuid": "181de68e-03d6-4326-93f3-f6410673433a",
     "showTitle": false,
     "tableResultSettingsMap": {},
     "title": ""
    }
   },
   "outputs": [],
   "source": [
    "print(axe.lines)\n",
    "axe.lines[0].set_color(\"green\")\n",
    "axe.legend([\"Legenda\"])\n",
    "display(figure)"
   ]
  },
  {
   "cell_type": "code",
   "execution_count": 0,
   "metadata": {
    "application/vnd.databricks.v1+cell": {
     "cellMetadata": {
      "byteLimit": 2048000,
      "rowLimit": 10000
     },
     "inputWidgets": {},
     "nuid": "4ef00fac-5d24-4614-b2df-071803f43ac7",
     "showTitle": false,
     "tableResultSettingsMap": {},
     "title": ""
    }
   },
   "outputs": [],
   "source": [
    "axe.lines[0].set_marker(\"s\")\n",
    "axe.legend([\"Legenda\"])\n",
    "display(figure)"
   ]
  }
 ],
 "metadata": {
  "application/vnd.databricks.v1+notebook": {
   "computePreferences": null,
   "dashboards": [],
   "environmentMetadata": {
    "base_environment": "",
    "environment_version": "4"
   },
   "inputWidgetPreferences": null,
   "language": "python",
   "notebookMetadata": {
    "pythonIndentUnit": 4
   },
   "notebookName": "02_ajustando_atributos_do_grafico",
   "widgets": {}
  },
  "language_info": {
   "name": "python"
  }
 },
 "nbformat": 4,
 "nbformat_minor": 0
}
