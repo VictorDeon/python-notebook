{
 "cells": [
  {
   "cell_type": "markdown",
   "metadata": {
    "application/vnd.databricks.v1+cell": {
     "cellMetadata": {},
     "inputWidgets": {},
     "nuid": "20013556-7ce9-47cb-86a5-707cb067bfc6",
     "showTitle": false,
     "tableResultSettingsMap": {},
     "title": ""
    }
   },
   "source": [
    "## Introdução ao matplotlib\n",
    "***\n",
    "\n",
    "O matplotlib é uma biblioteca poderosa de visualização de dados em Python, amplamente utilizada para criar gráficos estáticos, animados e interativos. Com ela, é possível gerar uma grande variedade de visualizações, como gráficos de linhas, barras, dispersão, histogramas e muito mais. O matplotlib é uma ferramenta essencial para análise de dados, permitindo explorar e comunicar informações de forma visual e intuitiva.\n",
    "\n",
    "Documentação: https://matplotlib.org/\n",
    "\n",
    "Instalação: `pip3 install matplotlib`\n",
    "\n",
    "Em Matploblib, uma Figura (Figure) pode ter vários gráficos.\n",
    "\n",
    "Cada gráfico em Matplotlib é representado por um eixo (axe).\n",
    "\n",
    "Além disso, cada gráfico possui diversos atributos que podem ser configurados.\n",
    "\n",
    "![matplotlib](assets/matplotlib.png)\n"
   ]
  },
  {
   "cell_type": "code",
   "execution_count": 0,
   "metadata": {
    "application/vnd.databricks.v1+cell": {
     "cellMetadata": {
      "byteLimit": 2048000,
      "rowLimit": 10000
     },
     "inputWidgets": {},
     "nuid": "1f0077a3-d099-443b-aac3-df656a23d8b8",
     "showTitle": false,
     "tableResultSettingsMap": {},
     "title": ""
    }
   },
   "outputs": [],
   "source": [
    "import matplotlib.pyplot as plt"
   ]
  },
  {
   "cell_type": "code",
   "execution_count": 0,
   "metadata": {
    "application/vnd.databricks.v1+cell": {
     "cellMetadata": {
      "byteLimit": 2048000,
      "rowLimit": 10000
     },
     "inputWidgets": {},
     "nuid": "8fdb2ad7-818c-496f-b6b0-678fd202c0c5",
     "showTitle": false,
     "tableResultSettingsMap": {},
     "title": ""
    }
   },
   "outputs": [],
   "source": [
    "# Cria o objeto e devolve a figura e o eixo vinculado a figura.\n",
    "figure, axe = plt.subplots()"
   ]
  },
  {
   "cell_type": "code",
   "execution_count": 0,
   "metadata": {
    "application/vnd.databricks.v1+cell": {
     "cellMetadata": {
      "byteLimit": 2048000,
      "rowLimit": 10000
     },
     "inputWidgets": {},
     "nuid": "598fb08d-cae3-492d-b540-2e8f4e061773",
     "showTitle": false,
     "tableResultSettingsMap": {},
     "title": ""
    }
   },
   "outputs": [],
   "source": [
    "# Definir os dados\n",
    "x = [1, 2, 3, 4]\n",
    "y = [1, 4, 2, 3]"
   ]
  },
  {
   "cell_type": "code",
   "execution_count": 0,
   "metadata": {
    "application/vnd.databricks.v1+cell": {
     "cellMetadata": {
      "byteLimit": 2048000,
      "rowLimit": 10000
     },
     "inputWidgets": {},
     "nuid": "64ebe2dc-20a0-43ab-879b-bdad0c2cab24",
     "showTitle": false,
     "tableResultSettingsMap": {},
     "title": ""
    }
   },
   "outputs": [],
   "source": [
    "# Plotar os dados no eixo (gráfico)\n",
    "axe.plot(x, y)"
   ]
  },
  {
   "cell_type": "code",
   "execution_count": 0,
   "metadata": {
    "application/vnd.databricks.v1+cell": {
     "cellMetadata": {
      "byteLimit": 2048000,
      "rowLimit": 10000
     },
     "inputWidgets": {},
     "nuid": "2f1d50f9-6d94-436a-bf96-b9263eb3c415",
     "showTitle": false,
     "tableResultSettingsMap": {},
     "title": ""
    }
   },
   "outputs": [],
   "source": [
    "# Mostra o gráfico (plt.show())\n",
    "# No databricks temos que usar o display(figure)\n",
    "display(figure)"
   ]
  }
 ],
 "metadata": {
  "application/vnd.databricks.v1+notebook": {
   "computePreferences": {
    "hardware": {
     "accelerator": null,
     "gpuPoolId": null,
     "memory": null
    }
   },
   "dashboards": [],
   "environmentMetadata": {
    "base_environment": "",
    "dependencies": [
     "matplotlib==3.10.7"
    ],
    "environment_version": "4"
   },
   "inputWidgetPreferences": null,
   "language": "python",
   "notebookMetadata": {
    "pythonIndentUnit": 4
   },
   "notebookName": "01_introducao_ao_matplotlib",
   "widgets": {}
  },
  "language_info": {
   "name": "python"
  }
 },
 "nbformat": 4,
 "nbformat_minor": 0
}
