{
 "cells": [
  {
   "cell_type": "markdown",
   "metadata": {
    "application/vnd.databricks.v1+cell": {
     "cellMetadata": {},
     "inputWidgets": {},
     "nuid": "ba463673-41d7-43c9-8bc0-cf7913458db4",
     "showTitle": false,
     "tableResultSettingsMap": {},
     "title": ""
    }
   },
   "source": [
    "## Criando gráficos de histograma\n",
    "***\n",
    "\n",
    "O gráfico de histograma é uma ferramenta visual utilizada para representar a distribuição de frequências de um conjunto de dados. Ele permite identificar padrões, tendências e a dispersão dos valores, facilitando a análise exploratória dos dados. A seguir, veremos como criar um histograma utilizando Python e a biblioteca Matplotlib."
   ]
  },
  {
   "cell_type": "code",
   "execution_count": 0,
   "metadata": {
    "application/vnd.databricks.v1+cell": {
     "cellMetadata": {
      "byteLimit": 2048000,
      "rowLimit": 10000
     },
     "inputWidgets": {},
     "nuid": "ea1fe998-d1f0-4a92-a930-2deaf24aa9f7",
     "showTitle": false,
     "tableResultSettingsMap": {},
     "title": ""
    }
   },
   "outputs": [],
   "source": [
    "import matplotlib.pyplot as plt\n",
    "import numpy as np"
   ]
  },
  {
   "cell_type": "code",
   "execution_count": 0,
   "metadata": {
    "application/vnd.databricks.v1+cell": {
     "cellMetadata": {
      "byteLimit": 2048000,
      "rowLimit": 10000
     },
     "inputWidgets": {},
     "nuid": "cc6d975e-8f0d-428b-8037-e13ed64779f5",
     "showTitle": false,
     "tableResultSettingsMap": {},
     "title": ""
    }
   },
   "outputs": [],
   "source": [
    "figure, axe = plt.subplots()"
   ]
  },
  {
   "cell_type": "code",
   "execution_count": 0,
   "metadata": {
    "application/vnd.databricks.v1+cell": {
     "cellMetadata": {
      "byteLimit": 2048000,
      "rowLimit": 10000
     },
     "inputWidgets": {},
     "nuid": "1b4ddeb5-5537-4260-a59c-8f194787704b",
     "showTitle": false,
     "tableResultSettingsMap": {},
     "title": ""
    }
   },
   "outputs": [],
   "source": [
    "# Crie um conjunto de dados normais (curva normal)\n",
    "# Gere um conjunto com 250 dados\n",
    "# Insira um desvio padrão de 10 (+- 10)\n",
    "# Valor mediano será 170\n",
    "# Pesquisa de um grupo de pessoas abaixo de 1,70 e acima de 1,70\n",
    "search = np.random.normal(170, 10, 250)\n",
    "print(search)"
   ]
  },
  {
   "cell_type": "code",
   "execution_count": 0,
   "metadata": {
    "application/vnd.databricks.v1+cell": {
     "cellMetadata": {
      "byteLimit": 2048000,
      "rowLimit": 10000
     },
     "inputWidgets": {},
     "nuid": "1c8766ad-d5c6-4ded-9372-ac0c8346638c",
     "showTitle": false,
     "tableResultSettingsMap": {},
     "title": ""
    }
   },
   "outputs": [],
   "source": [
    "# Agrupe meus dados em 8 colunas (bins)\n",
    "# edgecolor vai pintar a bordar de cada coluna de branco\n",
    "axe.hist(search, label=\"Quantidade\", bins=8, linewidth=0.5, edgecolor='#ffffff')\n",
    "axe.set_title(\"Pessoas abaixo de 1,70 e acima de 1,70\")\n",
    "axe.set_xlabel(\"Altura\")\n",
    "axe.set_ylabel(\"Quantidade\")\n",
    "axe.legend()\n",
    "display(figure)"
   ]
  }
 ],
 "metadata": {
  "application/vnd.databricks.v1+notebook": {
   "computePreferences": null,
   "dashboards": [],
   "environmentMetadata": {
    "base_environment": "",
    "environment_version": "4"
   },
   "inputWidgetPreferences": null,
   "language": "python",
   "notebookMetadata": {
    "pythonIndentUnit": 4
   },
   "notebookName": "06_criando_graficos_de_histograma",
   "widgets": {}
  },
  "language_info": {
   "name": "python"
  }
 },
 "nbformat": 4,
 "nbformat_minor": 0
}
