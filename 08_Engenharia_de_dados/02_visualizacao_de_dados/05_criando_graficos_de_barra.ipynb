{
 "cells": [
  {
   "cell_type": "markdown",
   "metadata": {
    "application/vnd.databricks.v1+cell": {
     "cellMetadata": {},
     "inputWidgets": {},
     "nuid": "ba463673-41d7-43c9-8bc0-cf7913458db4",
     "showTitle": false,
     "tableResultSettingsMap": {},
     "title": ""
    }
   },
   "source": [
    "## Criando gráficos de barra\n",
    "***\n",
    "\n",
    "Gráficos de barra são uma das formas mais comuns de visualizar dados categóricos, permitindo comparar valores entre diferentes categorias de maneira clara e intuitiva. No matplotlib, é possível criar gráficos de barra de forma simples e flexível, personalizando cores, rótulos e estilos conforme a necessidade da análise. Nesta seção, veremos como utilizar o matplotlib para construir gráficos de barra eficientes e informativos."
   ]
  },
  {
   "cell_type": "code",
   "execution_count": 0,
   "metadata": {
    "application/vnd.databricks.v1+cell": {
     "cellMetadata": {
      "byteLimit": 2048000,
      "rowLimit": 10000
     },
     "inputWidgets": {},
     "nuid": "ea1fe998-d1f0-4a92-a930-2deaf24aa9f7",
     "showTitle": false,
     "tableResultSettingsMap": {},
     "title": ""
    }
   },
   "outputs": [],
   "source": [
    "import matplotlib.pyplot as plt"
   ]
  },
  {
   "cell_type": "code",
   "execution_count": 0,
   "metadata": {
    "application/vnd.databricks.v1+cell": {
     "cellMetadata": {
      "byteLimit": 2048000,
      "rowLimit": 10000
     },
     "inputWidgets": {},
     "nuid": "cc6d975e-8f0d-428b-8037-e13ed64779f5",
     "showTitle": false,
     "tableResultSettingsMap": {},
     "title": ""
    }
   },
   "outputs": [],
   "source": [
    "figure, axe = plt.subplots()"
   ]
  },
  {
   "cell_type": "code",
   "execution_count": 0,
   "metadata": {
    "application/vnd.databricks.v1+cell": {
     "cellMetadata": {
      "byteLimit": 2048000,
      "rowLimit": 10000
     },
     "inputWidgets": {},
     "nuid": "1c8766ad-d5c6-4ded-9372-ac0c8346638c",
     "showTitle": false,
     "tableResultSettingsMap": {},
     "title": ""
    }
   },
   "outputs": [],
   "source": [
    "fruits = [\"Laranja\", \"Melancia\", \"Manga\", \"Jaca\"]\n",
    "qtd = [60, 100, 85, 30]\n",
    "axe.bar(fruits, qtd, label=\"Quantidade\")\n",
    "axe.set_title(\"Quantidade de frutas\")\n",
    "axe.set_ylabel(\"Quantidade\")\n",
    "axe.set_xlabel(\"Frutas\")\n",
    "axe.legend()\n",
    "display(figure)"
   ]
  }
 ],
 "metadata": {
  "application/vnd.databricks.v1+notebook": {
   "computePreferences": null,
   "dashboards": [],
   "environmentMetadata": {
    "base_environment": "",
    "environment_version": "4"
   },
   "inputWidgetPreferences": null,
   "language": "python",
   "notebookMetadata": {
    "pythonIndentUnit": 4
   },
   "notebookName": "05_criando_graficos_de_barra",
   "widgets": {}
  },
  "language_info": {
   "name": "python"
  }
 },
 "nbformat": 4,
 "nbformat_minor": 0
}
