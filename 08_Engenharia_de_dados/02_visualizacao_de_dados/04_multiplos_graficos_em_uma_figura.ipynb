{
 "cells": [
  {
   "cell_type": "markdown",
   "metadata": {
    "application/vnd.databricks.v1+cell": {
     "cellMetadata": {},
     "inputWidgets": {},
     "nuid": "ba463673-41d7-43c9-8bc0-cf7913458db4",
     "showTitle": false,
     "tableResultSettingsMap": {},
     "title": ""
    }
   },
   "source": [
    "## Multiplos gráficos em uma figura.\n",
    "***\n",
    "\n",
    "Ao trabalhar com visualização de dados, muitas vezes é útil exibir múltiplas séries ou conjuntos de dados em um único gráfico para facilitar a comparação e análise. Nesta seção, veremos como criar uma figura que contenha vários gráficos sobrepostos, utilizando diferentes cores e legendas para distinguir cada amostra apresentada."
   ]
  },
  {
   "cell_type": "code",
   "execution_count": 0,
   "metadata": {
    "application/vnd.databricks.v1+cell": {
     "cellMetadata": {
      "byteLimit": 2048000,
      "rowLimit": 10000
     },
     "inputWidgets": {},
     "nuid": "ea1fe998-d1f0-4a92-a930-2deaf24aa9f7",
     "showTitle": false,
     "tableResultSettingsMap": {},
     "title": ""
    }
   },
   "outputs": [],
   "source": [
    "import matplotlib.pyplot as plt"
   ]
  },
  {
   "cell_type": "code",
   "execution_count": 0,
   "metadata": {
    "application/vnd.databricks.v1+cell": {
     "cellMetadata": {
      "byteLimit": 2048000,
      "rowLimit": 10000
     },
     "inputWidgets": {},
     "nuid": "cc6d975e-8f0d-428b-8037-e13ed64779f5",
     "showTitle": false,
     "tableResultSettingsMap": {},
     "title": ""
    }
   },
   "outputs": [],
   "source": [
    "# Quero uma figura com 1 linha e 2 colunas (1x2)\n",
    "# por padrão é 1x1\n",
    "figure, axes = plt.subplots(1, 2)"
   ]
  },
  {
   "cell_type": "code",
   "execution_count": 0,
   "metadata": {
    "application/vnd.databricks.v1+cell": {
     "cellMetadata": {
      "byteLimit": 2048000,
      "rowLimit": 10000
     },
     "inputWidgets": {},
     "nuid": "1c8766ad-d5c6-4ded-9372-ac0c8346638c",
     "showTitle": false,
     "tableResultSettingsMap": {},
     "title": ""
    }
   },
   "outputs": [],
   "source": [
    "x = [1, 2, 3, 4]\n",
    "y1 = [1, 4, 2, 3]\n",
    "y2 = [2, 3, 4, 5]\n",
    "axes[0].plot(x, y1, label=\"Amostra Y1\", color=\"green\")\n",
    "axes[1].plot(x, y2, label=\"Amostra Y2\", color=\"blue\")\n",
    "axes[0].set_title(\"Título do gráfico 01\")\n",
    "axes[1].set_title(\"Título do gráfico 02\")\n",
    "axes[0].set_ylabel(\"Label Y\")\n",
    "axes[1].set_ylabel(\"Label Y\")\n",
    "axes[0].set_xlabel(\"Label X\")\n",
    "axes[1].set_xlabel(\"Label X\")\n",
    "axes[0].legend()\n",
    "axes[1].legend()\n",
    "display(figure)"
   ]
  },
  {
   "cell_type": "code",
   "execution_count": 0,
   "metadata": {
    "application/vnd.databricks.v1+cell": {
     "cellMetadata": {
      "byteLimit": 2048000,
      "rowLimit": 10000
     },
     "inputWidgets": {},
     "nuid": "7c631744-b7ab-4330-b6bb-7c1d57839d0c",
     "showTitle": false,
     "tableResultSettingsMap": {},
     "title": ""
    }
   },
   "outputs": [],
   "source": [
    "# Quero uma figura com 2 linha e 2 colunas (2x2)\n",
    "figure, axes = plt.subplots(2, 2)"
   ]
  },
  {
   "cell_type": "code",
   "execution_count": 0,
   "metadata": {
    "application/vnd.databricks.v1+cell": {
     "cellMetadata": {
      "byteLimit": 2048000,
      "rowLimit": 10000
     },
     "inputWidgets": {},
     "nuid": "3f5f7811-a413-4ee2-b3a1-f616df993dec",
     "showTitle": false,
     "tableResultSettingsMap": {},
     "title": ""
    }
   },
   "outputs": [],
   "source": [
    "x = [1, 2, 3, 4]\n",
    "y1 = [1, 4, 2, 3]\n",
    "y2 = [2, 3, 4, 5]\n",
    "y3 = [3, 5, 3, 5]\n",
    "y4 = [1, 2, 3, 4]\n",
    "axes[0][0].plot(x, y1, label=\"Amostra Y1\", color=\"green\")\n",
    "axes[0][1].plot(x, y2, label=\"Amostra Y2\", color=\"blue\")\n",
    "axes[1][0].plot(x, y3, label=\"Amostra Y3\", color=\"red\")\n",
    "axes[1][1].plot(x, y4, label=\"Amostra Y4\", color=\"orange\")\n",
    "axes[0][0].set_title(\"Título do gráfico 01\")\n",
    "axes[0][1].set_title(\"Título do gráfico 02\")\n",
    "axes[1][0].set_title(\"Título do gráfico 03\")\n",
    "axes[1][1].set_title(\"Título do gráfico 04\")\n",
    "axes[0][0].set_ylabel(\"Label Y\")\n",
    "axes[0][1].set_ylabel(\"Label Y\")\n",
    "axes[1][0].set_ylabel(\"Label Y\")\n",
    "axes[1][1].set_ylabel(\"Label Y\")\n",
    "axes[0][0].set_xlabel(\"Label X\")\n",
    "axes[0][1].set_xlabel(\"Label X\")\n",
    "axes[1][0].set_xlabel(\"Label X\")\n",
    "axes[1][1].set_xlabel(\"Label X\")\n",
    "axes[0][0].legend()\n",
    "axes[0][1].legend()\n",
    "axes[1][0].legend()\n",
    "axes[1][1].legend()\n",
    "figure.tight_layout()\n",
    "display(figure)"
   ]
  }
 ],
 "metadata": {
  "application/vnd.databricks.v1+notebook": {
   "computePreferences": null,
   "dashboards": [],
   "environmentMetadata": {
    "base_environment": "",
    "environment_version": "4"
   },
   "inputWidgetPreferences": null,
   "language": "python",
   "notebookMetadata": {
    "pythonIndentUnit": 4
   },
   "notebookName": "04_multiplos_graficos_em_uma_figura",
   "widgets": {}
  },
  "language_info": {
   "name": "python"
  }
 },
 "nbformat": 4,
 "nbformat_minor": 0
}
