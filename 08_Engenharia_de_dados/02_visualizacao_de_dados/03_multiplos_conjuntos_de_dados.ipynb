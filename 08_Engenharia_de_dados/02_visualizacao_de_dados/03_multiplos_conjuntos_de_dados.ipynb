{
 "cells": [
  {
   "cell_type": "markdown",
   "metadata": {
    "application/vnd.databricks.v1+cell": {
     "cellMetadata": {},
     "inputWidgets": {},
     "nuid": "ba463673-41d7-43c9-8bc0-cf7913458db4",
     "showTitle": false,
     "tableResultSettingsMap": {},
     "title": ""
    }
   },
   "source": [
    "## Multiplos conjuntos de dados no gráfico\n",
    "***\n",
    "\n",
    "Ao trabalhar com visualizações de dados, é comum a necessidade de comparar múltiplos conjuntos de dados em um único gráfico. Essa abordagem facilita a análise comparativa, a identificação de padrões e tendências, além de proporcionar uma visão mais abrangente das informações. Neste tópico, exploraremos como exibir e interpretar múltiplos conjuntos de dados em um mesmo gráfico, destacando as melhores práticas para uma visualização clara e eficiente."
   ]
  },
  {
   "cell_type": "code",
   "execution_count": 0,
   "metadata": {
    "application/vnd.databricks.v1+cell": {
     "cellMetadata": {
      "byteLimit": 2048000,
      "rowLimit": 10000
     },
     "inputWidgets": {},
     "nuid": "ea1fe998-d1f0-4a92-a930-2deaf24aa9f7",
     "showTitle": false,
     "tableResultSettingsMap": {},
     "title": ""
    }
   },
   "outputs": [],
   "source": [
    "import matplotlib.pyplot as plt"
   ]
  },
  {
   "cell_type": "code",
   "execution_count": 0,
   "metadata": {
    "application/vnd.databricks.v1+cell": {
     "cellMetadata": {
      "byteLimit": 2048000,
      "rowLimit": 10000
     },
     "inputWidgets": {},
     "nuid": "cc6d975e-8f0d-428b-8037-e13ed64779f5",
     "showTitle": false,
     "tableResultSettingsMap": {},
     "title": ""
    }
   },
   "outputs": [],
   "source": [
    "figure, axe = plt.subplots()"
   ]
  },
  {
   "cell_type": "code",
   "execution_count": 0,
   "metadata": {
    "application/vnd.databricks.v1+cell": {
     "cellMetadata": {
      "byteLimit": 2048000,
      "rowLimit": 10000
     },
     "inputWidgets": {},
     "nuid": "1c8766ad-d5c6-4ded-9372-ac0c8346638c",
     "showTitle": false,
     "tableResultSettingsMap": {},
     "title": ""
    }
   },
   "outputs": [],
   "source": [
    "x = [1, 2, 3, 4]\n",
    "y1 = [1, 4, 2, 3]\n",
    "y2 = [2, 3, 4, 5]\n",
    "y3 = [2, 16, 8, 12]\n",
    "axe.plot(x, y1, label=\"Amostra Y1\", color=\"green\")\n",
    "axe.plot(x, y2, label=\"Amostra Y2\", color=\"blue\")\n",
    "axe.plot(x, y3, label=\"Amostra Y3\", color=\"red\")\n",
    "axe.set_title(\"Título do gráfico\")\n",
    "axe.set_ylabel(\"Label Y\")\n",
    "axe.set_xlabel(\"Label X\")\n",
    "axe.legend()\n",
    "display(figure)"
   ]
  }
 ],
 "metadata": {
  "application/vnd.databricks.v1+notebook": {
   "computePreferences": null,
   "dashboards": [],
   "environmentMetadata": {
    "base_environment": "",
    "environment_version": "4"
   },
   "inputWidgetPreferences": null,
   "language": "python",
   "notebookMetadata": {
    "pythonIndentUnit": 4
   },
   "notebookName": "03_multiplos_conjuntos_de_dados",
   "widgets": {}
  },
  "language_info": {
   "name": "python"
  }
 },
 "nbformat": 4,
 "nbformat_minor": 0
}
