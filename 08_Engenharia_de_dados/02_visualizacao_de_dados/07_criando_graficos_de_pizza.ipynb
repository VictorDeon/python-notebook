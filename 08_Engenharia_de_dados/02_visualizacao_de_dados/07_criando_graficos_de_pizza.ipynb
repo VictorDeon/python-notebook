{
 "cells": [
  {
   "cell_type": "markdown",
   "metadata": {
    "application/vnd.databricks.v1+cell": {
     "cellMetadata": {},
     "inputWidgets": {},
     "nuid": "ba463673-41d7-43c9-8bc0-cf7913458db4",
     "showTitle": false,
     "tableResultSettingsMap": {},
     "title": ""
    }
   },
   "source": [
    "## Criando gráficos de pizza\n",
    "***\n",
    "\n",
    "Os gráficos de pizza (pie charts) são uma forma visual de representar proporções de um todo, facilitando a comparação entre diferentes categorias. No matplotlib, é possível criar gráficos de pizza de maneira simples e personalizável, permitindo destacar fatias, adicionar rótulos e ajustar cores para melhor visualização dos dados."
   ]
  },
  {
   "cell_type": "code",
   "execution_count": 0,
   "metadata": {
    "application/vnd.databricks.v1+cell": {
     "cellMetadata": {
      "byteLimit": 2048000,
      "rowLimit": 10000
     },
     "inputWidgets": {},
     "nuid": "ea1fe998-d1f0-4a92-a930-2deaf24aa9f7",
     "showTitle": false,
     "tableResultSettingsMap": {},
     "title": ""
    }
   },
   "outputs": [],
   "source": [
    "import matplotlib.pyplot as plt"
   ]
  },
  {
   "cell_type": "code",
   "execution_count": 0,
   "metadata": {
    "application/vnd.databricks.v1+cell": {
     "cellMetadata": {
      "byteLimit": 2048000,
      "rowLimit": 10000
     },
     "inputWidgets": {},
     "nuid": "cc6d975e-8f0d-428b-8037-e13ed64779f5",
     "showTitle": false,
     "tableResultSettingsMap": {},
     "title": ""
    }
   },
   "outputs": [],
   "source": [
    "figure, axe = plt.subplots()"
   ]
  },
  {
   "cell_type": "code",
   "execution_count": 0,
   "metadata": {
    "application/vnd.databricks.v1+cell": {
     "cellMetadata": {
      "byteLimit": 2048000,
      "rowLimit": 10000
     },
     "inputWidgets": {},
     "nuid": "1c8766ad-d5c6-4ded-9372-ac0c8346638c",
     "showTitle": false,
     "tableResultSettingsMap": {},
     "title": ""
    }
   },
   "outputs": [],
   "source": [
    "labels = [\"Uva\", \"Morango\", \"Abacaxi\", \"Mamão\"]\n",
    "percent = [15, 30, 45, 10]\n",
    "axe.pie(percent, labels=labels, autopct=\"%1.2f%%\")\n",
    "axe.set_title(\"Percentagem de Frutas\")\n",
    "display(figure)"
   ]
  }
 ],
 "metadata": {
  "application/vnd.databricks.v1+notebook": {
   "computePreferences": null,
   "dashboards": [],
   "environmentMetadata": {
    "base_environment": "",
    "environment_version": "4"
   },
   "inputWidgetPreferences": null,
   "language": "python",
   "notebookMetadata": {
    "pythonIndentUnit": 4
   },
   "notebookName": "07_criando_graficos_de_pizza",
   "widgets": {}
  },
  "language_info": {
   "name": "python"
  }
 },
 "nbformat": 4,
 "nbformat_minor": 0
}
