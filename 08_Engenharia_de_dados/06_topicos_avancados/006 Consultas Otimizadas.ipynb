{
 "cells": [
  {
   "cell_type": "markdown",
   "metadata": {
    "application/vnd.databricks.v1+cell": {
     "cellMetadata": {},
     "inputWidgets": {},
     "nuid": "09a0f73b-7aa7-437a-9d05-d98fa862a848",
     "showTitle": false,
     "tableResultSettingsMap": {},
     "title": ""
    }
   },
   "source": [
    "### Iniciando SparkSession"
   ]
  },
  {
   "cell_type": "code",
   "execution_count": 0,
   "metadata": {
    "application/vnd.databricks.v1+cell": {
     "cellMetadata": {
      "byteLimit": 2048000,
      "rowLimit": 10000
     },
     "inputWidgets": {},
     "nuid": "9c02b7ca-ee87-48da-92f6-0fe3b6a4dfe4",
     "showTitle": false,
     "tableResultSettingsMap": {},
     "title": ""
    }
   },
   "outputs": [],
   "source": [
    "from pyspark.sql import SparkSession\n",
    "\n",
    "# Crie uma SparkSession com as configurações necessárias para o Delta Lake\n",
    "spark = SparkSession.builder \\\n",
    "    .appName(\"Leitura Delta\") \\\n",
    "    .config(\"spark.sql.extensions\", \"io.delta.sql.DeltaSparkSessionExtension\") \\\n",
    "    .config(\"spark.sql.catalog.spark_catalog\", \"org.apache.spark.sql.delta.catalog.DeltaCatalog\") \\\n",
    "    .getOrCreate()"
   ]
  },
  {
   "cell_type": "markdown",
   "metadata": {
    "application/vnd.databricks.v1+cell": {
     "cellMetadata": {},
     "inputWidgets": {},
     "nuid": "7e873db8-8d9f-49b0-8c91-386ec060015c",
     "showTitle": false,
     "tableResultSettingsMap": {},
     "title": ""
    }
   },
   "source": [
    "#### Número de Núcleos"
   ]
  },
  {
   "cell_type": "code",
   "execution_count": 0,
   "metadata": {
    "application/vnd.databricks.v1+cell": {
     "cellMetadata": {
      "byteLimit": 2048000,
      "rowLimit": 10000
     },
     "inputWidgets": {},
     "nuid": "9b77fa68-61f2-40b8-bff0-3aeb37df70e8",
     "showTitle": false,
     "tableResultSettingsMap": {},
     "title": ""
    }
   },
   "outputs": [],
   "source": [
    "try:\n",
    "    num_executors = spark.conf.get(\"spark.executor.instances\")\n",
    "except Exception:\n",
    "    num_executors = \"Not available\"\n",
    "\n",
    "print(f\"Número de núcleos no cluster: {num_executors}\")\n"
   ]
  },
  {
   "cell_type": "markdown",
   "metadata": {
    "application/vnd.databricks.v1+cell": {
     "cellMetadata": {},
     "inputWidgets": {},
     "nuid": "b5c6f696-5a69-49fd-93a2-7017ceb91a35",
     "showTitle": false,
     "tableResultSettingsMap": {},
     "title": ""
    }
   },
   "source": [
    "####Evidência de Fato Vendas"
   ]
  },
  {
   "cell_type": "code",
   "execution_count": 0,
   "metadata": {
    "application/vnd.databricks.v1+cell": {
     "cellMetadata": {
      "byteLimit": 2048000,
      "rowLimit": 10000
     },
     "inputWidgets": {},
     "nuid": "64e98df1-621d-4b5a-bb9a-d07c36de08a6",
     "showTitle": false,
     "tableResultSettingsMap": {},
     "title": ""
    }
   },
   "outputs": [],
   "source": [
    "from delta.tables import DeltaTable\n",
    "delta_path = \"/Volumes/workspace/store/gold/vendas\"\n",
    "delta_table = DeltaTable.forPath(spark, f\"{delta_path}/fato_vendas\")\n",
    "display(delta_table.toDF())"
   ]
  },
  {
   "cell_type": "markdown",
   "metadata": {
    "application/vnd.databricks.v1+cell": {
     "cellMetadata": {},
     "inputWidgets": {},
     "nuid": "be24bc63-9416-4f19-8edd-dd5cf7b8bcd9",
     "showTitle": false,
     "tableResultSettingsMap": {},
     "title": ""
    }
   },
   "source": [
    "####Evidência de Dim Produto"
   ]
  },
  {
   "cell_type": "code",
   "execution_count": 0,
   "metadata": {
    "application/vnd.databricks.v1+cell": {
     "cellMetadata": {
      "byteLimit": 2048000,
      "rowLimit": 10000
     },
     "inputWidgets": {},
     "nuid": "ba145f06-4cea-428e-96d2-f6ec836f41cf",
     "showTitle": false,
     "tableResultSettingsMap": {},
     "title": ""
    }
   },
   "outputs": [],
   "source": [
    "from delta.tables import DeltaTable\n",
    "delta_path = \"/Volumes/workspace/store/gold/vendas\"\n",
    "dim_produto_df = DeltaTable.forPath(spark, f\"{delta_path}/dim_produto\")\n",
    "display(dim_produto_df.toDF())"
   ]
  },
  {
   "cell_type": "markdown",
   "metadata": {
    "application/vnd.databricks.v1+cell": {
     "cellMetadata": {},
     "inputWidgets": {},
     "nuid": "9136cc44-f06e-49fa-91cb-4028a56a5502",
     "showTitle": false,
     "tableResultSettingsMap": {},
     "title": ""
    }
   },
   "source": [
    "####Evidência de Dim Geografia"
   ]
  },
  {
   "cell_type": "code",
   "execution_count": 0,
   "metadata": {
    "application/vnd.databricks.v1+cell": {
     "cellMetadata": {
      "byteLimit": 2048000,
      "rowLimit": 10000
     },
     "inputWidgets": {},
     "nuid": "01986a9f-b85a-47c3-927e-1842d48fa41b",
     "showTitle": false,
     "tableResultSettingsMap": {},
     "title": ""
    }
   },
   "outputs": [],
   "source": [
    "from delta.tables import DeltaTable\n",
    "delta_path = \"/Volumes/workspace/store/gold/vendas\"\n",
    "dim_geografia_df = DeltaTable.forPath(spark, f\"{delta_path}/dim_geografia\")\n",
    "display(dim_geografia_df.toDF())"
   ]
  },
  {
   "cell_type": "markdown",
   "metadata": {
    "application/vnd.databricks.v1+cell": {
     "cellMetadata": {},
     "inputWidgets": {},
     "nuid": "ea9114f8-0cf6-41e5-9d73-e610d35c1a9d",
     "showTitle": false,
     "tableResultSettingsMap": {},
     "title": ""
    }
   },
   "source": [
    "####Evidência de Dim Categoria"
   ]
  },
  {
   "cell_type": "code",
   "execution_count": 0,
   "metadata": {
    "application/vnd.databricks.v1+cell": {
     "cellMetadata": {
      "byteLimit": 2048000,
      "rowLimit": 10000
     },
     "inputWidgets": {},
     "nuid": "d5b1eb2d-a03e-427c-99de-6b7997ae827b",
     "showTitle": false,
     "tableResultSettingsMap": {},
     "title": ""
    }
   },
   "outputs": [],
   "source": [
    "from delta.tables import DeltaTable\n",
    "delta_path = \"/Volumes/workspace/store/gold/vendas\"\n",
    "dim_categoria_df = DeltaTable.forPath(spark, f\"{delta_path}/dim_categoria\")\n",
    "display(dim_categoria_df.toDF())\n"
   ]
  },
  {
   "cell_type": "markdown",
   "metadata": {
    "application/vnd.databricks.v1+cell": {
     "cellMetadata": {},
     "inputWidgets": {},
     "nuid": "a3abeb14-d055-4ea2-965c-e4042627ba82",
     "showTitle": false,
     "tableResultSettingsMap": {},
     "title": ""
    }
   },
   "source": [
    "####Evidência de Dim Cliente"
   ]
  },
  {
   "cell_type": "code",
   "execution_count": 0,
   "metadata": {
    "application/vnd.databricks.v1+cell": {
     "cellMetadata": {
      "byteLimit": 2048000,
      "rowLimit": 10000
     },
     "inputWidgets": {},
     "nuid": "17f7721a-c2e3-40e5-b133-c1bb2d303bdc",
     "showTitle": false,
     "tableResultSettingsMap": {
      "0": {
       "dataGridStateBlob": "{\"version\":1,\"tableState\":{\"columnPinning\":{\"left\":[\"#row_number#\"],\"right\":[]},\"columnSizing\":{},\"columnVisibility\":{}},\"settings\":{\"columns\":{}},\"syncTimestamp\":1761169001269}",
       "filterBlob": null,
       "queryPlanFiltersBlob": null,
       "tableResultIndex": 0
      }
     },
     "title": ""
    }
   },
   "outputs": [],
   "source": [
    "from delta.tables import DeltaTable\n",
    "delta_path = \"/Volumes/workspace/store/gold/vendas\"\n",
    "dim_cliente_df = DeltaTable.forPath(spark, f\"{delta_path}/dim_cliente\")\n",
    "display(dim_cliente_df.toDF())\n"
   ]
  },
  {
   "cell_type": "markdown",
   "metadata": {
    "application/vnd.databricks.v1+cell": {
     "cellMetadata": {},
     "inputWidgets": {},
     "nuid": "88ad5bba-05a6-4c35-a3f1-63cfd73e65ff",
     "showTitle": false,
     "tableResultSettingsMap": {},
     "title": ""
    }
   },
   "source": [
    "####Evidência de Dim Fabricante"
   ]
  },
  {
   "cell_type": "code",
   "execution_count": 0,
   "metadata": {
    "application/vnd.databricks.v1+cell": {
     "cellMetadata": {
      "byteLimit": 2048000,
      "rowLimit": 10000
     },
     "inputWidgets": {},
     "nuid": "443e99c4-dba3-42fb-b823-16b620b52c0b",
     "showTitle": false,
     "tableResultSettingsMap": {},
     "title": ""
    }
   },
   "outputs": [],
   "source": [
    "from delta.tables import DeltaTable\n",
    "delta_path = \"/Volumes/workspace/store/gold/vendas\"\n",
    "dim_fabricante_df = DeltaTable.forPath(spark, f\"{delta_path}/dim_fabricante\")\n",
    "display(dim_fabricante_df.toDF())"
   ]
  },
  {
   "cell_type": "markdown",
   "metadata": {
    "application/vnd.databricks.v1+cell": {
     "cellMetadata": {},
     "inputWidgets": {},
     "nuid": "94c743ba-822f-4648-9a68-0bde42174d3c",
     "showTitle": false,
     "tableResultSettingsMap": {},
     "title": ""
    }
   },
   "source": [
    "####Evidência de Dim Segmento"
   ]
  },
  {
   "cell_type": "code",
   "execution_count": 0,
   "metadata": {
    "application/vnd.databricks.v1+cell": {
     "cellMetadata": {
      "byteLimit": 2048000,
      "rowLimit": 10000
     },
     "inputWidgets": {},
     "nuid": "e2d5acdb-1ee1-47c1-89a4-bb5911804453",
     "showTitle": false,
     "tableResultSettingsMap": {},
     "title": ""
    }
   },
   "outputs": [],
   "source": [
    "from delta.tables import DeltaTable\n",
    "delta_path = \"/Volumes/workspace/store/gold/vendas/\"\n",
    "dim_segmento_df = DeltaTable.forPath(spark, f\"{delta_path}/dim_segmento\")\n",
    "display(dim_segmento_df.toDF())"
   ]
  },
  {
   "cell_type": "markdown",
   "metadata": {
    "application/vnd.databricks.v1+cell": {
     "cellMetadata": {},
     "inputWidgets": {},
     "nuid": "a2f834c3-d356-43e7-9eb0-a10c15e8d237",
     "showTitle": false,
     "tableResultSettingsMap": {},
     "title": ""
    }
   },
   "source": [
    "%md\n",
    "**Dicas para Otimizar a Performance**\n",
    "> **Particionamento**: Definimos partições adequadas para evitar leituras desnecessárias e melhorar a performance de consultas.\n",
    "\n",
    "> **Codec de compressão**: Usamos Snappy, pois oferece boa performance de compressão e descompressão.\n",
    "\n",
    "> **Shuffle partitions**: Definimos um valor fixo para spark.sql.shuffle.partitions para melhorar o paralelismo durante operações como joins e agregações.\n",
    "> Além disso, podemos explorar técnicas como cache para tabelas pequenas (dimensões) que são frequentemente acessadas, e broadcast join para otimizar joins entre a tabela Fato e as tabelas de dimensões"
   ]
  },
  {
   "cell_type": "markdown",
   "metadata": {
    "application/vnd.databricks.v1+cell": {
     "cellMetadata": {},
     "inputWidgets": {},
     "nuid": "657ea84b-7739-4e71-aaa6-6c71d4b0c9b6",
     "showTitle": false,
     "tableResultSettingsMap": {},
     "title": ""
    }
   },
   "source": [
    "### Otimização de Leitura com predicate pushdown:\n",
    "- Certifique-se de que as consultas estão aproveitando o predicate pushdown, o que significa que os filtros são aplicados diretamente ao ler os dados, melhorando a eficiência.\n"
   ]
  },
  {
   "cell_type": "code",
   "execution_count": 0,
   "metadata": {
    "application/vnd.databricks.v1+cell": {
     "cellMetadata": {
      "byteLimit": 2048000,
      "rowLimit": 10000
     },
     "inputWidgets": {},
     "nuid": "51ff85e7-458a-4f8c-ab88-ad1f7319840f",
     "showTitle": false,
     "tableResultSettingsMap": {
      "0": {
       "dataGridStateBlob": "{\"version\":1,\"tableState\":{\"columnPinning\":{\"left\":[\"#row_number#\"],\"right\":[]},\"columnSizing\":{},\"columnVisibility\":{}},\"settings\":{\"columns\":{}},\"syncTimestamp\":1761169132155}",
       "filterBlob": null,
       "queryPlanFiltersBlob": null,
       "tableResultIndex": 0
      }
     },
     "title": ""
    }
   },
   "outputs": [],
   "source": [
    "# Utilizando predicate pushdown para otimizar a consulta\n",
    "# Caminho para o diretório dos arquivos Delta\n",
    "gold_path = \"/Volumes/workspace/store/gold/vendas/fato_vendas\"\n",
    "df_filtrado = spark.read.format(\"delta\").load(gold_path).filter(\"Ano = 2012 AND Mes = 10\")\n",
    "\n",
    "display(df_filtrado)"
   ]
  },
  {
   "cell_type": "markdown",
   "metadata": {
    "application/vnd.databricks.v1+cell": {
     "cellMetadata": {},
     "inputWidgets": {},
     "nuid": "7f32fdfa-2531-4d4d-9247-753d392978ff",
     "showTitle": false,
     "tableResultSettingsMap": {},
     "title": ""
    }
   },
   "source": [
    "#### Broadcast join\n",
    "**Explicação:**\n",
    "**1. Broadcast Join:**\n",
    "\n",
    "- O broadcast() é aplicado às tabelas de <b>dimensões</b> (dim_produto_df e dim_cliente_df). Isso replica as tabelas de dimensão para todos os nós, permitindo que as junções sejam realizadas localmente em cada nó, sem necessidade de comunicação entre nós, o que melhora a performance em clusters distribuídos.\n",
    "\n",
    "**2. Junção com Broadcast:**\n",
    "\n",
    "- As junções são feitas entre as colunas de chave original (IDProduto, IDCliente) e as tabelas de dimensão para obter as chaves substitutas (SK_Produto, SK_Cliente).\n",
    "\n",
    "**3. Particionamento:**\n",
    "\n",
    "- Adicionamos colunas de Ano e Mês para otimizar o armazenamento da tabela de fatos e melhorar o desempenho em consultas temporais. A tabela é particionada por essas colunas.\n",
    "\n",
    "**Vantagens do Broadcast Join:**\n",
    "\n",
    "- Reduz a movimentação de dados durante a operação de junção, pois as dimensões pequenas são replicadas para todos os nós.\n",
    "- Aumenta a performance quando as tabelas de dimensão são significativamente menores que a tabela de fatos, o que é o caso comum em arquiteturas de data warehouse.\n",
    "\n",
    "**Desvantagens do Broadcast Join:**\n",
    "- Limitação de Memória: O DataFrame menor deve caber na memória de todos os nós. Se o DataFrame for muito grande, pode causar erros de falta de memória"
   ]
  },
  {
   "cell_type": "code",
   "execution_count": 0,
   "metadata": {
    "application/vnd.databricks.v1+cell": {
     "cellMetadata": {
      "byteLimit": 2048000,
      "rowLimit": 10000
     },
     "inputWidgets": {},
     "nuid": "de4fc35c-eb99-485c-89ff-4d30340a0899",
     "showTitle": false,
     "tableResultSettingsMap": {},
     "title": ""
    }
   },
   "outputs": [],
   "source": [
    "from pyspark.sql.functions import year, sum, broadcast, desc\n",
    "from pyspark.sql import SparkSession\n",
    "\n",
    "# Leitura das tabelas Delta\n",
    "vendas_df = spark.read.format(\"delta\").load(\"/Volumes/workspace/store/gold/vendas/fato_vendas\")\n",
    "categoria_df = spark.read.format(\"delta\").load(\"/Volumes/workspace/store/gold/vendas/dim_categoria\")\n",
    "\n",
    "# Usar broadcast para a tabela categoria\n",
    " \n",
    "categoria_df = broadcast(categoria_df)\n",
    "\n",
    "# Realizar o join entre as tabelas\n",
    "joined_df = vendas_df.join(categoria_df, vendas_df.sk_categoria == categoria_df.sk_categoria)\n",
    "\n",
    "# Agrupar por categoria e ano e calcular a soma do total de vendas\n",
    "resultado_df = joined_df.groupBy(\"Categoria\", \"Ano\")\\\n",
    "        .agg(sum(\"TotalVendas\").alias(\"TotalVendas\"))\\\n",
    "        .orderBy(\"Ano\",desc(\"TotalVendas\"))\n",
    "\n",
    "display(resultado_df)"
   ]
  },
  {
   "cell_type": "markdown",
   "metadata": {
    "application/vnd.databricks.v1+cell": {
     "cellMetadata": {},
     "inputWidgets": {},
     "nuid": "cec39b43-0df0-4481-a637-77bbedb5f521",
     "showTitle": false,
     "tableResultSettingsMap": {},
     "title": ""
    }
   },
   "source": [
    "**Melhorias de Performance**\n",
    "\n",
    "Filtros de Partição: Se você souber quais partições específicas deseja ler, aplicar filtros nas partições pode reduzir significativamente o tempo de leitura.\n",
    "Reparticionamento: Se os dados estiverem distribuídos de forma desigual, você pode usar repartition() para redistribuir o DataFrame com base em uma coluna-chave."
   ]
  },
  {
   "cell_type": "markdown",
   "metadata": {
    "application/vnd.databricks.v1+cell": {
     "cellMetadata": {},
     "inputWidgets": {},
     "nuid": "929e118a-bf43-4314-9d5c-3c93acc525ad",
     "showTitle": false,
     "tableResultSettingsMap": {},
     "title": ""
    }
   },
   "source": [
    "# Dicas de Performance com PySpark\n",
    "\n",
    "## 1. Use DataFrame/Dataset em vez de RDD\n",
    "Os DataFrames e Datasets são mais eficientes que os RDDs, pois incluem otimizações automáticas e um motor de execução otimizado. Eles permitem um melhor gerenciamento de memória e execução mais rápida.\n",
    "\n",
    "## 2. Evite UDFs (User Defined Functions)\n",
    "As UDFs podem ser lentas porque não são otimizadas pelo Catalyst Optimizer do Spark. Sempre que possível, use as funções internas do Spark SQL, que são mais eficientes.\n",
    "\n",
    "## 3. Use `coalesce()` em vez de `repartition()`\n",
    "O `coalesce()` é mais eficiente que o `repartition()` para reduzir o número de partições, pois evita o shuffle de dados.\n",
    "\n",
    "## 4. Cache de Dados\n",
    "Cache os DataFrames que são reutilizados várias vezes em suas operações. Isso evita a re-leitura dos dados do disco e melhora o desempenho.\n",
    "\n",
    "## 5. Reduza Operações de Shuffle\n",
    "Operações de shuffle, como `groupByKey` e `reduceByKey`, podem ser caras. Use `mapPartitions` e `reduceByKey` sempre que possível para minimizar o shuffle.\n",
    "\n",
    "## 6. Ajuste o Número de Partições\n",
    "Ajuste o número de partições para equilibrar a carga de trabalho entre os executores. Um número inadequado de partições pode levar a um uso ineficiente dos recursos.\n",
    "\n",
    "## 7. Use Formatos de Dados Serializados\n",
    "Formatos de dados como Parquet e ORC são mais eficientes para leitura e escrita, pois são compactados e otimizados para consultas.\n",
    "\n",
    "## 8. Ajuste as Configurações do Spark\n",
    "Ajuste configurações como `spark.executor.memory`, `spark.executor.cores` e `spark.sql.shuffle.partitions` para otimizar o uso de recursos.\n",
    "\n",
    "## 9. Utilize a Adaptive Query Execution (AQE)\n",
    "A AQE permite que o Spark ajuste dinamicamente o plano de execução das consultas com base nas estatísticas de tempo de execução, melhorando o desempenho.\n",
    "\n",
    "Implementar essas práticas pode ajudar a melhorar significativamente o desempenho de suas aplicações PySpark. Se precisar de mais detalhes ou tiver outras perguntas, estou aqui para ajudar! 🤜🤛"
   ]
  }
 ],
 "metadata": {
  "application/vnd.databricks.v1+notebook": {
   "computePreferences": null,
   "dashboards": [],
   "environmentMetadata": null,
   "inputWidgetPreferences": null,
   "language": "python",
   "notebookMetadata": {
    "pythonIndentUnit": 4
   },
   "notebookName": "006 Consultas Otimizadas",
   "widgets": {}
  },
  "language_info": {
   "name": "python"
  }
 },
 "nbformat": 4,
 "nbformat_minor": 0
}
