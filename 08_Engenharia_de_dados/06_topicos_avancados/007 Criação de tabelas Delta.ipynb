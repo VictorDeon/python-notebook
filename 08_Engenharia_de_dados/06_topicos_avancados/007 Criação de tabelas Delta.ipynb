{
 "cells": [
  {
   "cell_type": "markdown",
   "metadata": {
    "application/vnd.databricks.v1+cell": {
     "cellMetadata": {},
     "inputWidgets": {},
     "nuid": "2197cb02-e3a7-4f47-8d73-6f8c173743ce",
     "showTitle": false,
     "tableResultSettingsMap": {},
     "title": ""
    }
   },
   "source": [
    "###Criando Banco de dados (lhdw_vendas)"
   ]
  },
  {
   "cell_type": "code",
   "execution_count": 0,
   "metadata": {
    "application/vnd.databricks.v1+cell": {
     "cellMetadata": {
      "byteLimit": 2048000,
      "rowLimit": 10000
     },
     "inputWidgets": {},
     "nuid": "69201c60-bbf1-41e9-b157-dc88b534f562",
     "showTitle": false,
     "tableResultSettingsMap": {},
     "title": ""
    }
   },
   "outputs": [],
   "source": [
    "# Criar o banco de dados\n",
    "spark.sql(\"CREATE DATABASE IF NOT EXISTS lhdw_vendas\")\n",
    "\n",
    "# Usar o banco de dados\n",
    "spark.sql(\"USE lhdw_vendas\")"
   ]
  },
  {
   "cell_type": "markdown",
   "metadata": {
    "application/vnd.databricks.v1+cell": {
     "cellMetadata": {},
     "inputWidgets": {},
     "nuid": "2ec41ed8-e166-405e-b5ae-0484c586c8c2",
     "showTitle": false,
     "tableResultSettingsMap": {},
     "title": ""
    }
   },
   "source": [
    "####Criando tabelas Delta"
   ]
  },
  {
   "cell_type": "code",
   "execution_count": 0,
   "metadata": {
    "application/vnd.databricks.v1+cell": {
     "cellMetadata": {
      "byteLimit": 2048000,
      "rowLimit": 10000
     },
     "inputWidgets": {},
     "nuid": "edb03a6a-f180-4b59-a6fc-f57ff95d1fe4",
     "showTitle": false,
     "tableResultSettingsMap": {},
     "title": ""
    }
   },
   "outputs": [],
   "source": [
    "delta_table_path = \"/Volumes/workspace/store/gold/vendas/dim_produto\"\n",
    "\n",
    "# Registre a tabela Delta no catálogo do Spark (caso o path venha da nuvem)\n",
    "spark.sql(f\"\"\"\n",
    "    CREATE TABLE IF NOT EXISTS lhdw_vendas.dim_produto\n",
    "    USING DELTA\n",
    "    LOCATION '{delta_table_path}'\n",
    "\"\"\")\n",
    "\n",
    "# Verifique se a tabela foi criada\n",
    "spark.sql(\"SHOW TABLES\").show()"
   ]
  },
  {
   "cell_type": "code",
   "execution_count": 0,
   "metadata": {
    "application/vnd.databricks.v1+cell": {
     "cellMetadata": {
      "byteLimit": 2048000,
      "rowLimit": 10000
     },
     "inputWidgets": {},
     "nuid": "509787ca-a43e-4728-9f94-7653848f5c1f",
     "showTitle": false,
     "tableResultSettingsMap": {},
     "title": ""
    }
   },
   "outputs": [],
   "source": [
    "delta_table_path = \"/Volumes/workspace/store/gold/vendas/dim_categoria\"\n",
    "# Registre a tabela Delta no catálogo do Spark\n",
    "spark.sql(f\"\"\"\n",
    "    CREATE TABLE IF NOT EXISTS lhdw_vendas.dim_categoria\n",
    "    USING DELTA\n",
    "    LOCATION '{delta_table_path}'\n",
    "\"\"\")\n",
    "\n",
    "# Verifique se a tabela foi criada\n",
    "spark.sql(\"SHOW TABLES\").show()"
   ]
  },
  {
   "cell_type": "code",
   "execution_count": 0,
   "metadata": {
    "application/vnd.databricks.v1+cell": {
     "cellMetadata": {
      "byteLimit": 2048000,
      "rowLimit": 10000
     },
     "inputWidgets": {},
     "nuid": "ee1c363c-2569-4475-ba3d-03b08f0a07e5",
     "showTitle": false,
     "tableResultSettingsMap": {},
     "title": ""
    }
   },
   "outputs": [],
   "source": [
    "delta_table_path = \"/Volumes/workspace/store/gold/vendas/dim_segmento\"\n",
    "# Registre a tabela Delta no catálogo do Spark\n",
    "spark.sql(f\"\"\"\n",
    "    CREATE TABLE IF NOT EXISTS lhdw_vendas.dim_segmento\n",
    "    USING DELTA\n",
    "    LOCATION '{delta_table_path}'\n",
    "\"\"\")\n",
    "\n",
    "# Verifique se a tabela foi criada\n",
    "spark.sql(\"SHOW TABLES\").show()"
   ]
  },
  {
   "cell_type": "code",
   "execution_count": 0,
   "metadata": {
    "application/vnd.databricks.v1+cell": {
     "cellMetadata": {
      "byteLimit": 2048000,
      "rowLimit": 10000
     },
     "inputWidgets": {},
     "nuid": "25b501f1-09f9-4780-9363-6ecea4e4464c",
     "showTitle": false,
     "tableResultSettingsMap": {},
     "title": ""
    }
   },
   "outputs": [],
   "source": [
    "delta_table_path = \"/Volumes/workspace/store/gold/vendas/dim_fabricante\"\n",
    "# Registre a tabela Delta no catálogo do Spark\n",
    "spark.sql(f\"\"\"\n",
    "    CREATE TABLE IF NOT EXISTS lhdw_vendas.dim_fabricante\n",
    "    USING DELTA\n",
    "    LOCATION '{delta_table_path}'\n",
    "\"\"\")\n",
    "\n",
    "# Verifique se a tabela foi criada\n",
    "spark.sql(\"SHOW TABLES\").show()"
   ]
  },
  {
   "cell_type": "code",
   "execution_count": 0,
   "metadata": {
    "application/vnd.databricks.v1+cell": {
     "cellMetadata": {
      "byteLimit": 2048000,
      "rowLimit": 10000
     },
     "inputWidgets": {},
     "nuid": "6a5ed532-8fc6-47ee-8042-b7f951b11a62",
     "showTitle": false,
     "tableResultSettingsMap": {},
     "title": ""
    }
   },
   "outputs": [],
   "source": [
    "delta_table_path = \"/Volumes/workspace/store/gold/vendas/dim_geografia\"\n",
    "# Registre a tabela Delta no catálogo do Spark\n",
    "spark.sql(f\"\"\"\n",
    "    CREATE TABLE IF NOT EXISTS lhdw_vendas.dim_geografia\n",
    "    USING DELTA\n",
    "    LOCATION '{delta_table_path}'\n",
    "\"\"\")\n",
    "\n",
    "# Verifique se a tabela foi criada\n",
    "spark.sql(\"SHOW TABLES\").show()"
   ]
  },
  {
   "cell_type": "code",
   "execution_count": 0,
   "metadata": {
    "application/vnd.databricks.v1+cell": {
     "cellMetadata": {
      "byteLimit": 2048000,
      "rowLimit": 10000
     },
     "inputWidgets": {},
     "nuid": "c576c445-a7b6-433a-ae4c-2f73baa01803",
     "showTitle": false,
     "tableResultSettingsMap": {},
     "title": ""
    }
   },
   "outputs": [],
   "source": [
    "delta_table_path = \"/Volumes/workspace/store/gold/vendas/dim_cliente\"\n",
    "# Registre a tabela Delta no catálogo do Spark\n",
    "spark.sql(f\"\"\"\n",
    "    CREATE TABLE IF NOT EXISTS lhdw_vendas.dim_cliente\n",
    "    USING DELTA\n",
    "    LOCATION '{delta_table_path}'\n",
    "\"\"\")\n",
    "\n",
    "# Verifique se a tabela foi criada\n",
    "spark.sql(\"SHOW TABLES\").show()"
   ]
  },
  {
   "cell_type": "code",
   "execution_count": 0,
   "metadata": {
    "application/vnd.databricks.v1+cell": {
     "cellMetadata": {
      "byteLimit": 2048000,
      "rowLimit": 10000
     },
     "inputWidgets": {},
     "nuid": "84f32ed3-e82b-4126-b528-51caa9202fe2",
     "showTitle": false,
     "tableResultSettingsMap": {},
     "title": ""
    }
   },
   "outputs": [],
   "source": [
    "delta_table_path = \"/Volumes/workspace/store/gold/vendas/fato_vendas\"\n",
    "# Registre a tabela Delta no catálogo do Spark\n",
    "spark.sql(f\"\"\"\n",
    "    CREATE TABLE IF NOT EXISTS lhdw_vendas.fato_vendas\n",
    "    USING DELTA\n",
    "    LOCATION '{delta_table_path}'\n",
    "\"\"\")\n",
    "\n",
    "# Verifique se a tabela foi criada\n",
    "spark.sql(\"SHOW TABLES\").show()"
   ]
  },
  {
   "cell_type": "code",
   "execution_count": 0,
   "metadata": {
    "application/vnd.databricks.v1+cell": {
     "cellMetadata": {
      "byteLimit": 2048000,
      "rowLimit": 10000
     },
     "inputWidgets": {},
     "nuid": "1c03a4e9-fb16-4804-9008-57eecb2e09b1",
     "showTitle": false,
     "tableResultSettingsMap": {},
     "title": ""
    }
   },
   "outputs": [],
   "source": [
    "import gc\n",
    "spark.catalog.clearCache()\n",
    "# Coletar lixo após operações pesadas para liberar memória\n",
    "gc.collect()"
   ]
  }
 ],
 "metadata": {
  "application/vnd.databricks.v1+notebook": {
   "computePreferences": null,
   "dashboards": [],
   "environmentMetadata": null,
   "inputWidgetPreferences": null,
   "language": "python",
   "notebookMetadata": {
    "pythonIndentUnit": 4
   },
   "notebookName": "007 Criação de tabelas Delta",
   "widgets": {}
  },
  "language_info": {
   "name": "python"
  }
 },
 "nbformat": 4,
 "nbformat_minor": 0
}
