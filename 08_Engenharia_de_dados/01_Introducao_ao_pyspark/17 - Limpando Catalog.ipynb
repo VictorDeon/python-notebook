{
 "cells": [
  {
   "cell_type": "code",
   "execution_count": 0,
   "metadata": {
    "application/vnd.databricks.v1+cell": {
     "cellMetadata": {
      "byteLimit": 2048000,
      "rowLimit": 10000
     },
     "inputWidgets": {},
     "nuid": "b8dea878-b5ec-4bf3-a696-86dc93f0973b",
     "showTitle": false,
     "tableResultSettingsMap": {},
     "title": ""
    }
   },
   "outputs": [],
   "source": [
    "# Drop all tables in the 'default' schema\n",
    "spark.sql(f\"DROP TABLE IF EXISTS default.anac\")\n",
    "spark.sql(f\"DROP TABLE IF EXISTS default.anac_delta_novo\")\n",
    "spark.sql(f\"DROP TABLE IF EXISTS default.anac_normal\")\n",
    "spark.sql(f\"DROP TABLE IF EXISTS default.anac_particionado\")\n",
    "\n",
    "# Drop the database 'bike_store'\n",
    "spark.sql(\"DROP DATABASE IF EXISTS bike_store CASCADE\")\n",
    "\n",
    "# Drop the volume 'tutorial'\n",
    "spark.sql(\"DROP VOLUME IF EXISTS tutorial\")"
   ]
  }
 ],
 "metadata": {
  "application/vnd.databricks.v1+notebook": {
   "computePreferences": null,
   "dashboards": [],
   "environmentMetadata": {
    "base_environment": "",
    "environment_version": "4"
   },
   "inputWidgetPreferences": null,
   "language": "python",
   "notebookMetadata": {
    "pythonIndentUnit": 4
   },
   "notebookName": "17 - Limpando Catalog",
   "widgets": {}
  },
  "language_info": {
   "name": "python"
  }
 },
 "nbformat": 4,
 "nbformat_minor": 0
}
