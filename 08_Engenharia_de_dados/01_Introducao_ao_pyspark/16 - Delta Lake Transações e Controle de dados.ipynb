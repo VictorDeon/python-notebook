{
 "cells": [
  {
   "cell_type": "markdown",
   "metadata": {
    "application/vnd.databricks.v1+cell": {
     "cellMetadata": {},
     "inputWidgets": {},
     "nuid": "b6f7ad40-de70-40c2-988c-3d9f31153d43",
     "showTitle": false,
     "tableResultSettingsMap": {},
     "title": ""
    }
   },
   "source": [
    "## O que é Delta Lake?\n",
    "\n",
    "https://learn.microsoft.com/pt-br/azure/databricks/delta/\n",
    "\n",
    "Delta Lake é uma tecnologia de armazenamento open source que traz confiabilidade, desempenho e governança para os data lakes. Ela permite a criação de pipelines de dados robustos, garantindo transações ACID, versionamento de dados e suporte a operações de leitura e escrita simultâneas. Com Delta Lake, é possível unificar dados estruturados e semiestruturados em um único local, facilitando análises avançadas e machine learning em larga escala.\n",
    "\n",
    "* **Delta Lake**: É a camada de armazenamento otimizada que fornece a base para armazenar dados e tabelas na Plataforma Databricks Lakehouse\n",
    "\n",
    "* **Lakehouse**: É o ambiente onde fica armazenado arquivos\\tabelas no formato Delta\n",
    "\n",
    "* **Diferença básica de Delta lake e Data lake**: O que acontece quando apaga dados dos 2 ambientes? voce sabe? Se eu apagar algo no meus dado no ambiente de Data Lake eu teria que refazer a ingestão da minha base novamente. Já no Delta Lake temos versionamento, é só voltar a versão anterior dos dados.\n",
    "\n",
    "* **Transações ACID**: significa atomicidade, consistência, isolamento e durabilidade.\n",
    "\n",
    "  * **Atomicidade**: significa que todas as transações têm êxito ou falham completamente.\n",
    "  * **Consistência**: estão relacionadas a como um determinado estado dos dados é observado por operações simultâneas.\n",
    "  * **Isolamento**: se refere a como as operações simultâneas podem entrar em conflito entre si.\n",
    "  * **Durabilidade**: significa que as alterações confirmadas são permanentes.\n",
    "\n",
    "* **Benefícios**:\n",
    "\n",
    "  * **Armazenamento otimizado**: O Delta Lake é o software de código aberto que estende arquivos de dados Parquet com log e extramamente eficiente e compactado\n",
    "\n",
    "  * Segurança e controle do fluxo de dados e recuperação se nescessário \n",
    "\n",
    "  * **Versionamento dos dados**:  Cada gravação em uma tabela Delta cria uma versão da tabela. Você pode usar o log de transações para examinar modificações em sua tabela e consultar versões anteriores Você pode recuperar informações de operações, usuário, carimbo de data/hora e assim por diante relativas a cada gravação em uma tabela do Delta por meio do comando history. As operações são retornadas em ordem cronológica inversa. A retenção do histórico de tabelas é determinada pela configuração da tabela `delta.logRetentionDuration`, que é de 30 dias por padrão.\n",
    "\n",
    "* **Exemplo de data lake**: https://www.databricks.com/br/glossary/data-lakehouse\n",
    "\n",
    "Referencia ACID\n",
    "\n",
    "https://learn.microsoft.com/pt-br/azure/databricks/lakehouse/acid \n",
    "\n",
    "Referencia SQL\n",
    "\n",
    "https://learn.microsoft.com/pt-br/azure/databricks/sql/language-manual/\n",
    "\n",
    "https://learn.microsoft.com/pt-br/azure/databricks/delta/tutorial\n",
    "\n",
    "Referencia Dataflame\n",
    "\n",
    "https://docs.delta.io/latest/api/python/index.html\n",
    "\n",
    "Lakehouse\n",
    "\n",
    "https://www.databricks.com/br/blog/2020/01/30/what-is-a-data-lakehouse.html\n"
   ]
  },
  {
   "cell_type": "code",
   "execution_count": 0,
   "metadata": {
    "application/vnd.databricks.v1+cell": {
     "cellMetadata": {
      "byteLimit": 2048000,
      "rowLimit": 10000
     },
     "inputWidgets": {},
     "nuid": "43cf2058-144e-421c-b237-280e6e1bd623",
     "showTitle": false,
     "tableResultSettingsMap": {},
     "title": ""
    }
   },
   "outputs": [],
   "source": [
    "# Salvando em tabela Delta simples para verificarmos os logs de transações \n",
    "spark.read.json(\"/Volumes/workspace/default/tutorial/anac/V_OCORRENCIA_AMPLA.json\") \\\n",
    "    .write.format(\"delta\") \\\n",
    "    .mode(\"overwrite\") \\\n",
    "    .saveAsTable(\"anac\")"
   ]
  },
  {
   "cell_type": "code",
   "execution_count": 0,
   "metadata": {
    "application/vnd.databricks.v1+cell": {
     "cellMetadata": {
      "byteLimit": 2048000,
      "implicitDf": true,
      "rowLimit": 10000
     },
     "inputWidgets": {},
     "nuid": "8d6e2690-a96f-46dc-a797-81c623f5f0f3",
     "showTitle": false,
     "tableResultSettingsMap": {},
     "title": ""
    }
   },
   "outputs": [],
   "source": [
    "%sql\n",
    "select * from anac"
   ]
  },
  {
   "cell_type": "code",
   "execution_count": 0,
   "metadata": {
    "application/vnd.databricks.v1+cell": {
     "cellMetadata": {
      "byteLimit": 2048000,
      "implicitDf": true,
      "rowLimit": 10000
     },
     "inputWidgets": {},
     "nuid": "47f560ac-5cbc-4301-ae2c-f28a573dc6b4",
     "showTitle": false,
     "tableResultSettingsMap": {},
     "title": ""
    }
   },
   "outputs": [],
   "source": [
    "%sql \n",
    "delete from anac\n",
    "where Aerodromo_de_Origem is null;"
   ]
  },
  {
   "cell_type": "code",
   "execution_count": 0,
   "metadata": {
    "application/vnd.databricks.v1+cell": {
     "cellMetadata": {
      "byteLimit": 2048000,
      "implicitDf": true,
      "rowLimit": 10000
     },
     "inputWidgets": {},
     "nuid": "c0befea8-4d95-423c-abce-5340e0905b96",
     "showTitle": false,
     "tableResultSettingsMap": {},
     "title": ""
    }
   },
   "outputs": [],
   "source": [
    "%sql \n",
    "delete from anac\n",
    "where UF = \"MG\";"
   ]
  },
  {
   "cell_type": "code",
   "execution_count": 0,
   "metadata": {
    "application/vnd.databricks.v1+cell": {
     "cellMetadata": {
      "byteLimit": 2048000,
      "implicitDf": true,
      "rowLimit": 10000
     },
     "inputWidgets": {},
     "nuid": "36b7df14-5cac-4085-ac4a-16e7b7a688ea",
     "showTitle": false,
     "tableResultSettingsMap": {},
     "title": ""
    }
   },
   "outputs": [],
   "source": [
    "%sql \n",
    "-- testando os deletes\n",
    "select * from anac\n",
    "where UF = \"SP\";"
   ]
  },
  {
   "cell_type": "markdown",
   "metadata": {
    "application/vnd.databricks.v1+cell": {
     "cellMetadata": {},
     "inputWidgets": {},
     "nuid": "6a5c657b-5bb9-436c-b86b-f4c5b35264ad",
     "showTitle": false,
     "tableResultSettingsMap": {},
     "title": ""
    }
   },
   "source": [
    "###Versionamento, verificando e recuperando dados \n",
    "\n",
    "O Delta Lake oferece recursos avançados de versionamento de dados, permitindo rastrear todas as alterações realizadas em uma tabela ao longo do tempo. Com o versionamento, é possível consultar versões anteriores dos dados, auditar modificações e até mesmo restaurar registros excluídos ou alterados acidentalmente. Esses recursos são fundamentais para garantir governança, rastreabilidade e segurança em ambientes de dados modernos.\n",
    "\n",
    "A retenção do histórico de tabelas é determinada pela configuração da tabela `delta.logRetentionDuration`, que é de 30 dias por padrão\n",
    "https://learn.microsoft.com/pt-br/azure/databricks/delta/history"
   ]
  },
  {
   "cell_type": "code",
   "execution_count": 0,
   "metadata": {
    "application/vnd.databricks.v1+cell": {
     "cellMetadata": {
      "byteLimit": 2048000,
      "implicitDf": true,
      "rowLimit": 10000
     },
     "inputWidgets": {},
     "nuid": "5002ea02-618a-4806-980b-ae8380017b61",
     "showTitle": false,
     "tableResultSettingsMap": {},
     "title": ""
    }
   },
   "outputs": [],
   "source": [
    "%sql\n",
    "-- Ver logs transacionais\n",
    "DESCRIBE HISTORY anac "
   ]
  },
  {
   "cell_type": "code",
   "execution_count": 0,
   "metadata": {
    "application/vnd.databricks.v1+cell": {
     "cellMetadata": {
      "byteLimit": 2048000,
      "implicitDf": true,
      "rowLimit": 10000
     },
     "inputWidgets": {},
     "nuid": "b322faf6-89f0-4cb1-b123-8160d6a58988",
     "showTitle": false,
     "tableResultSettingsMap": {
      "0": {
       "dataGridStateBlob": "{\"version\":1,\"tableState\":{\"columnPinning\":{\"left\":[\"#row_number#\"],\"right\":[]},\"columnSizing\":{\"name\":165},\"columnVisibility\":{}},\"settings\":{\"columns\":{}},\"syncTimestamp\":1760478193906}",
       "filterBlob": null,
       "queryPlanFiltersBlob": null,
       "tableResultIndex": 0
      }
     },
     "title": ""
    }
   },
   "outputs": [],
   "source": [
    "%sql\n",
    "-- Ver detalhes da estrutura Delta\n",
    "DESCRIBE DETAIL anac"
   ]
  },
  {
   "cell_type": "code",
   "execution_count": 0,
   "metadata": {
    "application/vnd.databricks.v1+cell": {
     "cellMetadata": {
      "byteLimit": 2048000,
      "implicitDf": true,
      "rowLimit": 10000
     },
     "inputWidgets": {},
     "nuid": "ddab3d19-5652-4869-9f37-3452b3f6adf2",
     "showTitle": false,
     "tableResultSettingsMap": {},
     "title": ""
    }
   },
   "outputs": [],
   "source": [
    "%sql \n",
    "-- Vendo versao de log na prática \n",
    "select * from anac VERSION AS OF 1\n"
   ]
  },
  {
   "cell_type": "code",
   "execution_count": 0,
   "metadata": {
    "application/vnd.databricks.v1+cell": {
     "cellMetadata": {
      "byteLimit": 2048000,
      "implicitDf": true,
      "rowLimit": 10000
     },
     "inputWidgets": {},
     "nuid": "25672b0b-1bc8-49fc-ad25-c3021aae33d9",
     "showTitle": false,
     "tableResultSettingsMap": {},
     "title": ""
    }
   },
   "outputs": [],
   "source": [
    "%sql\n",
    "--- Restaurando uma versao (fazer consulta antes de restaurar para ver funcionando na prática)\n",
    "select * from anac where UF = \"MG\";"
   ]
  },
  {
   "cell_type": "code",
   "execution_count": 0,
   "metadata": {
    "application/vnd.databricks.v1+cell": {
     "cellMetadata": {
      "byteLimit": 2048000,
      "implicitDf": true,
      "rowLimit": 10000
     },
     "inputWidgets": {},
     "nuid": "b47abd9e-d023-4859-b59c-06746b5d6405",
     "showTitle": false,
     "tableResultSettingsMap": {},
     "title": ""
    }
   },
   "outputs": [],
   "source": [
    "%sql\n",
    "RESTORE TABLE anac TO VERSION AS OF 1"
   ]
  },
  {
   "cell_type": "code",
   "execution_count": 0,
   "metadata": {
    "application/vnd.databricks.v1+cell": {
     "cellMetadata": {
      "byteLimit": 2048000,
      "implicitDf": true,
      "rowLimit": 10000
     },
     "inputWidgets": {},
     "nuid": "0446dde4-ecff-4638-be94-6af31a2861ad",
     "showTitle": false,
     "tableResultSettingsMap": {},
     "title": ""
    }
   },
   "outputs": [],
   "source": [
    "%sql\n",
    "select * from anac where UF = \"MG\";"
   ]
  },
  {
   "cell_type": "markdown",
   "metadata": {
    "application/vnd.databricks.v1+cell": {
     "cellMetadata": {},
     "inputWidgets": {},
     "nuid": "c665ebca-6a5b-4a1c-9ad9-bf403605d304",
     "showTitle": false,
     "tableResultSettingsMap": {},
     "title": ""
    }
   },
   "source": [
    "### Salvando de modo particionado\n",
    "\n",
    "O particionamento é uma técnica fundamental no armazenamento de dados em larga escala, permitindo dividir grandes volumes de informações em partes menores e organizadas com base em uma ou mais colunas. Ao salvar dados de modo particionado no Delta Lake, é possível otimizar consultas, acelerar o processamento e reduzir custos de leitura, já que apenas as partições relevantes são acessadas durante as operações. Essa abordagem é especialmente útil em cenários de big data, onde a eficiência e a escalabilidade são essenciais para o desempenho das aplicações analíticas."
   ]
  },
  {
   "cell_type": "code",
   "execution_count": 0,
   "metadata": {
    "application/vnd.databricks.v1+cell": {
     "cellMetadata": {
      "byteLimit": 2048000,
      "rowLimit": 10000
     },
     "inputWidgets": {},
     "nuid": "5be8dbe2-9cb1-4e65-9a3c-8b41460a124b",
     "showTitle": false,
     "tableResultSettingsMap": {},
     "title": ""
    }
   },
   "outputs": [],
   "source": [
    "# Salvando em modo particionado \n",
    "# Obs: particionar o que realmente for nescessárrio para otimizar a consulta (lembra das aulas de particionamento)\n",
    "spark.read.json(\"/Volumes/workspace/default/tutorial/anac/V_OCORRENCIA_AMPLA.json\") \\\n",
    "    .write.format(\"delta\") \\\n",
    "    .partitionBy(\"UF\") \\\n",
    "    .mode(\"overwrite\") \\\n",
    "    .saveAsTable(\"anac_particionado\")"
   ]
  },
  {
   "cell_type": "code",
   "execution_count": 0,
   "metadata": {
    "application/vnd.databricks.v1+cell": {
     "cellMetadata": {
      "byteLimit": 2048000,
      "implicitDf": true,
      "rowLimit": 10000
     },
     "inputWidgets": {},
     "nuid": "aca7dd65-f112-4782-9aa4-9c32e1754926",
     "showTitle": false,
     "tableResultSettingsMap": {},
     "title": ""
    }
   },
   "outputs": [],
   "source": [
    "%sql \n",
    "select * from anac_particionado\n",
    "where UF = \"MG\""
   ]
  },
  {
   "cell_type": "code",
   "execution_count": 0,
   "metadata": {
    "application/vnd.databricks.v1+cell": {
     "cellMetadata": {
      "byteLimit": 2048000,
      "implicitDf": true,
      "rowLimit": 10000
     },
     "inputWidgets": {},
     "nuid": "1f182005-658d-43f4-8645-8fc4f077e97b",
     "showTitle": false,
     "tableResultSettingsMap": {},
     "title": ""
    }
   },
   "outputs": [],
   "source": [
    "%sql \n",
    "delete from anac_particionado\n",
    "where Aerodromo_de_Destino = 'SBMK' "
   ]
  },
  {
   "cell_type": "code",
   "execution_count": 0,
   "metadata": {
    "application/vnd.databricks.v1+cell": {
     "cellMetadata": {
      "byteLimit": 2048000,
      "implicitDf": true,
      "rowLimit": 10000
     },
     "inputWidgets": {},
     "nuid": "7b2c490c-dafb-418c-a1dc-fe628689b54b",
     "showTitle": false,
     "tableResultSettingsMap": {},
     "title": ""
    }
   },
   "outputs": [],
   "source": [
    "%sql \n",
    "describe history anac_particionado;"
   ]
  },
  {
   "cell_type": "markdown",
   "metadata": {
    "application/vnd.databricks.v1+cell": {
     "cellMetadata": {},
     "inputWidgets": {},
     "nuid": "55888a9d-76e4-4eb4-adeb-6f5d5a03da08",
     "showTitle": false,
     "tableResultSettingsMap": {},
     "title": ""
    }
   },
   "source": [
    "### Otimizando Consulta \n",
    "\n",
    "https://learn.microsoft.com/pt-br/azure/databricks/delta/tutorial\n",
    "\n",
    "https://learn.microsoft.com/pt-br/azure/databricks/delta/optimize\n",
    "\n",
    "https://learn.microsoft.com/pt-br/azure/databricks/delta/vacuum\n",
    "\n",
    "A otimização de consultas em tabelas Delta Lake é fundamental para garantir alta performance e eficiência no processamento de grandes volumes de dados. O Delta Lake oferece comandos e práticas recomendadas, como o uso do `OPTIMIZE` para compactação de arquivos e o `VACUUM` para limpeza de arquivos obsoletos, que ajudam a melhorar a velocidade das consultas e a organização do armazenamento. Nesta seção, veremos como aplicar essas técnicas para obter o máximo desempenho em ambientes de Lakehouse."
   ]
  },
  {
   "cell_type": "code",
   "execution_count": 0,
   "metadata": {
    "application/vnd.databricks.v1+cell": {
     "cellMetadata": {
      "byteLimit": 2048000,
      "rowLimit": 10000
     },
     "inputWidgets": {},
     "nuid": "f167fe4a-46c1-4462-b21e-6b42f85e9644",
     "showTitle": false,
     "tableResultSettingsMap": {},
     "title": ""
    }
   },
   "outputs": [],
   "source": [
    "spark.read.json(\"/Volumes/workspace/default/tutorial/anac/V_OCORRENCIA_AMPLA.json\") \\\n",
    "    .write.mode(\"overwrite\") \\\n",
    "    .saveAsTable(\"anac_normal\")"
   ]
  },
  {
   "cell_type": "code",
   "execution_count": 0,
   "metadata": {
    "application/vnd.databricks.v1+cell": {
     "cellMetadata": {
      "byteLimit": 2048000,
      "implicitDf": true,
      "rowLimit": 10000
     },
     "inputWidgets": {},
     "nuid": "a4661db1-657a-44a4-a542-78a78bb5103a",
     "showTitle": false,
     "tableResultSettingsMap": {},
     "title": ""
    }
   },
   "outputs": [],
   "source": [
    "%sql\n",
    "select\n",
    "  replace(Aerodromo_de_Origem,\"Sem Origem\") as Origem,\n",
    "  Fase_da_Operacao,\n",
    "  Danos_a_Aeronave,\n",
    "  Municipio,\n",
    "  UF as Estado,\n",
    "  Operacao,\n",
    "  Regiao,\n",
    "  count(Matricula)  as quantidade\n",
    "from anac_normal\n",
    "group by 1,2,3,4,5,6,7\n",
    "having Origem is not null\n",
    "and Danos_a_Aeronave = 'Nenhum'\n",
    "order by 1,2;"
   ]
  },
  {
   "cell_type": "markdown",
   "metadata": {
    "application/vnd.databricks.v1+cell": {
     "cellMetadata": {},
     "inputWidgets": {},
     "nuid": "92eb181b-ea7d-43bf-9724-c030611b35cc",
     "showTitle": false,
     "tableResultSettingsMap": {},
     "title": ""
    }
   },
   "source": [
    "#### Formato Otimizado\n",
    "\n",
    "O Delta Lake utiliza um formato de armazenamento otimizado baseado em arquivos Parquet, enriquecido com um log de transações que garante confiabilidade, desempenho e governança dos dados. Esse formato permite operações ACID, versionamento e gerenciamento eficiente de grandes volumes de dados, tornando o Delta Lake ideal para ambientes de lakehouse e análises avançadas.\n",
    "\n",
    "```sql\n",
    "OPTIMIZE nome_da_tabela  \n",
    "ZORDER BY (nome_coluna_ordenada)\n",
    "```\n",
    "\n",
    "**Obs**: cria tipo um indice nas colunas pode ser mais de 1, se der erro (`IllegalArgumentException: Danos_a_Aeronave is a partition column. Z-Ordering can only be performed on data columns`) quer dizer que a otimização Z-Ordering que você está tentando aplicar não será eficaz porque as estatísticas não estão sendo coletadas para as colunas especificadas ou então esta tentando fazer pela partição (no nosso exemplo foi criado a partição Danos_a_Aeronave nao posso fazer ZORDER BY por ela).\n",
    "\n",
    "\n",
    "```sql\n",
    "set spark.databricks.delta.optimize.zorder.checkStatsCollection.enabled = False;\n",
    "```"
   ]
  },
  {
   "cell_type": "code",
   "execution_count": 0,
   "metadata": {
    "application/vnd.databricks.v1+cell": {
     "cellMetadata": {
      "byteLimit": 2048000,
      "rowLimit": 10000
     },
     "inputWidgets": {},
     "nuid": "a20a7aed-23f6-422b-9bd7-b28c58c38d12",
     "showTitle": false,
     "tableResultSettingsMap": {},
     "title": ""
    }
   },
   "outputs": [],
   "source": [
    "# Salvando no formato delta \n",
    "spark.read.json(\"/Volumes/workspace/default/tutorial/anac/V_OCORRENCIA_AMPLA.json\") \\\n",
    "    .write.format(\"delta\") \\\n",
    "    .partitionBy(\"Danos_a_Aeronave\") \\\n",
    "    .mode(\"overwrite\") \\\n",
    "    .saveAsTable(\"anac_delta_novo\")"
   ]
  },
  {
   "cell_type": "code",
   "execution_count": 0,
   "metadata": {
    "application/vnd.databricks.v1+cell": {
     "cellMetadata": {
      "byteLimit": 2048000,
      "implicitDf": true,
      "rowLimit": 10000
     },
     "inputWidgets": {},
     "nuid": "48d9daa3-8cfd-46af-a3fa-3be51e7a6232",
     "showTitle": false,
     "tableResultSettingsMap": {},
     "title": ""
    }
   },
   "outputs": [],
   "source": [
    "%sql\n",
    "-- Otimizar a tabela anac_delta_novo pela coluna Aerodromo_de_Origem\n",
    "-- O ZORDER BY vai criar um indice da coluna\n",
    "-- Não pode fazer otimização de coluna particionada, vai dar error.\n",
    "OPTIMIZE anac_delta_novo  \n",
    "ZORDER BY (Aerodromo_de_Origem);"
   ]
  },
  {
   "cell_type": "code",
   "execution_count": 0,
   "metadata": {
    "application/vnd.databricks.v1+cell": {
     "cellMetadata": {
      "byteLimit": 2048000,
      "implicitDf": true,
      "rowLimit": 10000
     },
     "inputWidgets": {},
     "nuid": "04bab7bf-c6bd-4842-885d-6fdf14d9ec0d",
     "showTitle": false,
     "tableResultSettingsMap": {},
     "title": ""
    }
   },
   "outputs": [],
   "source": [
    "%sql\n",
    "-- A cada execução ele vai diminuindo o tempo.\n",
    "select\n",
    "  replace(Aerodromo_de_Origem, \"Sem Origem\") as Origem,\n",
    "  Fase_da_Operacao,\n",
    "  Danos_a_Aeronave,\n",
    "  Municipio,\n",
    "  UF as Estado,\n",
    "  Operacao,\n",
    "  Regiao,\n",
    "  count(Matricula) as quantidade\n",
    "from anac_delta_novo\n",
    "group by 1,2,3,4,5,6,7\n",
    "having Origem is not null\n",
    "and Danos_a_Aeronave = 'Nenhum'\n",
    "order by 1,2;"
   ]
  }
 ],
 "metadata": {
  "application/vnd.databricks.v1+notebook": {
   "computePreferences": null,
   "dashboards": [],
   "environmentMetadata": null,
   "inputWidgetPreferences": null,
   "language": "python",
   "notebookMetadata": {
    "mostRecentlyExecutedCommandWithImplicitDF": {
     "commandId": 7058022900491520,
     "dataframes": [
      "_sqldf"
     ]
    },
    "pythonIndentUnit": 4
   },
   "notebookName": "16 - Delta Lake Transações e Controle de dados",
   "widgets": {}
  },
  "language_info": {
   "name": "python"
  }
 },
 "nbformat": 4,
 "nbformat_minor": 0
}
