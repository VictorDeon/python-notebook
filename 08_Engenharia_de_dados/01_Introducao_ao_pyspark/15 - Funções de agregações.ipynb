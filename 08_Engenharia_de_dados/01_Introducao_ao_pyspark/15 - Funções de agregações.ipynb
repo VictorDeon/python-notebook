{
 "cells": [
  {
   "cell_type": "markdown",
   "metadata": {
    "application/vnd.databricks.v1+cell": {
     "cellMetadata": {},
     "inputWidgets": {},
     "nuid": "1dad783d-c309-4261-990c-82de223fa7a8",
     "showTitle": false,
     "tableResultSettingsMap": {},
     "title": ""
    }
   },
   "source": [
    "## Funções de Agregação\n",
    "\n",
    "O PySpark oferece uma ampla variedade de funções para manipulação, transformação e análise de dados em DataFrames e SQL. Essas funções estão organizadas em diferentes categorias, facilitando operações como agregações, manipulação de strings, datas, arrays, mapas, além de permitir a criação de funções definidas pelo usuário (UDFs).\n",
    "\n",
    "### Principais Categorias de Funções no PySpark\n",
    "\n",
    "- **Funções de Agregação:** `sum`, `avg`, `count`, `min`, `max`, entre outras, para sumarizar dados.\n",
    "- **Funções Matemáticas:** Operações matemáticas como `abs`, `round`, `sqrt`, `exp`, `log`.\n",
    "- **Funções de String:** Manipulação de textos com `concat`, `substr`, `lower`, `upper`, `trim`, `regexp_replace`.\n",
    "- **Funções de Data e Timestamp:** Conversão e manipulação de datas e horários, como `current_date`, `date_add`, `datediff`, `year`, `month`, `dayofweek`.\n",
    "- **Funções de Arrays e Mapas:** Operações sobre arrays e mapas, como `size`, `array_contains`, `explode`, `map_keys`.\n",
    "- **Funções de Estruturas (Struct):** Acesso e manipulação de campos em structs.\n",
    "- **Funções de Conversão:** Conversão de tipos de dados, como `cast`, `to_date`, `to_timestamp`.\n",
    "- **Funções Condicionais:** `when`, `otherwise`, `coalesce`, `ifnull`.\n",
    "- **Funções de Janela (Window):** Operações sobre janelas de dados, como `row_number`, `rank`, `dense_rank`, `lead`, `lag`.\n",
    "- **Funções de Hash e Criptografia:** `md5`, `sha1`, `crc32`.\n",
    "- **Funções de JSON, CSV e XML:** Manipulação e extração de dados desses formatos.\n",
    "- **Funções de UDF (User-Defined Functions):** Permite criar funções personalizadas em Python para aplicar sobre os dados.\n",
    "\n",
    "Para uma lista completa e detalhada, consulte a [documentação oficial do PySpark](https://spark.apache.org/docs/latest/api/python/reference/pyspark.sql/functions.html)."
   ]
  },
  {
   "cell_type": "code",
   "execution_count": 0,
   "metadata": {
    "application/vnd.databricks.v1+cell": {
     "cellMetadata": {
      "byteLimit": 2048000,
      "rowLimit": 10000
     },
     "inputWidgets": {},
     "nuid": "8ef6426d-261e-4e36-9b83-0d596f41e971",
     "showTitle": false,
     "tableResultSettingsMap": {},
     "title": ""
    }
   },
   "outputs": [],
   "source": [
    "\n",
    "Items = spark.read. \\\n",
    "    format(\"csv\") \\\n",
    "    .option(\"header\", \"true\") \\\n",
    "    .option(\"inferSchema\", \"true\") \\\n",
    "    .load(\"/Volumes/workspace/default/tutorial/bike-store/order_items.csv\")\n",
    "\n",
    "display(Items)"
   ]
  },
  {
   "cell_type": "code",
   "execution_count": 0,
   "metadata": {
    "application/vnd.databricks.v1+cell": {
     "cellMetadata": {
      "byteLimit": 2048000,
      "rowLimit": 10000
     },
     "inputWidgets": {},
     "nuid": "3f06e984-5fd0-4fb4-abcb-c40f959b072b",
     "showTitle": false,
     "tableResultSettingsMap": {},
     "title": ""
    }
   },
   "outputs": [],
   "source": [
    "display(Items.groupBy(\"list_price\").count())"
   ]
  },
  {
   "cell_type": "code",
   "execution_count": 0,
   "metadata": {
    "application/vnd.databricks.v1+cell": {
     "cellMetadata": {
      "byteLimit": 2048000,
      "rowLimit": 10000
     },
     "inputWidgets": {},
     "nuid": "b61b7c87-595d-4f08-9bb2-61ccea9ba346",
     "showTitle": false,
     "tableResultSettingsMap": {},
     "title": ""
    }
   },
   "outputs": [],
   "source": [
    "\n",
    "# Soma de vendas por id de produtos\n",
    "display(Items.groupBy(\"product_id\").sum(\"list_price\"))\n"
   ]
  },
  {
   "cell_type": "code",
   "execution_count": 0,
   "metadata": {
    "application/vnd.databricks.v1+cell": {
     "cellMetadata": {
      "byteLimit": 2048000,
      "rowLimit": 10000
     },
     "inputWidgets": {},
     "nuid": "13888eb2-af61-4522-b1a4-7aeaae0d53c5",
     "showTitle": false,
     "tableResultSettingsMap": {},
     "title": ""
    }
   },
   "outputs": [],
   "source": [
    "# Salvando resultado em um df \n",
    "resultado = Items.groupBy(\"product_id\").sum(\"list_price\")\n",
    "display(resultado)"
   ]
  },
  {
   "cell_type": "code",
   "execution_count": 0,
   "metadata": {
    "application/vnd.databricks.v1+cell": {
     "cellMetadata": {
      "byteLimit": 2048000,
      "rowLimit": 10000
     },
     "inputWidgets": {},
     "nuid": "566d0888-10a0-4d6a-a921-d2405162df3e",
     "showTitle": false,
     "tableResultSettingsMap": {},
     "title": ""
    }
   },
   "outputs": [],
   "source": [
    "# Média de Vendas por produto\n",
    "display(Items.groupBy(\"product_id\").avg(\"list_price\"))"
   ]
  },
  {
   "cell_type": "code",
   "execution_count": 0,
   "metadata": {
    "application/vnd.databricks.v1+cell": {
     "cellMetadata": {
      "byteLimit": 2048000,
      "rowLimit": 10000
     },
     "inputWidgets": {},
     "nuid": "244d3e77-f09e-451a-906c-d37e0a1ecfce",
     "showTitle": false,
     "tableResultSettingsMap": {},
     "title": ""
    }
   },
   "outputs": [],
   "source": [
    "# Valores mínimos e máximos\n",
    "display(Items.groupBy(\"product_id\").min(\"list_price\"))\n",
    "display(Items.groupBy(\"product_id\").max(\"list_price\"))"
   ]
  },
  {
   "cell_type": "code",
   "execution_count": 0,
   "metadata": {
    "application/vnd.databricks.v1+cell": {
     "cellMetadata": {
      "byteLimit": 2048000,
      "rowLimit": 10000
     },
     "inputWidgets": {},
     "nuid": "a6cc7bc4-edb6-4c75-b5fc-a4adf23cee6a",
     "showTitle": false,
     "tableResultSettingsMap": {},
     "title": ""
    }
   },
   "outputs": [],
   "source": [
    "# Mostra detalhes estatísticos de todo df\n",
    "# count: Número de registros não nulos.\n",
    "# mean (média): Valor médio da coluna.\n",
    "# stddev (desvio padrão): Desvio padrão da coluna.\n",
    "# min (mínimo): Valor mínimo na coluna.\n",
    "# 25%: Primeiro quartil (25% dos dados estão abaixo desse valor).\n",
    "# 50% (mediana): Valor que separa a metade inferior e superior dos dados.\n",
    "# 75%: Terceiro quartil (75% dos dados estão abaixo desse valor).\n",
    "# max (máximo): Valor máximo na coluna.\n",
    "display(Items.summary())"
   ]
  },
  {
   "cell_type": "markdown",
   "metadata": {
    "application/vnd.databricks.v1+cell": {
     "cellMetadata": {},
     "inputWidgets": {},
     "nuid": "7f2b33b5-2686-48a1-a53d-265c242424ea",
     "showTitle": false,
     "tableResultSettingsMap": {},
     "title": ""
    }
   },
   "source": [
    "##Agregações em SQL\n",
    "\n",
    "As funções de agregação em SQL permitem resumir e analisar grandes volumes de dados de forma eficiente. Com elas, é possível calcular totais, médias, contagens, valores mínimos e máximos, entre outras estatísticas, agrupando informações conforme necessário. No contexto do PySpark SQL, essas funções são essenciais para transformar dados brutos em insights valiosos, facilitando a tomada de decisões baseada em dados."
   ]
  },
  {
   "cell_type": "code",
   "execution_count": 0,
   "metadata": {
    "application/vnd.databricks.v1+cell": {
     "cellMetadata": {
      "byteLimit": 2048000,
      "rowLimit": 10000
     },
     "inputWidgets": {},
     "nuid": "09b90ce7-6305-409b-a27d-07bcce5b3f28",
     "showTitle": false,
     "tableResultSettingsMap": {},
     "title": ""
    }
   },
   "outputs": [],
   "source": [
    "\n",
    "Items = spark.read. \\\n",
    "    format(\"csv\") \\\n",
    "    .option(\"header\", \"true\") \\\n",
    "    .option(\"inferSchema\", \"true\") \\\n",
    "    .load(\"/Volumes/workspace/default/tutorial/bike-store/order_items.csv\")\n",
    "\n",
    "Items.createOrReplaceTempView(\"Items\")"
   ]
  },
  {
   "cell_type": "code",
   "execution_count": 0,
   "metadata": {
    "application/vnd.databricks.v1+cell": {
     "cellMetadata": {
      "byteLimit": 2048000,
      "implicitDf": true,
      "rowLimit": 10000
     },
     "inputWidgets": {},
     "nuid": "6070718f-b7bc-47b4-8330-4bf4e426481a",
     "showTitle": false,
     "tableResultSettingsMap": {},
     "title": ""
    }
   },
   "outputs": [],
   "source": [
    "%sql \n",
    "select * from Items"
   ]
  },
  {
   "cell_type": "code",
   "execution_count": 0,
   "metadata": {
    "application/vnd.databricks.v1+cell": {
     "cellMetadata": {
      "byteLimit": 2048000,
      "implicitDf": true,
      "rowLimit": 10000
     },
     "inputWidgets": {},
     "nuid": "367ce04b-e224-46dd-9287-7215076efd30",
     "showTitle": false,
     "tableResultSettingsMap": {},
     "title": ""
    }
   },
   "outputs": [],
   "source": [
    "%sql \n",
    "-- agregações \n",
    "select \n",
    "  min(list_price)   as minimo,\n",
    "  max(list_price)   as maximo,\n",
    "  avg(list_price)   as media,\n",
    "  sum(list_price)   as soma ,\n",
    "  count(list_price) as contagem\n",
    "from Items"
   ]
  },
  {
   "cell_type": "code",
   "execution_count": 0,
   "metadata": {
    "application/vnd.databricks.v1+cell": {
     "cellMetadata": {
      "byteLimit": 2048000,
      "implicitDf": true,
      "rowLimit": 10000
     },
     "inputWidgets": {},
     "nuid": "49e0bf4d-09e0-47df-8d4e-9b35f27d3d88",
     "showTitle": false,
     "tableResultSettingsMap": {},
     "title": ""
    }
   },
   "outputs": [],
   "source": [
    "%sql \n",
    "--- Se eu quisese fazer todas agregações por alguma coluna vamos fazer por product_id?\n",
    "\n",
    "select \n",
    "  product_id,\n",
    "  sum(list_price) as TotalVendas,\n",
    "  avg(list_price) as MediaVendas,\n",
    "  count(list_price) as Qnt\n",
    "from Items\n",
    "group by product_id\n",
    "order by TotalVendas desc\n",
    "\n"
   ]
  },
  {
   "cell_type": "code",
   "execution_count": 0,
   "metadata": {
    "application/vnd.databricks.v1+cell": {
     "cellMetadata": {
      "byteLimit": 2048000,
      "implicitDf": true,
      "rowLimit": 10000
     },
     "inputWidgets": {},
     "nuid": "e5bc6108-7e8f-42f5-b1dc-910f08abdace",
     "showTitle": false,
     "tableResultSettingsMap": {},
     "title": ""
    }
   },
   "outputs": [],
   "source": [
    "%sql \n",
    "--- Avaliando por outra coluna item_id por exemplo \n",
    "select \n",
    "  item_id,\n",
    "  sum(list_price) as TotalVendas,\n",
    "  avg(list_price) as MediaVendas,\n",
    "  count(list_price) as Qnt\n",
    "from Items\n",
    "group by item_id\n",
    "order by TotalVendas desc\n"
   ]
  },
  {
   "cell_type": "code",
   "execution_count": 0,
   "metadata": {
    "application/vnd.databricks.v1+cell": {
     "cellMetadata": {
      "byteLimit": 2048000,
      "rowLimit": 10000
     },
     "inputWidgets": {},
     "nuid": "680c32a8-f152-4a27-8326-e9cd1d200ef6",
     "showTitle": false,
     "tableResultSettingsMap": {},
     "title": ""
    }
   },
   "outputs": [],
   "source": [
    "#como salvar resultado em um Df ?\n",
    "resultado = spark.sql(\"\"\"\n",
    "select \n",
    "  item_id,\n",
    "  sum(list_price) as TotalVendas,\n",
    "  avg(list_price) as MediaVendas,\n",
    "  count(list_price) as Qnt\n",
    "from Items\n",
    "group by item_id order by TotalVendas desc\n",
    "\"\"\")\n",
    "\n",
    "display(resultado)"
   ]
  },
  {
   "cell_type": "code",
   "execution_count": 0,
   "metadata": {
    "application/vnd.databricks.v1+cell": {
     "cellMetadata": {
      "byteLimit": 2048000,
      "rowLimit": 10000
     },
     "inputWidgets": {},
     "nuid": "f73bfc90-9914-4123-bf61-12310d494f47",
     "showTitle": false,
     "tableResultSettingsMap": {},
     "title": ""
    }
   },
   "outputs": [],
   "source": [
    "# Vamos treinar mais com datas?\n",
    "ordens = spark.read. \\\n",
    "    format(\"csv\") \\\n",
    "    .option(\"header\", \"true\") \\\n",
    "    .option(\"inferSchema\", \"true\") \\\n",
    "    .load(\"/Volumes/workspace/default/tutorial/bike-store/orders.csv\")\n",
    "\n",
    "ordens.createOrReplaceTempView(\"ordens\")"
   ]
  },
  {
   "cell_type": "code",
   "execution_count": 0,
   "metadata": {
    "application/vnd.databricks.v1+cell": {
     "cellMetadata": {
      "byteLimit": 2048000,
      "implicitDf": true,
      "rowLimit": 10000
     },
     "inputWidgets": {},
     "nuid": "0ed2a3b8-1fa2-4b12-b506-1df6eb2eda1d",
     "showTitle": false,
     "tableResultSettingsMap": {},
     "title": ""
    }
   },
   "outputs": [],
   "source": [
    "%sql\n",
    "select * from ordens"
   ]
  },
  {
   "cell_type": "code",
   "execution_count": 0,
   "metadata": {
    "application/vnd.databricks.v1+cell": {
     "cellMetadata": {
      "byteLimit": 2048000,
      "implicitDf": true,
      "rowLimit": 10000
     },
     "inputWidgets": {},
     "nuid": "4e61fc10-4f37-4c7f-9ae2-7442860729a0",
     "showTitle": false,
     "tableResultSettingsMap": {},
     "title": ""
    }
   },
   "outputs": [],
   "source": [
    "%sql\n",
    "-- Quantas vendas por ano  e depois vamos fazer por ano e mes \n",
    "select \n",
    "  year(order_date) as Ano,\n",
    "  count(order_id) as qnt\n",
    "  from ordens\n",
    "group by Ano\n",
    "order by Ano"
   ]
  },
  {
   "cell_type": "code",
   "execution_count": 0,
   "metadata": {
    "application/vnd.databricks.v1+cell": {
     "cellMetadata": {
      "byteLimit": 2048000,
      "implicitDf": true,
      "rowLimit": 10000
     },
     "inputWidgets": {},
     "nuid": "447d0ee5-e9e2-4e1d-a660-9c735655ddce",
     "showTitle": false,
     "tableResultSettingsMap": {},
     "title": ""
    }
   },
   "outputs": [],
   "source": [
    "%sql\n",
    "select \n",
    "  year(order_date) as Ano,\n",
    "  month(order_date) as mes,\n",
    "  count(order_id) as qnt\n",
    "from ordens\n",
    "group by Ano, mes\n",
    "order by Ano, mes"
   ]
  }
 ],
 "metadata": {
  "application/vnd.databricks.v1+notebook": {
   "computePreferences": null,
   "dashboards": [],
   "environmentMetadata": null,
   "inputWidgetPreferences": null,
   "language": "python",
   "notebookMetadata": {
    "mostRecentlyExecutedCommandWithImplicitDF": {
     "commandId": 7058022900491493,
     "dataframes": [
      "_sqldf"
     ]
    },
    "pythonIndentUnit": 4
   },
   "notebookName": "15 - Funções de agregações",
   "widgets": {}
  },
  "language_info": {
   "name": "python"
  }
 },
 "nbformat": 4,
 "nbformat_minor": 0
}
