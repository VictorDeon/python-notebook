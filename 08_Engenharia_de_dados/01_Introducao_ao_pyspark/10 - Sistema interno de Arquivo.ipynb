{
 "cells": [
  {
   "cell_type": "markdown",
   "metadata": {
    "application/vnd.databricks.v1+cell": {
     "cellMetadata": {},
     "inputWidgets": {},
     "nuid": "773074b7-76f2-4cb5-99b9-e8ce67245372",
     "showTitle": false,
     "tableResultSettingsMap": {},
     "title": ""
    }
   },
   "source": [
    "##Sistema interno de arquivo\n",
    "\n",
    "O sistema interno de arquivos é responsável por organizar, armazenar e gerenciar o acesso aos dados dentro de um ambiente computacional. Ele define como os arquivos são criados, lidos, modificados e excluídos, além de garantir a integridade e a segurança das informações. Compreender o funcionamento desse sistema é fundamental para otimizar o uso de recursos e garantir a eficiência das operações realizadas."
   ]
  },
  {
   "cell_type": "code",
   "execution_count": 0,
   "metadata": {
    "application/vnd.databricks.v1+cell": {
     "cellMetadata": {
      "byteLimit": 2048000,
      "rowLimit": 10000
     },
     "inputWidgets": {},
     "nuid": "ce76653b-cd0a-4615-9afe-73b096bda73f",
     "showTitle": false,
     "tableResultSettingsMap": {},
     "title": ""
    }
   },
   "outputs": [],
   "source": [
    "%fs\n",
    "ls /Volumes/workspace/default/tutorial"
   ]
  },
  {
   "cell_type": "code",
   "execution_count": 0,
   "metadata": {
    "application/vnd.databricks.v1+cell": {
     "cellMetadata": {
      "byteLimit": 2048000,
      "rowLimit": 10000
     },
     "inputWidgets": {},
     "nuid": "dd45f3f2-e96b-4bfa-9255-e2f41c60ff6c",
     "showTitle": false,
     "tableResultSettingsMap": {},
     "title": ""
    }
   },
   "outputs": [],
   "source": [
    "dbutils.help()"
   ]
  },
  {
   "cell_type": "code",
   "execution_count": 0,
   "metadata": {
    "application/vnd.databricks.v1+cell": {
     "cellMetadata": {
      "byteLimit": 2048000,
      "rowLimit": 10000
     },
     "inputWidgets": {},
     "nuid": "365f3a7a-6b58-46ab-bf9e-b406df7a7f64",
     "showTitle": false,
     "tableResultSettingsMap": {},
     "title": ""
    }
   },
   "outputs": [],
   "source": [
    "dbutils.fs.help()"
   ]
  },
  {
   "cell_type": "markdown",
   "metadata": {
    "application/vnd.databricks.v1+cell": {
     "cellMetadata": {},
     "inputWidgets": {},
     "nuid": "0cd2811e-adec-460a-8b9c-1f30411806c5",
     "showTitle": false,
     "tableResultSettingsMap": {},
     "title": ""
    }
   },
   "source": [
    "### Criando nova pasta\n",
    "\n",
    "A criação de novas pastas é uma tarefa fundamental para a organização dos arquivos em um sistema. Ao estruturar os dados em diretórios específicos, torna-se mais fácil localizar, gerenciar e proteger as informações armazenadas. Este processo contribui para a eficiência e a clareza na administração dos recursos disponíveis."
   ]
  },
  {
   "cell_type": "code",
   "execution_count": 0,
   "metadata": {
    "application/vnd.databricks.v1+cell": {
     "cellMetadata": {
      "byteLimit": 2048000,
      "rowLimit": 10000
     },
     "inputWidgets": {},
     "nuid": "7c3310a9-65b2-4069-b587-79b9a228be95",
     "showTitle": false,
     "tableResultSettingsMap": {},
     "title": ""
    }
   },
   "outputs": [],
   "source": [
    "%fs\n",
    "mkdirs /Volumes/workspace/default/tutorial/nova-pasta"
   ]
  },
  {
   "cell_type": "markdown",
   "metadata": {
    "application/vnd.databricks.v1+cell": {
     "cellMetadata": {},
     "inputWidgets": {},
     "nuid": "e87b39b9-13e6-4c02-b853-b8821b82539b",
     "showTitle": false,
     "tableResultSettingsMap": {},
     "title": ""
    }
   },
   "source": [
    "### Vendo o que tem na nova pasta\n",
    "\n",
    "A visualização do conteúdo de uma pasta é uma etapa essencial para o gerenciamento eficiente dos arquivos em um sistema. Ao listar os itens presentes em um diretório, é possível identificar rapidamente os arquivos e subpastas disponíveis, facilitando a navegação, organização e execução de tarefas administrativas."
   ]
  },
  {
   "cell_type": "code",
   "execution_count": 0,
   "metadata": {
    "application/vnd.databricks.v1+cell": {
     "cellMetadata": {
      "byteLimit": 2048000,
      "rowLimit": 10000
     },
     "inputWidgets": {},
     "nuid": "3eb01d46-6e78-45a0-945f-9e31703d669c",
     "showTitle": false,
     "tableResultSettingsMap": {},
     "title": ""
    }
   },
   "outputs": [],
   "source": [
    "%fs\n",
    "ls\n",
    "/Volumes/workspace/default/tutorial/nova-pasta"
   ]
  },
  {
   "cell_type": "markdown",
   "metadata": {
    "application/vnd.databricks.v1+cell": {
     "cellMetadata": {},
     "inputWidgets": {},
     "nuid": "7483e274-af70-42d0-8b76-e22bd5864a13",
     "showTitle": false,
     "tableResultSettingsMap": {},
     "title": ""
    }
   },
   "source": [
    "### Copiando Arquivo de uma pasta\n",
    "\n",
    "Copiar arquivos de uma pasta para outra é uma operação comum em sistemas de arquivos, permitindo a duplicação e o compartilhamento de dados entre diferentes diretórios. Esse procedimento é útil para criar backups, organizar informações ou transferir arquivos para áreas de trabalho específicas, garantindo maior flexibilidade e segurança no gerenciamento dos dados."
   ]
  },
  {
   "cell_type": "code",
   "execution_count": 0,
   "metadata": {
    "application/vnd.databricks.v1+cell": {
     "cellMetadata": {
      "byteLimit": 2048000,
      "rowLimit": 10000
     },
     "inputWidgets": {},
     "nuid": "22d7d7f2-58a8-4520-8ca7-2a550d627d51",
     "showTitle": false,
     "tableResultSettingsMap": {},
     "title": ""
    }
   },
   "outputs": [],
   "source": [
    "%fs\n",
    "ls /Volumes/workspace/default/tutorial/bike-store"
   ]
  },
  {
   "cell_type": "code",
   "execution_count": 0,
   "metadata": {
    "application/vnd.databricks.v1+cell": {
     "cellMetadata": {
      "byteLimit": 2048000,
      "rowLimit": 10000
     },
     "inputWidgets": {},
     "nuid": "df37558a-6780-4a60-875a-e152f76a5e12",
     "showTitle": false,
     "tableResultSettingsMap": {},
     "title": ""
    }
   },
   "outputs": [],
   "source": [
    "%fs\n",
    "cp /Volumes/workspace/default/tutorial/bike-store/products.csv  /Volumes/workspace/default/tutorial/nova-pasta/products_copy.csv "
   ]
  },
  {
   "cell_type": "code",
   "execution_count": 0,
   "metadata": {
    "application/vnd.databricks.v1+cell": {
     "cellMetadata": {
      "byteLimit": 2048000,
      "rowLimit": 10000
     },
     "inputWidgets": {},
     "nuid": "a3fd63d9-5e5a-4cb7-8e79-bfd3e53b41fa",
     "showTitle": false,
     "tableResultSettingsMap": {},
     "title": ""
    }
   },
   "outputs": [],
   "source": [
    "%fs\n",
    "ls /Volumes/workspace/default/tutorial/nova-pasta"
   ]
  },
  {
   "cell_type": "markdown",
   "metadata": {
    "application/vnd.databricks.v1+cell": {
     "cellMetadata": {},
     "inputWidgets": {},
     "nuid": "3241fa01-9976-4cf1-a1d3-e61e51683db0",
     "showTitle": false,
     "tableResultSettingsMap": {},
     "title": ""
    }
   },
   "source": [
    "### Renomeando arquivo\n",
    "\n",
    "Renomear arquivos é uma operação essencial em sistemas de arquivos, permitindo atualizar nomes para melhor organização, padronização ou clareza. Esse procedimento facilita a identificação dos dados e contribui para a manutenção de um ambiente de trabalho eficiente e bem estruturado."
   ]
  },
  {
   "cell_type": "code",
   "execution_count": 0,
   "metadata": {
    "application/vnd.databricks.v1+cell": {
     "cellMetadata": {
      "byteLimit": 2048000,
      "rowLimit": 10000
     },
     "inputWidgets": {},
     "nuid": "f9f911ea-b7e1-476d-a9c5-64c58e7fef32",
     "showTitle": false,
     "tableResultSettingsMap": {},
     "title": ""
    }
   },
   "outputs": [],
   "source": [
    "%fs\n",
    "ls /Volumes/workspace/default/tutorial/nova-pasta\n"
   ]
  },
  {
   "cell_type": "code",
   "execution_count": 0,
   "metadata": {
    "application/vnd.databricks.v1+cell": {
     "cellMetadata": {
      "byteLimit": 2048000,
      "rowLimit": 10000
     },
     "inputWidgets": {},
     "nuid": "17a6ebc0-2470-4091-b7cd-b86fa1c746ec",
     "showTitle": false,
     "tableResultSettingsMap": {},
     "title": ""
    }
   },
   "outputs": [],
   "source": [
    "%fs\n",
    "mv /Volumes/workspace/default/tutorial/nova-pasta/products_copy.csv /Volumes/workspace/default/tutorial/nova-pasta/products.csv"
   ]
  },
  {
   "cell_type": "code",
   "execution_count": 0,
   "metadata": {
    "application/vnd.databricks.v1+cell": {
     "cellMetadata": {
      "byteLimit": 2048000,
      "rowLimit": 10000
     },
     "inputWidgets": {},
     "nuid": "def7a6b3-e5e9-45c6-af20-d4d6ef4e03c3",
     "showTitle": false,
     "tableResultSettingsMap": {},
     "title": ""
    }
   },
   "outputs": [],
   "source": [
    "%fs\n",
    "ls /Volumes/workspace/default/tutorial/nova-pasta"
   ]
  },
  {
   "cell_type": "markdown",
   "metadata": {
    "application/vnd.databricks.v1+cell": {
     "cellMetadata": {},
     "inputWidgets": {},
     "nuid": "d45b4f6a-9ea6-44a7-97ad-88126c7813e7",
     "showTitle": false,
     "tableResultSettingsMap": {},
     "title": ""
    }
   },
   "source": [
    "### Deletando pasta\n",
    "\n",
    "A exclusão de pastas é uma operação importante para manter a organização e liberar espaço em um sistema de arquivos. Ao remover diretórios que não são mais necessários, evita-se o acúmulo de dados obsoletos e facilita-se a administração dos recursos disponíveis. É fundamental realizar esse procedimento com atenção para não excluir informações importantes de forma acidental."
   ]
  },
  {
   "cell_type": "code",
   "execution_count": 0,
   "metadata": {
    "application/vnd.databricks.v1+cell": {
     "cellMetadata": {
      "byteLimit": 2048000,
      "rowLimit": 10000
     },
     "inputWidgets": {},
     "nuid": "3f278bd7-d151-45ba-848c-1148e8fd65cc",
     "showTitle": false,
     "tableResultSettingsMap": {},
     "title": ""
    }
   },
   "outputs": [],
   "source": [
    "%fs rm -r /Volumes/workspace/default/tutorial/nova-pasta"
   ]
  },
  {
   "cell_type": "code",
   "execution_count": 0,
   "metadata": {
    "application/vnd.databricks.v1+cell": {
     "cellMetadata": {
      "byteLimit": 2048000,
      "rowLimit": 10000
     },
     "inputWidgets": {},
     "nuid": "67dbb20c-f614-478e-86ca-246a88662fb8",
     "showTitle": false,
     "tableResultSettingsMap": {},
     "title": ""
    }
   },
   "outputs": [],
   "source": [
    "dbutils.fs.rm('/Volumes/workspace/default/tutorial/nova-pasta', recurse=True)"
   ]
  }
 ],
 "metadata": {
  "application/vnd.databricks.v1+notebook": {
   "computePreferences": null,
   "dashboards": [],
   "environmentMetadata": null,
   "inputWidgetPreferences": null,
   "language": "python",
   "notebookMetadata": {
    "mostRecentlyExecutedCommandWithImplicitDF": {
     "commandId": 7058022900491193,
     "dataframes": [
      "_sqldf"
     ]
    },
    "pythonIndentUnit": 4
   },
   "notebookName": "10 - Sistema interno de Arquivo",
   "widgets": {}
  },
  "language_info": {
   "name": "python"
  }
 },
 "nbformat": 4,
 "nbformat_minor": 0
}
