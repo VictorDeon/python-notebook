{
 "cells": [
  {
   "cell_type": "markdown",
   "metadata": {
    "application/vnd.databricks.v1+cell": {
     "cellMetadata": {},
     "inputWidgets": {},
     "nuid": "584edacd-b1bb-4010-84d5-03b5553e15d4",
     "showTitle": false,
     "tableResultSettingsMap": {},
     "title": ""
    }
   },
   "source": [
    "## DBFS e dbutils Documentação \n",
    "\n",
    "O **DBFS (Databricks File System)** é um sistema de arquivos distribuído utilizado pelo Databricks para facilitar o armazenamento e o acesso a dados em nuvem. Ele permite que usuários interajam com arquivos e diretórios de forma semelhante a um sistema de arquivos tradicional, integrando-se com diferentes fontes de armazenamento.\n",
    "\n",
    "O **dbutils** é um conjunto de utilitários fornecido pelo Databricks que permite gerenciar arquivos, acessar segredos, controlar jobs e interagir com o ambiente Databricks diretamente de notebooks. Com o `dbutils.fs`, por exemplo, é possível listar, copiar, mover e remover arquivos no DBFS de maneira simples e programática.\n",
    "\n",
    "https://docs.databricks.com/pt/dbfs/index.html\n",
    "\n",
    "https://docs.databricks.com/pt/dev-tools/databricks-utils.html"
   ]
  },
  {
   "cell_type": "code",
   "execution_count": 0,
   "metadata": {
    "application/vnd.databricks.v1+cell": {
     "cellMetadata": {
      "byteLimit": 2048000,
      "rowLimit": 10000
     },
     "inputWidgets": {},
     "nuid": "1ab4bead-6db9-489f-9b0a-772d75e7f2d4",
     "showTitle": false,
     "tableResultSettingsMap": {},
     "title": ""
    }
   },
   "outputs": [],
   "source": [
    "# O dbutils fornece utilitários para interagir com o sistema de arquivos, notebooks, jobs e outros recursos do Databricks.\n",
    "dbutils.help()"
   ]
  },
  {
   "cell_type": "code",
   "execution_count": 0,
   "metadata": {
    "application/vnd.databricks.v1+cell": {
     "cellMetadata": {
      "byteLimit": 2048000,
      "rowLimit": 10000
     },
     "inputWidgets": {},
     "nuid": "1c0220ef-bec2-4a41-aa30-09420f558d39",
     "showTitle": false,
     "tableResultSettingsMap": {},
     "title": ""
    }
   },
   "outputs": [],
   "source": [
    "# O método dbutils.fs.help() exibe uma lista de comandos disponíveis no utilitário de sistema de arquivos (fs) do Databricks, juntamente com uma breve descrição de cada comando. Use este método para consultar rapidamente as operações suportadas, como copiar, mover, listar, criar diretórios, remover arquivos e visualizar conteúdo de arquivos no DBFS.\n",
    "dbutils.fs.help()"
   ]
  },
  {
   "cell_type": "code",
   "execution_count": 0,
   "metadata": {
    "application/vnd.databricks.v1+cell": {
     "cellMetadata": {
      "byteLimit": 2048000,
      "rowLimit": 10000
     },
     "inputWidgets": {},
     "nuid": "da35260b-0c61-41bd-ae21-568567584b80",
     "showTitle": false,
     "tableResultSettingsMap": {},
     "title": ""
    }
   },
   "outputs": [],
   "source": [
    "# O método dbutils.fs.ls(path) lista os arquivos e diretórios no caminho especificado do DBFS (Databricks File System). Retorna uma lista de objetos FileInfo, cada um contendo informações como nome, caminho, tamanho e se é diretório. Útil para explorar e gerenciar arquivos e pastas no ambiente Databricks.\n",
    "dbutils.fs.ls('/')"
   ]
  },
  {
   "cell_type": "code",
   "execution_count": 0,
   "metadata": {
    "application/vnd.databricks.v1+cell": {
     "cellMetadata": {},
     "inputWidgets": {},
     "nuid": "1accdd39-0770-46d1-a90e-8731ae09e7bd",
     "showTitle": false,
     "tableResultSettingsMap": {},
     "title": ""
    }
   },
   "outputs": [],
   "source": [
    "path = \"/Volumes/workspace/default/tutorial\""
   ]
  },
  {
   "cell_type": "code",
   "execution_count": 0,
   "metadata": {
    "application/vnd.databricks.v1+cell": {
     "cellMetadata": {
      "byteLimit": 2048000,
      "rowLimit": 10000
     },
     "inputWidgets": {},
     "nuid": "d1c51bdd-31a0-4acd-8fe9-30878a03e52f",
     "showTitle": false,
     "tableResultSettingsMap": {},
     "title": ""
    }
   },
   "outputs": [],
   "source": [
    "display(dbutils.fs.ls(path))"
   ]
  },
  {
   "cell_type": "code",
   "execution_count": 0,
   "metadata": {
    "application/vnd.databricks.v1+cell": {
     "cellMetadata": {
      "byteLimit": 2048000,
      "rowLimit": 10000
     },
     "inputWidgets": {},
     "nuid": "660a651c-a03b-4b13-be2f-c63596fa77c4",
     "showTitle": false,
     "tableResultSettingsMap": {},
     "title": ""
    }
   },
   "outputs": [],
   "source": [
    "# Criando uma lista e deletando arquivos\n",
    "# Lista de caminhos de arquivo a serem excluídos\n",
    "files = [\n",
    "    f\"{path}/bike-store/categories.csv\",\n",
    "    f\"{path}/bike-store/customers.csv\",\n",
    "    f\"{path}/bike-store/order_items.csv\",\n",
    "    f\"{path}/bike-store/orders.csv\",\n",
    "    f\"{path}/bike-store/products.csv\",\n",
    "    f\"{path}/bike-store/staffs.csv\",\n",
    "    f\"{path}/bike-store/stocks.csv\",\n",
    "    f\"{path}/bike-store/stores.csv\",\n",
    "]\n",
    "\n",
    "# for (passar por todos arquivos) e exclui\n",
    "for file_to_remove in files:\n",
    "    dbutils.fs.rm(file_to_remove)"
   ]
  },
  {
   "cell_type": "code",
   "execution_count": 0,
   "metadata": {
    "application/vnd.databricks.v1+cell": {
     "cellMetadata": {
      "byteLimit": 2048000,
      "rowLimit": 10000
     },
     "inputWidgets": {},
     "nuid": "3c401244-8834-464e-8a7b-6533eb87bd8b",
     "showTitle": false,
     "tableResultSettingsMap": {},
     "title": ""
    }
   },
   "outputs": [],
   "source": [
    "#criando nova pasta \n",
    "dbutils.fs.mkdirs(f'{path}/avalia')\n"
   ]
  },
  {
   "cell_type": "code",
   "execution_count": 0,
   "metadata": {
    "application/vnd.databricks.v1+cell": {
     "cellMetadata": {
      "byteLimit": 2048000,
      "rowLimit": 10000
     },
     "inputWidgets": {},
     "nuid": "4ccb9181-e551-44d2-8795-ed9d0b3ea51c",
     "showTitle": false,
     "tableResultSettingsMap": {},
     "title": ""
    }
   },
   "outputs": [],
   "source": [
    "display(dbutils.fs.ls(f'{path}/avalia'))"
   ]
  },
  {
   "cell_type": "markdown",
   "metadata": {
    "application/vnd.databricks.v1+cell": {
     "cellMetadata": {},
     "inputWidgets": {},
     "nuid": "49b8ed21-b1b5-4945-ad37-457ade128b0d",
     "showTitle": false,
     "tableResultSettingsMap": {},
     "title": ""
    }
   },
   "source": [
    "## Visualizando os dados\n",
    "\n",
    "A visualização dos dados é uma etapa fundamental na análise exploratória, permitindo compreender melhor a estrutura, qualidade e principais características do conjunto de dados. No Databricks, é possível visualizar dados de diferentes formas, seja exibindo tabelas diretamente, mostrando amostras ou utilizando comandos específicos para facilitar a interpretação e o diagnóstico dos dados antes de avançar para etapas mais complexas de análise."
   ]
  },
  {
   "cell_type": "code",
   "execution_count": 0,
   "metadata": {
    "application/vnd.databricks.v1+cell": {
     "cellMetadata": {
      "byteLimit": 2048000,
      "rowLimit": 10000
     },
     "inputWidgets": {},
     "nuid": "dd01723f-edc1-4dee-ba5b-331d2e707d6e",
     "showTitle": false,
     "tableResultSettingsMap": {},
     "title": ""
    }
   },
   "outputs": [],
   "source": [
    "path = \"/Volumes/workspace/default/tutorial/bike-store\""
   ]
  },
  {
   "cell_type": "code",
   "execution_count": 0,
   "metadata": {
    "application/vnd.databricks.v1+cell": {
     "cellMetadata": {
      "byteLimit": 2048000,
      "implicitDf": true,
      "rowLimit": 10000
     },
     "inputWidgets": {},
     "nuid": "28e7dbc6-dabd-4786-a71a-752de4581c48",
     "showTitle": false,
     "tableResultSettingsMap": {},
     "title": ""
    }
   },
   "outputs": [],
   "source": [
    "# Ler o arquivo CSV e criar um DataFrame\n",
    "# inferSchema = inserir automaticamente os tipos de dados (numero,texto,data etc....)\n",
    "# header = Se a primeira linha for o cabeçalho coloque como True\n",
    "df = spark.read.csv(f\"{path}/customers.csv\", header=True, inferSchema=True)\n"
   ]
  },
  {
   "cell_type": "code",
   "execution_count": 0,
   "metadata": {
    "application/vnd.databricks.v1+cell": {
     "cellMetadata": {
      "byteLimit": 2048000,
      "rowLimit": 10000
     },
     "inputWidgets": {},
     "nuid": "014e51c6-8ed1-4d97-9227-a2cfb5caad70",
     "showTitle": false,
     "tableResultSettingsMap": {},
     "title": ""
    }
   },
   "outputs": [],
   "source": [
    "display(df)"
   ]
  },
  {
   "cell_type": "markdown",
   "metadata": {
    "application/vnd.databricks.v1+cell": {
     "cellMetadata": {},
     "inputWidgets": {},
     "nuid": "ec4ec3b6-91e9-4ea1-b34b-ed5f5b1ea93b",
     "showTitle": false,
     "tableResultSettingsMap": {},
     "title": ""
    }
   },
   "source": [
    "### Tipos de visualizações"
   ]
  },
  {
   "cell_type": "code",
   "execution_count": 0,
   "metadata": {
    "application/vnd.databricks.v1+cell": {
     "cellMetadata": {
      "byteLimit": 2048000,
      "rowLimit": 10000
     },
     "inputWidgets": {},
     "nuid": "53b07047-8858-4c9f-9e6d-738e1161adce",
     "showTitle": false,
     "tableResultSettingsMap": {},
     "title": ""
    }
   },
   "outputs": [],
   "source": [
    "df"
   ]
  },
  {
   "cell_type": "code",
   "execution_count": 0,
   "metadata": {
    "application/vnd.databricks.v1+cell": {
     "cellMetadata": {
      "byteLimit": 2048000,
      "rowLimit": 10000
     },
     "inputWidgets": {},
     "nuid": "f5449520-37de-40c6-95df-528020019f69",
     "showTitle": false,
     "tableResultSettingsMap": {},
     "title": ""
    }
   },
   "outputs": [],
   "source": [
    "df.show()"
   ]
  },
  {
   "cell_type": "code",
   "execution_count": 0,
   "metadata": {
    "application/vnd.databricks.v1+cell": {
     "cellMetadata": {
      "byteLimit": 2048000,
      "rowLimit": 10000
     },
     "inputWidgets": {},
     "nuid": "b4b8a3d2-ce5d-4aa5-bf91-90ebacfec096",
     "showTitle": false,
     "tableResultSettingsMap": {},
     "title": ""
    }
   },
   "outputs": [],
   "source": [
    "display(df)"
   ]
  },
  {
   "cell_type": "code",
   "execution_count": 0,
   "metadata": {
    "application/vnd.databricks.v1+cell": {
     "cellMetadata": {
      "byteLimit": 2048000,
      "rowLimit": 10000
     },
     "inputWidgets": {},
     "nuid": "576ed778-f49c-43ae-b05a-7477e686f84b",
     "showTitle": false,
     "tableResultSettingsMap": {},
     "title": ""
    }
   },
   "outputs": [],
   "source": [
    "# Ver algumas colunas sem salvar em um DF\n",
    "colunas = [\"customer_id\", \"first_name\", \"email\", \"state\"]\n",
    "display(df.select(colunas))"
   ]
  },
  {
   "cell_type": "code",
   "execution_count": 0,
   "metadata": {
    "application/vnd.databricks.v1+cell": {
     "cellMetadata": {
      "byteLimit": 2048000,
      "rowLimit": 10000
     },
     "inputWidgets": {},
     "nuid": "95e185a5-f7cc-4d14-9f58-47cc4508d23e",
     "showTitle": false,
     "tableResultSettingsMap": {},
     "title": ""
    }
   },
   "outputs": [],
   "source": [
    "df.select('customer_id','email').show()"
   ]
  },
  {
   "cell_type": "code",
   "execution_count": 0,
   "metadata": {
    "application/vnd.databricks.v1+cell": {
     "cellMetadata": {
      "byteLimit": 2048000,
      "rowLimit": 10000
     },
     "inputWidgets": {},
     "nuid": "c7ece3c8-656f-45a8-b612-cbaf6fa09c6a",
     "showTitle": false,
     "tableResultSettingsMap": {},
     "title": ""
    }
   },
   "outputs": [],
   "source": [
    "display(df.select('customer_id','email'))   "
   ]
  },
  {
   "cell_type": "markdown",
   "metadata": {
    "application/vnd.databricks.v1+cell": {
     "cellMetadata": {},
     "inputWidgets": {},
     "nuid": "7d692527-ecaf-4d70-b9ac-b3df2b7a1bb0",
     "showTitle": false,
     "tableResultSettingsMap": {},
     "title": ""
    }
   },
   "source": [
    "## Sobrescrevendo DF\n",
    "\n",
    "Ao trabalhar com DataFrames no Spark, é comum precisarmos modificar, filtrar ou transformar os dados para atender a diferentes necessidades de análise. Uma prática recorrente é sobrescrever um DataFrame, ou seja, criar uma nova versão do conjunto de dados a partir de operações realizadas sobre o original. Isso permite manter o fluxo de trabalho organizado, facilitar a reutilização de dados já processados e garantir que apenas as informações relevantes estejam disponíveis para as próximas etapas da análise."
   ]
  },
  {
   "cell_type": "code",
   "execution_count": 0,
   "metadata": {
    "application/vnd.databricks.v1+cell": {
     "cellMetadata": {
      "byteLimit": 2048000,
      "rowLimit": 10000
     },
     "inputWidgets": {},
     "nuid": "23740524-21eb-4ec3-88c5-7c7451f44a56",
     "showTitle": false,
     "tableResultSettingsMap": {},
     "title": ""
    }
   },
   "outputs": [],
   "source": [
    "#salvando em um novo DF ou subscrevendo\n",
    "colunas = [\"customer_id\", \"first_name\", \"email\", \"state\"]\n",
    "dfFiltrado = df.select(colunas)"
   ]
  },
  {
   "cell_type": "code",
   "execution_count": 0,
   "metadata": {
    "application/vnd.databricks.v1+cell": {
     "cellMetadata": {
      "byteLimit": 2048000,
      "rowLimit": 10000
     },
     "inputWidgets": {},
     "nuid": "2159f5ac-3215-433e-bf5b-c6b8658f9cd2",
     "showTitle": false,
     "tableResultSettingsMap": {},
     "title": ""
    }
   },
   "outputs": [],
   "source": [
    "dfFiltrado.show(5)"
   ]
  },
  {
   "cell_type": "code",
   "execution_count": 0,
   "metadata": {
    "application/vnd.databricks.v1+cell": {
     "cellMetadata": {
      "byteLimit": 2048000,
      "rowLimit": 10000
     },
     "inputWidgets": {},
     "nuid": "db23d521-f8d0-4671-9364-365af98d7ba4",
     "showTitle": false,
     "tableResultSettingsMap": {},
     "title": ""
    }
   },
   "outputs": [],
   "source": [
    "df.show(5)"
   ]
  },
  {
   "cell_type": "code",
   "execution_count": 0,
   "metadata": {
    "application/vnd.databricks.v1+cell": {
     "cellMetadata": {
      "byteLimit": 2048000,
      "rowLimit": 10000
     },
     "inputWidgets": {},
     "nuid": "25b6ff45-c450-4595-b905-cc90599bc84d",
     "showTitle": false,
     "tableResultSettingsMap": {},
     "title": ""
    }
   },
   "outputs": [],
   "source": [
    "df =  df.select('first_name','email','city')"
   ]
  },
  {
   "cell_type": "code",
   "execution_count": 0,
   "metadata": {
    "application/vnd.databricks.v1+cell": {
     "cellMetadata": {
      "byteLimit": 2048000,
      "rowLimit": 10000
     },
     "inputWidgets": {},
     "nuid": "5fdcc1b7-7b8a-4498-9722-f2f5f8ebdfdd",
     "showTitle": false,
     "tableResultSettingsMap": {},
     "title": ""
    }
   },
   "outputs": [],
   "source": [
    "df.show(5)"
   ]
  },
  {
   "cell_type": "markdown",
   "metadata": {
    "application/vnd.databricks.v1+cell": {
     "cellMetadata": {},
     "inputWidgets": {},
     "nuid": "2665b6e7-8302-460a-b22c-497f89433e60",
     "showTitle": false,
     "tableResultSettingsMap": {},
     "title": ""
    }
   },
   "source": [
    "## Localizando Base de Dados Para Treino\n",
    "\n",
    "Ao iniciar projetos de ciência de dados ou aprendizado de máquina, é fundamental identificar e acessar bases de dados adequadas para o treinamento e validação dos modelos. Existem diversos repositórios públicos que disponibilizam conjuntos de dados de diferentes domínios, facilitando a experimentação e o desenvolvimento de soluções analíticas. A seguir, destacamos algumas fontes populares para localizar bases de dados para treino.\n",
    "\n",
    "https://www.kaggle.com"
   ]
  },
  {
   "cell_type": "code",
   "execution_count": 0,
   "metadata": {
    "application/vnd.databricks.v1+cell": {
     "cellMetadata": {
      "byteLimit": 2048000,
      "rowLimit": 10000
     },
     "inputWidgets": {},
     "nuid": "49fcafcc-4cfb-4376-a1a6-d799cec3e13a",
     "showTitle": false,
     "tableResultSettingsMap": {},
     "title": ""
    }
   },
   "outputs": [],
   "source": [
    "dbutils.fs.ls('/')"
   ]
  },
  {
   "cell_type": "code",
   "execution_count": 0,
   "metadata": {
    "application/vnd.databricks.v1+cell": {
     "cellMetadata": {
      "byteLimit": 2048000,
      "rowLimit": 10000
     },
     "inputWidgets": {},
     "nuid": "9f31f20b-a89b-4261-80c5-403ef8e533d3",
     "showTitle": false,
     "tableResultSettingsMap": {},
     "title": ""
    }
   },
   "outputs": [],
   "source": [
    "# datasets publico que o databricks disponibiliza para treinar\n",
    "display(dbutils.fs.ls('/databricks-datasets'))"
   ]
  },
  {
   "cell_type": "code",
   "execution_count": 0,
   "metadata": {
    "application/vnd.databricks.v1+cell": {
     "cellMetadata": {
      "byteLimit": 2048000,
      "rowLimit": 10000
     },
     "inputWidgets": {},
     "nuid": "60ebb0ce-2799-46e9-b797-ecca4b17dbde",
     "showTitle": false,
     "tableResultSettingsMap": {},
     "title": ""
    }
   },
   "outputs": [],
   "source": [
    "display(dbutils.fs.ls('/databricks-datasets/wine-quality/'))"
   ]
  },
  {
   "cell_type": "code",
   "execution_count": 0,
   "metadata": {
    "application/vnd.databricks.v1+cell": {
     "cellMetadata": {
      "byteLimit": 2048000,
      "rowLimit": 10000
     },
     "inputWidgets": {},
     "nuid": "b5c7438a-8a8b-42cd-a038-c3bf245c3a30",
     "showTitle": false,
     "tableResultSettingsMap": {},
     "title": ""
    }
   },
   "outputs": [],
   "source": [
    "display(spark.read.csv('/databricks-datasets/wine-quality/winequality-white.csv',header=True , inferSchema=True , sep=';'))"
   ]
  },
  {
   "cell_type": "code",
   "execution_count": 0,
   "metadata": {
    "application/vnd.databricks.v1+cell": {
     "cellMetadata": {
      "byteLimit": 2048000,
      "rowLimit": 10000
     },
     "inputWidgets": {},
     "nuid": "33c20697-aa29-4500-886a-07947c7c1c6e",
     "showTitle": false,
     "tableResultSettingsMap": {},
     "title": ""
    }
   },
   "outputs": [],
   "source": [
    "display(dbutils.fs.ls('/databricks-datasets/COVID/coronavirusdataset/'))"
   ]
  },
  {
   "cell_type": "code",
   "execution_count": 0,
   "metadata": {
    "application/vnd.databricks.v1+cell": {
     "cellMetadata": {
      "byteLimit": 2048000,
      "rowLimit": 10000
     },
     "inputWidgets": {},
     "nuid": "f84a8180-3d2c-4da2-8f23-128fa6b0a533",
     "showTitle": false,
     "tableResultSettingsMap": {},
     "title": ""
    }
   },
   "outputs": [],
   "source": [
    "Arquivo =\"/databricks-datasets/COVID/coronavirusdataset/TimeProvince.csv\"\n",
    "spark.read.csv(Arquivo,header=True , inferSchema=True ).show(5)\n"
   ]
  },
  {
   "cell_type": "markdown",
   "metadata": {
    "application/vnd.databricks.v1+cell": {
     "cellMetadata": {},
     "inputWidgets": {},
     "nuid": "a4070a41-0add-4cde-a42e-fa30e023d483",
     "showTitle": false,
     "tableResultSettingsMap": {},
     "title": ""
    }
   },
   "source": [
    "## Renomeando arquivo\n",
    "\n",
    "Renomear arquivos é uma tarefa comum ao organizar projetos e fluxos de trabalho em ambientes de análise de dados. No Databricks, é possível alterar o nome de arquivos diretamente pela interface do notebook ou utilizando comandos específicos, facilitando a manutenção, padronização e identificação dos arquivos ao longo do desenvolvimento. Essa prática contribui para um ambiente mais organizado e eficiente, especialmente em projetos colaborativos ou com grande volume de dados."
   ]
  },
  {
   "cell_type": "code",
   "execution_count": 0,
   "metadata": {
    "application/vnd.databricks.v1+cell": {
     "cellMetadata": {
      "byteLimit": 2048000,
      "rowLimit": 10000
     },
     "inputWidgets": {},
     "nuid": "dcda864e-4854-4bac-b501-9935d64bf82b",
     "showTitle": false,
     "tableResultSettingsMap": {},
     "title": ""
    }
   },
   "outputs": [],
   "source": [
    "dbutils.fs.mv(\"/Volumes/workspace/default/tutorial/anac/V_OCORRENCIA_AMPLA.csv\", \"/Volumes/workspace/default/tutorial/anac/V_OCORRENCIA_AMPLA.csv\" , recurse = True)\n",
    "\n",
    "# dbutils.fs.mv(\"arquivo caminho completo do que quer mudar\", \"nome + caminho como novo nome\", recurse=True) para alterar tudo dentro da pasta que for nescessário"
   ]
  }
 ],
 "metadata": {
  "application/vnd.databricks.v1+notebook": {
   "computePreferences": {
    "hardware": {
     "accelerator": null,
     "gpuPoolId": null,
     "memory": null
    }
   },
   "dashboards": [],
   "environmentMetadata": null,
   "inputWidgetPreferences": null,
   "language": "python",
   "notebookMetadata": {
    "mostRecentlyExecutedCommandWithImplicitDF": {
     "commandId": -1,
     "dataframes": [
      "_sqldf"
     ]
    },
    "pythonIndentUnit": 4
   },
   "notebookName": "02 - Primeiros comandos",
   "widgets": {}
  },
  "language_info": {
   "name": "python"
  }
 },
 "nbformat": 4,
 "nbformat_minor": 0
}
