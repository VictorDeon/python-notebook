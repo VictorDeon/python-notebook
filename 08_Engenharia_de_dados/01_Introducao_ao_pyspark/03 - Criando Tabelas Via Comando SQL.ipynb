{
 "cells": [
  {
   "cell_type": "markdown",
   "metadata": {
    "application/vnd.databricks.v1+cell": {
     "cellMetadata": {},
     "inputWidgets": {},
     "nuid": "8aa963af-7eee-4b8d-826e-2baae7ac89e6",
     "showTitle": false,
     "tableResultSettingsMap": {},
     "title": ""
    }
   },
   "source": [
    "## Criando Banco de dados\n",
    "\n",
    "Neste tópico, vamos aprender como criar um banco de dados no Databricks, que servirá como base para armazenar e organizar as tabelas utilizadas em nossas análises. A criação de um banco de dados é um passo fundamental para garantir a estruturação e o gerenciamento eficiente dos dados ao longo do projeto."
   ]
  },
  {
   "cell_type": "code",
   "execution_count": 0,
   "metadata": {
    "application/vnd.databricks.v1+cell": {
     "cellMetadata": {
      "byteLimit": 2048000,
      "rowLimit": 10000
     },
     "inputWidgets": {},
     "nuid": "07ace146-92a2-44be-ba63-1a95bf18aacd",
     "showTitle": false,
     "tableResultSettingsMap": {},
     "title": ""
    }
   },
   "outputs": [],
   "source": [
    "path = \"/Volumes/workspace/default/tutorial/bike-store\""
   ]
  },
  {
   "cell_type": "code",
   "execution_count": 0,
   "metadata": {
    "application/vnd.databricks.v1+cell": {
     "cellMetadata": {
      "byteLimit": 2048000,
      "rowLimit": 10000
     },
     "inputWidgets": {},
     "nuid": "c98fe9a5-1270-4fc6-9a38-f5f1fc9f779d",
     "showTitle": false,
     "tableResultSettingsMap": {},
     "title": ""
    }
   },
   "outputs": [],
   "source": [
    "display(dbutils.fs.ls(path))"
   ]
  },
  {
   "cell_type": "code",
   "execution_count": 0,
   "metadata": {
    "application/vnd.databricks.v1+cell": {
     "cellMetadata": {
      "byteLimit": 2048000,
      "implicitDf": true,
      "rowLimit": 10000
     },
     "inputWidgets": {},
     "nuid": "29c0ae81-ebe1-4de0-9291-9702222e9d2a",
     "showTitle": false,
     "tableResultSettingsMap": {},
     "title": ""
    }
   },
   "outputs": [],
   "source": [
    "%sql\n",
    "CREATE DATABASE IF NOT EXISTS bike_store;\n"
   ]
  },
  {
   "cell_type": "markdown",
   "metadata": {
    "application/vnd.databricks.v1+cell": {
     "cellMetadata": {},
     "inputWidgets": {},
     "nuid": "f3168ddb-640f-420b-9124-0e2169d64a31",
     "showTitle": false,
     "tableResultSettingsMap": {},
     "title": ""
    }
   },
   "source": [
    "## Criando tabela de Produtos\n",
    "\n",
    "Neste tópico, vamos aprender como criar uma tabela de produtos no Databricks. A criação dessa tabela é essencial para organizar e armazenar informações relevantes sobre os produtos que serão utilizados em nossas análises, facilitando consultas e garantindo a integridade dos dados ao longo do projeto."
   ]
  },
  {
   "cell_type": "code",
   "execution_count": 0,
   "metadata": {
    "application/vnd.databricks.v1+cell": {
     "cellMetadata": {
      "byteLimit": 2048000,
      "implicitDf": true,
      "rowLimit": 10000
     },
     "inputWidgets": {},
     "nuid": "a0af5ce0-b376-49ba-9657-d207e68d0b6e",
     "showTitle": false,
     "tableResultSettingsMap": {},
     "title": ""
    }
   },
   "outputs": [],
   "source": [
    "%sql\n",
    "\n",
    "use default;\n",
    "CREATE OR REPLACE TEMPORARY VIEW products_tmp\n",
    "USING csv\n",
    "OPTIONS (\n",
    "  'path' '/Volumes/workspace/default/tutorial/bike-store/products.csv', -- Caminho para o arquivo no DBFS\n",
    "  'header' 'true',  -- Se a primeira linha do arquivo contém cabeçalho\n",
    "  'inferSchema' 'true' -- Inferir automaticamente os tipos de dados das colunas\n",
    ")\n"
   ]
  },
  {
   "cell_type": "code",
   "execution_count": 0,
   "metadata": {
    "application/vnd.databricks.v1+cell": {
     "cellMetadata": {
      "byteLimit": 2048000,
      "implicitDf": true,
      "rowLimit": 10000
     },
     "inputWidgets": {},
     "nuid": "b95cf0e2-05bd-43b8-88e5-e4471bb14fe5",
     "showTitle": false,
     "tableResultSettingsMap": {},
     "title": ""
    }
   },
   "outputs": [],
   "source": [
    "%sql\n",
    "-- Fina a partir da view (CTAS)\n",
    "CREATE OR REPLACE TABLE bike_store.products AS SELECT * FROM products_tmp;"
   ]
  },
  {
   "cell_type": "code",
   "execution_count": 0,
   "metadata": {
    "application/vnd.databricks.v1+cell": {
     "cellMetadata": {
      "byteLimit": 2048000,
      "implicitDf": true,
      "rowLimit": 10000
     },
     "inputWidgets": {},
     "nuid": "82f4e886-1ee3-4fbb-9039-365878b433f3",
     "showTitle": false,
     "tableResultSettingsMap": {},
     "title": ""
    }
   },
   "outputs": [],
   "source": [
    "%sql\n",
    "-- ver todos os dados \n",
    "use bike_store;\n",
    "SELECT * FROM products;\n"
   ]
  },
  {
   "cell_type": "code",
   "execution_count": 0,
   "metadata": {
    "application/vnd.databricks.v1+cell": {
     "cellMetadata": {
      "byteLimit": 2048000,
      "implicitDf": true,
      "rowLimit": 10000
     },
     "inputWidgets": {},
     "nuid": "94222a86-dee3-48bc-a2af-5c69630845ca",
     "showTitle": false,
     "tableResultSettingsMap": {},
     "title": ""
    }
   },
   "outputs": [],
   "source": [
    "%sql\n",
    "SELECT count(*) FROM bike_store.products;"
   ]
  },
  {
   "cell_type": "code",
   "execution_count": 0,
   "metadata": {
    "application/vnd.databricks.v1+cell": {
     "cellMetadata": {
      "byteLimit": 2048000,
      "implicitDf": true,
      "rowLimit": 10000
     },
     "inputWidgets": {},
     "nuid": "950b8924-3ded-45d4-b3e2-bd14813460e5",
     "showTitle": false,
     "tableResultSettingsMap": {},
     "title": ""
    }
   },
   "outputs": [],
   "source": [
    "%sql\n",
    "-- Quantidade de Bikes por ano do modelo produzido \n",
    "select \n",
    "model_year as Ano\n",
    ",count(product_id) QNT\n",
    "from bike_store.products\n",
    "group by model_year\n",
    "order by  QNT desc;\n",
    "\n"
   ]
  },
  {
   "cell_type": "markdown",
   "metadata": {
    "application/vnd.databricks.v1+cell": {
     "cellMetadata": {},
     "inputWidgets": {},
     "nuid": "d6de5a08-bf40-4dad-9276-5802ddbde014",
     "showTitle": false,
     "tableResultSettingsMap": {},
     "title": ""
    }
   },
   "source": [
    "## Criando tabela de Clientes\n",
    "\n",
    "Neste tópico, vamos aprender como criar uma tabela de clientes no Databricks. A criação dessa tabela é fundamental para organizar e armazenar informações relevantes sobre os clientes, facilitando análises, consultas e garantindo a integridade dos dados ao longo do projeto."
   ]
  },
  {
   "cell_type": "code",
   "execution_count": 0,
   "metadata": {
    "application/vnd.databricks.v1+cell": {
     "cellMetadata": {
      "byteLimit": 2048000,
      "implicitDf": true,
      "rowLimit": 10000
     },
     "inputWidgets": {},
     "nuid": "601d80d6-bb00-4848-9ce9-a1046f826187",
     "showTitle": false,
     "tableResultSettingsMap": {},
     "title": ""
    }
   },
   "outputs": [],
   "source": [
    "%sql\n",
    "\n",
    "use default;\n",
    "CREATE OR REPLACE TEMPORARY VIEW clients_tmp\n",
    "USING csv\n",
    "OPTIONS (\n",
    "  path '/Volumes/workspace/default/tutorial/bike-store/customers.csv',\n",
    "  header 'true',\n",
    "  inferSchema 'true'\n",
    ");\n",
    "\n",
    "CREATE OR REPLACE TABLE bike_store.clients AS SELECT * FROM clients_tmp;\n"
   ]
  },
  {
   "cell_type": "code",
   "execution_count": 0,
   "metadata": {
    "application/vnd.databricks.v1+cell": {
     "cellMetadata": {
      "byteLimit": 2048000,
      "implicitDf": true,
      "rowLimit": 10000
     },
     "inputWidgets": {},
     "nuid": "34ac938e-bab8-40c1-b445-cd2e6eeccb9a",
     "showTitle": false,
     "tableResultSettingsMap": {},
     "title": ""
    }
   },
   "outputs": [],
   "source": [
    "%sql\n",
    "select * from bike_store.clients;"
   ]
  },
  {
   "cell_type": "code",
   "execution_count": 0,
   "metadata": {
    "application/vnd.databricks.v1+cell": {
     "cellMetadata": {
      "byteLimit": 2048000,
      "implicitDf": true,
      "rowLimit": 10000
     },
     "inputWidgets": {},
     "nuid": "2a162e28-8b34-47e3-ae80-70e9f128ebb2",
     "showTitle": false,
     "tableResultSettingsMap": {},
     "title": ""
    }
   },
   "outputs": [],
   "source": [
    "%sql\n",
    "--  Quantos Clientes?\n",
    "select count(*) from bike_store.clients;\n"
   ]
  },
  {
   "cell_type": "code",
   "execution_count": 0,
   "metadata": {
    "application/vnd.databricks.v1+cell": {
     "cellMetadata": {
      "byteLimit": 2048000,
      "implicitDf": true,
      "rowLimit": 10000
     },
     "inputWidgets": {},
     "nuid": "067cace7-485b-448c-812c-632709095b41",
     "showTitle": false,
     "tableResultSettingsMap": {},
     "title": ""
    }
   },
   "outputs": [],
   "source": [
    "%sql\n",
    "--  Quantos Clientes Por Cidade\n",
    "select  \n",
    "count(customer_id) Quantidade\n",
    ",city as Cidade\n",
    "from bike_store.clients\n",
    "group by city\n",
    "order by Quantidade desc;\n"
   ]
  },
  {
   "cell_type": "code",
   "execution_count": 0,
   "metadata": {
    "application/vnd.databricks.v1+cell": {
     "cellMetadata": {
      "byteLimit": 2048000,
      "implicitDf": true,
      "rowLimit": 10000
     },
     "inputWidgets": {},
     "nuid": "bcf447ac-378e-49d0-b8a9-f54711940ebd",
     "showTitle": false,
     "tableResultSettingsMap": {},
     "title": ""
    }
   },
   "outputs": [],
   "source": [
    "%sql\n",
    "--  Quantos Clientes Por Estado\n",
    "select  \n",
    "state\n",
    ",count(customer_id) Quantidade\n",
    "from bike_store.clients\n",
    "group by state\n",
    "order by 2 desc;"
   ]
  },
  {
   "cell_type": "markdown",
   "metadata": {
    "application/vnd.databricks.v1+cell": {
     "cellMetadata": {},
     "inputWidgets": {},
     "nuid": "dec27f8b-fb05-48b8-830e-3858ef5f5ce9",
     "showTitle": false,
     "tableResultSettingsMap": {},
     "title": ""
    }
   },
   "source": [
    "## Criando outras tabelas\n",
    "\n",
    "Neste tópico, vamos aprender como criar outras tabelas no Databricks, essenciais para complementar a estrutura do nosso banco de dados. A criação dessas tabelas permitirá organizar e armazenar diferentes tipos de informações relevantes para as análises do projeto, garantindo maior flexibilidade e eficiência no gerenciamento dos dados."
   ]
  },
  {
   "cell_type": "code",
   "execution_count": 0,
   "metadata": {
    "application/vnd.databricks.v1+cell": {
     "cellMetadata": {
      "byteLimit": 2048000,
      "implicitDf": true,
      "rowLimit": 10000
     },
     "inputWidgets": {},
     "nuid": "c64025a7-9d73-4e63-af8c-fe66e0a4ad2a",
     "showTitle": false,
     "tableResultSettingsMap": {},
     "title": ""
    }
   },
   "outputs": [],
   "source": [
    "%sql\n",
    "\n",
    "CREATE OR REPLACE TEMPORARY VIEW brands_tmp\n",
    "USING csv\n",
    "OPTIONS (\n",
    "  path '/Volumes/workspace/default/tutorial/bike-store/brands.csv',\n",
    "  header 'true',\n",
    "  inferSchema 'true'\n",
    ");\n",
    "CREATE OR REPLACE TABLE bike_store.brands AS SELECT * FROM brands_tmp;\n",
    "\n",
    "CREATE OR REPLACE TEMPORARY VIEW categories_tmp\n",
    "USING csv\n",
    "OPTIONS (\n",
    "  path '/Volumes/workspace/default/tutorial/bike-store/categories.csv',\n",
    "  header 'true',\n",
    "  inferSchema 'true'\n",
    ");\n",
    "CREATE OR REPLACE TABLE bike_store.categories AS SELECT * FROM categories_tmp;\n",
    "\n",
    "CREATE OR REPLACE TEMPORARY VIEW order_items_tmp\n",
    "USING csv\n",
    "OPTIONS (\n",
    "  path '/Volumes/workspace/default/tutorial/bike-store/order_items.csv',\n",
    "  header 'true',\n",
    "  inferSchema 'true'\n",
    ");\n",
    "CREATE OR REPLACE TABLE bike_store.order_items AS SELECT * FROM order_items_tmp;\n",
    "\n",
    "CREATE OR REPLACE TEMPORARY VIEW orders_tmp\n",
    "USING csv\n",
    "OPTIONS (\n",
    "  path '/Volumes/workspace/default/tutorial/bike-store/orders.csv',\n",
    "  header 'true',\n",
    "  inferSchema 'true'\n",
    ");\n",
    "CREATE OR REPLACE TABLE bike_store.orders AS SELECT * FROM orders_tmp;\n",
    "\n",
    "CREATE OR REPLACE TEMPORARY VIEW staffs_tmp\n",
    "USING csv\n",
    "OPTIONS (\n",
    "  path '/Volumes/workspace/default/tutorial/bike-store/staffs.csv',\n",
    "  header 'true',\n",
    "  inferSchema 'true'\n",
    ");\n",
    "CREATE OR REPLACE TABLE bike_store.staffs AS SELECT * FROM staffs_tmp;\n",
    "\n",
    "CREATE OR REPLACE TEMPORARY VIEW stocks_tmp\n",
    "USING csv\n",
    "OPTIONS (\n",
    "  path '/Volumes/workspace/default/tutorial/bike-store/stocks.csv',\n",
    "  header 'true',\n",
    "  inferSchema 'true'\n",
    ");\n",
    "CREATE OR REPLACE TABLE bike_store.stocks AS SELECT * FROM stocks_tmp;\n",
    "\n",
    "CREATE OR REPLACE TEMPORARY VIEW stores_tmp\n",
    "USING csv\n",
    "OPTIONS (\n",
    "  path '/Volumes/workspace/default/tutorial/bike-store/stores.csv',\n",
    "  header 'true',\n",
    "  inferSchema 'true'\n",
    ");\n",
    "CREATE OR REPLACE TABLE bike_store.stores AS SELECT * FROM stores_tmp;"
   ]
  },
  {
   "cell_type": "code",
   "execution_count": 0,
   "metadata": {
    "application/vnd.databricks.v1+cell": {
     "cellMetadata": {
      "byteLimit": 2048000,
      "implicitDf": true,
      "rowLimit": 10000
     },
     "inputWidgets": {},
     "nuid": "b41b9a85-2020-4f11-9b61-869000b528bd",
     "showTitle": false,
     "tableResultSettingsMap": {},
     "title": ""
    }
   },
   "outputs": [],
   "source": [
    "%sql\n",
    "select * from bike_store.stores;"
   ]
  },
  {
   "cell_type": "code",
   "execution_count": 0,
   "metadata": {
    "application/vnd.databricks.v1+cell": {
     "cellMetadata": {
      "byteLimit": 2048000,
      "implicitDf": true,
      "rowLimit": 10000
     },
     "inputWidgets": {},
     "nuid": "211b0dd5-a9cd-4f75-8a0f-767c0d276f6e",
     "showTitle": false,
     "tableResultSettingsMap": {},
     "title": ""
    }
   },
   "outputs": [],
   "source": [
    "%sql\n",
    "-- Deletar o database de test\n",
    "DROP DATABASE bike_store CASCADE;"
   ]
  }
 ],
 "metadata": {
  "application/vnd.databricks.v1+notebook": {
   "computePreferences": {
    "hardware": {
     "accelerator": null,
     "gpuPoolId": null,
     "memory": null
    }
   },
   "dashboards": [],
   "environmentMetadata": null,
   "inputWidgetPreferences": null,
   "language": "python",
   "notebookMetadata": {
    "mostRecentlyExecutedCommandWithImplicitDF": {
     "commandId": 7058022900491065,
     "dataframes": [
      "_sqldf"
     ]
    },
    "pythonIndentUnit": 4
   },
   "notebookName": "03 - Criando Tabelas Via Comando SQL",
   "widgets": {}
  },
  "language_info": {
   "name": "python"
  }
 },
 "nbformat": 4,
 "nbformat_minor": 0
}
