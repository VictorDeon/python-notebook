{
 "cells": [
  {
   "cell_type": "markdown",
   "metadata": {},
   "source": [
    "## Algoritmo de ordenação - Selection Sort\n",
    "***"
   ]
  },
  {
   "cell_type": "markdown",
   "metadata": {},
   "source": [
    "A ideia é passar sempre o menor valor do vetor para a primeira posição.\n",
    "\n",
    "Logo em seguida pega o próximo elemento de menor valor e insere na segunda posição.\n",
    "\n",
    "E assim sucessivamente...\n",
    "\n",
    "É um algorítmo bem lento: $O(N^2)$\n",
    "\n",
    "[Exemplo](https://www.youtube.com/watch?v=Ns4TPTC8whw&t=132s):\n",
    "\n",
    "$lista = [1, 3, 5, 4, 2]$\n",
    "\n",
    "$iteracao1 = [\\textbf{1}, 3, 5, 4, 2]$\n",
    "\n",
    "$iteracao2 = [1, \\textbf{3}, 5, 4, \\textbf{2}] = [1, \\textbf{2}, 5, 4, \\textbf{3}]$\n",
    "\n",
    "$iteracao3 = [1, 2, \\textbf{5}, 4, \\textbf{3}] = [1, 2, \\textbf{3}, 4, \\textbf{5}]$"
   ]
  },
  {
   "cell_type": "markdown",
   "metadata": {},
   "source": [
    "***\n",
    "### Implementação\n",
    "***"
   ]
  },
  {
   "cell_type": "code",
   "execution_count": 1,
   "metadata": {},
   "outputs": [],
   "source": [
    "def selection_sort(lista):\n",
    "    \"\"\"\n",
    "    Algoritmo de ordenação SELECTION SORT\n",
    "    \"\"\"\n",
    "    \n",
    "    tamanho = len(lista)\n",
    "    \n",
    "    for i in range(tamanho):\n",
    "        menor = i\n",
    "        for j in range(i + 1, tamanho):\n",
    "            if lista[j] < lista[menor]:\n",
    "                menor = j\n",
    "        \n",
    "        lista[menor], lista[i] = lista[i], lista[menor]"
   ]
  },
  {
   "cell_type": "code",
   "execution_count": 2,
   "metadata": {},
   "outputs": [],
   "source": [
    "lista = [3, 44, 38, 5, 47, 15, 36, 26, 27, 2, 46, 4, 19, 50, 48]"
   ]
  },
  {
   "cell_type": "code",
   "execution_count": 3,
   "metadata": {},
   "outputs": [],
   "source": [
    "selection_sort(lista)"
   ]
  },
  {
   "cell_type": "code",
   "execution_count": 4,
   "metadata": {},
   "outputs": [
    {
     "name": "stdout",
     "output_type": "stream",
     "text": [
      "[2, 3, 4, 5, 15, 19, 26, 27, 36, 38, 44, 46, 47, 48, 50]\n"
     ]
    }
   ],
   "source": [
    "print(lista)"
   ]
  }
 ],
 "metadata": {
  "kernelspec": {
   "display_name": "Python 3",
   "language": "python",
   "name": "python3"
  },
  "language_info": {
   "codemirror_mode": {
    "name": "ipython",
    "version": 3
   },
   "file_extension": ".py",
   "mimetype": "text/x-python",
   "name": "python",
   "nbconvert_exporter": "python",
   "pygments_lexer": "ipython3",
   "version": "3.6.9"
  }
 },
 "nbformat": 4,
 "nbformat_minor": 2
}
