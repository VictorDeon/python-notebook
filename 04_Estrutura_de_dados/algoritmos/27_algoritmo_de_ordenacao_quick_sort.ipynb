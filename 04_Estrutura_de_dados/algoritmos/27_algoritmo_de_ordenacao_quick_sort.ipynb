{
 "cells": [
  {
   "cell_type": "markdown",
   "metadata": {},
   "source": [
    "## Algoritmo de ordenação - Quick Sort\n",
    "***"
   ]
  },
  {
   "cell_type": "markdown",
   "metadata": {},
   "source": [
    "A ideia básica do quick sort é dividir para conquistar.\n",
    "\n",
    "Um elemento é escolhido como pivor e apartir dele é feito o particionamento comparando cada dado com o pivo, com isso os dados são rearranjados, ou seja, todos os elementos a esquerda do pivor vão ser menores e todos os elementos da direita vão ser maiores.\n",
    "\n",
    "Por fim ordenar recursivamente as duas partições.\n",
    "\n",
    "Com isso se criar N partições e faz o mesmo processo até todos os elementos esta ordenado.\n",
    "\n",
    "A escolha do pivo afeta o desempenho do algoritmo.\n",
    "\n",
    "É um algorítmo rapido: $O(N*logN)$ - $O(N^2)$.\n",
    "\n",
    "Exemplo:\n",
    "\n",
    "[Vídeo Quick Sort](https://www.youtube.com/watch?v=ywWBy6J5gz8)"
   ]
  },
  {
   "cell_type": "markdown",
   "metadata": {},
   "source": [
    "***\n",
    "### Implementação\n",
    "***"
   ]
  },
  {
   "cell_type": "code",
   "execution_count": 1,
   "metadata": {},
   "outputs": [],
   "source": [
    "def quick_sort(lista, inicio, final):\n",
    "    \"\"\"\n",
    "    Algoritmo de ordenação Quick Sort\n",
    "    \"\"\"\n",
    "    \n",
    "    if final > inicio:\n",
    "        pivo = particiona(lista, inicio, final)\n",
    "        \n",
    "        # Tendo o pivo chama a função duas vezes, uma para cada partição\n",
    "        # 1º dos elementos antes do pivo e a 2º dos elementos após o pivo\n",
    "        quick_sort(lista, inicio, pivo - 1)\n",
    "        quick_sort(lista, pivo + 1, final)"
   ]
  },
  {
   "cell_type": "code",
   "execution_count": 2,
   "metadata": {},
   "outputs": [],
   "source": [
    "def particiona(lista, inicio, final):\n",
    "    \"\"\"\n",
    "    Separa os dados em 2 partições.\n",
    "    O pivo é o elemento do inicio\n",
    "    \"\"\"\n",
    "    \n",
    "    pivo = inicio\n",
    "    \n",
    "    for i in range(inicio + 1, final + 1):\n",
    "        if lista[i] <= lista[inicio]:\n",
    "            pivo += 1\n",
    "            lista[i], lista[pivo] = lista[pivo], lista[i]\n",
    "            \n",
    "    lista[pivo], lista[inicio] = lista[inicio], lista[pivo]\n",
    "    \n",
    "    return pivo"
   ]
  },
  {
   "cell_type": "code",
   "execution_count": 3,
   "metadata": {},
   "outputs": [],
   "source": [
    "lista = [3, 44, 38, 5, 47, 15, 36, 26, 27, 2, 46, 4, 19, 50, 48]"
   ]
  },
  {
   "cell_type": "code",
   "execution_count": 4,
   "metadata": {},
   "outputs": [],
   "source": [
    "quick_sort(lista, 0, len(lista) - 1)"
   ]
  },
  {
   "cell_type": "code",
   "execution_count": 5,
   "metadata": {},
   "outputs": [
    {
     "name": "stdout",
     "output_type": "stream",
     "text": [
      "[2, 3, 4, 5, 15, 19, 26, 27, 36, 38, 44, 46, 47, 48, 50]\n"
     ]
    }
   ],
   "source": [
    "print(lista)"
   ]
  }
 ],
 "metadata": {
  "kernelspec": {
   "display_name": "Python 3",
   "language": "python",
   "name": "python3"
  },
  "language_info": {
   "codemirror_mode": {
    "name": "ipython",
    "version": 3
   },
   "file_extension": ".py",
   "mimetype": "text/x-python",
   "name": "python",
   "nbconvert_exporter": "python",
   "pygments_lexer": "ipython3",
   "version": "3.6.9"
  }
 },
 "nbformat": 4,
 "nbformat_minor": 2
}
