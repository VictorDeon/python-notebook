{
 "cells": [
  {
   "cell_type": "markdown",
   "metadata": {},
   "source": [
    "## Algoritmo de ordenação - Bubble Sort\n",
    "***"
   ]
  },
  {
   "cell_type": "markdown",
   "metadata": {},
   "source": [
    "É o algoritmo mais simples de ordenação.\n",
    "\n",
    "A ideia é percorrer o vetor várias vezes comparando os seus elementos.\n",
    "\n",
    "A cada iteração faz flutuar para o final da lista ou topo o maior elemento da sequência.\n",
    "\n",
    "É um algorítmo bem lento: $O(N)$ - $O(N^2)$\n",
    "\n",
    "[Exemplo](https://www.youtube.com/watch?v=lyZQPjUT5B4):\n",
    "\n",
    "lista = [1, 3, 5, 4, 2]\n",
    "\n",
    "iteracao1 = [1, 3, **5, 4**, 2] = [1, 3, 4, **5, 2**] = [1, 3, 4, 2, 5]\n",
    "\n",
    "iteracao2 = [1, 3, **4, 2**, 5] = [1, 3, 2, 4, 5]\n",
    "\n",
    "iteracao3 = [1, **3, 2**, 4, 5] = [1, 2, 3, 4, 5]"
   ]
  },
  {
   "cell_type": "markdown",
   "metadata": {},
   "source": [
    "***\n",
    "### Implementação\n",
    "***"
   ]
  },
  {
   "cell_type": "code",
   "execution_count": 1,
   "metadata": {},
   "outputs": [],
   "source": [
    "def bubble_sort(lista):\n",
    "    \"\"\"\n",
    "    Algoritmo de ordenação BUBBLE SORT\n",
    "    \"\"\"\n",
    "    \n",
    "    tamanho = len(lista)\n",
    "    i = tamanho - 1\n",
    "    \n",
    "    while i >= 1:\n",
    "        for j in range(i):\n",
    "            if lista[j] > lista[j+1]:\n",
    "                lista[j], lista[j+1] = lista[j+1], lista[j]\n",
    "        \n",
    "        i -= 1"
   ]
  },
  {
   "cell_type": "code",
   "execution_count": 2,
   "metadata": {},
   "outputs": [],
   "source": [
    "lista = [3, 44, 38, 5, 47, 15, 36, 26, 27, 2, 46, 4, 19, 50, 48]"
   ]
  },
  {
   "cell_type": "code",
   "execution_count": 3,
   "metadata": {},
   "outputs": [],
   "source": [
    "bubble_sort(lista)"
   ]
  },
  {
   "cell_type": "code",
   "execution_count": 4,
   "metadata": {},
   "outputs": [
    {
     "name": "stdout",
     "output_type": "stream",
     "text": [
      "[2, 3, 4, 5, 15, 19, 26, 27, 36, 38, 44, 46, 47, 48, 50]\n"
     ]
    }
   ],
   "source": [
    "print(lista)"
   ]
  }
 ],
 "metadata": {
  "kernelspec": {
   "display_name": "Python 3",
   "language": "python",
   "name": "python3"
  },
  "language_info": {
   "codemirror_mode": {
    "name": "ipython",
    "version": 3
   },
   "file_extension": ".py",
   "mimetype": "text/x-python",
   "name": "python",
   "nbconvert_exporter": "python",
   "pygments_lexer": "ipython3",
   "version": "3.6.9"
  }
 },
 "nbformat": 4,
 "nbformat_minor": 2
}
