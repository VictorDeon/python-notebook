{
 "cells": [
  {
   "cell_type": "markdown",
   "metadata": {},
   "source": [
    "## Algoritmo de ordenação - Insertion Sort\n",
    "***"
   ]
  },
  {
   "cell_type": "markdown",
   "metadata": {},
   "source": [
    "Percorre a lista de elementos da esquerda para a direita e a medida que avança vai deixando os elementos mais a esquerda ordenados.\n",
    "\n",
    "Ou seja, vai pegando cada elemento e comparando com seus anteriores, se for menor vai deslocando ele até o anterior ser menor que o elemento selecionado.\n",
    "\n",
    "Podemos fazer uma analogia com a ordenação de cartas de um jogo de baralho, ou poker.\n",
    "\n",
    "É um algorítmo bem lento: $O(N)$ - $O(N^2)$, porém eficiente em pequenos números de elementos.\n",
    "\n",
    "[Exemplo](https://www.youtube.com/watch?v=ROalU379l3U):\n",
    "\n",
    "$lista = [1, 3, 5, 4, 2]$\n",
    "\n",
    "$iteracao1 = [\\textbf{1}, 3, 5, 4, 2]$\n",
    "\n",
    "$iteracao2 = [1, \\textbf{3}, 5, 4, 2]$\n",
    "\n",
    "$iteracao3 = [1, 3, \\textbf{5}, 4, 2]$\n",
    "\n",
    "$iteracao4 = [1, 3, 5, \\textbf{4}, 2] = [1, 3, \\textbf{4}, 5, 2]$\n",
    "\n",
    "$iteracao5 = [1, 3, 4, 5, \\textbf{2}] = [1, 3, 4, \\textbf{2}, 5] = [1, 3, \\textbf{2}, 4, 5] = = [1, \\textbf{2}, 3, 4, 5]$"
   ]
  },
  {
   "cell_type": "markdown",
   "metadata": {},
   "source": [
    "***\n",
    "### Implementação\n",
    "***"
   ]
  },
  {
   "cell_type": "code",
   "execution_count": 1,
   "metadata": {},
   "outputs": [],
   "source": [
    "def insertion_sort(lista):\n",
    "    \"\"\"\n",
    "    Algoritmo de ordenação Insertion Sort\n",
    "    \"\"\"\n",
    "    \n",
    "    tamanho = len(lista) # 5\n",
    "    \n",
    "    for i in range(1, tamanho): # i = 4\n",
    "        atual = lista[i] # 2\n",
    "        j = i - 1 # 3\n",
    "        \n",
    "        while j >= 0 and lista[j] > atual: # true, 5 > 2= true\n",
    "            lista[j+1] = lista[j] # [1, 3, 4, 5, 5]\n",
    "            j -= 1 # 2\n",
    "            \n",
    "        lista[j+1] = atual # [1, 3, 4, 2, 5]"
   ]
  },
  {
   "cell_type": "code",
   "execution_count": 2,
   "metadata": {},
   "outputs": [],
   "source": [
    "lista = [3, 44, 38, 5, 47, 15, 36, 26, 27, 2, 46, 4, 19, 50, 48]"
   ]
  },
  {
   "cell_type": "code",
   "execution_count": 3,
   "metadata": {},
   "outputs": [],
   "source": [
    "insertion_sort(lista)"
   ]
  },
  {
   "cell_type": "code",
   "execution_count": 4,
   "metadata": {},
   "outputs": [
    {
     "name": "stdout",
     "output_type": "stream",
     "text": [
      "[2, 3, 4, 5, 15, 19, 26, 27, 36, 38, 44, 46, 47, 48, 50]\n"
     ]
    }
   ],
   "source": [
    "print(lista)"
   ]
  }
 ],
 "metadata": {
  "kernelspec": {
   "display_name": "Python 3",
   "language": "python",
   "name": "python3"
  },
  "language_info": {
   "codemirror_mode": {
    "name": "ipython",
    "version": 3
   },
   "file_extension": ".py",
   "mimetype": "text/x-python",
   "name": "python",
   "nbconvert_exporter": "python",
   "pygments_lexer": "ipython3",
   "version": "3.6.9"
  }
 },
 "nbformat": 4,
 "nbformat_minor": 2
}
