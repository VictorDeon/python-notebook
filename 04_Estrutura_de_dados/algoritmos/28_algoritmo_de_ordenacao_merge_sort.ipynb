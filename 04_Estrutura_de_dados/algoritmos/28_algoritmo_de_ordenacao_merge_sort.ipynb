{
 "cells": [
  {
   "cell_type": "markdown",
   "id": "7f37adea",
   "metadata": {},
   "source": [
    "## Algoritmo de ordenação - Merge Sort\n",
    "***"
   ]
  },
  {
   "cell_type": "markdown",
   "id": "e650855e",
   "metadata": {},
   "source": [
    "Assim como a quick sort, o merge sort também utiliza a estratégia de dividir para conquistar. Ou seja, vamos sempre separar pela metade a lista de dados em lista menores e após isso vamos mesclar eles ordenando-os.\n",
    "\n",
    "Quando dividimos a lista pela metade e executamos isso de forma recorrente para realizar as comparações, isso nos lembra bastante o algoritmo de **busca binária**, certo? Sim! Então, por ora, vamos considerar este algoritmo como **O(lg N)**.\n",
    "\n",
    "Também levaremos em conta que realizamos a intercalação que percorre as duas metades da lista para comparar e preencher a lista temporária de forma ordenada. Então esse algoritmo é linear, ou seja, **O(N)**. Como ambos os algoritmos são executados juntos, podemos considerar o MergeSort **O(N lg N)**.\n",
    "\n",
    "De todas as ordenações aqui vistas para listar grandes essa é a melhor alternativa.\n",
    "\n",
    "[Merge Sort](https://www.youtube.com/watch?v=XaqR3G_NVoo&list=PLcX11VWS1PdA4dSPip8-1JfKxFa32X53y&index=3)"
   ]
  },
  {
   "cell_type": "markdown",
   "id": "e0ab84fb",
   "metadata": {},
   "source": [
    "***\n",
    "### Exemplo\n",
    "***\n",
    "\n",
    "```py\n",
    "[4, 2, 8, 6, 0, 5, 1, 7, 3, 9]\n",
    "[4, 2, 8, 6, 0], [5, 1, 7, 3, 9]\n",
    "[4, 2], [8, 6, 0], [5, 1], [7, 3, 9]\n",
    "[4], [2], [8], [6, 0], [5], [1], [7], [3, 9]\n",
    "[2, 4] [8], [6], [0], [1, 5], [7], [3], [9]\n",
    "[2, 4] [8] [0, 6], [1, 5], [7], [3, 9]\n",
    "[2, 4] [0, 6, 8], [1, 5], [3, 7, 9]\n",
    "[0, 2, 4, 6, 8], [1, 3, 5, 7, 9]\n",
    "[0, 1, 2, 3, 4, 5, 6, 7, 8, 9]\n",
    "```"
   ]
  },
  {
   "cell_type": "code",
   "execution_count": 1,
   "id": "eb566e93",
   "metadata": {},
   "outputs": [],
   "source": [
    "def merge_sort(lista, inicio = 0, fim = None):\n",
    "    \"\"\"\n",
    "    Realiza o algoritmo de merge sort.\n",
    "    \"\"\"\n",
    "    \n",
    "    if fim is None:\n",
    "        fim = len(lista)\n",
    "\n",
    "    tamanho_lista = fim - inicio\n",
    "    # Se o tamanho da lista for maior que 1\n",
    "    if (tamanho_lista > 1):\n",
    "        # calcula o meio da lista (divisão inteira)\n",
    "        meio = (fim + inicio) // 2\n",
    "        # Realiza novamente o metodo recursivamente passado o fim como o meio da lista (lado esquerdo)\n",
    "        merge_sort(lista, inicio, meio)\n",
    "        # Realiza novamente o metodo recursivamente passando o inicio como o meio da lista (lado direito)\n",
    "        merge_sort(lista, meio, fim)\n",
    "        # Junta ambos os lados para montar a lista ordenada\n",
    "        merge(lista, inicio, meio, fim)\n",
    "        \n",
    "    return lista"
   ]
  },
  {
   "cell_type": "code",
   "execution_count": 2,
   "id": "9ffc5b7d",
   "metadata": {},
   "outputs": [],
   "source": [
    "def merge(lista, inicio, meio, fim):\n",
    "    \"\"\"\n",
    "    Realiza a junção das listas.\n",
    "    Olha sempre quem ta no topo da lista e compara com o topo da outra lista, ordena e elimina da lista\n",
    "    o elemento ordenado selecionado no caso o menor na comparação.\n",
    "    Pensa em ordenar 2 pilhas de cartas do baralho\n",
    "    \"\"\"\n",
    "    \n",
    "    metade_esquerda = lista[inicio:meio]\n",
    "    metade_direita = lista[meio:fim]\n",
    "    topo_esquerdo = 0\n",
    "    topo_direito = 0\n",
    "    \n",
    "    # Percorre do inicio ao fim das listas\n",
    "    for posicao in range(inicio, fim):\n",
    "        # Caso finalize a lista esquerda então coloque no topo o elemento da lista direita\n",
    "        if topo_esquerdo >= len(metade_esquerda):\n",
    "            lista[posicao] = metade_direita[topo_direito]\n",
    "            # Elimina ele da metade direita (avança na lista)\n",
    "            topo_direito += 1\n",
    "        \n",
    "        # Caso finalize a lista direita antes então coloque no topo o elemento da lista esquerda\n",
    "        elif topo_direito >= len(metade_direita):\n",
    "            lista[posicao] = metade_esquerda[topo_esquerdo]\n",
    "            # Elimina ele da metade esquerda (avança na lista)\n",
    "            topo_esquerdo += 1\n",
    "        \n",
    "        # Verifica se o topo da esquerda é menor que o topo da direita\n",
    "        elif metade_esquerda[topo_esquerdo] < metade_direita[topo_direito]:\n",
    "            # Se for coloca ele no topo da lista original\n",
    "            lista[posicao] = metade_esquerda[topo_esquerdo]\n",
    "            # Elimina ele da metade esquerda (avança na lista)\n",
    "            topo_esquerdo += 1\n",
    "        else:\n",
    "            # Caso não for coloca o topo direito no topo da lista original\n",
    "            lista[posicao] = metade_direita[topo_direito]\n",
    "            # Elimina ele da metade direita (avança na lista)\n",
    "            topo_direito += 1"
   ]
  },
  {
   "cell_type": "code",
   "execution_count": 3,
   "id": "a82dabe2",
   "metadata": {},
   "outputs": [],
   "source": [
    "import random\n",
    "\n",
    "any_numbers = random.sample(range(1, 1000), 42)\n",
    "already_sorted = [1, 2, 3, 4, 5, 6, 9, 20, 22, 23, 28, 32, 34, 39, 40, 42, 76, 87, 99, 112]\n",
    "inversed = [117, 90, 88, 83, 81, 77, 74, 69, 64, 63, 51, 50, 49, 42, 41, 34, 32, 29, 28, 22, 16, 8, 6, 5, 3, 1]\n",
    "repeated = [7, 7, 7, 7, 7, 1, 1, 9, 9, 0, 4, 4, 4, 5, 4, 5, 7, 1]\n",
    "video = [4, 2, 8, 6, 0, 5, 1, 7, 3, 9]"
   ]
  },
  {
   "cell_type": "code",
   "execution_count": 4,
   "id": "bc590489",
   "metadata": {},
   "outputs": [
    {
     "name": "stdout",
     "output_type": "stream",
     "text": [
      "[36, 59, 62, 67, 109, 116, 138, 145, 151, 166, 217, 230, 240, 276, 321, 343, 369, 374, 401, 425, 438, 439, 453, 497, 506, 558, 563, 615, 669, 709, 714, 717, 728, 730, 787, 804, 806, 845, 919, 925, 940, 949] "
     ]
    }
   ],
   "source": [
    "print(merge_sort(any_numbers), end=\" \")"
   ]
  },
  {
   "cell_type": "code",
   "execution_count": 5,
   "id": "d29fd7aa",
   "metadata": {},
   "outputs": [
    {
     "name": "stdout",
     "output_type": "stream",
     "text": [
      "[1, 2, 3, 4, 5, 6, 9, 20, 22, 23, 28, 32, 34, 39, 40, 42, 76, 87, 99, 112] "
     ]
    }
   ],
   "source": [
    "print(merge_sort(already_sorted), end=\" \")"
   ]
  },
  {
   "cell_type": "code",
   "execution_count": 6,
   "id": "2b241bf7",
   "metadata": {},
   "outputs": [
    {
     "name": "stdout",
     "output_type": "stream",
     "text": [
      "[1, 3, 5, 6, 8, 16, 22, 28, 29, 32, 34, 41, 42, 49, 50, 51, 63, 64, 69, 74, 77, 81, 83, 88, 90, 117] "
     ]
    }
   ],
   "source": [
    "print(merge_sort(inversed), end=\" \")"
   ]
  },
  {
   "cell_type": "code",
   "execution_count": 7,
   "id": "ec059b04",
   "metadata": {},
   "outputs": [
    {
     "name": "stdout",
     "output_type": "stream",
     "text": [
      "[0, 1, 1, 1, 4, 4, 4, 4, 5, 5, 7, 7, 7, 7, 7, 7, 9, 9] "
     ]
    }
   ],
   "source": [
    "print(merge_sort(repeated), end=\" \")"
   ]
  },
  {
   "cell_type": "code",
   "execution_count": 8,
   "id": "065830fa",
   "metadata": {},
   "outputs": [
    {
     "name": "stdout",
     "output_type": "stream",
     "text": [
      "[0, 1, 2, 3, 4, 5, 6, 7, 8, 9] "
     ]
    }
   ],
   "source": [
    "print(merge_sort(video), end=\" \")"
   ]
  }
 ],
 "metadata": {
  "kernelspec": {
   "display_name": "Python 3",
   "language": "python",
   "name": "python3"
  },
  "language_info": {
   "codemirror_mode": {
    "name": "ipython",
    "version": 3
   },
   "file_extension": ".py",
   "mimetype": "text/x-python",
   "name": "python",
   "nbconvert_exporter": "python",
   "pygments_lexer": "ipython3",
   "version": "3.6.9"
  }
 },
 "nbformat": 4,
 "nbformat_minor": 5
}
